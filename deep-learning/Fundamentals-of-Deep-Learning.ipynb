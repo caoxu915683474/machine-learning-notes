{
 "cells": [
  {
   "cell_type": "markdown",
   "metadata": {},
   "source": [
    "# Fundamentals of Deep Learning\n",
    "![cover](https://img3.doubanio.com/lpic/s29474106.jpg)\n",
    "\n",
    "    作者: Nikhil Buduma \n",
    "    出版社: O'Reilly Media\n",
    "    副标题: Designing Next-Generation Machine Intelligence Algorithms\n",
    "    出版年: 2017-6-29\n",
    "    页数: 304\n",
    "    定价: USD 43.99\n",
    "    装帧: Paperback\n",
    "    ISBN: 9781491925614\n",
    "\n",
    "- [豆瓣链接](https://book.douban.com/subject/26425877/)\n",
    "- [safaribooks](https://www.safaribooksonline.com/library/view/fundamentals-of-deep/9781491925607/)"
   ]
  },
  {
   "cell_type": "code",
   "execution_count": null,
   "metadata": {
    "collapsed": true
   },
   "outputs": [],
   "source": []
  }
 ],
 "metadata": {
  "kernelspec": {
   "display_name": "Python [Root]",
   "language": "python",
   "name": "Python [Root]"
  },
  "language_info": {
   "codemirror_mode": {
    "name": "ipython",
    "version": 2
   },
   "file_extension": ".py",
   "mimetype": "text/x-python",
   "name": "python",
   "nbconvert_exporter": "python",
   "pygments_lexer": "ipython2",
   "version": "2.7.12"
  }
 },
 "nbformat": 4,
 "nbformat_minor": 0
}
