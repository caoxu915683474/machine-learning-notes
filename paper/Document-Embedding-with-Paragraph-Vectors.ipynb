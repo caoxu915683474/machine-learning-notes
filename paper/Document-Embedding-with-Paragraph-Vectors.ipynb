{
 "cells": [
  {
   "cell_type": "markdown",
   "metadata": {},
   "source": [
    "# Document Embedding with Paragraph Vectors\n",
    "\n",
    "    Andrew M. Dai\n",
    "    Christopher Olah\n",
    "    Quoc V. Le\n",
    "\n",
    "    29 Jul 2015\n",
    "\n",
    "https://arxiv.org/pdf/1507.07998.pdf"
   ]
  },
  {
   "cell_type": "markdown",
   "metadata": {},
   "source": [
    "## 总结\n",
    "1. 对比LDA对于词语语义相似性的判断Paragraph Vector更优\n",
    "1. pv(“Lady Gaga”) - wv(“American”) + wv(“Japanese”)\n",
    "    1. pv是Paragraph Vector\n",
    "    1. wv是Word Vector\n",
    "    1. 上面例子可以收到滨崎步\n",
    "1. pv(“Distributed Representations of Sentences and Documents”) - wv(“neural”) + wv(“Bayesian”)"
   ]
  },
  {
   "cell_type": "markdown",
   "metadata": {},
   "source": [
    "## Model\n",
    "The Paragraph Vector model\n",
    "\n",
    "![1](http://ou8qjsj0m.bkt.clouddn.com//17-8-6/43579065.jpg)\n",
    "\n",
    "“Distributed Bag of Words” model\n",
    "\n",
    "![2](http://ou8qjsj0m.bkt.clouddn.com//17-8-6/12630514.jpg)\n",
    "\n",
    "## Experiments\n",
    "### Performance of Paragraph Vectors on Wikipedia entries\n",
    "Table 1: Nearest neighbours to “Machine learning.” Bold face texts are articles we found unrelated to “Machine learning.” We use Hellinger distance for LDA and cosine distance for Paragraph Vectors as they work the best for each model.\n",
    "\n",
    "![3](http://ou8qjsj0m.bkt.clouddn.com//17-8-6/83361515.jpg)\n",
    "\n",
    "\n",
    "pv(“Lady Gaga”) - wv(“American”) + wv(“Japanese”)\n",
    "\n",
    "- pv is paragraph vectors \n",
    "- wv is word vectors\n",
    "\n",
    "![4](http://ou8qjsj0m.bkt.clouddn.com//17-8-6/52645853.jpg)\n",
    "\n",
    "![5](http://ou8qjsj0m.bkt.clouddn.com//17-8-6/22660842.jpg)\n",
    "\n",
    "![6](http://ou8qjsj0m.bkt.clouddn.com//17-8-6/74942296.jpg)\n",
    "\n",
    "### Performance of Paragraph Vectors on arXiv articles\n",
    "pv(“Distributed Representations of Sentences and Documents”) - wv(“neural”) + wv(“Bayesian”)\n",
    "\n",
    "- pv are paragraph vectors\n",
    "- wv are word vectors learned during the training of paragraph vectors\n",
    "\n",
    "![7](http://ou8qjsj0m.bkt.clouddn.com//17-8-6/71709835.jpg)\n",
    "\n",
    "![8](http://ou8qjsj0m.bkt.clouddn.com//17-8-6/70098449.jpg)\n",
    "\n",
    "![9](http://ou8qjsj0m.bkt.clouddn.com//17-8-6/23262939.jpg)\n",
    "\n",
    "![10](http://ou8qjsj0m.bkt.clouddn.com//17-8-6/52365930.jpg)"
   ]
  },
  {
   "cell_type": "code",
   "execution_count": null,
   "metadata": {
    "collapsed": true
   },
   "outputs": [],
   "source": []
  }
 ],
 "metadata": {
  "kernelspec": {
   "display_name": "Python [Root]",
   "language": "python",
   "name": "Python [Root]"
  },
  "language_info": {
   "codemirror_mode": {
    "name": "ipython",
    "version": 2
   },
   "file_extension": ".py",
   "mimetype": "text/x-python",
   "name": "python",
   "nbconvert_exporter": "python",
   "pygments_lexer": "ipython2",
   "version": "2.7.12"
  }
 },
 "nbformat": 4,
 "nbformat_minor": 0
}
