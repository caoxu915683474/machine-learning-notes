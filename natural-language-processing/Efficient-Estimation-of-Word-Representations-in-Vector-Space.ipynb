{
 "cells": [
  {
   "cell_type": "markdown",
   "metadata": {},
   "source": [
    "# Efficient Estimation of Word Representations in Vector Space\n",
    "\n",
    "    Tomas Mikolov\n",
    "    Kai Chen\n",
    "    Greg Corrado\n",
    "    Jeffrey Dean\n",
    "\n",
    "    7 Sep 2013\n",
    "\n",
    "https://arxiv.org/pdf/1301.3781.pdf"
   ]
  },
  {
   "cell_type": "markdown",
   "metadata": {},
   "source": [
    "## 总结\n",
    "- Continuous Bag-of-Words Model(CBOW)\n",
    "    - 类似 feedforward NNLM，不同的地方是使用一个non-linear activation function，即projection layer\n",
    "- Continuous Skip-gram Model\n",
    "    - 输入当前word\n",
    "    - 使用log-linear分类器和 continuous projection layer\n",
    "    - 预测当前word之前和之后一个范围内的word"
   ]
  },
  {
   "cell_type": "markdown",
   "metadata": {},
   "source": [
    "## New Log-linear Models\n",
    "### Continuous Bag-of-Words Model\n",
    "The first proposed architecture is similar to the feedforward NNLM, where the non-linear hidden layer is removed and the projection layer is shared for all words (not just the projection matrix); thus, all words get projected into the same position (their vectors are averaged). \n",
    "\n",
    "We denote this model further as `CBOW`, as unlike standard bag-of-words model, it uses continuous distributed representation of the context.\n",
    "\n",
    "### Continuous Skip-gram Model\n",
    "The second architecture is similar to CBOW, but instead of predicting the current word based on the context, it tries to maximize classification of a word based on another word in the same sentence. More precisely, we use each current word as an input to a log-linear classifier with continuous projection layer, and predict words within a certain range before and after the current word.\n",
    "\n",
    "![1](http://ou8qjsj0m.bkt.clouddn.com//17-8-6/19271731.jpg)\n",
    "\n",
    "## Results\n",
    "![2](http://ou8qjsj0m.bkt.clouddn.com//17-8-6/1579511.jpg)\n",
    "\n",
    "![3](http://ou8qjsj0m.bkt.clouddn.com//17-8-6/19991837.jpg)"
   ]
  },
  {
   "cell_type": "code",
   "execution_count": null,
   "metadata": {
    "collapsed": true
   },
   "outputs": [],
   "source": []
  }
 ],
 "metadata": {
  "kernelspec": {
   "display_name": "Python [Root]",
   "language": "python",
   "name": "Python [Root]"
  },
  "language_info": {
   "codemirror_mode": {
    "name": "ipython",
    "version": 2
   },
   "file_extension": ".py",
   "mimetype": "text/x-python",
   "name": "python",
   "nbconvert_exporter": "python",
   "pygments_lexer": "ipython2",
   "version": "2.7.12"
  }
 },
 "nbformat": 4,
 "nbformat_minor": 0
}
