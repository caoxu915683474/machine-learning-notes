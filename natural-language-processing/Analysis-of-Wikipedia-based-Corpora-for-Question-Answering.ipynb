{
 "cells": [
  {
   "cell_type": "markdown",
   "metadata": {},
   "source": [
    "# Analysis of Wikipedia-based Corpora for Question Answering\n",
    "    Tomasz Jurczyk, Amit Deshmane, Jinho Choi\n",
    "    Mathematics and Computer Science, Emory University\n",
    "    Infosys Ltd.\n",
    "    {tomasz.jurczyk,jinho.choi}@emory.edu\n",
    "    amit deshmane@infosys.com\n",
    "\n",
    "https://arxiv.org/pdf/1801.02073.pdf"
   ]
  },
  {
   "cell_type": "markdown",
   "metadata": {},
   "source": [
    "## 总结\n",
    "介绍4个Corpora:\n",
    "\n",
    "1. WIKIQA\n",
    "1. SELQA\n",
    "1. SQUAD\n",
    "1. INFOBOXQA\n",
    "\n",
    "4种类型的 Selection-based QA\n",
    "\n",
    "1. answer extraction:Finding answer phrases;\n",
    "1. answer selection:Finding answer sentences;\n",
    "1. answer triggering:Finding answer sentences,although the presence of the answer context is not assumed within the provided document;\n",
    "1. answer retrieval:Finding a paragraph that includes the answer context out of the entire Wikipedia."
   ]
  },
  {
   "cell_type": "code",
   "execution_count": null,
   "metadata": {
    "collapsed": true
   },
   "outputs": [],
   "source": []
  }
 ],
 "metadata": {
  "kernelspec": {
   "display_name": "Python [Root]",
   "language": "python",
   "name": "Python [Root]"
  },
  "language_info": {
   "codemirror_mode": {
    "name": "ipython",
    "version": 2
   },
   "file_extension": ".py",
   "mimetype": "text/x-python",
   "name": "python",
   "nbconvert_exporter": "python",
   "pygments_lexer": "ipython2",
   "version": "2.7.12"
  }
 },
 "nbformat": 4,
 "nbformat_minor": 0
}
