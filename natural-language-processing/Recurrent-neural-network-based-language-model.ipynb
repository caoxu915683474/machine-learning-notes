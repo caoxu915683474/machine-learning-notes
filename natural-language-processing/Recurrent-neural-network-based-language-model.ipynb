{
 "cells": [
  {
   "cell_type": "markdown",
   "metadata": {},
   "source": [
    "# Recurrent neural network based language model\n",
    "\n",
    "    Tomas Mikolov\n",
    "    INTERSPEECH 2010\n",
    "\n",
    "http://www.fit.vutbr.cz/research/groups/speech/publi/2010/mikolov_interspeech2010_IS100722.pdf"
   ]
  },
  {
   "cell_type": "markdown",
   "metadata": {},
   "source": [
    "## 总结\n",
    "RNN的Language Model\n",
    "\n",
    "- 每次输入的word用w vector表示\n",
    "- 输入层x由t时刻的w向量和t-1时刻的状态向量s得到\n",
    "- 计算时刻t的状态向量s，使用x，激活函数是sigmoid\n",
    "- 最后得到的t时刻输出层y，取softmax"
   ]
  },
  {
   "cell_type": "markdown",
   "metadata": {},
   "source": [
    "## Model description\n",
    "![1](http://ou8qjsj0m.bkt.clouddn.com//17-8-6/11479569.jpg)\n",
    "\n",
    "- The network has an input layer x, hidden layer s (also called context layer or state) and output layer y.\n",
    "- Input to the network in time t is x(t), output is denoted as y(t), and s(t) is state of the network (hidden layer).\n",
    "- Input vector x(t) is formed by concatenating vector w representing current word, and output from neurons in context layer s at time t − 1.\n",
    "\n",
    "$x(t)=w(t)+s(t-1)\\ (1)$\n",
    "\n",
    "$s_j(t)=f(\\sum_i x_i(t)u_{ji})\\ (2)$\n",
    "\n",
    "$y_k(t)=g(\\sum_j s_j(t)v_{kj})\\ (3)$\n",
    "\n",
    "where f(z) is sigmoid activation function:\n",
    "\n",
    "$f(z)=\\frac{1}{1+e^{-z}}\\ (4)$\n",
    "\n",
    "g(z) is softmax function:\n",
    "\n",
    "$g(z_m)=\\frac{e^{z_m}}{\\sum_k e^{z_k}}\\ (5)$\n",
    "\n",
    "At each training step, error vector is computed according to cross entropy criterion and weights are updated with the stan- dard backpropagation algorithm:\n",
    "\n",
    "$error(t)=desired(t)-y(t)\\ (6)$\n",
    "\n",
    "- desired is a vector using 1-of-N coding representing the word that should have been predicted in a particular context\n",
    "- y(t) is the actual output from the network"
   ]
  },
  {
   "cell_type": "code",
   "execution_count": null,
   "metadata": {
    "collapsed": true
   },
   "outputs": [],
   "source": []
  }
 ],
 "metadata": {
  "kernelspec": {
   "display_name": "Python [Root]",
   "language": "python",
   "name": "Python [Root]"
  },
  "language_info": {
   "codemirror_mode": {
    "name": "ipython",
    "version": 2
   },
   "file_extension": ".py",
   "mimetype": "text/x-python",
   "name": "python",
   "nbconvert_exporter": "python",
   "pygments_lexer": "ipython2",
   "version": "2.7.12"
  }
 },
 "nbformat": 4,
 "nbformat_minor": 0
}
