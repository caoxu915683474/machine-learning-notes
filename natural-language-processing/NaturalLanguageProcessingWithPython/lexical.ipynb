{
 "cells": [
  {
   "cell_type": "markdown",
   "metadata": {},
   "source": [
    "## 词典资源\n",
    "词典(`Lexical`)或词典资源是一个词和/或短语及其相关信息的集合，例如：词性(`part-of-speech`)和词意(`sense`)定义等相关信息。\n",
    "\n",
    "图2-5中描述了词汇相关的标准术语。词项(`lexical entry`)包括词目(`headword`)（也叫词条(`lemma`)）及其他附加信息，例如：词性和词意定义。两个含义不同但拼写相同的分词被称为同音异义词(`homonyms`)。\n",
    "\n",
    "![2-5](https://www.safaribooksonline.com/library/view/natural-language-processing/9780596803346/httpatomoreillycomsourceoreillyimages302024.png)\n",
    "\n",
    "Figure 2-5. Lexicon terminology: Lexical entries for two lemmas having the same spelling (homonyms), providing part-of-speech and gloss information.\n",
    "\n",
    "### 词汇列表语料库\n",
    "过滤文本：此程序计算文本的词汇表，然后删除所有在现有的词汇列表中出现的元素，只留下罕见的或拼写错误的词汇。"
   ]
  },
  {
   "cell_type": "code",
   "execution_count": 15,
   "metadata": {
    "collapsed": true
   },
   "outputs": [],
   "source": [
    "%matplotlib inline"
   ]
  },
  {
   "cell_type": "code",
   "execution_count": 2,
   "metadata": {
    "collapsed": false
   },
   "outputs": [
    {
     "data": {
      "text/plain": [
       "[u'abbeyland',\n",
       " u'abhorred',\n",
       " u'abilities',\n",
       " u'abounded',\n",
       " u'abridgement',\n",
       " u'abused',\n",
       " u'abuses',\n",
       " u'accents',\n",
       " u'accepting',\n",
       " u'accommodations',\n",
       " u'accompanied',\n",
       " u'accounted',\n",
       " u'accounts',\n",
       " u'accustomary',\n",
       " u'aches',\n",
       " u'acknowledging',\n",
       " u'acknowledgment',\n",
       " u'acknowledgments',\n",
       " u'acquaintances',\n",
       " u'acquiesced',\n",
       " u'acquitted',\n",
       " u'acquitting',\n",
       " u'acted',\n",
       " u'actions',\n",
       " u'adapted',\n",
       " u'adding',\n",
       " u'additions',\n",
       " u'addressed',\n",
       " u'addresses',\n",
       " u'addressing']"
      ]
     },
     "execution_count": 2,
     "metadata": {},
     "output_type": "execute_result"
    }
   ],
   "source": [
    "import nltk\n",
    "\n",
    "def unusual_words(text):\n",
    "    text_vocab = set(w.lower() for w in text if w.isalpha())\n",
    "    english_vocab = set(w.lower() for w in nltk.corpus.words.words())\n",
    "    unusual = text_vocab.difference(english_vocab)\n",
    "    return sorted(unusual)\n",
    "\n",
    "unusual_words(nltk.corpus.gutenberg.words('austen-sense.txt'))[:30]"
   ]
  },
  {
   "cell_type": "code",
   "execution_count": 3,
   "metadata": {
    "collapsed": false
   },
   "outputs": [
    {
     "data": {
      "text/plain": [
       "[u'aaaaaaaaaaaaaaaaa',\n",
       " u'aaahhhh',\n",
       " u'abortions',\n",
       " u'abou',\n",
       " u'abourted',\n",
       " u'abs',\n",
       " u'ack',\n",
       " u'acros',\n",
       " u'actualy',\n",
       " u'adams',\n",
       " u'adds',\n",
       " u'adduser',\n",
       " u'adjusts',\n",
       " u'adoted',\n",
       " u'adreniline',\n",
       " u'ads',\n",
       " u'adults',\n",
       " u'afe',\n",
       " u'affairs',\n",
       " u'affari',\n",
       " u'affects',\n",
       " u'afk',\n",
       " u'agaibn',\n",
       " u'ages',\n",
       " u'aggravated',\n",
       " u'agurlwithbigguns',\n",
       " u'ahah',\n",
       " u'ahahah',\n",
       " u'ahahh',\n",
       " u'ahahha']"
      ]
     },
     "execution_count": 3,
     "metadata": {},
     "output_type": "execute_result"
    }
   ],
   "source": [
    "unusual_words(nltk.corpus.nps_chat.words())[:30]"
   ]
  },
  {
   "cell_type": "markdown",
   "metadata": {},
   "source": [
    "停用词(`stopwords`)语料库："
   ]
  },
  {
   "cell_type": "code",
   "execution_count": 5,
   "metadata": {
    "collapsed": false
   },
   "outputs": [
    {
     "data": {
      "text/plain": [
       "[u'i',\n",
       " u'me',\n",
       " u'my',\n",
       " u'myself',\n",
       " u'we',\n",
       " u'our',\n",
       " u'ours',\n",
       " u'ourselves',\n",
       " u'you',\n",
       " u'your',\n",
       " u'yours',\n",
       " u'yourself',\n",
       " u'yourselves',\n",
       " u'he',\n",
       " u'him',\n",
       " u'his',\n",
       " u'himself',\n",
       " u'she',\n",
       " u'her',\n",
       " u'hers',\n",
       " u'herself',\n",
       " u'it',\n",
       " u'its',\n",
       " u'itself',\n",
       " u'they',\n",
       " u'them',\n",
       " u'their',\n",
       " u'theirs',\n",
       " u'themselves',\n",
       " u'what']"
      ]
     },
     "execution_count": 5,
     "metadata": {},
     "output_type": "execute_result"
    }
   ],
   "source": [
    "from nltk.corpus import stopwords\n",
    "stopwords.words('english')[:30]"
   ]
  },
  {
   "cell_type": "markdown",
   "metadata": {},
   "source": [
    "定义一个函数来计算文本中不包含在停用词表中的词所占的比例。"
   ]
  },
  {
   "cell_type": "code",
   "execution_count": 10,
   "metadata": {
    "collapsed": false
   },
   "outputs": [
    {
     "data": {
      "text/plain": [
       "0.735240435097661"
      ]
     },
     "execution_count": 10,
     "metadata": {},
     "output_type": "execute_result"
    }
   ],
   "source": [
    "from __future__ import division\n",
    "\n",
    "def content_fraction(text):\n",
    "    stopwords = nltk.corpus.stopwords.words('english')\n",
    "    content = [w for w in text if w.lower() not in stopwords]\n",
    "    return len(content) / len(text)\n",
    "content_fraction(nltk.corpus.reuters.words())"
   ]
  },
  {
   "cell_type": "markdown",
   "metadata": {},
   "source": [
    "在停用词的帮助下，筛选掉文本中三分之一的词。\n",
    "\n",
    "词谜。检查必须出现的字母（2）和长度限制（1）（这里只查找6个或6个以上字母的词）。利用FreqDist比较法（3）检查候选词中的每个字母出现的频率是否小于或等于其相应在词谜中出现的频率。"
   ]
  },
  {
   "cell_type": "code",
   "execution_count": 11,
   "metadata": {
    "collapsed": false
   },
   "outputs": [
    {
     "data": {
      "text/plain": [
       "[u'glover',\n",
       " u'gorlin',\n",
       " u'govern',\n",
       " u'grovel',\n",
       " u'ignore',\n",
       " u'involver',\n",
       " u'lienor',\n",
       " u'linger',\n",
       " u'longer',\n",
       " u'lovering',\n",
       " u'noiler',\n",
       " u'overling',\n",
       " u'region',\n",
       " u'renvoi',\n",
       " u'revolving',\n",
       " u'ringle',\n",
       " u'roving',\n",
       " u'violer',\n",
       " u'virole']"
      ]
     },
     "execution_count": 11,
     "metadata": {},
     "output_type": "execute_result"
    }
   ],
   "source": [
    "puzzle_letters = nltk.FreqDist('egivrvonl')\n",
    "obligatory = 'r'\n",
    "wordlist = nltk.corpus.words.words()\n",
    "[w for w in wordlist if len(w) >= 6 #1\n",
    "                        and obligatory in w #2\n",
    "                        and nltk.FreqDist(w) <= puzzle_letters] #3"
   ]
  },
  {
   "cell_type": "markdown",
   "metadata": {},
   "source": [
    "![2-6](https://www.safaribooksonline.com/library/view/natural-language-processing/9780596803346/httpatomoreillycomsourceoreillyimages302026.png)\n",
    "\n",
    "Figure 2-6. A word puzzle: A grid of randomly chosen letters with rules for creating words out of the letters; this puzzle is known as “Target.”\n",
    "\n",
    "名字语料库。基于名字尾字母的男性/女性统计。"
   ]
  },
  {
   "cell_type": "code",
   "execution_count": 12,
   "metadata": {
    "collapsed": false
   },
   "outputs": [
    {
     "data": {
      "text/plain": [
       "[u'female.txt', u'male.txt']"
      ]
     },
     "execution_count": 12,
     "metadata": {},
     "output_type": "execute_result"
    }
   ],
   "source": [
    "names = nltk.corpus.names\n",
    "names.fileids()"
   ]
  },
  {
   "cell_type": "code",
   "execution_count": 14,
   "metadata": {
    "collapsed": false
   },
   "outputs": [
    {
     "data": {
      "text/plain": [
       "[u'Abbey',\n",
       " u'Abbie',\n",
       " u'Abby',\n",
       " u'Addie',\n",
       " u'Adrian',\n",
       " u'Adrien',\n",
       " u'Ajay',\n",
       " u'Alex',\n",
       " u'Alexis',\n",
       " u'Alfie',\n",
       " u'Ali',\n",
       " u'Alix',\n",
       " u'Allie',\n",
       " u'Allyn',\n",
       " u'Andie',\n",
       " u'Andrea',\n",
       " u'Andy',\n",
       " u'Angel',\n",
       " u'Angie',\n",
       " u'Ariel',\n",
       " u'Ashley',\n",
       " u'Aubrey',\n",
       " u'Augustine',\n",
       " u'Austin',\n",
       " u'Averil',\n",
       " u'Barrie',\n",
       " u'Barry',\n",
       " u'Beau',\n",
       " u'Bennie',\n",
       " u'Benny']"
      ]
     },
     "execution_count": 14,
     "metadata": {},
     "output_type": "execute_result"
    }
   ],
   "source": [
    "male_names = names.words('male.txt')\n",
    "female_names = names.words('female.txt')\n",
    "[w for w in male_names if w in female_names][:30cfd = nltk.ConditionalFreqDist(]"
   ]
  },
  {
   "cell_type": "code",
   "execution_count": 16,
   "metadata": {
    "collapsed": false
   },
   "outputs": [
    {
     "data": {
      "image/png": "[encoded data removed]",
      "text/plain": [
       "<matplotlib.figure.Figure at 0x11481b450>"
      ]
     },
     "metadata": {},
     "output_type": "display_data"
    }
   ],
   "source": [
    "cfd = nltk.ConditionalFreqDist(\n",
    "    (fileid, name[-1])\n",
    "    for fileid in names.fileids()\n",
    "    for name in names.words(fileid))\n",
    "cfd.plot()"
   ]
  },
  {
   "cell_type": "markdown",
   "metadata": {},
   "source": [
    "Figure 2-7. Conditional frequency distribution: This plot shows the number of female and male names ending with each letter of the alphabet; most names ending with a, e, or i are female; names ending in h and l are equally likely to be male or female; names ending in k, o, r, s, and t are likely to be male.\n",
    "\n",
    "### 发音的词典\n",
    "美国英语的CMU发音词典。"
   ]
  },
  {
   "cell_type": "code",
   "execution_count": 17,
   "metadata": {
    "collapsed": false
   },
   "outputs": [
    {
     "data": {
      "text/plain": [
       "133737"
      ]
     },
     "execution_count": 17,
     "metadata": {},
     "output_type": "execute_result"
    }
   ],
   "source": [
    "entries = nltk.corpus.cmudict.entries()\n",
    "len(entries)"
   ]
  },
  {
   "cell_type": "code",
   "execution_count": 18,
   "metadata": {
    "collapsed": false
   },
   "outputs": [
    {
     "name": "stdout",
     "output_type": "stream",
     "text": [
      "(u'explorer', [u'IH0', u'K', u'S', u'P', u'L', u'AO1', u'R', u'ER0'])\n",
      "(u'explorers', [u'IH0', u'K', u'S', u'P', u'L', u'AO1', u'R', u'ER0', u'Z'])\n",
      "(u'explores', [u'IH0', u'K', u'S', u'P', u'L', u'AO1', u'R', u'Z'])\n",
      "(u'exploring', [u'IH0', u'K', u'S', u'P', u'L', u'AO1', u'R', u'IH0', u'NG'])\n",
      "(u'explosion', [u'IH0', u'K', u'S', u'P', u'L', u'OW1', u'ZH', u'AH0', u'N'])\n",
      "(u'explosions', [u'IH0', u'K', u'S', u'P', u'L', u'OW1', u'ZH', u'AH0', u'N', u'Z'])\n",
      "(u'explosive', [u'IH0', u'K', u'S', u'P', u'L', u'OW1', u'S', u'IH0', u'V'])\n",
      "(u'explosively', [u'EH2', u'K', u'S', u'P', u'L', u'OW1', u'S', u'IH0', u'V', u'L', u'IY0'])\n"
     ]
    }
   ],
   "source": [
    "for entry in entries[39943:39951]:\n",
    "    print entry"
   ]
  },
  {
   "cell_type": "markdown",
   "metadata": {},
   "source": [
    "对任意一个词，词典资源都有语音的代码——不同的声音有着不同的标签——称作音素(`phones`)。\n",
    "\n",
    "扫描词典中发音包含三个音素的条目。"
   ]
  },
  {
   "cell_type": "code",
   "execution_count": 19,
   "metadata": {
    "collapsed": false
   },
   "outputs": [
    {
     "name": "stdout",
     "output_type": "stream",
     "text": [
      "pait EY1 pat AE1 pate EY1 patt AE1 peart ER1 peat IY1 peet IY1 peete IY1 pert ER1 pet EH1 pete IY1 pett EH1 piet IY1 piette IY1 pit IH1 pitt IH1 pot AA1 pote OW1 pott AA1 pout AW1 puett UW1 purt ER1 put UH1 putt AH1\n"
     ]
    }
   ],
   "source": [
    "for word, pron in entries:\n",
    "    if len(pron) == 3:\n",
    "        ph1, ph2, ph3 = pron\n",
    "        if ph1 == 'P' and ph3 == 'T':\n",
    "            print word, ph2,"
   ]
  },
  {
   "cell_type": "markdown",
   "metadata": {},
   "source": [
    "找到所有发音结尾与nicks相似的词汇。通过此方法也可以找到押韵的词。"
   ]
  },
  {
   "cell_type": "code",
   "execution_count": 20,
   "metadata": {
    "collapsed": false
   },
   "outputs": [
    {
     "data": {
      "text/plain": [
       "[u\"atlantic's\",\n",
       " u'audiotronics',\n",
       " u'avionics',\n",
       " u'beatniks',\n",
       " u'calisthenics',\n",
       " u'centronics',\n",
       " u'chamonix',\n",
       " u'chetniks',\n",
       " u\"clinic's\",\n",
       " u'clinics',\n",
       " u'conics',\n",
       " u'conics',\n",
       " u'cryogenics',\n",
       " u'cynics',\n",
       " u'diasonics',\n",
       " u\"dominic's\",\n",
       " u'ebonics',\n",
       " u'electronics',\n",
       " u\"electronics'\",\n",
       " u\"endotronics'\",\n",
       " u'endotronics',\n",
       " u'enix',\n",
       " u'environics',\n",
       " u'ethnics',\n",
       " u'eugenics',\n",
       " u'fibronics',\n",
       " u'flextronics',\n",
       " u'harmonics',\n",
       " u'hispanics',\n",
       " u'histrionics',\n",
       " u'identics',\n",
       " u'ionics',\n",
       " u'kibbutzniks',\n",
       " u'lasersonics',\n",
       " u'lumonics',\n",
       " u'mannix',\n",
       " u'mechanics',\n",
       " u\"mechanics'\",\n",
       " u'microelectronics',\n",
       " u'minix',\n",
       " u'minnix',\n",
       " u'mnemonics',\n",
       " u'mnemonics',\n",
       " u'molonicks',\n",
       " u'mullenix',\n",
       " u'mullenix',\n",
       " u'mullinix',\n",
       " u'mulnix',\n",
       " u\"munich's\",\n",
       " u'nucleonics',\n",
       " u'onyx',\n",
       " u'organics',\n",
       " u\"panic's\",\n",
       " u'panics',\n",
       " u'penix',\n",
       " u'pennix',\n",
       " u'personics',\n",
       " u'phenix',\n",
       " u\"philharmonic's\",\n",
       " u'phoenix',\n",
       " u'phonics',\n",
       " u'photronics',\n",
       " u'pinnix',\n",
       " u'plantronics',\n",
       " u'pyrotechnics',\n",
       " u'refuseniks',\n",
       " u\"resnick's\",\n",
       " u'respironics',\n",
       " u'sconnix',\n",
       " u'siliconix',\n",
       " u'skolniks',\n",
       " u'sonics',\n",
       " u'sputniks',\n",
       " u'technics',\n",
       " u'tectonics',\n",
       " u'tektronix',\n",
       " u'telectronics',\n",
       " u'telephonics',\n",
       " u'tonics',\n",
       " u'unix',\n",
       " u\"vinick's\",\n",
       " u\"vinnick's\",\n",
       " u'vitronics']"
      ]
     },
     "execution_count": 20,
     "metadata": {},
     "output_type": "execute_result"
    }
   ],
   "source": [
    "syllable = ['N', 'IH0', 'K', 'S']\n",
    "[word for word, pron in entries if pron[-4:] == syllable]"
   ]
  },
  {
   "cell_type": "markdown",
   "metadata": {},
   "source": [
    "音素包含数字表示主重音（1）、次重音（2）和无重音（0）。定义一个函数来提取重音数字，然后扫描词典，找到具有特定重音模式的词汇。"
   ]
  },
  {
   "cell_type": "code",
   "execution_count": 22,
   "metadata": {
    "collapsed": false
   },
   "outputs": [
    {
     "data": {
      "text/plain": [
       "[u'abbreviated',\n",
       " u'abbreviated',\n",
       " u'abbreviating',\n",
       " u'accelerated',\n",
       " u'accelerating',\n",
       " u'accelerator',\n",
       " u'accelerators',\n",
       " u'accentuated',\n",
       " u'accentuating',\n",
       " u'accommodated',\n",
       " u'accommodating',\n",
       " u'accommodative',\n",
       " u'accumulated',\n",
       " u'accumulating',\n",
       " u'accumulative',\n",
       " u'accumulator',\n",
       " u'accumulators',\n",
       " u'accusatory',\n",
       " u'adenovirus',\n",
       " u'adjudicated',\n",
       " u'adjudicating',\n",
       " u'administrating',\n",
       " u'administrative',\n",
       " u'administrator',\n",
       " u\"administrators'\",\n",
       " u\"administrator's\",\n",
       " u'administrators',\n",
       " u'adulterated',\n",
       " u'adventurism',\n",
       " u'adventurism']"
      ]
     },
     "execution_count": 22,
     "metadata": {},
     "output_type": "execute_result"
    }
   ],
   "source": [
    "def stress(pron):\n",
    "    return [char for phone in pron for char in phone if char.isdigit()]\n",
    "\n",
    "[w for w, pron in entries if stress(pron) == ['0', '1', '0', '2', '0']][:30]"
   ]
  },
  {
   "cell_type": "markdown",
   "metadata": {},
   "source": [
    "### 比较词表\n",
    "表格词典的另外一个例子是`comparative wordlist`。NLTK中包含了所谓的`Swadesh wordlists`，包括几种语言的约200个常用词的列表。"
   ]
  },
  {
   "cell_type": "code",
   "execution_count": 23,
   "metadata": {
    "collapsed": false
   },
   "outputs": [
    {
     "data": {
      "text/plain": [
       "[u'be',\n",
       " u'bg',\n",
       " u'bs',\n",
       " u'ca',\n",
       " u'cs',\n",
       " u'cu',\n",
       " u'de',\n",
       " u'en',\n",
       " u'es',\n",
       " u'fr',\n",
       " u'hr',\n",
       " u'it',\n",
       " u'la',\n",
       " u'mk',\n",
       " u'nl',\n",
       " u'pl',\n",
       " u'pt',\n",
       " u'ro',\n",
       " u'ru',\n",
       " u'sk',\n",
       " u'sl',\n",
       " u'sr',\n",
       " u'sw',\n",
       " u'uk']"
      ]
     },
     "execution_count": 23,
     "metadata": {},
     "output_type": "execute_result"
    }
   ],
   "source": [
    "from nltk.corpus import swadesh\n",
    "swadesh.fileids()"
   ]
  },
  {
   "cell_type": "code",
   "execution_count": 25,
   "metadata": {
    "collapsed": false
   },
   "outputs": [
    {
     "data": {
      "text/plain": [
       "[u'I',\n",
       " u'you (singular), thou',\n",
       " u'he',\n",
       " u'we',\n",
       " u'you (plural)',\n",
       " u'they',\n",
       " u'this',\n",
       " u'that',\n",
       " u'here',\n",
       " u'there',\n",
       " u'who',\n",
       " u'what',\n",
       " u'where',\n",
       " u'when',\n",
       " u'how',\n",
       " u'not',\n",
       " u'all',\n",
       " u'many',\n",
       " u'some',\n",
       " u'few',\n",
       " u'other',\n",
       " u'one',\n",
       " u'two',\n",
       " u'three',\n",
       " u'four',\n",
       " u'five',\n",
       " u'big',\n",
       " u'long',\n",
       " u'wide',\n",
       " u'thick']"
      ]
     },
     "execution_count": 25,
     "metadata": {},
     "output_type": "execute_result"
    }
   ],
   "source": [
    "swadesh.words('en')[:30]"
   ]
  },
  {
   "cell_type": "code",
   "execution_count": 27,
   "metadata": {
    "collapsed": false
   },
   "outputs": [
    {
     "data": {
      "text/plain": [
       "[(u'je', u'I'),\n",
       " (u'tu, vous', u'you (singular), thou'),\n",
       " (u'il', u'he'),\n",
       " (u'nous', u'we'),\n",
       " (u'vous', u'you (plural)'),\n",
       " (u'ils, elles', u'they'),\n",
       " (u'ceci', u'this'),\n",
       " (u'cela', u'that'),\n",
       " (u'ici', u'here'),\n",
       " (u'l\\xe0', u'there'),\n",
       " (u'qui', u'who'),\n",
       " (u'quoi', u'what'),\n",
       " (u'o\\xf9', u'where'),\n",
       " (u'quand', u'when'),\n",
       " (u'comment', u'how'),\n",
       " (u'ne...pas', u'not'),\n",
       " (u'tout', u'all'),\n",
       " (u'plusieurs', u'many'),\n",
       " (u'quelques', u'some'),\n",
       " (u'peu', u'few'),\n",
       " (u'autre', u'other'),\n",
       " (u'un', u'one'),\n",
       " (u'deux', u'two'),\n",
       " (u'trois', u'three'),\n",
       " (u'quatre', u'four'),\n",
       " (u'cinq', u'five'),\n",
       " (u'grand', u'big'),\n",
       " (u'long', u'long'),\n",
       " (u'large', u'wide'),\n",
       " (u'\\xe9pais', u'thick')]"
      ]
     },
     "execution_count": 27,
     "metadata": {},
     "output_type": "execute_result"
    }
   ],
   "source": [
    "fr2en = swadesh.entries(['fr', 'en'])\n",
    "fr2en[:30]"
   ]
  },
  {
   "cell_type": "code",
   "execution_count": 28,
   "metadata": {
    "collapsed": false
   },
   "outputs": [
    {
     "data": {
      "text/plain": [
       "u'dog'"
      ]
     },
     "execution_count": 28,
     "metadata": {},
     "output_type": "execute_result"
    }
   ],
   "source": [
    "translate = dict(fr2en)\n",
    "translate['chien']"
   ]
  },
  {
   "cell_type": "code",
   "execution_count": 29,
   "metadata": {
    "collapsed": false
   },
   "outputs": [
    {
     "data": {
      "text/plain": [
       "u'throw'"
      ]
     },
     "execution_count": 29,
     "metadata": {},
     "output_type": "execute_result"
    }
   ],
   "source": [
    "translate['jeter']"
   ]
  },
  {
   "cell_type": "code",
   "execution_count": 30,
   "metadata": {
    "collapsed": false
   },
   "outputs": [
    {
     "data": {
      "text/plain": [
       "u'dog'"
      ]
     },
     "execution_count": 30,
     "metadata": {},
     "output_type": "execute_result"
    }
   ],
   "source": [
    "de2en = swadesh.entries(['de', 'en'])    # German-English\n",
    "es2en = swadesh.entries(['es', 'en'])    # Spanish-English\n",
    "translate.update(dict(de2en))\n",
    "translate.update(dict(es2en))\n",
    "translate['Hund']"
   ]
  },
  {
   "cell_type": "code",
   "execution_count": 31,
   "metadata": {
    "collapsed": false
   },
   "outputs": [
    {
     "data": {
      "text/plain": [
       "u'dog'"
      ]
     },
     "execution_count": 31,
     "metadata": {},
     "output_type": "execute_result"
    }
   ],
   "source": [
    "translate['perro']"
   ]
  },
  {
   "cell_type": "markdown",
   "metadata": {},
   "source": [
    "比较德语族和拉丁语族的不同。"
   ]
  },
  {
   "cell_type": "code",
   "execution_count": 32,
   "metadata": {
    "collapsed": false
   },
   "outputs": [
    {
     "name": "stdout",
     "output_type": "stream",
     "text": [
      "(u'say', u'sagen', u'zeggen', u'decir', u'dire', u'dizer', u'dicere')\n",
      "(u'sing', u'singen', u'zingen', u'cantar', u'chanter', u'cantar', u'canere')\n",
      "(u'play', u'spielen', u'spelen', u'jugar', u'jouer', u'jogar, brincar', u'ludere')\n",
      "(u'float', u'schweben', u'zweven', u'flotar', u'flotter', u'flutuar, boiar', u'fluctuare')\n"
     ]
    }
   ],
   "source": [
    "languages = ['en', 'de', 'nl', 'es', 'fr', 'pt', 'la']\n",
    "for i in [139, 140, 141, 142]:\n",
    "    print swadesh.entries(languages)[i]"
   ]
  },
  {
   "cell_type": "markdown",
   "metadata": {},
   "source": [
    "### 词汇工具：Toolbox\n",
    "目前最流行的语言学家用来管理数据的工具是Toolbox。Toolbox文件由一些条目的集合组成，其中每个条目由一个或多个字段组成。\n",
    "\n",
    "下面是Rotokas语的词典。只看第一个条目，词kaa，意思是“窒息”。"
   ]
  },
  {
   "cell_type": "code",
   "execution_count": 35,
   "metadata": {
    "collapsed": false
   },
   "outputs": [
    {
     "data": {
      "text/plain": [
       "(u'kaa',\n",
       " [(u'ps', u'V'),\n",
       "  (u'pt', u'B'),\n",
       "  (u'ge', u'strangle'),\n",
       "  (u'tkp', u'pasim nek'),\n",
       "  (u'arg', u'O'),\n",
       "  (u'vx', u'2'),\n",
       "  (u'dt', u'07/Oct/2006'),\n",
       "  (u'ex', u'Rera rauroro rera kaarevoi.'),\n",
       "  (u'xp', u'Em i holim pas em na nekim em.'),\n",
       "  (u'xe', u'He is holding him and strangling him.'),\n",
       "  (u'ex', u'Iroiro-ia oirato okoearo kaaivoi uvare rirovira kaureoparoveira.'),\n",
       "  (u'xp', u'Ol i pasim nek bilong man long rop bikos em i save bikhet tumas.'),\n",
       "  (u'xe',\n",
       "   u\"They strangled the man's neck with rope because he was very stubborn and arrogant.\"),\n",
       "  (u'ex',\n",
       "   u'Oirato okoearo kaaivoi iroiro-ia. Uva viapau uvuiparoi ra vovouparo uva kopiiroi.'),\n",
       "  (u'xp',\n",
       "   u'Ol i pasim nek bilong man long rop. Olsem na em i no pulim win olsem na em i dai.'),\n",
       "  (u'xe',\n",
       "   u\"They strangled the man's neck with a rope. And he couldn't breathe and he died.\")])"
      ]
     },
     "execution_count": 35,
     "metadata": {},
     "output_type": "execute_result"
    }
   ],
   "source": [
    "from nltk.corpus import toolbox\n",
    "toolbox.entries('rotokas.dic')[1][:30]"
   ]
  },
  {
   "cell_type": "markdown",
   "metadata": {},
   "source": [
    "条目包括一系列“属性-值”对，如('ps', 'V')，表示词性是'V'（动词），('ge', 'gag')表示英文注释是'gag'。\n",
    "\n",
    "## WordNet\n",
    "WordNet是面向语义的英语词典。\n",
    "\n",
    "[汉语开放词网(Chinese Open WordNet)](http://openkg.cn/dataset/wordnet)\n",
    "    - OpenKG收集和整理国内国外重要的开放知识库和知识图谱项目，并组织整理相关的中文资料免费对外开放。\n",
    "    - 汉语开放词网是受 Princeton WordNet 和 Global WordNet Grid 启发由 NTU Computational Linguistics Lab 构建的，含有42315 synsets，79812 senses， 61536 unique words\n",
    "\n",
    "### 意义与同义词\n",
    "    Benz is credited with the invention of the motorcar.\n",
    "    Benz is credited with the invention of the automobile.\n",
    "\n",
    "motorcar和automobile是`synonyms`。"
   ]
  },
  {
   "cell_type": "code",
   "execution_count": 36,
   "metadata": {
    "collapsed": false
   },
   "outputs": [
    {
     "data": {
      "text/plain": [
       "[Synset('car.n.01')]"
      ]
     },
     "execution_count": 36,
     "metadata": {},
     "output_type": "execute_result"
    }
   ],
   "source": [
    "from nltk.corpus import wordnet as wn\n",
    "wn.synsets('motorcar')"
   ]
  },
  {
   "cell_type": "markdown",
   "metadata": {},
   "source": [
    "motorcar只有一个可能的含义，它被定义为car.n.01，car的第一个名词意义car.n.01被称为`synset`或\"synonym set\"，即意义相同的词（或“词条”）的集合。"
   ]
  },
  {
   "cell_type": "code",
   "execution_count": 47,
   "metadata": {
    "collapsed": false
   },
   "outputs": [
    {
     "data": {
      "text/plain": [
       "[u'car', u'auto', u'automobile', u'machine', u'motorcar']"
      ]
     },
     "execution_count": 47,
     "metadata": {},
     "output_type": "execute_result"
    }
   ],
   "source": [
    "wn.synset('car.n.01').lemma_names()"
   ]
  },
  {
   "cell_type": "markdown",
   "metadata": {},
   "source": [
    "同义词集也有一些一般的定义和例句。"
   ]
  },
  {
   "cell_type": "code",
   "execution_count": 48,
   "metadata": {
    "collapsed": false
   },
   "outputs": [
    {
     "data": {
      "text/plain": [
       "u'a motor vehicle with four wheels; usually propelled by an internal combustion engine'"
      ]
     },
     "execution_count": 48,
     "metadata": {},
     "output_type": "execute_result"
    }
   ],
   "source": [
    "wn.synset('car.n.01').definition()"
   ]
  },
  {
   "cell_type": "code",
   "execution_count": 49,
   "metadata": {
    "collapsed": false
   },
   "outputs": [
    {
     "data": {
      "text/plain": [
       "[u'he needs a car to get to work']"
      ]
     },
     "execution_count": 49,
     "metadata": {},
     "output_type": "execute_result"
    }
   ],
   "source": [
    "wn.synset('car.n.01').examples()"
   ]
  },
  {
   "cell_type": "markdown",
   "metadata": {},
   "source": [
    "为了消除同义词集歧义，将这些词标注为car.n.01.automobile、car.n.01.motocar等。这种同义词集和词的配对叫做`lemma`。可以得到指定同义词集的所有lemma（1），查找特定的lemma（2），得到一个词条所对应的同义词集（3），也可以得到一个词条的“名字”（4）。"
   ]
  },
  {
   "cell_type": "code",
   "execution_count": 51,
   "metadata": {
    "collapsed": false
   },
   "outputs": [
    {
     "data": {
      "text/plain": [
       "[Lemma('car.n.01.car'),\n",
       " Lemma('car.n.01.auto'),\n",
       " Lemma('car.n.01.automobile'),\n",
       " Lemma('car.n.01.machine'),\n",
       " Lemma('car.n.01.motorcar')]"
      ]
     },
     "execution_count": 51,
     "metadata": {},
     "output_type": "execute_result"
    }
   ],
   "source": [
    "wn.synset('car.n.01').lemmas() #1"
   ]
  },
  {
   "cell_type": "code",
   "execution_count": 52,
   "metadata": {
    "collapsed": false
   },
   "outputs": [
    {
     "data": {
      "text/plain": [
       "Lemma('car.n.01.automobile')"
      ]
     },
     "execution_count": 52,
     "metadata": {},
     "output_type": "execute_result"
    }
   ],
   "source": [
    "wn.lemma('car.n.01.automobile') #2"
   ]
  },
  {
   "cell_type": "code",
   "execution_count": 54,
   "metadata": {
    "collapsed": false
   },
   "outputs": [
    {
     "data": {
      "text/plain": [
       "Synset('car.n.01')"
      ]
     },
     "execution_count": 54,
     "metadata": {},
     "output_type": "execute_result"
    }
   ],
   "source": [
    "wn.lemma('car.n.01.automobile').synset() #3"
   ]
  },
  {
   "cell_type": "code",
   "execution_count": 56,
   "metadata": {
    "collapsed": false
   },
   "outputs": [
    {
     "data": {
      "text/plain": [
       "u'automobile'"
      ]
     },
     "execution_count": 56,
     "metadata": {},
     "output_type": "execute_result"
    }
   ],
   "source": [
    "wn.lemma('car.n.01.automobile').name() #4"
   ]
  },
  {
   "cell_type": "markdown",
   "metadata": {},
   "source": [
    "词car共有5个同义词集。"
   ]
  },
  {
   "cell_type": "code",
   "execution_count": 57,
   "metadata": {
    "collapsed": false
   },
   "outputs": [
    {
     "data": {
      "text/plain": [
       "[Synset('car.n.01'),\n",
       " Synset('car.n.02'),\n",
       " Synset('car.n.03'),\n",
       " Synset('car.n.04'),\n",
       " Synset('cable_car.n.01')]"
      ]
     },
     "execution_count": 57,
     "metadata": {},
     "output_type": "execute_result"
    }
   ],
   "source": [
    "wn.synsets('car')"
   ]
  },
  {
   "cell_type": "code",
   "execution_count": 58,
   "metadata": {
    "collapsed": false
   },
   "outputs": [
    {
     "name": "stdout",
     "output_type": "stream",
     "text": [
      "[u'car', u'auto', u'automobile', u'machine', u'motorcar']\n",
      "[u'car', u'railcar', u'railway_car', u'railroad_car']\n",
      "[u'car', u'gondola']\n",
      "[u'car', u'elevator_car']\n",
      "[u'cable_car', u'car']\n"
     ]
    }
   ],
   "source": [
    "for synset in wn.synsets('car'):\n",
    "    print synset.lemma_names()"
   ]
  },
  {
   "cell_type": "markdown",
   "metadata": {},
   "source": [
    "访问所有包含词car的lemmas："
   ]
  },
  {
   "cell_type": "code",
   "execution_count": 59,
   "metadata": {
    "collapsed": false
   },
   "outputs": [
    {
     "data": {
      "text/plain": [
       "[Lemma('car.n.01.car'),\n",
       " Lemma('car.n.02.car'),\n",
       " Lemma('car.n.03.car'),\n",
       " Lemma('car.n.04.car'),\n",
       " Lemma('cable_car.n.01.car')]"
      ]
     },
     "execution_count": 59,
     "metadata": {},
     "output_type": "execute_result"
    }
   ],
   "source": [
    "wn.lemmas('car')"
   ]
  },
  {
   "cell_type": "markdown",
   "metadata": {},
   "source": [
    "### WordNet的层次结构\n",
    "一些概念综合性很强，如实体、状态、事件：这些被称为`unique beginners`。\n",
    "\n",
    "![2-8](https://www.safaribooksonline.com/library/view/natural-language-processing/9780596803346/httpatomoreillycomsourceoreillyimages302030.png)\n",
    "\n",
    "Figure 2-8. Fragment of WordNet concept hierarchy: Nodes correspond to synsets; edges indicate the hypernym/hyponym relation, i.e., the relation between superordinate and subordinate concepts.\n",
    "\n",
    "WordNet使我们能容易驾驭各种概念。例如：motorcar，可以看到更加具体（直接）的概念——`hyponyms`。"
   ]
  },
  {
   "cell_type": "code",
   "execution_count": 60,
   "metadata": {
    "collapsed": false
   },
   "outputs": [
    {
     "data": {
      "text/plain": [
       "Synset('stanley_steamer.n.01')"
      ]
     },
     "execution_count": 60,
     "metadata": {},
     "output_type": "execute_result"
    }
   ],
   "source": [
    "motorcar = wn.synset('car.n.01')\n",
    "types_of_motorcar = motorcar.hyponyms()\n",
    "types_of_motorcar[26]"
   ]
  },
  {
   "cell_type": "code",
   "execution_count": 63,
   "metadata": {
    "collapsed": false
   },
   "outputs": [
    {
     "data": {
      "text/plain": [
       "[u'Model_T',\n",
       " u'S.U.V.',\n",
       " u'SUV',\n",
       " u'Stanley_Steamer',\n",
       " u'ambulance',\n",
       " u'beach_waggon',\n",
       " u'beach_wagon',\n",
       " u'bus',\n",
       " u'cab',\n",
       " u'compact',\n",
       " u'compact_car',\n",
       " u'convertible',\n",
       " u'coupe',\n",
       " u'cruiser',\n",
       " u'electric',\n",
       " u'electric_automobile',\n",
       " u'electric_car',\n",
       " u'estate_car',\n",
       " u'gas_guzzler',\n",
       " u'hack',\n",
       " u'hardtop',\n",
       " u'hatchback',\n",
       " u'heap',\n",
       " u'horseless_carriage',\n",
       " u'hot-rod',\n",
       " u'hot_rod',\n",
       " u'jalopy',\n",
       " u'jeep',\n",
       " u'landrover',\n",
       " u'limo',\n",
       " u'limousine',\n",
       " u'loaner',\n",
       " u'minicar',\n",
       " u'minivan',\n",
       " u'pace_car',\n",
       " u'patrol_car',\n",
       " u'phaeton',\n",
       " u'police_car',\n",
       " u'police_cruiser',\n",
       " u'prowl_car',\n",
       " u'race_car',\n",
       " u'racer',\n",
       " u'racing_car',\n",
       " u'roadster',\n",
       " u'runabout',\n",
       " u'saloon',\n",
       " u'secondhand_car',\n",
       " u'sedan',\n",
       " u'sport_car',\n",
       " u'sport_utility',\n",
       " u'sport_utility_vehicle',\n",
       " u'sports_car',\n",
       " u'squad_car',\n",
       " u'station_waggon',\n",
       " u'station_wagon',\n",
       " u'stock_car',\n",
       " u'subcompact',\n",
       " u'subcompact_car',\n",
       " u'taxi',\n",
       " u'taxicab',\n",
       " u'tourer',\n",
       " u'touring_car',\n",
       " u'two-seater',\n",
       " u'used-car',\n",
       " u'waggon',\n",
       " u'wagon']"
      ]
     },
     "execution_count": 63,
     "metadata": {},
     "output_type": "execute_result"
    }
   ],
   "source": [
    "sorted([lemma.name() for synset in types_of_motorcar for lemma in synset.lemmas()])"
   ]
  },
  {
   "cell_type": "markdown",
   "metadata": {},
   "source": [
    "通过访问`hypernyms`来操纵层次结构。"
   ]
  },
  {
   "cell_type": "code",
   "execution_count": 64,
   "metadata": {
    "collapsed": false
   },
   "outputs": [
    {
     "data": {
      "text/plain": [
       "[Synset('motor_vehicle.n.01')]"
      ]
     },
     "execution_count": 64,
     "metadata": {},
     "output_type": "execute_result"
    }
   ],
   "source": [
    "motorcar.hypernyms()"
   ]
  },
  {
   "cell_type": "code",
   "execution_count": 65,
   "metadata": {
    "collapsed": false
   },
   "outputs": [
    {
     "data": {
      "text/plain": [
       "2"
      ]
     },
     "execution_count": 65,
     "metadata": {},
     "output_type": "execute_result"
    }
   ],
   "source": [
    "paths = motorcar.hypernym_paths()\n",
    "len(paths)"
   ]
  },
  {
   "cell_type": "code",
   "execution_count": 67,
   "metadata": {
    "collapsed": false
   },
   "outputs": [
    {
     "data": {
      "text/plain": [
       "[u'entity.n.01',\n",
       " u'physical_entity.n.01',\n",
       " u'object.n.01',\n",
       " u'whole.n.02',\n",
       " u'artifact.n.01',\n",
       " u'instrumentality.n.03',\n",
       " u'container.n.01',\n",
       " u'wheeled_vehicle.n.01',\n",
       " u'self-propelled_vehicle.n.01',\n",
       " u'motor_vehicle.n.01',\n",
       " u'car.n.01']"
      ]
     },
     "execution_count": 67,
     "metadata": {},
     "output_type": "execute_result"
    }
   ],
   "source": [
    "[synset.name() for synset in paths[0]]"
   ]
  },
  {
   "cell_type": "code",
   "execution_count": 68,
   "metadata": {
    "collapsed": false
   },
   "outputs": [
    {
     "data": {
      "text/plain": [
       "[u'entity.n.01',\n",
       " u'physical_entity.n.01',\n",
       " u'object.n.01',\n",
       " u'whole.n.02',\n",
       " u'artifact.n.01',\n",
       " u'instrumentality.n.03',\n",
       " u'conveyance.n.03',\n",
       " u'vehicle.n.01',\n",
       " u'wheeled_vehicle.n.01',\n",
       " u'self-propelled_vehicle.n.01',\n",
       " u'motor_vehicle.n.01',\n",
       " u'car.n.01']"
      ]
     },
     "execution_count": 68,
     "metadata": {},
     "output_type": "execute_result"
    }
   ],
   "source": [
    "[synset.name() for synset in paths[1]]"
   ]
  },
  {
   "cell_type": "markdown",
   "metadata": {},
   "source": [
    "得到一个最笼统的`hypernyms`同义词集。"
   ]
  },
  {
   "cell_type": "code",
   "execution_count": 69,
   "metadata": {
    "collapsed": false
   },
   "outputs": [
    {
     "data": {
      "text/plain": [
       "[Synset('entity.n.01')]"
      ]
     },
     "execution_count": 69,
     "metadata": {},
     "output_type": "execute_result"
    }
   ],
   "source": [
    "motorcar.root_hypernyms()"
   ]
  },
  {
   "cell_type": "markdown",
   "metadata": {},
   "source": [
    "### 更多的词汇关系\n",
    "`Hypernyms` 和 `hyponyms` 被称为词汇关系(`lexical relations`)。这两者的关系为上下定位“is-a”层次。一棵树可以分成树干、树冠等部分，这些都是`part_meronyms()`。一棵树的实质是由心材和边材组成的，即`substance_meronyms()`。树木的集合形成了一个森林，即`member_holonyms()`。"
   ]
  },
  {
   "cell_type": "code",
   "execution_count": 70,
   "metadata": {
    "collapsed": false
   },
   "outputs": [
    {
     "data": {
      "text/plain": [
       "[Synset('burl.n.02'),\n",
       " Synset('crown.n.07'),\n",
       " Synset('limb.n.02'),\n",
       " Synset('stump.n.01'),\n",
       " Synset('trunk.n.01')]"
      ]
     },
     "execution_count": 70,
     "metadata": {},
     "output_type": "execute_result"
    }
   ],
   "source": [
    "wn.synset('tree.n.01').part_meronyms()"
   ]
  },
  {
   "cell_type": "code",
   "execution_count": 71,
   "metadata": {
    "collapsed": false
   },
   "outputs": [
    {
     "data": {
      "text/plain": [
       "[Synset('heartwood.n.01'), Synset('sapwood.n.01')]"
      ]
     },
     "execution_count": 71,
     "metadata": {},
     "output_type": "execute_result"
    }
   ],
   "source": [
    "wn.synset('tree.n.01').substance_meronyms()"
   ]
  },
  {
   "cell_type": "code",
   "execution_count": 72,
   "metadata": {
    "collapsed": false
   },
   "outputs": [
    {
     "data": {
      "text/plain": [
       "[Synset('forest.n.01')]"
      ]
     },
     "execution_count": 72,
     "metadata": {},
     "output_type": "execute_result"
    }
   ],
   "source": [
    "wn.synset('tree.n.01').member_holonyms()"
   ]
  },
  {
   "cell_type": "markdown",
   "metadata": {},
   "source": [
    "mint.n.04是mint.n.02的一部分，同时也是组成mint.n.05的材料。"
   ]
  },
  {
   "cell_type": "code",
   "execution_count": 74,
   "metadata": {
    "collapsed": false
   },
   "outputs": [
    {
     "name": "stdout",
     "output_type": "stream",
     "text": [
      "batch.n.02: (often followed by `of') a large number or amount or extent\n",
      "mint.n.02: any north temperate plant of the genus Mentha with aromatic leaves and small mauve flowers\n",
      "mint.n.03: any member of the mint family of plants\n",
      "mint.n.04: the leaves of a mint plant used fresh or candied\n",
      "mint.n.05: a candy that is flavored with a mint oil\n",
      "mint.n.06: a plant where money is coined by authority of the government\n"
     ]
    }
   ],
   "source": [
    "for synset in wn.synsets('mint', wn.NOUN):\n",
    "    print synset.name() + ':', synset.definition()"
   ]
  },
  {
   "cell_type": "code",
   "execution_count": 75,
   "metadata": {
    "collapsed": false
   },
   "outputs": [
    {
     "data": {
      "text/plain": [
       "[Synset('mint.n.02')]"
      ]
     },
     "execution_count": 75,
     "metadata": {},
     "output_type": "execute_result"
    }
   ],
   "source": [
    "wn.synset('mint.n.04').part_holonyms()"
   ]
  },
  {
   "cell_type": "code",
   "execution_count": 76,
   "metadata": {
    "collapsed": false
   },
   "outputs": [
    {
     "data": {
      "text/plain": [
       "[Synset('mint.n.05')]"
      ]
     },
     "execution_count": 76,
     "metadata": {},
     "output_type": "execute_result"
    }
   ],
   "source": [
    "wn.synset('mint.n.04').substance_holonyms()"
   ]
  },
  {
   "cell_type": "markdown",
   "metadata": {},
   "source": [
    "走路蕴含(`entails`)着抬脚。"
   ]
  },
  {
   "cell_type": "code",
   "execution_count": 77,
   "metadata": {
    "collapsed": false
   },
   "outputs": [
    {
     "data": {
      "text/plain": [
       "[Synset('step.v.01')]"
      ]
     },
     "execution_count": 77,
     "metadata": {},
     "output_type": "execute_result"
    }
   ],
   "source": [
    "wn.synset('walk.v.01').entailments()"
   ]
  },
  {
   "cell_type": "code",
   "execution_count": 78,
   "metadata": {
    "collapsed": false
   },
   "outputs": [
    {
     "data": {
      "text/plain": [
       "[Synset('chew.v.01'), Synset('swallow.v.01')]"
      ]
     },
     "execution_count": 78,
     "metadata": {},
     "output_type": "execute_result"
    }
   ],
   "source": [
    "wn.synset('eat.v.01').entailments()"
   ]
  },
  {
   "cell_type": "code",
   "execution_count": 79,
   "metadata": {
    "collapsed": false
   },
   "outputs": [
    {
     "data": {
      "text/plain": [
       "[Synset('arouse.v.07'), Synset('disappoint.v.01')]"
      ]
     },
     "execution_count": 79,
     "metadata": {},
     "output_type": "execute_result"
    }
   ],
   "source": [
    "wn.synset('tease.v.03').entailments()"
   ]
  },
  {
   "cell_type": "markdown",
   "metadata": {},
   "source": [
    "词条之间反义词(`antonymy`)关系。"
   ]
  },
  {
   "cell_type": "code",
   "execution_count": 80,
   "metadata": {
    "collapsed": false
   },
   "outputs": [
    {
     "data": {
      "text/plain": [
       "[Lemma('demand.n.02.demand')]"
      ]
     },
     "execution_count": 80,
     "metadata": {},
     "output_type": "execute_result"
    }
   ],
   "source": [
    "wn.lemma('supply.n.02.supply').antonyms()"
   ]
  },
  {
   "cell_type": "code",
   "execution_count": 81,
   "metadata": {
    "collapsed": false
   },
   "outputs": [
    {
     "data": {
      "text/plain": [
       "[Lemma('linger.v.04.linger')]"
      ]
     },
     "execution_count": 81,
     "metadata": {},
     "output_type": "execute_result"
    }
   ],
   "source": [
    "wn.lemma('rush.v.01.rush').antonyms()"
   ]
  },
  {
   "cell_type": "code",
   "execution_count": 82,
   "metadata": {
    "collapsed": false
   },
   "outputs": [
    {
     "data": {
      "text/plain": [
       "[Lemma('inclined.a.02.inclined'), Lemma('vertical.a.01.vertical')]"
      ]
     },
     "execution_count": 82,
     "metadata": {},
     "output_type": "execute_result"
    }
   ],
   "source": [
    "wn.lemma('horizontal.a.01.horizontal').antonyms()"
   ]
  },
  {
   "cell_type": "code",
   "execution_count": 83,
   "metadata": {
    "collapsed": false
   },
   "outputs": [
    {
     "data": {
      "text/plain": [
       "[Lemma('legato.r.01.legato')]"
      ]
     },
     "execution_count": 83,
     "metadata": {},
     "output_type": "execute_result"
    }
   ],
   "source": [
    "wn.lemma('staccato.r.01.staccato').antonyms()"
   ]
  },
  {
   "cell_type": "markdown",
   "metadata": {},
   "source": [
    "### 语义相似度\n",
    "如果两个同义词集共用一个特定的`hypernym`——在hypernym层次结构中处于较低层——它们一定有密切的联系。"
   ]
  },
  {
   "cell_type": "code",
   "execution_count": 84,
   "metadata": {
    "collapsed": false
   },
   "outputs": [
    {
     "data": {
      "text/plain": [
       "[Synset('baleen_whale.n.01')]"
      ]
     },
     "execution_count": 84,
     "metadata": {},
     "output_type": "execute_result"
    }
   ],
   "source": [
    "right = wn.synset('right_whale.n.01')\n",
    "orca = wn.synset('orca.n.01')\n",
    "minke = wn.synset('minke_whale.n.01')\n",
    "tortoise = wn.synset('tortoise.n.01')\n",
    "novel = wn.synset('novel.n.01')\n",
    "right.lowest_common_hypernyms(minke)"
   ]
  },
  {
   "cell_type": "code",
   "execution_count": 85,
   "metadata": {
    "collapsed": false
   },
   "outputs": [
    {
     "data": {
      "text/plain": [
       "[Synset('whale.n.02')]"
      ]
     },
     "execution_count": 85,
     "metadata": {},
     "output_type": "execute_result"
    }
   ],
   "source": [
    "right.lowest_common_hypernyms(orca)"
   ]
  },
  {
   "cell_type": "code",
   "execution_count": 86,
   "metadata": {
    "collapsed": false
   },
   "outputs": [
    {
     "data": {
      "text/plain": [
       "[Synset('vertebrate.n.01')]"
      ]
     },
     "execution_count": 86,
     "metadata": {},
     "output_type": "execute_result"
    }
   ],
   "source": [
    "right.lowest_common_hypernyms(tortoise)"
   ]
  },
  {
   "cell_type": "code",
   "execution_count": 87,
   "metadata": {
    "collapsed": false
   },
   "outputs": [
    {
     "data": {
      "text/plain": [
       "[Synset('entity.n.01')]"
      ]
     },
     "execution_count": 87,
     "metadata": {},
     "output_type": "execute_result"
    }
   ],
   "source": [
    "right.lowest_common_hypernyms(novel)"
   ]
  },
  {
   "cell_type": "markdown",
   "metadata": {},
   "source": [
    "鲸鱼是非常具体的（须鲸更是如此），脊椎动物是更具一般化，而实体完全是抽象的。可以通过查找每个同义词集的深度来量化这个普遍性概念。"
   ]
  },
  {
   "cell_type": "code",
   "execution_count": 88,
   "metadata": {
    "collapsed": false
   },
   "outputs": [
    {
     "data": {
      "text/plain": [
       "14"
      ]
     },
     "execution_count": 88,
     "metadata": {},
     "output_type": "execute_result"
    }
   ],
   "source": [
    "wn.synset('baleen_whale.n.01').min_depth()"
   ]
  },
  {
   "cell_type": "code",
   "execution_count": 89,
   "metadata": {
    "collapsed": false
   },
   "outputs": [
    {
     "data": {
      "text/plain": [
       "13"
      ]
     },
     "execution_count": 89,
     "metadata": {},
     "output_type": "execute_result"
    }
   ],
   "source": [
    "wn.synset('whale.n.02').min_depth()"
   ]
  },
  {
   "cell_type": "code",
   "execution_count": 90,
   "metadata": {
    "collapsed": false
   },
   "outputs": [
    {
     "data": {
      "text/plain": [
       "8"
      ]
     },
     "execution_count": 90,
     "metadata": {},
     "output_type": "execute_result"
    }
   ],
   "source": [
    "wn.synset('vertebrate.n.01').min_depth()"
   ]
  },
  {
   "cell_type": "code",
   "execution_count": 91,
   "metadata": {
    "collapsed": false
   },
   "outputs": [
    {
     "data": {
      "text/plain": [
       "0"
      ]
     },
     "execution_count": 91,
     "metadata": {},
     "output_type": "execute_result"
    }
   ],
   "source": [
    "wn.synset('entity.n.01').min_depth()"
   ]
  },
  {
   "cell_type": "markdown",
   "metadata": {},
   "source": [
    "path_similarity基于`hypernym`层次结构概念中相互关联的最短路径下，在0~1范围内的相似度（两者之间没有路径返回-1）。同义词集与自身比较将返回1。"
   ]
  },
  {
   "cell_type": "code",
   "execution_count": 92,
   "metadata": {
    "collapsed": false
   },
   "outputs": [
    {
     "data": {
      "text/plain": [
       "0.25"
      ]
     },
     "execution_count": 92,
     "metadata": {},
     "output_type": "execute_result"
    }
   ],
   "source": [
    "right.path_similarity(minke)"
   ]
  },
  {
   "cell_type": "code",
   "execution_count": 93,
   "metadata": {
    "collapsed": false
   },
   "outputs": [
    {
     "data": {
      "text/plain": [
       "0.16666666666666666"
      ]
     },
     "execution_count": 93,
     "metadata": {},
     "output_type": "execute_result"
    }
   ],
   "source": [
    "right.path_similarity(orca)"
   ]
  },
  {
   "cell_type": "code",
   "execution_count": 94,
   "metadata": {
    "collapsed": false
   },
   "outputs": [
    {
     "data": {
      "text/plain": [
       "0.07692307692307693"
      ]
     },
     "execution_count": 94,
     "metadata": {},
     "output_type": "execute_result"
    }
   ],
   "source": [
    "right.path_similarity(tortoise)"
   ]
  },
  {
   "cell_type": "code",
   "execution_count": 95,
   "metadata": {
    "collapsed": false
   },
   "outputs": [
    {
     "data": {
      "text/plain": [
       "0.043478260869565216"
      ]
     },
     "execution_count": 95,
     "metadata": {},
     "output_type": "execute_result"
    }
   ],
   "source": [
    "right.path_similarity(novel)"
   ]
  },
  {
   "cell_type": "code",
   "execution_count": null,
   "metadata": {
    "collapsed": true
   },
   "outputs": [],
   "source": []
  }
 ],
 "metadata": {
  "kernelspec": {
   "display_name": "Python [Root]",
   "language": "python",
   "name": "Python [Root]"
  },
  "language_info": {
   "codemirror_mode": {
    "name": "ipython",
    "version": 2
   },
   "file_extension": ".py",
   "mimetype": "text/x-python",
   "name": "python",
   "nbconvert_exporter": "python",
   "pygments_lexer": "ipython2",
   "version": "2.7.12"
  }
 },
 "nbformat": 4,
 "nbformat_minor": 0
}
