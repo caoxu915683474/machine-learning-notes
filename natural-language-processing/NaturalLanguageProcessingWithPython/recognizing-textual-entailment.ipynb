{
 "cells": [
  {
   "cell_type": "markdown",
   "metadata": {},
   "source": [
    "# 识别文字蕴含\n",
    "识别文字蕴含（`Recognizing textual entailment`,RTE）是判断文本T内的一个给定片段是否继承着另一个叫做“假设”的文本，下面是挑战赛3开发数据集中的文本/假设对的两个例子。标签True表示保留蕴含，False表示没保留蕴含。\n",
    "\n",
    "```\n",
    "Challenge 3, Pair 34 (True)\n",
    "\n",
    "T: Parviz Davudi was representing Iran at a meeting of the Shanghai Co-operation Organisation (SCO), the fledgling association that binds Russia, China and four former Soviet republics of central Asia together to fight terrorism.\n",
    "\n",
    "H: China is a member of SCO.\n",
    "\n",
    "Challenge 3, Pair 81 (False)\n",
    "\n",
    "T: According to NC Articles of Organization, the members of LLC company are H. Nelson Beavers, III, H. Chester Beavers and Jennie Beavers Stewart.\n",
    "\n",
    "H: Jennie Beavers Stewart is a share-holder of Carolina Analytical Laboratory.\n",
    "```\n",
    "\n",
    "文字和假设之间的关系并不一定是逻辑蕴涵，而是人们是否会得出结论：文本提供的合理证明假设是真实的。\n",
    "\n",
    "在下面RTE特征探测器中，我们让词（即词类型）作为信息的代理，计数词重叠的程度和假设中有而文本中没有的词的程度（由hyp_extra()方法获取）。不是所有的词都是同样重要的——提到的命名实体，如人、组织和地点的名词，可能会更为重要，这促使我们分别为words和nes（命名实体）提取不同的信息。此外，一些高频虚词作为“停用词”被过滤掉。\n",
    "\n",
    "“认识文字蕴含”的特征提取器。RTEFeatureExtractor类建立了一个在文本和假设中都有的并已经除去了一些停用词后的词汇包，然后计算重叠性和差异性。"
   ]
  },
  {
   "cell_type": "code",
   "execution_count": 1,
   "metadata": {
    "collapsed": true
   },
   "outputs": [],
   "source": [
    "def rte_features(rtepair):\n",
    "    extractor = nltk.RTEFeatureExtractor(rtepair)\n",
    "    features = {}\n",
    "    features['word_overlap'] = len(extractor.overlap('word'))\n",
    "    features['word_hyp_extra'] = len(extractor.hyp_extra('word'))\n",
    "    features['ne_overlap'] = len(extractor.overlap('ne'))\n",
    "    features['ne_hyp_extra'] = len(extractor.hyp_extra('ne'))\n",
    "    return features"
   ]
  },
  {
   "cell_type": "markdown",
   "metadata": {},
   "source": [
    "检查前面显示的文本/假设对34的一些属性。\n",
    "\n",
    "```py\n",
    ">>> rtepair = nltk.corpus.rte.pairs(['rte3_dev.xml'])[33]\n",
    ">>> extractor = nltk.RTEFeatureExtractor(rtepair)\n",
    ">>> print extractor.text_words\n",
    "set(['Russia', 'Organisation', 'Shanghai', 'Asia', 'four', 'at',\n",
    "'operation', 'SCO', ...])\n",
    ">>> print extractor.hyp_words\n",
    "set(['member', 'SCO', 'China'])\n",
    ">>> print extractor.overlap('word')\n",
    "set([])\n",
    ">>> print extractor.overlap('ne')\n",
    "set(['SCO', 'China'])\n",
    ">>> print extractor.hyp_extra('word')\n",
    "set(['member'])\n",
    "```"
   ]
  },
  {
   "cell_type": "code",
   "execution_count": null,
   "metadata": {
    "collapsed": true
   },
   "outputs": [],
   "source": []
  }
 ],
 "metadata": {
  "kernelspec": {
   "display_name": "Python [Root]",
   "language": "python",
   "name": "Python [Root]"
  },
  "language_info": {
   "codemirror_mode": {
    "name": "ipython",
    "version": 2
   },
   "file_extension": ".py",
   "mimetype": "text/x-python",
   "name": "python",
   "nbconvert_exporter": "python",
   "pygments_lexer": "ipython2",
   "version": "2.7.12"
  }
 },
 "nbformat": 4,
 "nbformat_minor": 0
}
