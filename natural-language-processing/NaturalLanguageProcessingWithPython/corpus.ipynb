{
 "cells": [
  {
   "cell_type": "markdown",
   "metadata": {},
   "source": [
    "## 获取文本语料库\n",
    "### 古腾堡语料库\n",
    "代表既定的文学。\n",
    "\n",
    "这个语料库中的文件标识符。"
   ]
  },
  {
   "cell_type": "code",
   "execution_count": 1,
   "metadata": {
    "collapsed": false
   },
   "outputs": [
    {
     "data": {
      "text/plain": [
       "[u'austen-emma.txt',\n",
       " u'austen-persuasion.txt',\n",
       " u'austen-sense.txt',\n",
       " u'bible-kjv.txt',\n",
       " u'blake-poems.txt',\n",
       " u'bryant-stories.txt',\n",
       " u'burgess-busterbrown.txt',\n",
       " u'carroll-alice.txt',\n",
       " u'chesterton-ball.txt',\n",
       " u'chesterton-brown.txt',\n",
       " u'chesterton-thursday.txt',\n",
       " u'edgeworth-parents.txt',\n",
       " u'melville-moby_dick.txt',\n",
       " u'milton-paradise.txt',\n",
       " u'shakespeare-caesar.txt',\n",
       " u'shakespeare-hamlet.txt',\n",
       " u'shakespeare-macbeth.txt',\n",
       " u'whitman-leaves.txt']"
      ]
     },
     "execution_count": 1,
     "metadata": {},
     "output_type": "execute_result"
    }
   ],
   "source": [
    "%matplotlib inline\n",
    "import nltk\n",
    "from nltk.corpus import gutenberg\n",
    "gutenberg.fileids()"
   ]
  },
  {
   "cell_type": "markdown",
   "metadata": {},
   "source": [
    "找出emma包含多少个词。"
   ]
  },
  {
   "cell_type": "code",
   "execution_count": 9,
   "metadata": {
    "collapsed": false
   },
   "outputs": [
    {
     "data": {
      "text/plain": [
       "192427"
      ]
     },
     "execution_count": 9,
     "metadata": {},
     "output_type": "execute_result"
    }
   ],
   "source": [
    "emma = gutenberg.words('austen-emma.txt')\n",
    "len(emma)"
   ]
  },
  {
   "cell_type": "markdown",
   "metadata": {},
   "source": [
    "统计每个文本的3个统计量：平均词长、平均句子长度和文本中每个词出现的平均次数（词汇多样性得分）。"
   ]
  },
  {
   "cell_type": "code",
   "execution_count": 10,
   "metadata": {
    "collapsed": false
   },
   "outputs": [
    {
     "name": "stdout",
     "output_type": "stream",
     "text": [
      "4 24 26 austen-emma.txt\n",
      "4 26 16 austen-persuasion.txt\n",
      "4 28 22 austen-sense.txt\n",
      "4 33 79 bible-kjv.txt\n",
      "4 19 5 blake-poems.txt\n",
      "4 19 14 bryant-stories.txt\n",
      "4 17 12 burgess-busterbrown.txt\n",
      "4 20 12 carroll-alice.txt\n",
      "4 20 11 chesterton-ball.txt\n",
      "4 22 11 chesterton-brown.txt\n",
      "4 18 10 chesterton-thursday.txt\n",
      "4 20 24 edgeworth-parents.txt\n",
      "4 25 15 melville-moby_dick.txt\n",
      "4 52 10 milton-paradise.txt\n",
      "4 11 8 shakespeare-caesar.txt\n",
      "4 12 7 shakespeare-hamlet.txt\n",
      "4 12 6 shakespeare-macbeth.txt\n",
      "4 36 12 whitman-leaves.txt\n"
     ]
    }
   ],
   "source": [
    "for fileid in gutenberg.fileids():\n",
    "    num_chars = len(gutenberg.raw(fileid))\n",
    "    num_words = len(gutenberg.words(fileid))\n",
    "    num_sents = len(gutenberg.sents(fileid))\n",
    "    num_vocab = len(set([w.lower() for w in gutenberg.words(fileid)]))\n",
    "    print int(num_chars/num_words), int(num_words/num_sents), int(num_words/num_vocab), fileid"
   ]
  },
  {
   "cell_type": "markdown",
   "metadata": {},
   "source": [
    "sents()函数把文本划分成句子，其中每一个句子是一个词链表。"
   ]
  },
  {
   "cell_type": "code",
   "execution_count": 11,
   "metadata": {
    "collapsed": false
   },
   "outputs": [
    {
     "data": {
      "text/plain": [
       "[[u'[', u'The', u'Tragedie', u'of', u'Macbeth', u'by', u'William', u'Shakespeare', u'1603', u']'], [u'Actus', u'Primus', u'.'], ...]"
      ]
     },
     "execution_count": 11,
     "metadata": {},
     "output_type": "execute_result"
    }
   ],
   "source": [
    "macbeth_sentences = gutenberg.sents('shakespeare-macbeth.txt')\n",
    "macbeth_sentences"
   ]
  },
  {
   "cell_type": "code",
   "execution_count": 12,
   "metadata": {
    "collapsed": false
   },
   "outputs": [
    {
     "data": {
      "text/plain": [
       "[u'Good',\n",
       " u'night',\n",
       " u',',\n",
       " u'and',\n",
       " u'better',\n",
       " u'health',\n",
       " u'Attend',\n",
       " u'his',\n",
       " u'Maiesty']"
      ]
     },
     "execution_count": 12,
     "metadata": {},
     "output_type": "execute_result"
    }
   ],
   "source": [
    "macbeth_sentences[1037]"
   ]
  },
  {
   "cell_type": "code",
   "execution_count": 28,
   "metadata": {
    "collapsed": false
   },
   "outputs": [
    {
     "data": {
      "text/plain": [
       "158"
      ]
     },
     "execution_count": 28,
     "metadata": {},
     "output_type": "execute_result"
    }
   ],
   "source": [
    "longest_len = max([len(s) for s in macbeth_sentences])\n",
    "longest_len"
   ]
  },
  {
   "cell_type": "code",
   "execution_count": 31,
   "metadata": {
    "collapsed": false
   },
   "outputs": [
    {
     "data": {
      "text/plain": [
       "[u'Doubtfull',\n",
       " u'it',\n",
       " u'stood',\n",
       " u',',\n",
       " u'As',\n",
       " u'two',\n",
       " u'spent',\n",
       " u'Swimmers',\n",
       " u',',\n",
       " u'that']"
      ]
     },
     "execution_count": 31,
     "metadata": {},
     "output_type": "execute_result"
    }
   ],
   "source": [
    "[s for s in macbeth_sentences if len(s) == longest_len][0][:10]"
   ]
  },
  {
   "cell_type": "markdown",
   "metadata": {},
   "source": [
    "### 网络和聊天文本\n",
    "非正式的语言。"
   ]
  },
  {
   "cell_type": "code",
   "execution_count": 14,
   "metadata": {
    "collapsed": false
   },
   "outputs": [
    {
     "name": "stdout",
     "output_type": "stream",
     "text": [
      "firefox.txt Cookie Manager: \"Don't allow sites that set removed cookies to se ...\n",
      "grail.txt SCENE 1: [wind] [clop clop clop] \n",
      "KING ARTHUR: Whoa there!  [clop ...\n",
      "overheard.txt White guy: So, do you have any plans for this evening?\n",
      "Asian girl ...\n",
      "pirates.txt PIRATES OF THE CARRIBEAN: DEAD MAN'S CHEST, by Ted Elliott & Terr ...\n",
      "singles.txt 25 SEXY MALE, seeks attrac older single lady, for discreet encoun ...\n",
      "wine.txt Lovely delicate, fragrant Rhone wine. Polished leather and strawb ...\n"
     ]
    }
   ],
   "source": [
    "from nltk.corpus import webtext\n",
    "for fileid in webtext.fileids():\n",
    "    print fileid, webtext.raw(fileid)[:65], '...'"
   ]
  },
  {
   "cell_type": "markdown",
   "metadata": {},
   "source": [
    "即时消息聊天会话语料库："
   ]
  },
  {
   "cell_type": "code",
   "execution_count": 15,
   "metadata": {
    "collapsed": false
   },
   "outputs": [
    {
     "data": {
      "text/plain": [
       "[u'i',\n",
       " u'do',\n",
       " u\"n't\",\n",
       " u'want',\n",
       " u'hot',\n",
       " u'pics',\n",
       " u'of',\n",
       " u'a',\n",
       " u'female',\n",
       " u',',\n",
       " u'I',\n",
       " u'can',\n",
       " u'look',\n",
       " u'in',\n",
       " u'a',\n",
       " u'mirror',\n",
       " u'.']"
      ]
     },
     "execution_count": 15,
     "metadata": {},
     "output_type": "execute_result"
    }
   ],
   "source": [
    "from nltk.corpus import nps_chat\n",
    "chatroom = nps_chat.posts('10-19-20s_706posts.xml')\n",
    "chatroom[123]"
   ]
  },
  {
   "cell_type": "markdown",
   "metadata": {},
   "source": [
    "### 布朗语料库\n",
    "包含500个不同来源的文本，按照文体分类，如新闻、社论等。"
   ]
  },
  {
   "cell_type": "code",
   "execution_count": 16,
   "metadata": {
    "collapsed": false
   },
   "outputs": [
    {
     "data": {
      "text/plain": [
       "[u'adventure',\n",
       " u'belles_lettres',\n",
       " u'editorial',\n",
       " u'fiction',\n",
       " u'government',\n",
       " u'hobbies',\n",
       " u'humor',\n",
       " u'learned',\n",
       " u'lore',\n",
       " u'mystery',\n",
       " u'news',\n",
       " u'religion',\n",
       " u'reviews',\n",
       " u'romance',\n",
       " u'science_fiction']"
      ]
     },
     "execution_count": 16,
     "metadata": {},
     "output_type": "execute_result"
    }
   ],
   "source": [
    "from nltk.corpus import brown\n",
    "brown.categories()"
   ]
  },
  {
   "cell_type": "code",
   "execution_count": 17,
   "metadata": {
    "collapsed": false
   },
   "outputs": [
    {
     "data": {
      "text/plain": [
       "[u'The', u'Fulton', u'County', u'Grand', u'Jury', ...]"
      ]
     },
     "execution_count": 17,
     "metadata": {},
     "output_type": "execute_result"
    }
   ],
   "source": [
    "brown.words(categories='news')"
   ]
  },
  {
   "cell_type": "code",
   "execution_count": 18,
   "metadata": {
    "collapsed": false
   },
   "outputs": [
    {
     "data": {
      "text/plain": [
       "[u'Does', u'our', u'society', u'have', u'a', ...]"
      ]
     },
     "execution_count": 18,
     "metadata": {},
     "output_type": "execute_result"
    }
   ],
   "source": [
    "brown.words(fileids=['cg22'])"
   ]
  },
  {
   "cell_type": "code",
   "execution_count": 19,
   "metadata": {
    "collapsed": false
   },
   "outputs": [
    {
     "data": {
      "text/plain": [
       "[[u'The', u'Fulton', u'County', u'Grand', u'Jury', u'said', u'Friday', u'an', u'investigation', u'of', u\"Atlanta's\", u'recent', u'primary', u'election', u'produced', u'``', u'no', u'evidence', u\"''\", u'that', u'any', u'irregularities', u'took', u'place', u'.'], [u'The', u'jury', u'further', u'said', u'in', u'term-end', u'presentments', u'that', u'the', u'City', u'Executive', u'Committee', u',', u'which', u'had', u'over-all', u'charge', u'of', u'the', u'election', u',', u'``', u'deserves', u'the', u'praise', u'and', u'thanks', u'of', u'the', u'City', u'of', u'Atlanta', u\"''\", u'for', u'the', u'manner', u'in', u'which', u'the', u'election', u'was', u'conducted', u'.'], ...]"
      ]
     },
     "execution_count": 19,
     "metadata": {},
     "output_type": "execute_result"
    }
   ],
   "source": [
    "brown.sents(categories=['news', 'editorial', 'reviews'])"
   ]
  },
  {
   "cell_type": "markdown",
   "metadata": {},
   "source": [
    "布朗语料库是一个研究文体之间的系统性差异（又叫做`stylistics`文体学的语言学研究）的资源。第一步：对特定文体进行计数。"
   ]
  },
  {
   "cell_type": "code",
   "execution_count": 20,
   "metadata": {
    "collapsed": false
   },
   "outputs": [
    {
     "name": "stdout",
     "output_type": "stream",
     "text": [
      "can: 94 could: 87 may: 93 might: 38 must: 53 will: 389\n"
     ]
    }
   ],
   "source": [
    "from nltk.corpus import brown\n",
    "news_text = brown.words(categories='news')\n",
    "fdist = nltk.FreqDist([w.lower() for w in news_text])\n",
    "modals = ['can', 'could', 'may', 'might', 'must', 'will']\n",
    "for m in modals:\n",
    "    print m + ':', fdist[m],"
   ]
  },
  {
   "cell_type": "markdown",
   "metadata": {},
   "source": [
    "统计每一个感兴趣的文体。"
   ]
  },
  {
   "cell_type": "code",
   "execution_count": 21,
   "metadata": {
    "collapsed": false
   },
   "outputs": [
    {
     "name": "stdout",
     "output_type": "stream",
     "text": [
      "                  can could   may might  must  will \n",
      "           news    93    86    66    38    50   389 \n",
      "       religion    82    59    78    12    54    71 \n",
      "        hobbies   268    58   131    22    83   264 \n",
      "science_fiction    16    49     4    12     8    16 \n",
      "        romance    74   193    11    51    45    43 \n",
      "          humor    16    30     8     8     9    13 \n"
     ]
    }
   ],
   "source": [
    "cfd = nltk.ConditionalFreqDist(\n",
    "    (genre, word)\n",
    "    for genre in brown.categories()\n",
    "    for word in brown.words(categories=genre))\n",
    "genres = ['news', 'religion', 'hobbies', 'science_fiction', 'romance', 'humor']\n",
    "modals = ['can', 'could', 'may', 'might', 'must', 'will']\n",
    "cfd.tabulate(conditions=genres, samples=modals)"
   ]
  },
  {
   "cell_type": "markdown",
   "metadata": {},
   "source": [
    "观察发现新闻文体中最常见的情态动词是will，而言情文体中最常见的情态动词是could。\n",
    "\n",
    "### 路透社语料库\n",
    "路透社语料库包含10788个新闻文档，共计130万字。这些文档分成90个主题，按照“训练”和“测试”分为两组。"
   ]
  },
  {
   "cell_type": "code",
   "execution_count": 23,
   "metadata": {
    "collapsed": false
   },
   "outputs": [
    {
     "data": {
      "text/plain": [
       "['test/14826',\n",
       " 'test/14828',\n",
       " 'test/14829',\n",
       " 'test/14832',\n",
       " 'test/14833',\n",
       " 'test/14839',\n",
       " 'test/14840',\n",
       " 'test/14841',\n",
       " 'test/14842',\n",
       " 'test/14843']"
      ]
     },
     "execution_count": 23,
     "metadata": {},
     "output_type": "execute_result"
    }
   ],
   "source": [
    "from nltk.corpus import reuters\n",
    "reuters.fileids()[:10]"
   ]
  },
  {
   "cell_type": "code",
   "execution_count": 32,
   "metadata": {
    "collapsed": false
   },
   "outputs": [
    {
     "data": {
      "text/plain": [
       "[u'acq',\n",
       " u'alum',\n",
       " u'barley',\n",
       " u'bop',\n",
       " u'carcass',\n",
       " u'castor-oil',\n",
       " u'cocoa',\n",
       " u'coconut',\n",
       " u'coconut-oil',\n",
       " u'coffee',\n",
       " u'copper',\n",
       " u'copra-cake',\n",
       " u'corn',\n",
       " u'cotton',\n",
       " u'cotton-oil',\n",
       " u'cpi',\n",
       " u'cpu',\n",
       " u'crude',\n",
       " u'dfl',\n",
       " u'dlr',\n",
       " u'dmk',\n",
       " u'earn',\n",
       " u'fuel',\n",
       " u'gas',\n",
       " u'gnp',\n",
       " u'gold',\n",
       " u'grain',\n",
       " u'groundnut',\n",
       " u'groundnut-oil',\n",
       " u'heat',\n",
       " u'hog',\n",
       " u'housing',\n",
       " u'income',\n",
       " u'instal-debt',\n",
       " u'interest',\n",
       " u'ipi',\n",
       " u'iron-steel',\n",
       " u'jet',\n",
       " u'jobs',\n",
       " u'l-cattle',\n",
       " u'lead',\n",
       " u'lei',\n",
       " u'lin-oil',\n",
       " u'livestock',\n",
       " u'lumber',\n",
       " u'meal-feed',\n",
       " u'money-fx',\n",
       " u'money-supply',\n",
       " u'naphtha',\n",
       " u'nat-gas',\n",
       " u'nickel',\n",
       " u'nkr',\n",
       " u'nzdlr',\n",
       " u'oat',\n",
       " u'oilseed',\n",
       " u'orange',\n",
       " u'palladium',\n",
       " u'palm-oil',\n",
       " u'palmkernel',\n",
       " u'pet-chem',\n",
       " u'platinum',\n",
       " u'potato',\n",
       " u'propane',\n",
       " u'rand',\n",
       " u'rape-oil',\n",
       " u'rapeseed',\n",
       " u'reserves',\n",
       " u'retail',\n",
       " u'rice',\n",
       " u'rubber',\n",
       " u'rye',\n",
       " u'ship',\n",
       " u'silver',\n",
       " u'sorghum',\n",
       " u'soy-meal',\n",
       " u'soy-oil',\n",
       " u'soybean',\n",
       " u'strategic-metal',\n",
       " u'sugar',\n",
       " u'sun-meal',\n",
       " u'sun-oil',\n",
       " u'sunseed',\n",
       " u'tea',\n",
       " u'tin',\n",
       " u'trade',\n",
       " u'veg-oil',\n",
       " u'wheat',\n",
       " u'wpi',\n",
       " u'yen',\n",
       " u'zinc']"
      ]
     },
     "execution_count": 32,
     "metadata": {},
     "output_type": "execute_result"
    }
   ],
   "source": [
    "reuters.categories()"
   ]
  },
  {
   "cell_type": "markdown",
   "metadata": {},
   "source": [
    "与布朗语料库不同，路透社语料库的类别时候互相重叠的，因为新闻报道往往涉及多个主题。"
   ]
  },
  {
   "cell_type": "code",
   "execution_count": 33,
   "metadata": {
    "collapsed": false
   },
   "outputs": [
    {
     "data": {
      "text/plain": [
       "[u'barley', u'corn', u'grain', u'wheat']"
      ]
     },
     "execution_count": 33,
     "metadata": {},
     "output_type": "execute_result"
    }
   ],
   "source": [
    "reuters.categories('training/9865')"
   ]
  },
  {
   "cell_type": "code",
   "execution_count": 34,
   "metadata": {
    "collapsed": false
   },
   "outputs": [
    {
     "data": {
      "text/plain": [
       "[u'barley', u'corn', u'grain', u'money-fx', u'wheat']"
      ]
     },
     "execution_count": 34,
     "metadata": {},
     "output_type": "execute_result"
    }
   ],
   "source": [
    "reuters.categories(['training/9865', 'training/9880'])"
   ]
  },
  {
   "cell_type": "code",
   "execution_count": 35,
   "metadata": {
    "collapsed": false
   },
   "outputs": [
    {
     "data": {
      "text/plain": [
       "[u'test/15618',\n",
       " u'test/15649',\n",
       " u'test/15676',\n",
       " u'test/15728',\n",
       " u'test/15871',\n",
       " u'test/15875',\n",
       " u'test/15952',\n",
       " u'test/17767',\n",
       " u'test/17769',\n",
       " u'test/18024',\n",
       " u'test/18263',\n",
       " u'test/18908',\n",
       " u'test/19275',\n",
       " u'test/19668',\n",
       " u'training/10175',\n",
       " u'training/1067',\n",
       " u'training/11208',\n",
       " u'training/11316',\n",
       " u'training/11885',\n",
       " u'training/12428',\n",
       " u'training/13099',\n",
       " u'training/13744',\n",
       " u'training/13795',\n",
       " u'training/13852',\n",
       " u'training/13856',\n",
       " u'training/1652',\n",
       " u'training/1970',\n",
       " u'training/2044',\n",
       " u'training/2171',\n",
       " u'training/2172',\n",
       " u'training/2191',\n",
       " u'training/2217',\n",
       " u'training/2232',\n",
       " u'training/3132',\n",
       " u'training/3324',\n",
       " u'training/395',\n",
       " u'training/4280',\n",
       " u'training/4296',\n",
       " u'training/5',\n",
       " u'training/501',\n",
       " u'training/5467',\n",
       " u'training/5610',\n",
       " u'training/5640',\n",
       " u'training/6626',\n",
       " u'training/7205',\n",
       " u'training/7579',\n",
       " u'training/8213',\n",
       " u'training/8257',\n",
       " u'training/8759',\n",
       " u'training/9865',\n",
       " u'training/9958']"
      ]
     },
     "execution_count": 35,
     "metadata": {},
     "output_type": "execute_result"
    }
   ],
   "source": [
    "reuters.fileids('barley')"
   ]
  },
  {
   "cell_type": "code",
   "execution_count": 37,
   "metadata": {
    "collapsed": false
   },
   "outputs": [
    {
     "data": {
      "text/plain": [
       "[u'test/14832',\n",
       " u'test/14858',\n",
       " u'test/15033',\n",
       " u'test/15043',\n",
       " u'test/15106',\n",
       " u'test/15287',\n",
       " u'test/15341',\n",
       " u'test/15618',\n",
       " u'test/15648',\n",
       " u'test/15649']"
      ]
     },
     "execution_count": 37,
     "metadata": {},
     "output_type": "execute_result"
    }
   ],
   "source": [
    "reuters.fileids(['barley', 'corn'])[:10]"
   ]
  },
  {
   "cell_type": "code",
   "execution_count": 38,
   "metadata": {
    "collapsed": false
   },
   "outputs": [
    {
     "data": {
      "text/plain": [
       "[u'FRENCH',\n",
       " u'FREE',\n",
       " u'MARKET',\n",
       " u'CEREAL',\n",
       " u'EXPORT',\n",
       " u'BIDS',\n",
       " u'DETAILED',\n",
       " u'French',\n",
       " u'operators',\n",
       " u'have',\n",
       " u'requested',\n",
       " u'licences',\n",
       " u'to',\n",
       " u'export']"
      ]
     },
     "execution_count": 38,
     "metadata": {},
     "output_type": "execute_result"
    }
   ],
   "source": [
    "reuters.words('training/9865')[:14]"
   ]
  },
  {
   "cell_type": "code",
   "execution_count": 39,
   "metadata": {
    "collapsed": false
   },
   "outputs": [
    {
     "data": {
      "text/plain": [
       "[u'FRENCH', u'FREE', u'MARKET', u'CEREAL', u'EXPORT', ...]"
      ]
     },
     "execution_count": 39,
     "metadata": {},
     "output_type": "execute_result"
    }
   ],
   "source": [
    "reuters.words(['training/9865', 'training/9880'])"
   ]
  },
  {
   "cell_type": "code",
   "execution_count": 40,
   "metadata": {
    "collapsed": false
   },
   "outputs": [
    {
     "data": {
      "text/plain": [
       "[u'FRENCH', u'FREE', u'MARKET', u'CEREAL', u'EXPORT', ...]"
      ]
     },
     "execution_count": 40,
     "metadata": {},
     "output_type": "execute_result"
    }
   ],
   "source": [
    "reuters.words(categories='barley')"
   ]
  },
  {
   "cell_type": "code",
   "execution_count": 41,
   "metadata": {
    "collapsed": false
   },
   "outputs": [
    {
     "data": {
      "text/plain": [
       "[u'THAI', u'TRADE', u'DEFICIT', u'WIDENS', u'IN', ...]"
      ]
     },
     "execution_count": 41,
     "metadata": {},
     "output_type": "execute_result"
    }
   ],
   "source": [
    "reuters.words(categories=['barley', 'corn'])"
   ]
  },
  {
   "cell_type": "markdown",
   "metadata": {},
   "source": [
    "### 就职演说语料库\n",
    "语料库实际上是55个文本的集合，每个文本都是一个总统的演说。这个集合的一个显著特性是时间维度。"
   ]
  },
  {
   "cell_type": "code",
   "execution_count": 3,
   "metadata": {
    "collapsed": false
   },
   "outputs": [
    {
     "data": {
      "text/plain": [
       "[u'1789-Washington.txt',\n",
       " u'1793-Washington.txt',\n",
       " u'1797-Adams.txt',\n",
       " u'1801-Jefferson.txt',\n",
       " u'1805-Jefferson.txt',\n",
       " u'1809-Madison.txt',\n",
       " u'1813-Madison.txt',\n",
       " u'1817-Monroe.txt',\n",
       " u'1821-Monroe.txt',\n",
       " u'1825-Adams.txt',\n",
       " u'1829-Jackson.txt',\n",
       " u'1833-Jackson.txt',\n",
       " u'1837-VanBuren.txt',\n",
       " u'1841-Harrison.txt',\n",
       " u'1845-Polk.txt',\n",
       " u'1849-Taylor.txt',\n",
       " u'1853-Pierce.txt',\n",
       " u'1857-Buchanan.txt',\n",
       " u'1861-Lincoln.txt',\n",
       " u'1865-Lincoln.txt',\n",
       " u'1869-Grant.txt',\n",
       " u'1873-Grant.txt',\n",
       " u'1877-Hayes.txt',\n",
       " u'1881-Garfield.txt',\n",
       " u'1885-Cleveland.txt',\n",
       " u'1889-Harrison.txt',\n",
       " u'1893-Cleveland.txt',\n",
       " u'1897-McKinley.txt',\n",
       " u'1901-McKinley.txt',\n",
       " u'1905-Roosevelt.txt',\n",
       " u'1909-Taft.txt',\n",
       " u'1913-Wilson.txt',\n",
       " u'1917-Wilson.txt',\n",
       " u'1921-Harding.txt',\n",
       " u'1925-Coolidge.txt',\n",
       " u'1929-Hoover.txt',\n",
       " u'1933-Roosevelt.txt',\n",
       " u'1937-Roosevelt.txt',\n",
       " u'1941-Roosevelt.txt',\n",
       " u'1945-Roosevelt.txt',\n",
       " u'1949-Truman.txt',\n",
       " u'1953-Eisenhower.txt',\n",
       " u'1957-Eisenhower.txt',\n",
       " u'1961-Kennedy.txt',\n",
       " u'1965-Johnson.txt',\n",
       " u'1969-Nixon.txt',\n",
       " u'1973-Nixon.txt',\n",
       " u'1977-Carter.txt',\n",
       " u'1981-Reagan.txt',\n",
       " u'1985-Reagan.txt',\n",
       " u'1989-Bush.txt',\n",
       " u'1993-Clinton.txt',\n",
       " u'1997-Clinton.txt',\n",
       " u'2001-Bush.txt',\n",
       " u'2005-Bush.txt',\n",
       " u'2009-Obama.txt']"
      ]
     },
     "execution_count": 3,
     "metadata": {},
     "output_type": "execute_result"
    }
   ],
   "source": [
    "from nltk.corpus import inaugural\n",
    "inaugural.fileids()"
   ]
  },
  {
   "cell_type": "code",
   "execution_count": 4,
   "metadata": {
    "collapsed": false
   },
   "outputs": [
    {
     "data": {
      "text/plain": [
       "[u'1789',\n",
       " u'1793',\n",
       " u'1797',\n",
       " u'1801',\n",
       " u'1805',\n",
       " u'1809',\n",
       " u'1813',\n",
       " u'1817',\n",
       " u'1821',\n",
       " u'1825',\n",
       " u'1829',\n",
       " u'1833',\n",
       " u'1837',\n",
       " u'1841',\n",
       " u'1845',\n",
       " u'1849',\n",
       " u'1853',\n",
       " u'1857',\n",
       " u'1861',\n",
       " u'1865',\n",
       " u'1869',\n",
       " u'1873',\n",
       " u'1877',\n",
       " u'1881',\n",
       " u'1885',\n",
       " u'1889',\n",
       " u'1893',\n",
       " u'1897',\n",
       " u'1901',\n",
       " u'1905',\n",
       " u'1909',\n",
       " u'1913',\n",
       " u'1917',\n",
       " u'1921',\n",
       " u'1925',\n",
       " u'1929',\n",
       " u'1933',\n",
       " u'1937',\n",
       " u'1941',\n",
       " u'1945',\n",
       " u'1949',\n",
       " u'1953',\n",
       " u'1957',\n",
       " u'1961',\n",
       " u'1965',\n",
       " u'1969',\n",
       " u'1973',\n",
       " u'1977',\n",
       " u'1981',\n",
       " u'1985',\n",
       " u'1989',\n",
       " u'1993',\n",
       " u'1997',\n",
       " u'2001',\n",
       " u'2005',\n",
       " u'2009']"
      ]
     },
     "execution_count": 4,
     "metadata": {},
     "output_type": "execute_result"
    }
   ],
   "source": [
    "[fileid[:4] for fileid in inaugural.fileids()]"
   ]
  },
  {
   "cell_type": "code",
   "execution_count": 5,
   "metadata": {
    "collapsed": false
   },
   "outputs": [
    {
     "data": {
      "image/png": "[encoded data removed]",
      "text/plain": [
       "<matplotlib.figure.Figure at 0x114da99d0>"
      ]
     },
     "metadata": {},
     "output_type": "display_data"
    }
   ],
   "source": [
    "cfd = nltk.ConditionalFreqDist(\n",
    "    (target, fileid[:4])\n",
    "    for fileid in inaugural.fileids()\n",
    "    for w in inaugural.words(fileid)\n",
    "    for target in ['america', 'citizen'] if w.lower().startswith(target))\n",
    "cfd.plot()"
   ]
  },
  {
   "cell_type": "markdown",
   "metadata": {},
   "source": [
    "Figure 2-1. Plot of a conditional frequency distribution: All words in the Inaugural Address Corpus that begin with america or citizen are counted; separate counts are kept for each address; these are plotted so that trends in usage over time can be observed; counts are not normalized for document length.\n",
    "\n",
    "### 其他语言的语料库\n",
    "多国语言的语料库。"
   ]
  },
  {
   "cell_type": "code",
   "execution_count": 6,
   "metadata": {
    "collapsed": false
   },
   "outputs": [
    {
     "data": {
      "text/plain": [
       "[u'El', u'grupo', u'estatal', ...]"
      ]
     },
     "execution_count": 6,
     "metadata": {},
     "output_type": "execute_result"
    }
   ],
   "source": [
    "nltk.corpus.cess_esp.words()"
   ]
  },
  {
   "cell_type": "code",
   "execution_count": 7,
   "metadata": {
    "collapsed": false
   },
   "outputs": [
    {
     "data": {
      "text/plain": [
       "[u'Um', u'revivalismo', u'refrescante', u'O', ...]"
      ]
     },
     "execution_count": 7,
     "metadata": {},
     "output_type": "execute_result"
    }
   ],
   "source": [
    "nltk.corpus.floresta.words()"
   ]
  },
  {
   "cell_type": "code",
   "execution_count": 8,
   "metadata": {
    "collapsed": false
   },
   "outputs": [
    {
     "data": {
      "text/plain": [
       "[u'\\u092a\\u0942\\u0930\\u094d\\u0923', u'\\u092a\\u094d\\u0930\\u0924\\u093f\\u092c\\u0902\\u0927', ...]"
      ]
     },
     "execution_count": 8,
     "metadata": {},
     "output_type": "execute_result"
    }
   ],
   "source": [
    "nltk.corpus.indian.words('hindi.pos')"
   ]
  },
  {
   "cell_type": "code",
   "execution_count": 10,
   "metadata": {
    "collapsed": false
   },
   "outputs": [
    {
     "data": {
      "text/plain": [
       "[u'Abkhaz-Cyrillic+Abkh',\n",
       " u'Abkhaz-UTF8',\n",
       " u'Achehnese-Latin1',\n",
       " u'Achuar-Shiwiar-Latin1',\n",
       " u'Adja-UTF8',\n",
       " u'Afaan_Oromo_Oromiffa-Latin1',\n",
       " u'Afrikaans-Latin1',\n",
       " u'Aguaruna-Latin1',\n",
       " u'Akuapem_Twi-UTF8',\n",
       " u'Albanian_Shqip-Latin1']"
      ]
     },
     "execution_count": 10,
     "metadata": {},
     "output_type": "execute_result"
    }
   ],
   "source": [
    "nltk.corpus.udhr.fileids()[:10]"
   ]
  },
  {
   "cell_type": "code",
   "execution_count": 11,
   "metadata": {
    "collapsed": false
   },
   "outputs": [
    {
     "data": {
      "text/plain": [
       "[u'Saben', u'umat', u'manungsa', u'lair', u'kanthi', ...]"
      ]
     },
     "execution_count": 11,
     "metadata": {},
     "output_type": "execute_result"
    }
   ],
   "source": [
    "nltk.corpus.udhr.words('Javanese-Latin1')[11:]"
   ]
  },
  {
   "cell_type": "markdown",
   "metadata": {},
   "source": [
    "udhr包含有超过300种语言的世界人权宣言。利用条件频率分布研究udhr语料库中不同语言版本中之长的差异。"
   ]
  },
  {
   "cell_type": "code",
   "execution_count": 12,
   "metadata": {
    "collapsed": false
   },
   "outputs": [
    {
     "data": {
      "image/png": "[encoded data removed]",
      "text/plain": [
       "<matplotlib.figure.Figure at 0x117415350>"
      ]
     },
     "metadata": {},
     "output_type": "display_data"
    }
   ],
   "source": [
    "from nltk.corpus import udhr\n",
    "languages = ['Chickasaw', 'English', 'German_Deutsch',\n",
    "             'Greenlandic_Inuktikut', 'Hungarian_Magyar', 'Ibibio_Efik']\n",
    "cfd = nltk.ConditionalFreqDist(\n",
    "    (lang, len(word))\n",
    "    for lang in languages\n",
    "    for word in udhr.words(lang + '-Latin1'))\n",
    "cfd.plot(cumulative=True)"
   ]
  },
  {
   "cell_type": "markdown",
   "metadata": {},
   "source": [
    "Figure 2-2. Cumulative word length distributions: Six translations of the Universal Declaration of Human Rights are processed; this graph shows that words having five or fewer letters account for about 80% of Ibibio text, 60% of German text, and 25% of Inuktitut text.\n",
    "\n",
    "### 文本语料库的结构\n",
    "![2-3](https://www.safaribooksonline.com/library/view/natural-language-processing/9780596803346/httpatomoreillycomsourceoreillyimages302020.png)\n",
    "\n",
    "Figure 2-3. Common structures for text corpora: The simplest kind of corpus is a collection of isolated texts with no particular organization; some corpora are structured into categories, such as genre (Brown Corpus); some categorizations overlap, such as topic categories (Reuters Corpus); other corpora represent language use over time (Inaugural Address Corpus).\n",
    "\n",
    "Table 2-3. Basic corpus functionality defined in NLTK: More documentation can be found using help(nltk.corpus.reader) and by reading the online Corpus HOWTO at http://www.nltk.org/howto.\n",
    "\n",
    "| Example | Description |\n",
    "| ------- | ----------- |\n",
    "| fileids() | The files of the corpus |\n",
    "| fileids([categories]) | The files of the corpus corresponding to these categories |\n",
    "| categories() | The categories of the corpus |\n",
    "| categories([fileids]) | The categories of the corpus corresponding to these files |\n",
    "| raw() | The raw content of the corpus |\n",
    "| raw(fileids=[f1,f2,f3]) | The raw content of the specified files |\n",
    "| raw(categories=[c1,c2]) | The raw content of the specified categories |\n",
    "| words() | The words of the whole corpus |\n",
    "| words(fileids=[f1,f2,f3]) | The words of the specified fileids |\n",
    "| words(categories=[c1,c2]) | The words of the specified categories |\n",
    "| sents() | The sentences of the specified categories |\n",
    "| sents(fileids=[f1,f2,f3]) | The sentences of the specified fileids |\n",
    "| sents(categories=[c1,c2]) | The sentences of the specified categories |\n",
    "| abspath(fileid) | The location of the given file on disk |\n",
    "| encoding(fileid) | The encoding of the file (if known) |\n",
    "| open(fileid) | Open a stream for reading the given corpus file |\n",
    "| root() | The path to the root of locally installed corpus |\n",
    "| readme() | The contents of the README file of the corpus |\n",
    "\n",
    "### 载入你自己的语料库\n",
    "txt文件载入。"
   ]
  },
  {
   "cell_type": "code",
   "execution_count": 13,
   "metadata": {
    "collapsed": false
   },
   "outputs": [
    {
     "data": {
      "text/plain": [
       "['README', 'connectives', 'propernames', 'web2', 'web2a', 'words']"
      ]
     },
     "execution_count": 13,
     "metadata": {},
     "output_type": "execute_result"
    }
   ],
   "source": [
    "from nltk.corpus import PlaintextCorpusReader\n",
    "corpus_root = '/usr/share/dict'\n",
    "wordlists = PlaintextCorpusReader(corpus_root, '.*')\n",
    "wordlists.fileids()"
   ]
  },
  {
   "cell_type": "code",
   "execution_count": 14,
   "metadata": {
    "collapsed": false
   },
   "outputs": [
    {
     "data": {
      "text/plain": [
       "[u'the', u'of', u'and', u'to', u'a', u'in', u'that', ...]"
      ]
     },
     "execution_count": 14,
     "metadata": {},
     "output_type": "execute_result"
    }
   ],
   "source": [
    "wordlists.words('connectives')"
   ]
  },
  {
   "cell_type": "markdown",
   "metadata": {},
   "source": [
    "载入宾州树库的副本。\n",
    "\n",
    "```py\n",
    ">>> from nltk.corpus import BracketParseCorpusReader\n",
    ">>> corpus_root = r\"C:\\corpora\\penntreebank\\parsed\\mrg\\wsj\"\n",
    ">>> file_pattern = r\".*/wsj_.*\\.mrg\"\n",
    ">>> ptb = BracketParseCorpusReader(corpus_root, file_pattern)\n",
    ">>> ptb.fileids()\n",
    "['00/wsj_0001.mrg', '00/wsj_0002.mrg', '00/wsj_0003.mrg', '00/wsj_0004.mrg', ...]\n",
    ">>> len(ptb.sents())\n",
    "49208\n",
    ">>> ptb.sents(fileids='20/wsj_2013.mrg')[19]\n",
    "['The', '55-year-old', 'Mr.', 'Noriega', 'is', \"n't\", 'as', 'smooth', 'as', 'the',\n",
    "'shah', 'of', 'Iran', ',', 'as', 'well-born', 'as', 'Nicaragua', \"'s\", 'Anastasio',\n",
    "'Somoza', ',', 'as', 'imperial', 'as', 'Ferdinand', 'Marcos', 'of', 'the', 'Philippines',\n",
    "'or', 'as', 'bloody', 'as', 'Haiti', \"'s\", 'Baby', Doc', 'Duvalier', '.']\n",
    "```"
   ]
  },
  {
   "cell_type": "code",
   "execution_count": null,
   "metadata": {
    "collapsed": true
   },
   "outputs": [],
   "source": []
  }
 ],
 "metadata": {
  "kernelspec": {
   "display_name": "Python [Root]",
   "language": "python",
   "name": "Python [Root]"
  },
  "language_info": {
   "codemirror_mode": {
    "name": "ipython",
    "version": 2
   },
   "file_extension": ".py",
   "mimetype": "text/x-python",
   "name": "python",
   "nbconvert_exporter": "python",
   "pygments_lexer": "ipython2",
   "version": "2.7.12"
  }
 },
 "nbformat": 4,
 "nbformat_minor": 0
}
