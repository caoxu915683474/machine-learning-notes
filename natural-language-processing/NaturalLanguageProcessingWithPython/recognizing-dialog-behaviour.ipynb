{
 "cells": [
  {
   "cell_type": "markdown",
   "metadata": {},
   "source": [
    "# 识别对话行为类型\n",
    "NPS聊天语料库，提取基本的消息数据。"
   ]
  },
  {
   "cell_type": "code",
   "execution_count": 1,
   "metadata": {
    "collapsed": true
   },
   "outputs": [],
   "source": [
    "import nltk\n",
    "posts = nltk.corpus.nps_chat.xml_posts()[:10000]"
   ]
  },
  {
   "cell_type": "markdown",
   "metadata": {},
   "source": [
    "定义一个简单的特征提取器，用于检查帖子包含什么词。"
   ]
  },
  {
   "cell_type": "code",
   "execution_count": 2,
   "metadata": {
    "collapsed": true
   },
   "outputs": [],
   "source": [
    "def dialogue_act_features(post):\n",
    "    features = {}\n",
    "    for word in nltk.word_tokenize(post):\n",
    "        features['contains(%s)' % word.lower()] = True\n",
    "    return features"
   ]
  },
  {
   "cell_type": "markdown",
   "metadata": {},
   "source": [
    "通过把特征提取器应用到每个帖子中（使用post.get('class')获取该帖子的对话行为类型）以构造训练和测试数据，并创建一个新的分类器。"
   ]
  },
  {
   "cell_type": "code",
   "execution_count": 3,
   "metadata": {
    "collapsed": false
   },
   "outputs": [
    {
     "data": {
      "text/plain": [
       "10000"
      ]
     },
     "execution_count": 3,
     "metadata": {},
     "output_type": "execute_result"
    }
   ],
   "source": [
    "featuresets = [(dialogue_act_features(post.text), post.get('class'))\n",
    "               for post in posts]\n",
    "len(featuresets)"
   ]
  },
  {
   "cell_type": "code",
   "execution_count": 5,
   "metadata": {
    "collapsed": false
   },
   "outputs": [
    {
     "data": {
      "text/plain": [
       "[({'contains(gay)': True,\n",
       "   'contains(im)': True,\n",
       "   'contains(left)': True,\n",
       "   'contains(name)': True,\n",
       "   'contains(now)': True,\n",
       "   'contains(this)': True,\n",
       "   'contains(with)': True},\n",
       "  'Statement'),\n",
       " ({'contains(:)': True, 'contains(p)': True}, 'Emotion'),\n",
       " ({'contains(part)': True}, 'System'),\n",
       " ({'contains(everyone)': True, 'contains(hey)': True}, 'Greet'),\n",
       " ({'contains(ah)': True, 'contains(well)': True}, 'Statement'),\n",
       " ({'contains(:10-19-20suser7)': True, 'contains(nick)': True}, 'System'),\n",
       " ({'contains(.)': True,\n",
       "   'contains(10-19-20suser7)': True,\n",
       "   'contains(a)': True,\n",
       "   'contains(gay)': True,\n",
       "   'contains(is)': True,\n",
       "   'contains(name)': True},\n",
       "  'Accept'),\n",
       " ({'contains(.)': True,\n",
       "   'contains(.action)': True,\n",
       "   'contains(10-19-20suser121)': True,\n",
       "   'contains(a)': True,\n",
       "   'contains(clap)': True,\n",
       "   'contains(gives)': True,\n",
       "   'contains(golf)': True},\n",
       "  'System'),\n",
       " ({'contains())': True, 'contains(:)': True}, 'Emotion'),\n",
       " ({'contains(join)': True}, 'System')]"
      ]
     },
     "execution_count": 5,
     "metadata": {},
     "output_type": "execute_result"
    }
   ],
   "source": [
    "featuresets[:10]"
   ]
  },
  {
   "cell_type": "code",
   "execution_count": 6,
   "metadata": {
    "collapsed": false
   },
   "outputs": [
    {
     "data": {
      "text/plain": [
       "0.668"
      ]
     },
     "execution_count": 6,
     "metadata": {},
     "output_type": "execute_result"
    }
   ],
   "source": [
    "size = int(len(featuresets) * 0.1)\n",
    "train_set, test_set = featuresets[size:], featuresets[:size]\n",
    "classifier = nltk.NaiveBayesClassifier.train(train_set)\n",
    "nltk.classify.accuracy(classifier, test_set)"
   ]
  },
  {
   "cell_type": "code",
   "execution_count": null,
   "metadata": {
    "collapsed": true
   },
   "outputs": [],
   "source": []
  }
 ],
 "metadata": {
  "anaconda-cloud": {},
  "kernelspec": {
   "display_name": "Python [Root]",
   "language": "python",
   "name": "Python [Root]"
  },
  "language_info": {
   "codemirror_mode": {
    "name": "ipython",
    "version": 2
   },
   "file_extension": ".py",
   "mimetype": "text/x-python",
   "name": "python",
   "nbconvert_exporter": "python",
   "pygments_lexer": "ipython2",
   "version": "2.7.12"
  }
 },
 "nbformat": 4,
 "nbformat_minor": 0
}
