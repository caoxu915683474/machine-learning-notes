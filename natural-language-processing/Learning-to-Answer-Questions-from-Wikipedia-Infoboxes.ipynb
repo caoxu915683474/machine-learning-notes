{
 "cells": [
  {
   "cell_type": "markdown",
   "metadata": {},
   "source": [
    "# Learning to Answer Questions from Wikipedia Infoboxes\n",
    "    Alvaro Morales\n",
    "    CSAIL MIT\n",
    "    alvarom@mit.edu\n",
    "\n",
    "    Varot Premtoon\n",
    "    CSAIL MIT\n",
    "    varot@mit.edu\n",
    "\n",
    "    Boris Katz\n",
    "    CSAIL MIT\n",
    "    boris@mit.edu\n",
    "\n",
    "https://aclweb.org/anthology/D16-1199"
   ]
  },
  {
   "cell_type": "markdown",
   "metadata": {},
   "source": [
    "## 总结\n",
    "针对wiki中表格类的半结构化数据抽出三元组后，生成问题和答案，并通过CNN训练。"
   ]
  },
  {
   "cell_type": "markdown",
   "metadata": {},
   "source": [
    "## The INFOBOXQA dataset\n",
    "We first worked on the data access problem and developed a system called WikipediaBase to robustly extract attribute–value pairs from infoboxes. We organize infoboxes in an **object–attribute–value** data model.\n",
    "\n",
    "cls | title | question | attr | val | ans | label\n",
    "----|-------|----------|------|-----|-----|------\n",
    "wikipedia-settlement | Borough of Swindon | What is the official website of the borough of Swindon ? | Website | www.swindon.gov.uk | Website : www.swindon.gov.uk | 1\n",
    "wikipedia-settlement | Borough of Swindon | What is the official website of the borough of Swindon ? | Body | Swindon Borough Council | Body : Swindon Borough Council | 0\n",
    "wikipedia-settlement | Borough of Swindon | What is the official website of the borough of Swindon ? | Time zone | GMT 0 | Time zone : GMT 0 | 0\n",
    "wikipedia-settlement | Borough of Swindon | What is the official website of the borough of Swindon ? | Area rank | 158th -LRB- of 326 -RRB- | Area rank : 158th -LRB- of 326 -RRB- | 0\n",
    "wikipedia-settlement | Borough of Swindon | What is the official website of the borough of Swindon ? | Rank | 75th -LRB- of 326 -RRB- | Rank : 75th -LRB- of 326 -RRB- | 0\n",
    "wikipedia-settlement | Borough of Swindon | What is the official website of the borough of Swindon ? | Seat | Swindon | Seat : Swindon | 0\n",
    "wikipedia-settlement | Borough of Swindon | What is the official website of the borough of Swindon ? | Total | 88.84 sq mi -LRB- 230.10 km2 -RRB- 215,799 | Total : 88.84 sq mi -LRB- 230.10 km2 -RRB- 215,799 | 0\n",
    "wikipedia-settlement | Borough of Swindon | What is the official website of the borough of Swindon ? | Type | Unitary authority | Type : Unitary authority | 0\n",
    "wikipedia-settlement | Borough of Swindon | What is the address of the borough of Swindon 's homepage ? | Website | www.swindon.gov.uk | Website : www.swindon.gov.uk | 1\n",
    "wikipedia-settlement | Borough of Swindon | What is the address of the borough of Swindon 's homepage ? | Body | Swindon Borough Council | Body : Swindon Borough Council | 0\n",
    "wikipedia-settlement | Borough of Swindon | What is the address of the borough of Swindon 's homepage ? | Time zone | GMT 0 | Time zone : GMT 0 | 0\n",
    "wikipedia-settlement | Borough of Swindon | What is the address of the borough of Swindon 's homepage ? | Area rank | 158th -LRB- of 326 -RRB- | Area rank : 158th -LRB- of 326 -RRB- | 0\n",
    "wikipedia-settlement | Borough of Swindon | What is the address of the borough of Swindon 's homepage ? | Rank | 75th -LRB- of 326 -RRB- | Rank : 75th -LRB- of 326 -RRB- | 0\n",
    "wikipedia-settlement | Borough of Swindon | What is the address of the borough of Swindon 's homepage ? | Seat | Swindon | Seat : Swindon | 0\n",
    "wikipedia-settlement | Borough of Swindon | What is the address of the borough of Swindon 's homepage ? | Total | 88.84 sq mi -LRB- 230.10 km2 -RRB- 215,799 | Total : 88.84 sq mi -LRB- 230.10 km2 -RRB- 215,799 | 0\n",
    "wikipedia-settlement | Borough of Swindon | What is the address of the borough of Swindon 's homepage ? | Type | Unitary authority | Type : Unitary authority | 0\n",
    "\n",
    "For each attribute, we asked participants to write two questions. It is likely that at least one of the questions will use words from the attribute, but requiring an additional question encouraged them to think of alternative phrasings.\n",
    "\n",
    "The dataset contains example questions $q_i$, with an attribute–value pair $(a_i,v_i)$ that answers the question. To generate negative examples for the answer selection task, we picked every other tuple $(a_j,v_j); \\forall j \\ne i$ from the infobox that contains the correct answer.\n",
    "\n",
    "## Model description\n",
    "![](http://ou8qjsj0m.bkt.clouddn.com//18-2-6/75799061.jpg)\n",
    "\n",
    "## Experiments\n",
    "![](http://ou8qjsj0m.bkt.clouddn.com//18-2-6/45660714.jpg)"
   ]
  },
  {
   "cell_type": "code",
   "execution_count": null,
   "metadata": {
    "collapsed": true
   },
   "outputs": [],
   "source": []
  }
 ],
 "metadata": {
  "kernelspec": {
   "display_name": "Python [Root]",
   "language": "python",
   "name": "Python [Root]"
  },
  "language_info": {
   "codemirror_mode": {
    "name": "ipython",
    "version": 2
   },
   "file_extension": ".py",
   "mimetype": "text/x-python",
   "name": "python",
   "nbconvert_exporter": "python",
   "pygments_lexer": "ipython2",
   "version": "2.7.12"
  }
 },
 "nbformat": 4,
 "nbformat_minor": 0
}
