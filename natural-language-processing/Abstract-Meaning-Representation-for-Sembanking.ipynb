{
 "cells": [
  {
   "cell_type": "markdown",
   "metadata": {},
   "source": [
    "# Abstract Meaning Representation for Sembanking\n",
    "    Laura Banarescu\n",
    "    SDL\n",
    "    lbanarescu@sdl.com\n",
    "\n",
    "    Nathan Schneider\n",
    "    LTI CMU\n",
    "    nschneid@cs.cmu.edu\n",
    "\n",
    "https://amr.isi.edu/a.pdf"
   ]
  },
  {
   "cell_type": "markdown",
   "metadata": {},
   "source": [
    "## 总结\n",
    "句子级别语义进行抽象归纳的一种方法。"
   ]
  },
  {
   "cell_type": "markdown",
   "metadata": {},
   "source": [
    "## Introduction\n",
    "We draw on this work to design an **Abstract Meaning Representation (AMR)** appropriate for sembanking. Our basic principles are:\n",
    "\n",
    "- AMRs are rooted, labeled graphs that are easy for people to read, and easy for programs to traverse.\n",
    "- AMR aims to abstract away from syntactic idiosyncrasies. We attempt to assign the same AMR to sentences that have the same basic meaning. For example, the sentences “he described her as a genius”, “his description of her: genius”, and “she was a genius, according to his description” are all assigned the same AMR.\n",
    "- AMR makes extensive use of PropBank framesets (Kingsbury and Palmer, 2002; Palmer et al., 2005). For example, we represent a phrase like “bond investor” using the frame “invest-01”, even though no verbs appear in the phrase.\n",
    "- AMR is agnostic about how we might want to derive meanings from strings, or vice-versa. In translating sentences to AMR, we do not dictate a particular sequence of rule applications or provide alignments that reflect such rule sequences. This makes sembanking very fast, and it allows researchers to explore their own ideas about how strings are related to meanings.\n",
    "- AMR is heavily biased towards English. It is not an Interlingua.\n",
    "\n",
    "\n",
    "例子1：\n",
    "\n",
    "    “The boy wants to go”\n",
    "\n",
    "    (w / want-01\n",
    "        :arg0 (b / boy)\n",
    "        :arg1 (g / go-01\n",
    "                :arg0 b))\n",
    "\n",
    "例子2：\n",
    "\n",
    "    The man described the mission as a disaster. \n",
    "    The man’s description of the mission: disaster.\n",
    "    As the man described it, the mission was a disaster.\n",
    "\n",
    "    (d / describe-01\n",
    "        :arg0 (m / man)\n",
    "        :arg1 (m2 / mission)\n",
    "        :arg2 (d / disaster))"
   ]
  },
  {
   "cell_type": "code",
   "execution_count": null,
   "metadata": {
    "collapsed": true
   },
   "outputs": [],
   "source": []
  }
 ],
 "metadata": {
  "kernelspec": {
   "display_name": "Python [Root]",
   "language": "python",
   "name": "Python [Root]"
  },
  "language_info": {
   "codemirror_mode": {
    "name": "ipython",
    "version": 2
   },
   "file_extension": ".py",
   "mimetype": "text/x-python",
   "name": "python",
   "nbconvert_exporter": "python",
   "pygments_lexer": "ipython2",
   "version": "2.7.12"
  }
 },
 "nbformat": 4,
 "nbformat_minor": 0
}
