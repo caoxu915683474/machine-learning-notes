{
 "cells": [
  {
   "cell_type": "markdown",
   "metadata": {},
   "source": [
    "# 主题模型\n",
    "- 构建主题模型\n",
    "- 在主题空间比较相似度\n",
    "\n",
    "《机器学习系统设计》第四章\n",
    "\n",
    "## 构建主题模型"
   ]
  },
  {
   "cell_type": "code",
   "execution_count": 2,
   "metadata": {
    "collapsed": false
   },
   "outputs": [],
   "source": [
    "from __future__ import print_function\n",
    "try:\n",
    "    from gensim import corpora, models, matutils\n",
    "except:\n",
    "    print(\"import gensim failed.\")\n",
    "    print()\n",
    "    print(\"Please install it\")\n",
    "    raise\n",
    "\n",
    "import numpy as np\n",
    "from os import path\n",
    "\n",
    "\n",
    "# Check that data exists\n",
    "if not path.exists('../data/ap/ap.dat'):\n",
    "    print('Error: Expected data to be present at data/ap/')\n",
    "    print('Please cd into ../data & run tar xzf ap.tgz')\n",
    "\n",
    "# Load the data\n",
    "corpus = corpora.BleiCorpus('../data/ap/ap.dat', '../data/ap/vocab.txt')\n",
    "\n",
    "# Build the topic model\n",
    "NUM_TOPICS = 100\n",
    "model = models.ldamodel.LdaModel(\n",
    "    corpus, num_topics=NUM_TOPICS, id2word=corpus.id2word, alpha=None)"
   ]
  },
  {
   "cell_type": "code",
   "execution_count": 5,
   "metadata": {
    "collapsed": false
   },
   "outputs": [],
   "source": [
    "# Iterate over all the topics in the model\n",
    "for ti in range(model.num_topics):\n",
    "    words = model.show_topic(ti, 64)\n",
    "    tf = sum(float(f) for w, f in words)\n",
    "    with open('tmp/topics.txt', 'w') as output:\n",
    "        output.write('\\n'.join('{}:{}'.format(w, int(1000. * f / tf)) for w, f in words))\n",
    "        output.write(\"\\n\\n\\n\")"
   ]
  },
  {
   "cell_type": "code",
   "execution_count": 6,
   "metadata": {
    "collapsed": false
   },
   "outputs": [
    {
     "name": "stdout",
     "output_type": "stream",
     "text": [
      "dresses:86\r\n",
      "bridal:75\r\n",
      "arts:70\r\n",
      "grants:45\r\n",
      "artists:33\r\n",
      "editors:26\r\n",
      "styles:25\r\n",
      "fabrics:23\r\n",
      "store:22\r\n",
      "foundation:22\r\n"
     ]
    }
   ],
   "source": [
    "!head tmp/topics.txt"
   ]
  },
  {
   "cell_type": "code",
   "execution_count": 7,
   "metadata": {
    "collapsed": false
   },
   "outputs": [
    {
     "name": "stdout",
     "output_type": "stream",
     "text": [
      "32\n",
      "[(u'i', 0.022902189263742139), (u'years', 0.0069906378987830359), (u'mrs', 0.0048900727499430318), (u'get', 0.004480703224540309), (u'time', 0.0044709541904680381), (u'frank', 0.0044655243915090589), (u'two', 0.0041386380475537379), (u'like', 0.0037109090829590789), (u'year', 0.0037005864419917146), (u'people', 0.0036874874042782187), (u'first', 0.0032958187125589726), (u'just', 0.0031885466144148116), (u'house', 0.0031331580648845296), (u'case', 0.0031242761615824619), (u'day', 0.0030418674919531863), (u'last', 0.0030335769287677399), (u'attorney', 0.0029780978887432841), (u'think', 0.0029336063218516903), (u'dont', 0.0029016982570627351), (u'committee', 0.0028621915760657199), (u'national', 0.0028041924690571773), (u'made', 0.0027305841534113868), (u'schools', 0.0027058868579118902), (u'back', 0.0026500519616374147), (u'going', 0.0025919729389822527), (u'yearold', 0.0025771921499405438), (u'student', 0.0025349985623858385), (u'job', 0.0025199081179640473), (u'percent', 0.0024993713866515244), (u'new', 0.0024546011633414973), (u'general', 0.0024382924043766601), (u'life', 0.0023762893918346495), (u'gets', 0.002312346929654241), (u'students', 0.0022773080050792235), (u'secretary', 0.0022511339120811777), (u'says', 0.0022336968128799993), (u'told', 0.0021550778590351291), (u'make', 0.0021436834539893986), (u'office', 0.0020869468882985243), (u'ago', 0.0020566247130282063), (u'am', 0.0020457603323027406), (u'kennedy', 0.0020230593741061499), (u'education', 0.0019667542245264901), (u'hes', 0.0019636873568339643), (u'john', 0.0019619952925903988), (u'say', 0.0018648162890286014), (u'know', 0.0018528759900491704), (u'officials', 0.0018069331555069892), (u'meese', 0.0017896533445784114), (u'vote', 0.0017832660116511711), (u'washington', 0.001781878260344414), (u'good', 0.0017636626488617315), (u'court', 0.0017546368029458172), (u'five', 0.0017518614952657596), (u'four', 0.00174438061226995), (u'right', 0.0017259343424558227), (u'school', 0.0017200155542100044), (u'president', 0.001718893557803856), (u'write', 0.0017121187798985074), (u'abortion', 0.0017004213079303736), (u'department', 0.0016948865002664889), (u'ms', 0.0016893169946489552), (u'thats', 0.0016538607041278663), (u'children', 0.0016531789153964034)]\n"
     ]
    }
   ],
   "source": [
    "# We first identify the most discussed topic, i.e., the one with the\n",
    "# highest total weight\n",
    "topics = matutils.corpus2dense(model[corpus], num_terms=model.num_topics)\n",
    "weight = topics.sum(1)\n",
    "max_topic = weight.argmax()\n",
    "print (max_topic)\n",
    "\n",
    "# Get the top 64 words for this topic\n",
    "# Without the argument, show_topic would return only 10 words\n",
    "words = model.show_topic(max_topic, 64)\n",
    "print (words)"
   ]
  },
  {
   "cell_type": "markdown",
   "metadata": {},
   "source": [
    "从下图观察：大约150个文档包含了5个主题，大多数文档涵盖了10到12个主题。"
   ]
  },
  {
   "cell_type": "code",
   "execution_count": 8,
   "metadata": {
    "collapsed": false
   },
   "outputs": [
    {
     "data": {
      "image/png": "[encoded data removed]",
      "text/plain": [
       "<matplotlib.figure.Figure at 0x11046da90>"
      ]
     },
     "metadata": {},
     "output_type": "display_data"
    }
   ],
   "source": [
    "%matplotlib inline\n",
    "import matplotlib.pyplot as plt\n",
    "\n",
    "num_topics_used = [len(model[doc]) for doc in corpus]\n",
    "fig, ax = plt.subplots()\n",
    "ax.hist(num_topics_used, np.arange(42))\n",
    "ax.set_ylabel('Nr of documents')\n",
    "ax.set_xlabel('Nr of topics')\n",
    "fig.tight_layout()"
   ]
  },
  {
   "cell_type": "markdown",
   "metadata": {},
   "source": [
    "alpha值会导致每个文档包含更多的主题。"
   ]
  },
  {
   "cell_type": "code",
   "execution_count": 9,
   "metadata": {
    "collapsed": false
   },
   "outputs": [
    {
     "data": {
      "image/png": "[encoded data removed]",
      "text/plain": [
       "<matplotlib.figure.Figure at 0x11040bc50>"
      ]
     },
     "metadata": {},
     "output_type": "display_data"
    }
   ],
   "source": [
    "# Now, repeat the same exercise using alpha=1.0\n",
    "# You can edit the constant below to play around with this parameter\n",
    "ALPHA = 1.0\n",
    "\n",
    "model1 = models.ldamodel.LdaModel(\n",
    "    corpus, num_topics=NUM_TOPICS, id2word=corpus.id2word, alpha=ALPHA)\n",
    "num_topics_used1 = [len(model1[doc]) for doc in corpus]\n",
    "\n",
    "fig, ax = plt.subplots()\n",
    "ax.hist([num_topics_used, num_topics_used1], np.arange(42))\n",
    "ax.set_ylabel('Nr of documents')\n",
    "ax.set_xlabel('Nr of topics')\n",
    "\n",
    "# The coordinates below were fit by trial and error to look good\n",
    "ax.text(9, 223, r'default alpha')\n",
    "ax.text(26, 156, 'alpha=1.0')\n",
    "fig.tight_layout()"
   ]
  },
  {
   "cell_type": "markdown",
   "metadata": {},
   "source": [
    "## 在主题空间比较相似度\n",
    "根据两个文档是否描述相同主题来判断它们是否相似，而不是通过词与词的比较。"
   ]
  },
  {
   "cell_type": "code",
   "execution_count": 22,
   "metadata": {
    "collapsed": false
   },
   "outputs": [
    {
     "name": "stdout",
     "output_type": "stream",
     "text": [
      "From: geb@cs.pitt.edu (Gordon Banks)\n",
      "Subject: Re: request for information on \"essential tremor\" and Indrol?\n",
      "\n",
      "In article <1q1tbnINNnfn@life.ai.mit.edu> sundar@ai.mit.edu writes:\n",
      "\n",
      "Essential tremor is a progressive hereditary tremor that gets worse\n",
      "when the patient tries to use the effected member.  All limbs, vocal\n",
      "cords, and head can be involved.  Inderal is a beta-blocker and\n",
      "is usually effective in diminishing the tremor.  Alcohol and mysoline\n",
      "are also effective, but alcohol is too toxic to use as a treatment.\n",
      "-- \n",
      "----------------------------------------------------------------------------\n",
      "Gordon Banks  N3JXP      | \"Skepticism is the chastity of the intellect, and\n",
      "geb@cadre.dsl.pitt.edu   |  it is shameful to surrender it too soon.\" \n",
      "----------------------------------------------------------------------------\n",
      "\n",
      "++++++++++++++++++++++++++++++++++++++++++++++++++++++++++++++++++++++++++++++++++++++++++++++++++++\n",
      "From: rgc3679@bcstec.ca.boeing.com (Robert G. Carpenter)\n",
      "Subject: Please Recommend 3D Graphics Library For Mac.\n",
      "\n",
      "Hi Netters,\n",
      "\n",
      "I'm building a CAD package and need a 3D graphics library that can handle\n",
      "some rudimentry tasks, such as hidden line removal, shading, animation, etc.\n",
      "\n",
      "Can you please offer some recommendations?\n",
      "\n",
      "I'll also need contact info (name, address, email...) if you can find it.\n",
      "\n",
      "Thanks\n",
      "\n",
      "(Please Post Your Responses, in case others have same need)\n",
      "\n",
      "Bob Carpenter\n",
      "\n",
      "\n"
     ]
    }
   ],
   "source": [
    "from __future__ import print_function\n",
    "\n",
    "try:\n",
    "    import nltk.corpus\n",
    "except ImportError:\n",
    "    print(\"nltk not found\")\n",
    "    print(\"please install it\")\n",
    "    raise\n",
    "from scipy.spatial import distance\n",
    "import numpy as np\n",
    "from gensim import corpora, models\n",
    "import sklearn.datasets\n",
    "import nltk.stem\n",
    "from collections import defaultdict\n",
    "\n",
    "english_stemmer = nltk.stem.SnowballStemmer('english')\n",
    "stopwords = set(nltk.corpus.stopwords.words('english'))\n",
    "stopwords.update(['from:', 'subject:', 'writes:', 'writes'])\n",
    "\n",
    "\n",
    "class DirectText(corpora.textcorpus.TextCorpus):\n",
    "\n",
    "    def get_texts(self):\n",
    "        return self.input\n",
    "\n",
    "    def __len__(self):\n",
    "        return len(self.input)\n",
    "try:\n",
    "    dataset = sklearn.datasets.load_mlcomp(\"20news-18828\", \"train\",\n",
    "                                       mlcomp_root='../data')\n",
    "except:\n",
    "    print(\"Newsgroup data not found.\")\n",
    "    print(\"Please download from http://mlcomp.org/datasets/379\")\n",
    "    print(\"And expand the zip into the subdirectory data/\")\n",
    "    print()\n",
    "    print()\n",
    "    raise\n",
    "\n",
    "orig_texts = dataset.data\n",
    "texts = dataset.data\n",
    "\n",
    "texts = [t.decode('utf-8', 'ignore') for t in texts]\n",
    "texts = [t.split() for t in texts]  # 分词\n",
    "texts = [map(lambda w: w.lower(), t) for t in texts]  # 转小写\n",
    "texts = [filter(lambda s: not len(set(\"+-.?!()>@012345689\") & set(s)), t) for t in texts]  # 过滤得到英文单词\n",
    "texts = [filter(lambda s: (len(s) > 3) and (s not in stopwords), t) for t in texts]  # 过滤stop word和短单词\n",
    "texts = [map(english_stemmer.stem, t) for t in texts]  # 还原词干\n",
    "usage = defaultdict(int)\n",
    "for t in texts:  # t是一段文本\n",
    "    for w in set(t):\n",
    "        usage[w] += 1\n",
    "limit = len(texts) / 10\n",
    "too_common = [w for w in usage if usage[w] > limit]\n",
    "too_common = set(too_common)\n",
    "texts = [filter(lambda s: s not in too_common, t) for t in texts]  # 过滤出现频率过高的词\n",
    "\n",
    "corpus = DirectText(texts)\n",
    "dictionary = corpus.dictionary\n",
    "try:\n",
    "    dictionary['computer']\n",
    "except:\n",
    "    pass\n",
    "\n",
    "model = models.ldamodel.LdaModel(corpus, num_topics=100, id2word=dictionary.id2token)\n",
    "\n",
    "thetas = np.zeros((len(texts), 100))  # row:len(texts),col:100\n",
    "for i, c in enumerate(corpus):\n",
    "    for ti, v in model[c]:\n",
    "        thetas[i, ti] += v\n",
    "\n",
    "distances = distance.squareform(distance.pdist(thetas))  # sum[(ti-tj)^2]\n",
    "large = distances.max() + 1\n",
    "for i in range(len(distances)):  # 矩阵对角线上的元素设成较大的值,如果不设置,将会返回自己（自己和自己最相似）\n",
    "    distances[i, i] = large\n",
    "\n",
    "print(orig_texts[1])\n",
    "print('+' * 100)\n",
    "print(orig_texts[distances[1].argmin()])"
   ]
  },
  {
   "cell_type": "code",
   "execution_count": null,
   "metadata": {
    "collapsed": true
   },
   "outputs": [],
   "source": []
  }
 ],
 "metadata": {
  "kernelspec": {
   "display_name": "Python [Root]",
   "language": "python",
   "name": "Python [Root]"
  },
  "language_info": {
   "codemirror_mode": {
    "name": "ipython",
    "version": 2
   },
   "file_extension": ".py",
   "mimetype": "text/x-python",
   "name": "python",
   "nbconvert_exporter": "python",
   "pygments_lexer": "ipython2",
   "version": "2.7.12"
  }
 },
 "nbformat": 4,
 "nbformat_minor": 0
}
