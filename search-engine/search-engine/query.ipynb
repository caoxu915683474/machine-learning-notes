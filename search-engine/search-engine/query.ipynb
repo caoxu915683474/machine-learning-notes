{
 "cells": [
  {
   "cell_type": "markdown",
   "metadata": {},
   "source": [
    "# 查询与界面\n",
    "## 查询转换与提炼\n",
    "### 停用词去除和词干提取\n",
    "### 拼写检查和建议\n",
    "- 拼写检查工具：拼写字典（spelling dictionary），编辑距离（edit distance）\n",
    "- 拼写矫正：噪声通道模型（noisy channel model），一个人在自觉上要输出（即写出）词w，是根据概率分布P(w)，然后这人要去写出词w，但是声音通道（大体上相当于人的大脑）使得这个人以概率P(e|w)写了词e。\n",
    "  - 语言模型（language model）：P(w)\n",
    "  - 错误模型（error model）：P(e|w)\n",
    "  - 一个词的语言模型概率可以采用这个词在文本中出现的概率和它接着前一个词出现的概率混合形式（mixture）来计算：$\\lambda P(w)+(1-\\lambda)P(w|w_p)$\n",
    "    - $\\lambda$是描述两个概率相对重要程度的参数\n",
    "    - $P(w|w_p)$ 是词w在词$w_p$之后出现概率\n",
    "  - 错误模型（error model）：P(e|w)的概率估计\n",
    "    - 简单方法：假定所有具有相同编辑距离的错误有相等的概率，并且仅考虑在一个确定的编辑距离以内的字符串（通常取编辑距离为1或2）。\n",
    "    - 复杂方法：对于一些确定类型的错误发生可能性进行概率估计，例如，当想要输入e时输入a，这些概率估计是通过对大规模的文本集中查找一些正确拼写和不正确拼写的词对获得的。\n",
    "\n",
    "### 查询扩展\n",
    "- 衡量词项相关性\n",
    "  - 戴斯系数（Dice's coefficient）:$\\frac{2 \\cdot n_{ab}}{n_a+n_b} \\triangleq \\frac{n_{ab}}{n_a+n_b}$\n",
    "    - $\\triangleq$指公式是排序相等的\n",
    "  - 互信息（mutual information）用来衡量词之间能够相互独立出现的程度：$log\\frac{P(a,b)}{P(a)P(b)}$\n",
    "    - P(a)给定大小的文本窗口中词a出现的概率\n",
    "    - P(b)给定大小的文本窗口中词b出现的概率\n",
    "    - P(a,b)给定大小的文本窗口中词a和b同时出现的概率\n",
    "  - 期望互信息：根据概率P(a,b)对互信息进行加权处理：\n",
    "    - $P(a,b) \\cdot log\\frac{P(a,b)}{P(a)P(b)}$\n",
    "  - 皮尔森 $\\chi^2$检验：计算两个词共现的观测值与这两个词在互相独立条件下共现的期望值的比值，并根据期望值对这个比值进行归一化处理 $\\frac{(n_{ab}-N \\cdot \\frac{n_b}{N} \\cdot \\frac{n_b}{N})^2}{N \\cdot \\frac{n_a}{N} \\cdot \\frac{n_b}{N}} \\triangleq \\frac{(n_{ab}-\\frac{1}{N} \\cdot n_a \\cdot n_b)^2}{n_a \\cdot n_b}$\n",
    "\n",
    "### 相关反馈\n",
    "在相关反馈中，不是让用户从词项列表中或可替换的查询中进行选择，而是让用户指出哪些文档是感兴趣的（即相关的），以及哪些是完全离题的（即不相关的）。根据这些信息，系统通过增加词项或对原始词项重新分配权重，自动地改写查询，并用改写的查询生成新的文档排序。\n",
    "\n",
    "### 上下文和个性化\n",
    "- 让用户根据预定义的类别对自己进行描述。\n",
    "- 本地搜索（local search），从查询中或者从提交查询的设备的位置信息中获得的地理信息，并根据这些信息调整排序结果。\n",
    "\n",
    "## 搜索结果显示\n",
    "- 搜索结果页面与页面摘要：自动文摘技术可以分为查询无关文摘和查询相关文摘。\n",
    "- 广告与搜索：关键词一般是从网页内容中选取，然后用这些关键词去搜索广告数据库，选择可以与网页内容一起展示的广告。\n",
    "- 结果聚类：聚类是将检索结果文档按照内容相似聚成一组并标记每个组，使得用户能够很快浏览到相关类别。\n",
    "  - 逐面分类法（faceted classification）：由一些类别组成，通常这些类别被组织成层次形式，每个类别用一组层面来描述与其相关的一些重要属性。\n",
    "\n",
    "## 跨语言搜索\n",
    "- 统计机器翻译模型，平行语料库（parallel corpora）。在平行语料库中的句子采用人工或自动方式对齐。\n",
    "- 自动音译（transliteration）：用来处理人名问题。 \n"
   ]
  },
  {
   "cell_type": "code",
   "execution_count": null,
   "metadata": {
    "collapsed": true
   },
   "outputs": [],
   "source": []
  }
 ],
 "metadata": {
  "kernelspec": {
   "display_name": "Python [Root]",
   "language": "python",
   "name": "Python [Root]"
  },
  "language_info": {
   "codemirror_mode": {
    "name": "ipython",
    "version": 2
   },
   "file_extension": ".py",
   "mimetype": "text/x-python",
   "name": "python",
   "nbconvert_exporter": "python",
   "pygments_lexer": "ipython2",
   "version": "2.7.12"
  }
 },
 "nbformat": 4,
 "nbformat_minor": 0
}
