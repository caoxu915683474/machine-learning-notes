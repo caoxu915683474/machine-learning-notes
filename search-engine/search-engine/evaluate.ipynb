{
 "cells": [
  {
   "cell_type": "markdown",
   "metadata": {},
   "source": [
    "# 搜索引擎评价\n",
    "## 效果评价\n",
    "### 召回率和准确率\n",
    "- A是相关文档集合，B是被检索到的文档集合\n",
    "- 召回率$R=\\frac{|A \\cap B|}{|A|}$\n",
    "- 准确率$P=\\frac{|A \\cap B|}{|B|}$\n",
    "- 虚报率$=\\frac{|\\bar{A} \\cap B|}{|\\bar{A}|}$\n",
    "- $F=\\frac{1}{\\frac{1}{2}(\\frac{1}{R}+\\frac{1}{P})}=\\frac{2RP}{R+P}$\n",
    "- 位置p的准确率（precision of p）：如果一个排序位置p的准确率比另一个排序高，召回率也会较高。\n",
    "  - 最常用的P@10和P@20的准确率度量。\n",
    "  - 暗示搜索任务已经变为在给定排序中找到尽可能相关的文档，而不是找到尽可能多的相关文档。\n",
    "- 当召回率从0.0到1.0每次增加0.1这一标准值时，计算准确率的相应变化。\n",
    "  - 优点在于，可以用于评价所有排序结果中的相关文档，而不仅仅是那些靠前的文档。\n",
    "- 计算当一个额外的相关文档被检出（也就是当召回率增加）时，准确率的平均值。\n",
    "\n",
    "### 平均化和插值\n",
    "- 平均准确率(Mean Average Precision,MAP):平均准确率为每个查询的相关排序结果赋予一个评价数字，从多个查询中总结该排序算法性能的最简单的途径，就是对这些数字进行平均。\n",
    "- 标准召回率等级是0.0到1.0，增量为0.1.为了获得每个查询在这些召回率等级下的准确率，必须进行插值。\n",
    "\n",
    "### 关注排序靠前的文档\n",
    "- 排序倒数(reciprocal rank)定义为返回第一个相关文档位置的倒数。平均排序倒数MRR(mean reciprocal rank)是针对一组查询的排序倒数平均值。\n",
    "- 对于网络搜索而言，DCG(discounted cumulative gain)是一种较为普遍的评价方法。这种方法基于两点假设：\n",
    "  - 高相关的文档比边缘相关的文档要有用的多。\n",
    "  - 一个相关文档的排序位置越靠后，对于用户的价值就越低，因为它们很少会被用户查到。\n",
    "  - DCG方法是在一个特定的排序p的前提下，计算总的增益：$DCG_p=rel_1+\\sum_{i=2}^p\\frac{rel_i}{log_2i}$\n",
    "    - $rel_i$指的是检索回的文档中排序为i的文档的相关性等级。\n",
    "    - $log_2i$是一种损失因子(discount or reduction factor)。\n",
    "\n",
    "### 使用用户偏好\n",
    "- Kendall $\\tau$系数\n",
    "  - 使用偏好描述的两个排序结果，P是两种排序中一致的偏好的数量，Q代表不一致的数量。\n",
    "  - 这个估计值在1（当两个排序中用户偏好全部一致时）到-1（当偏好全部不一致时）之间变化。\n",
    "  - $\\tau=\\frac{P-Q}{P+Q}$\n",
    "- BPREF\n",
    "  - 偏好来自二元相关判决的情况。\n",
    "  - 对于一个返回了R个相关文档的查询，仅考察前R个不相关文档，相当于使用RxR个用户偏好。\n",
    "  - $BPREF=\\frac{1}{R}\\sum_{d_r}(1-\\frac{N_{d_r}}{R})$\n",
    "    - $d_r$是一个相关文档，$N_{d_r}$给出了排序高于$d_r$的不相关文档的数量（考察不相关文档集R）\n",
    "    - 另一种定义$BPREF=\\frac{P}{P+Q}$\n",
    "\n",
    "## 效率评价\n",
    "- 基于`查询流量(query throughput)`的方法，记为每秒处理的查询数量，它并不捕捉`延迟(latency)`。\n",
    "\n",
    "## 训练、测试和统计\n",
    "### 显著性检验\n",
    "- t检验(t-test)\n",
    "- 威氏符号秩次检验(Wilcoxon signed-rank test)\n",
    "- 符号检验(sign test)\n",
    "\n",
    "### 设置参数值\n",
    "- 交叉检验(cross-validation)\n",
    "- 强制法(brute-force)，穷举可能的参数\n",
    "- 最优化技术\n",
    "\n",
    "### 在线测试\n",
    "- 优点\n",
    "  - 允许真实用户参与到系统中。\n",
    "  - 并不片面，这是因为这种评价方法是在真实的用户数据集上进行的。\n",
    "- 缺陷\n",
    "  - 采集的数据噪声比较大。\n",
    "  - 使得实时通讯量以一种不利的方式进行潜在的改变（有可能大幅度降低检索的效果，从而导致用户的离开）。\n"
   ]
  },
  {
   "cell_type": "code",
   "execution_count": null,
   "metadata": {
    "collapsed": true
   },
   "outputs": [],
   "source": []
  }
 ],
 "metadata": {
  "kernelspec": {
   "display_name": "Python [Root]",
   "language": "python",
   "name": "Python [Root]"
  },
  "language_info": {
   "codemirror_mode": {
    "name": "ipython",
    "version": 2
   },
   "file_extension": ".py",
   "mimetype": "text/x-python",
   "name": "python",
   "nbconvert_exporter": "python",
   "pygments_lexer": "ipython2",
   "version": "2.7.12"
  }
 },
 "nbformat": 4,
 "nbformat_minor": 0
}
