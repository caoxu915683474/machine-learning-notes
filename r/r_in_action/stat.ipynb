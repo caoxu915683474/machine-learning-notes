{
 "cells": [
  {
   "cell_type": "markdown",
   "metadata": {},
   "source": [
    "# 基本统计分析\n",
    "## 描述性统计分析\n",
    "- 每加仑汽油行驶英里数（mpg）\n",
    "- 马力（hp）\n",
    "- 车重（wt）"
   ]
  },
  {
   "cell_type": "code",
   "execution_count": 1,
   "metadata": {
    "collapsed": false
   },
   "outputs": [
    {
     "data": {
      "text/html": [
       "<table>\n",
       "<thead><tr><th></th><th scope=col>mpg</th><th scope=col>hp</th><th scope=col>wt</th></tr></thead>\n",
       "<tbody>\n",
       "\t<tr><th scope=row>Mazda RX4</th><td>21.0 </td><td>110  </td><td>2.620</td></tr>\n",
       "\t<tr><th scope=row>Mazda RX4 Wag</th><td>21.0 </td><td>110  </td><td>2.875</td></tr>\n",
       "\t<tr><th scope=row>Datsun 710</th><td>22.8 </td><td> 93  </td><td>2.320</td></tr>\n",
       "\t<tr><th scope=row>Hornet 4 Drive</th><td>21.4 </td><td>110  </td><td>3.215</td></tr>\n",
       "\t<tr><th scope=row>Hornet Sportabout</th><td>18.7 </td><td>175  </td><td>3.440</td></tr>\n",
       "\t<tr><th scope=row>Valiant</th><td>18.1 </td><td>105  </td><td>3.460</td></tr>\n",
       "</tbody>\n",
       "</table>\n"
      ],
      "text/latex": [
       "\\begin{tabular}{r|lll}\n",
       "  & mpg & hp & wt\\\\\n",
       "\\hline\n",
       "\tMazda RX4 & 21.0  & 110   & 2.620\\\\\n",
       "\tMazda RX4 Wag & 21.0  & 110   & 2.875\\\\\n",
       "\tDatsun 710 & 22.8  &  93   & 2.320\\\\\n",
       "\tHornet 4 Drive & 21.4  & 110   & 3.215\\\\\n",
       "\tHornet Sportabout & 18.7  & 175   & 3.440\\\\\n",
       "\tValiant & 18.1  & 105   & 3.460\\\\\n",
       "\\end{tabular}\n"
      ],
      "text/markdown": [
       "\n",
       "| <!--/--> | mpg | hp | wt | \n",
       "|---|---|---|---|---|---|\n",
       "| Mazda RX4 | 21.0  | 110   | 2.620 | \n",
       "| Mazda RX4 Wag | 21.0  | 110   | 2.875 | \n",
       "| Datsun 710 | 22.8  |  93   | 2.320 | \n",
       "| Hornet 4 Drive | 21.4  | 110   | 3.215 | \n",
       "| Hornet Sportabout | 18.7  | 175   | 3.440 | \n",
       "| Valiant | 18.1  | 105   | 3.460 | \n",
       "\n",
       "\n"
      ],
      "text/plain": [
       "                  mpg  hp  wt   \n",
       "Mazda RX4         21.0 110 2.620\n",
       "Mazda RX4 Wag     21.0 110 2.875\n",
       "Datsun 710        22.8  93 2.320\n",
       "Hornet 4 Drive    21.4 110 3.215\n",
       "Hornet Sportabout 18.7 175 3.440\n",
       "Valiant           18.1 105 3.460"
      ]
     },
     "metadata": {},
     "output_type": "display_data"
    }
   ],
   "source": [
    "myvars <- c(\"mpg\", \"hp\", \"wt\")\n",
    "head(mtcars[myvars])"
   ]
  },
  {
   "cell_type": "markdown",
   "metadata": {},
   "source": [
    "### 全集的描述性统计量\n",
    "代码清单7-1 通过summary()计算描述性统计量"
   ]
  },
  {
   "cell_type": "code",
   "execution_count": 2,
   "metadata": {
    "collapsed": false
   },
   "outputs": [
    {
     "data": {
      "text/plain": [
       "      mpg              hp              wt       \n",
       " Min.   :10.40   Min.   : 52.0   Min.   :1.513  \n",
       " 1st Qu.:15.43   1st Qu.: 96.5   1st Qu.:2.581  \n",
       " Median :19.20   Median :123.0   Median :3.325  \n",
       " Mean   :20.09   Mean   :146.7   Mean   :3.217  \n",
       " 3rd Qu.:22.80   3rd Qu.:180.0   3rd Qu.:3.610  \n",
       " Max.   :33.90   Max.   :335.0   Max.   :5.424  "
      ]
     },
     "metadata": {},
     "output_type": "display_data"
    }
   ],
   "source": [
    "myvars <- c(\"mpg\", \"hp\", \"wt\")\n",
    "summary(mtcars[myvars])"
   ]
  },
  {
   "cell_type": "markdown",
   "metadata": {},
   "source": [
    "代码清单7-2 通过sapply()计算描述性统计量"
   ]
  },
  {
   "cell_type": "code",
   "execution_count": 3,
   "metadata": {
    "collapsed": false
   },
   "outputs": [
    {
     "data": {
      "text/html": [
       "<table>\n",
       "<thead><tr><th></th><th scope=col>mpg</th><th scope=col>hp</th><th scope=col>wt</th></tr></thead>\n",
       "<tbody>\n",
       "\t<tr><th scope=row>n</th><td>32.000000  </td><td> 32.0000000</td><td>32.00000000</td></tr>\n",
       "\t<tr><th scope=row>mean</th><td>20.090625  </td><td>146.6875000</td><td> 3.21725000</td></tr>\n",
       "\t<tr><th scope=row>stdev</th><td> 6.026948  </td><td> 68.5628685</td><td> 0.97845744</td></tr>\n",
       "\t<tr><th scope=row>skew</th><td> 0.610655  </td><td>  0.7260237</td><td> 0.42314646</td></tr>\n",
       "\t<tr><th scope=row>kurtosis</th><td>-0.372766  </td><td> -0.1355511</td><td>-0.02271075</td></tr>\n",
       "</tbody>\n",
       "</table>\n"
      ],
      "text/latex": [
       "\\begin{tabular}{r|lll}\n",
       "  & mpg & hp & wt\\\\\n",
       "\\hline\n",
       "\tn & 32.000000   &  32.0000000 & 32.00000000\\\\\n",
       "\tmean & 20.090625   & 146.6875000 &  3.21725000\\\\\n",
       "\tstdev &  6.026948   &  68.5628685 &  0.97845744\\\\\n",
       "\tskew &  0.610655   &   0.7260237 &  0.42314646\\\\\n",
       "\tkurtosis & -0.372766   &  -0.1355511 & -0.02271075\\\\\n",
       "\\end{tabular}\n"
      ],
      "text/markdown": [
       "\n",
       "| <!--/--> | mpg | hp | wt | \n",
       "|---|---|---|---|---|\n",
       "| n | 32.000000   |  32.0000000 | 32.00000000 | \n",
       "| mean | 20.090625   | 146.6875000 |  3.21725000 | \n",
       "| stdev |  6.026948   |  68.5628685 |  0.97845744 | \n",
       "| skew |  0.610655   |   0.7260237 |  0.42314646 | \n",
       "| kurtosis | -0.372766   |  -0.1355511 | -0.02271075 | \n",
       "\n",
       "\n"
      ],
      "text/plain": [
       "         mpg       hp          wt         \n",
       "n        32.000000  32.0000000 32.00000000\n",
       "mean     20.090625 146.6875000  3.21725000\n",
       "stdev     6.026948  68.5628685  0.97845744\n",
       "skew      0.610655   0.7260237  0.42314646\n",
       "kurtosis -0.372766  -0.1355511 -0.02271075"
      ]
     },
     "metadata": {},
     "output_type": "display_data"
    }
   ],
   "source": [
    "mystats <- function(x, na.omit=FALSE) {\n",
    "    if (na.omit)\n",
    "        x <- x[!is.na(x)]\n",
    "    m <- mean(x)\n",
    "    n <- length(x)\n",
    "    s <- sd(x)\n",
    "    skew <- sum((x-m)^3/s^3)/n\n",
    "    kurt <- sum((x-m)^4/s^4)/n - 3\n",
    "    return(c(n=n, mean=m, stdev=s, skew=skew, kurtosis=kurt))\n",
    "}\n",
    "\n",
    "myvars <- c(\"mpg\", \"hp\", \"wt\")\n",
    "sapply(mtcars[myvars], mystats)"
   ]
  },
  {
   "cell_type": "markdown",
   "metadata": {},
   "source": [
    "代码清单7-3 通过Hmisc包\u001b中的describe()函数计算描述性统计量"
   ]
  },
  {
   "cell_type": "code",
   "execution_count": 5,
   "metadata": {
    "collapsed": false
   },
   "outputs": [
    {
     "data": {
      "text/plain": [
       "mtcars[myvars] \n",
       "\n",
       " 3  Variables      32  Observations\n",
       "--------------------------------------------------------------------------------\n",
       "mpg \n",
       "       n  missing distinct     Info     Mean      Gmd      .05      .10 \n",
       "      32        0       25    0.999    20.09    6.796    12.00    14.34 \n",
       "     .25      .50      .75      .90      .95 \n",
       "   15.43    19.20    22.80    30.09    31.30 \n",
       "\n",
       "lowest : 10.4 13.3 14.3 14.7 15.0, highest: 26.0 27.3 30.4 32.4 33.9\n",
       "--------------------------------------------------------------------------------\n",
       "hp \n",
       "       n  missing distinct     Info     Mean      Gmd      .05      .10 \n",
       "      32        0       22    0.997    146.7    77.04    63.65    66.00 \n",
       "     .25      .50      .75      .90      .95 \n",
       "   96.50   123.00   180.00   243.50   253.55 \n",
       "\n",
       "lowest :  52  62  65  66  91, highest: 215 230 245 264 335\n",
       "--------------------------------------------------------------------------------\n",
       "wt \n",
       "       n  missing distinct     Info     Mean      Gmd      .05      .10 \n",
       "      32        0       29    0.999    3.217    1.089    1.736    1.956 \n",
       "     .25      .50      .75      .90      .95 \n",
       "   2.581    3.325    3.610    4.048    5.293 \n",
       "\n",
       "lowest : 1.513 1.615 1.835 1.935 2.140, highest: 3.845 4.070 5.250 5.345 5.424\n",
       "--------------------------------------------------------------------------------"
      ]
     },
     "metadata": {},
     "output_type": "display_data"
    }
   ],
   "source": [
    "library(Hmisc)\n",
    "myvars <- c(\"mpg\", \"hp\", \"wt\")\n",
    "describe(mtcars[myvars])"
   ]
  },
  {
   "cell_type": "markdown",
   "metadata": {},
   "source": [
    "代码清单7-4 通过pastecs包中的stat.desc()函数计算描述性统计量"
   ]
  },
  {
   "cell_type": "code",
   "execution_count": 7,
   "metadata": {
    "collapsed": false
   },
   "outputs": [
    {
     "data": {
      "text/html": [
       "<table>\n",
       "<thead><tr><th></th><th scope=col>mpg</th><th scope=col>hp</th><th scope=col>wt</th></tr></thead>\n",
       "<tbody>\n",
       "\t<tr><th scope=row>nbr.val</th><td> 32.0000000 </td><td>  32.0000000</td><td> 32.0000000 </td></tr>\n",
       "\t<tr><th scope=row>nbr.null</th><td>  0.0000000 </td><td>   0.0000000</td><td>  0.0000000 </td></tr>\n",
       "\t<tr><th scope=row>nbr.na</th><td>  0.0000000 </td><td>   0.0000000</td><td>  0.0000000 </td></tr>\n",
       "\t<tr><th scope=row>min</th><td> 10.4000000 </td><td>  52.0000000</td><td>  1.5130000 </td></tr>\n",
       "\t<tr><th scope=row>max</th><td> 33.9000000 </td><td> 335.0000000</td><td>  5.4240000 </td></tr>\n",
       "\t<tr><th scope=row>range</th><td> 23.5000000 </td><td> 283.0000000</td><td>  3.9110000 </td></tr>\n",
       "\t<tr><th scope=row>sum</th><td>642.9000000 </td><td>4694.0000000</td><td>102.9520000 </td></tr>\n",
       "\t<tr><th scope=row>median</th><td> 19.2000000 </td><td> 123.0000000</td><td>  3.3250000 </td></tr>\n",
       "\t<tr><th scope=row>mean</th><td> 20.0906250 </td><td> 146.6875000</td><td>  3.2172500 </td></tr>\n",
       "\t<tr><th scope=row>SE.mean</th><td>  1.0654240 </td><td>  12.1203173</td><td>  0.1729685 </td></tr>\n",
       "\t<tr><th scope=row>CI.mean.0.95</th><td>  2.1729465 </td><td>  24.7195501</td><td>  0.3527715 </td></tr>\n",
       "\t<tr><th scope=row>var</th><td> 36.3241028 </td><td>4700.8669355</td><td>  0.9573790 </td></tr>\n",
       "\t<tr><th scope=row>std.dev</th><td>  6.0269481 </td><td>  68.5628685</td><td>  0.9784574 </td></tr>\n",
       "\t<tr><th scope=row>coef.var</th><td>  0.2999881 </td><td>   0.4674077</td><td>  0.3041285 </td></tr>\n",
       "</tbody>\n",
       "</table>\n"
      ],
      "text/latex": [
       "\\begin{tabular}{r|lll}\n",
       "  & mpg & hp & wt\\\\\n",
       "\\hline\n",
       "\tnbr.val &  32.0000000  &   32.0000000 &  32.0000000 \\\\\n",
       "\tnbr.null &   0.0000000  &    0.0000000 &   0.0000000 \\\\\n",
       "\tnbr.na &   0.0000000  &    0.0000000 &   0.0000000 \\\\\n",
       "\tmin &  10.4000000  &   52.0000000 &   1.5130000 \\\\\n",
       "\tmax &  33.9000000  &  335.0000000 &   5.4240000 \\\\\n",
       "\trange &  23.5000000  &  283.0000000 &   3.9110000 \\\\\n",
       "\tsum & 642.9000000  & 4694.0000000 & 102.9520000 \\\\\n",
       "\tmedian &  19.2000000  &  123.0000000 &   3.3250000 \\\\\n",
       "\tmean &  20.0906250  &  146.6875000 &   3.2172500 \\\\\n",
       "\tSE.mean &   1.0654240  &   12.1203173 &   0.1729685 \\\\\n",
       "\tCI.mean.0.95 &   2.1729465  &   24.7195501 &   0.3527715 \\\\\n",
       "\tvar &  36.3241028  & 4700.8669355 &   0.9573790 \\\\\n",
       "\tstd.dev &   6.0269481  &   68.5628685 &   0.9784574 \\\\\n",
       "\tcoef.var &   0.2999881  &    0.4674077 &   0.3041285 \\\\\n",
       "\\end{tabular}\n"
      ],
      "text/markdown": [
       "\n",
       "| <!--/--> | mpg | hp | wt | \n",
       "|---|---|---|---|---|---|---|---|---|---|---|---|---|---|\n",
       "| nbr.val |  32.0000000  |   32.0000000 |  32.0000000  | \n",
       "| nbr.null |   0.0000000  |    0.0000000 |   0.0000000  | \n",
       "| nbr.na |   0.0000000  |    0.0000000 |   0.0000000  | \n",
       "| min |  10.4000000  |   52.0000000 |   1.5130000  | \n",
       "| max |  33.9000000  |  335.0000000 |   5.4240000  | \n",
       "| range |  23.5000000  |  283.0000000 |   3.9110000  | \n",
       "| sum | 642.9000000  | 4694.0000000 | 102.9520000  | \n",
       "| median |  19.2000000  |  123.0000000 |   3.3250000  | \n",
       "| mean |  20.0906250  |  146.6875000 |   3.2172500  | \n",
       "| SE.mean |   1.0654240  |   12.1203173 |   0.1729685  | \n",
       "| CI.mean.0.95 |   2.1729465  |   24.7195501 |   0.3527715  | \n",
       "| var |  36.3241028  | 4700.8669355 |   0.9573790  | \n",
       "| std.dev |   6.0269481  |   68.5628685 |   0.9784574  | \n",
       "| coef.var |   0.2999881  |    0.4674077 |   0.3041285  | \n",
       "\n",
       "\n"
      ],
      "text/plain": [
       "             mpg         hp           wt         \n",
       "nbr.val       32.0000000   32.0000000  32.0000000\n",
       "nbr.null       0.0000000    0.0000000   0.0000000\n",
       "nbr.na         0.0000000    0.0000000   0.0000000\n",
       "min           10.4000000   52.0000000   1.5130000\n",
       "max           33.9000000  335.0000000   5.4240000\n",
       "range         23.5000000  283.0000000   3.9110000\n",
       "sum          642.9000000 4694.0000000 102.9520000\n",
       "median        19.2000000  123.0000000   3.3250000\n",
       "mean          20.0906250  146.6875000   3.2172500\n",
       "SE.mean        1.0654240   12.1203173   0.1729685\n",
       "CI.mean.0.95   2.1729465   24.7195501   0.3527715\n",
       "var           36.3241028 4700.8669355   0.9573790\n",
       "std.dev        6.0269481   68.5628685   0.9784574\n",
       "coef.var       0.2999881    0.4674077   0.3041285"
      ]
     },
     "metadata": {},
     "output_type": "display_data"
    }
   ],
   "source": [
    "library(pastecs)\n",
    "myvars <- c(\"mpg\", \"hp\", \"wt\")\n",
    "stat.desc(mtcars[myvars])"
   ]
  },
  {
   "cell_type": "markdown",
   "metadata": {},
   "source": [
    "代码清单7-5 通过psych包中的describe()计算描述性统计量"
   ]
  },
  {
   "cell_type": "code",
   "execution_count": 10,
   "metadata": {
    "collapsed": false
   },
   "outputs": [
    {
     "data": {
      "text/html": [
       "<table>\n",
       "<thead><tr><th></th><th scope=col>vars</th><th scope=col>n</th><th scope=col>mean</th><th scope=col>sd</th><th scope=col>median</th><th scope=col>trimmed</th><th scope=col>mad</th><th scope=col>min</th><th scope=col>max</th><th scope=col>range</th><th scope=col>skew</th><th scope=col>kurtosis</th><th scope=col>se</th></tr></thead>\n",
       "<tbody>\n",
       "\t<tr><th scope=row>mpg</th><td>1          </td><td>32         </td><td> 20.09062  </td><td> 6.0269481 </td><td> 19.200    </td><td> 19.696154 </td><td> 5.4114900 </td><td>10.400     </td><td> 33.900    </td><td> 23.500    </td><td>0.6106550  </td><td>-0.37276603</td><td> 1.0654240 </td></tr>\n",
       "\t<tr><th scope=row>hp</th><td>2          </td><td>32         </td><td>146.68750  </td><td>68.5628685 </td><td>123.000    </td><td>141.192308 </td><td>77.0952000 </td><td>52.000     </td><td>335.000    </td><td>283.000    </td><td>0.7260237  </td><td>-0.13555112</td><td>12.1203173 </td></tr>\n",
       "\t<tr><th scope=row>wt</th><td>3          </td><td>32         </td><td>  3.21725  </td><td> 0.9784574 </td><td>  3.325    </td><td>  3.152692 </td><td> 0.7672455 </td><td> 1.513     </td><td>  5.424    </td><td>  3.911    </td><td>0.4231465  </td><td>-0.02271075</td><td> 0.1729685 </td></tr>\n",
       "</tbody>\n",
       "</table>\n"
      ],
      "text/latex": [
       "\\begin{tabular}{r|lllllllllllll}\n",
       "  & vars & n & mean & sd & median & trimmed & mad & min & max & range & skew & kurtosis & se\\\\\n",
       "\\hline\n",
       "\tmpg & 1           & 32          &  20.09062   &  6.0269481  &  19.200     &  19.696154  &  5.4114900  & 10.400      &  33.900     &  23.500     & 0.6106550   & -0.37276603 &  1.0654240 \\\\\n",
       "\thp & 2           & 32          & 146.68750   & 68.5628685  & 123.000     & 141.192308  & 77.0952000  & 52.000      & 335.000     & 283.000     & 0.7260237   & -0.13555112 & 12.1203173 \\\\\n",
       "\twt & 3           & 32          &   3.21725   &  0.9784574  &   3.325     &   3.152692  &  0.7672455  &  1.513      &   5.424     &   3.911     & 0.4231465   & -0.02271075 &  0.1729685 \\\\\n",
       "\\end{tabular}\n"
      ],
      "text/markdown": [
       "\n",
       "| <!--/--> | vars | n | mean | sd | median | trimmed | mad | min | max | range | skew | kurtosis | se | \n",
       "|---|---|---|\n",
       "| mpg | 1           | 32          |  20.09062   |  6.0269481  |  19.200     |  19.696154  |  5.4114900  | 10.400      |  33.900     |  23.500     | 0.6106550   | -0.37276603 |  1.0654240  | \n",
       "| hp | 2           | 32          | 146.68750   | 68.5628685  | 123.000     | 141.192308  | 77.0952000  | 52.000      | 335.000     | 283.000     | 0.7260237   | -0.13555112 | 12.1203173  | \n",
       "| wt | 3           | 32          |   3.21725   |  0.9784574  |   3.325     |   3.152692  |  0.7672455  |  1.513      |   5.424     |   3.911     | 0.4231465   | -0.02271075 |  0.1729685  | \n",
       "\n",
       "\n"
      ],
      "text/plain": [
       "    vars n  mean      sd         median  trimmed    mad        min    max    \n",
       "mpg 1    32  20.09062  6.0269481  19.200  19.696154  5.4114900 10.400  33.900\n",
       "hp  2    32 146.68750 68.5628685 123.000 141.192308 77.0952000 52.000 335.000\n",
       "wt  3    32   3.21725  0.9784574   3.325   3.152692  0.7672455  1.513   5.424\n",
       "    range   skew      kurtosis    se        \n",
       "mpg  23.500 0.6106550 -0.37276603  1.0654240\n",
       "hp  283.000 0.7260237 -0.13555112 12.1203173\n",
       "wt    3.911 0.4231465 -0.02271075  0.1729685"
      ]
     },
     "metadata": {},
     "output_type": "display_data"
    }
   ],
   "source": [
    "library(psych)\n",
    "myvars <- c(\"mpg\", \"hp\", \"wt\")\n",
    "describe(mtcars[myvars])"
   ]
  },
  {
   "cell_type": "markdown",
   "metadata": {},
   "source": [
    "### 分组计算描述性统计量\n",
    "代码清单7-6 使用aggregate()分组\u001b获取描述性统计量"
   ]
  },
  {
   "cell_type": "code",
   "execution_count": 11,
   "metadata": {
    "collapsed": false
   },
   "outputs": [
    {
     "data": {
      "text/html": [
       "<table>\n",
       "<thead><tr><th scope=col>am</th><th scope=col>mpg</th><th scope=col>hp</th><th scope=col>wt</th></tr></thead>\n",
       "<tbody>\n",
       "\t<tr><td>0       </td><td>17.14737</td><td>160.2632</td><td>3.768895</td></tr>\n",
       "\t<tr><td>1       </td><td>24.39231</td><td>126.8462</td><td>2.411000</td></tr>\n",
       "</tbody>\n",
       "</table>\n"
      ],
      "text/latex": [
       "\\begin{tabular}{r|llll}\n",
       " am & mpg & hp & wt\\\\\n",
       "\\hline\n",
       "\t 0        & 17.14737 & 160.2632 & 3.768895\\\\\n",
       "\t 1        & 24.39231 & 126.8462 & 2.411000\\\\\n",
       "\\end{tabular}\n"
      ],
      "text/markdown": [
       "\n",
       "am | mpg | hp | wt | \n",
       "|---|---|\n",
       "| 0        | 17.14737 | 160.2632 | 3.768895 | \n",
       "| 1        | 24.39231 | 126.8462 | 2.411000 | \n",
       "\n",
       "\n"
      ],
      "text/plain": [
       "  am mpg      hp       wt      \n",
       "1 0  17.14737 160.2632 3.768895\n",
       "2 1  24.39231 126.8462 2.411000"
      ]
     },
     "metadata": {},
     "output_type": "display_data"
    }
   ],
   "source": [
    "myvars <- c(\"mpg\", \"hp\", \"wt\")\n",
    "aggregate(mtcars[myvars], by=list(am=mtcars$am), mean)"
   ]
  },
  {
   "cell_type": "code",
   "execution_count": 12,
   "metadata": {
    "collapsed": false
   },
   "outputs": [
    {
     "data": {
      "text/html": [
       "<table>\n",
       "<thead><tr><th scope=col>am</th><th scope=col>mpg</th><th scope=col>hp</th><th scope=col>wt</th></tr></thead>\n",
       "<tbody>\n",
       "\t<tr><td>0        </td><td>3.833966 </td><td>53.90820 </td><td>0.7774001</td></tr>\n",
       "\t<tr><td>1        </td><td>6.166504 </td><td>84.06232 </td><td>0.6169816</td></tr>\n",
       "</tbody>\n",
       "</table>\n"
      ],
      "text/latex": [
       "\\begin{tabular}{r|llll}\n",
       " am & mpg & hp & wt\\\\\n",
       "\\hline\n",
       "\t 0         & 3.833966  & 53.90820  & 0.7774001\\\\\n",
       "\t 1         & 6.166504  & 84.06232  & 0.6169816\\\\\n",
       "\\end{tabular}\n"
      ],
      "text/markdown": [
       "\n",
       "am | mpg | hp | wt | \n",
       "|---|---|\n",
       "| 0         | 3.833966  | 53.90820  | 0.7774001 | \n",
       "| 1         | 6.166504  | 84.06232  | 0.6169816 | \n",
       "\n",
       "\n"
      ],
      "text/plain": [
       "  am mpg      hp       wt       \n",
       "1 0  3.833966 53.90820 0.7774001\n",
       "2 1  6.166504 84.06232 0.6169816"
      ]
     },
     "metadata": {},
     "output_type": "display_data"
    }
   ],
   "source": [
    "aggregate(mtcars[myvars], by=list(am=mtcars$am), sd)"
   ]
  },
  {
   "cell_type": "markdown",
   "metadata": {},
   "source": [
    "代码清单7-7 使用by()分组计算描述性统计量"
   ]
  },
  {
   "cell_type": "code",
   "execution_count": 13,
   "metadata": {
    "collapsed": false
   },
   "outputs": [
    {
     "data": {
      "text/plain": [
       "mtcars$am: 0\n",
       "                 mpg           hp         wt\n",
       "n        19.00000000  19.00000000 19.0000000\n",
       "mean     17.14736842 160.26315789  3.7688947\n",
       "stdev     3.83396639  53.90819573  0.7774001\n",
       "skew      0.01395038  -0.01422519  0.9759294\n",
       "kurtosis -0.80317826  -1.20969733  0.1415676\n",
       "------------------------------------------------------------ \n",
       "mtcars$am: 1\n",
       "                 mpg          hp         wt\n",
       "n        13.00000000  13.0000000 13.0000000\n",
       "mean     24.39230769 126.8461538  2.4110000\n",
       "stdev     6.16650381  84.0623243  0.6169816\n",
       "skew      0.05256118   1.3598859  0.2103128\n",
       "kurtosis -1.45535200   0.5634635 -1.1737358"
      ]
     },
     "metadata": {},
     "output_type": "display_data"
    }
   ],
   "source": [
    "dstats <- function(x) {\n",
    "    sapply(x, mystats)\n",
    "}\n",
    "\n",
    "myvars <- c(\"mpg\", \"hp\", \"wt\")\n",
    "by(mtcars[myvars], mtcars$am, dstats)"
   ]
  },
  {
   "cell_type": "markdown",
   "metadata": {},
   "source": [
    "代码清单7-8 使用doBy包中的summaryBy()分组计算概述统计量"
   ]
  },
  {
   "cell_type": "code",
   "execution_count": 14,
   "metadata": {
    "collapsed": false
   },
   "outputs": [
    {
     "data": {
      "text/html": [
       "<table>\n",
       "<thead><tr><th scope=col>am</th><th scope=col>mpg.n</th><th scope=col>mpg.mean</th><th scope=col>mpg.stdev</th><th scope=col>mpg.skew</th><th scope=col>mpg.kurtosis</th><th scope=col>hp.n</th><th scope=col>hp.mean</th><th scope=col>hp.stdev</th><th scope=col>hp.skew</th><th scope=col>hp.kurtosis</th><th scope=col>wt.n</th><th scope=col>wt.mean</th><th scope=col>wt.stdev</th><th scope=col>wt.skew</th><th scope=col>wt.kurtosis</th></tr></thead>\n",
       "<tbody>\n",
       "\t<tr><td>0          </td><td>19         </td><td>17.14737   </td><td>3.833966   </td><td>0.01395038 </td><td>-0.8031783 </td><td>19         </td><td>160.2632   </td><td>53.90820   </td><td>-0.01422519</td><td>-1.2096973 </td><td>19         </td><td>3.768895   </td><td>0.7774001  </td><td>0.9759294  </td><td> 0.1415676 </td></tr>\n",
       "\t<tr><td>1          </td><td>13         </td><td>24.39231   </td><td>6.166504   </td><td>0.05256118 </td><td>-1.4553520 </td><td>13         </td><td>126.8462   </td><td>84.06232   </td><td> 1.35988586</td><td> 0.5634635 </td><td>13         </td><td>2.411000   </td><td>0.6169816  </td><td>0.2103128  </td><td>-1.1737358 </td></tr>\n",
       "</tbody>\n",
       "</table>\n"
      ],
      "text/latex": [
       "\\begin{tabular}{r|llllllllllllllll}\n",
       " am & mpg.n & mpg.mean & mpg.stdev & mpg.skew & mpg.kurtosis & hp.n & hp.mean & hp.stdev & hp.skew & hp.kurtosis & wt.n & wt.mean & wt.stdev & wt.skew & wt.kurtosis\\\\\n",
       "\\hline\n",
       "\t 0           & 19          & 17.14737    & 3.833966    & 0.01395038  & -0.8031783  & 19          & 160.2632    & 53.90820    & -0.01422519 & -1.2096973  & 19          & 3.768895    & 0.7774001   & 0.9759294   &  0.1415676 \\\\\n",
       "\t 1           & 13          & 24.39231    & 6.166504    & 0.05256118  & -1.4553520  & 13          & 126.8462    & 84.06232    &  1.35988586 &  0.5634635  & 13          & 2.411000    & 0.6169816   & 0.2103128   & -1.1737358 \\\\\n",
       "\\end{tabular}\n"
      ],
      "text/markdown": [
       "\n",
       "am | mpg.n | mpg.mean | mpg.stdev | mpg.skew | mpg.kurtosis | hp.n | hp.mean | hp.stdev | hp.skew | hp.kurtosis | wt.n | wt.mean | wt.stdev | wt.skew | wt.kurtosis | \n",
       "|---|---|\n",
       "| 0           | 19          | 17.14737    | 3.833966    | 0.01395038  | -0.8031783  | 19          | 160.2632    | 53.90820    | -0.01422519 | -1.2096973  | 19          | 3.768895    | 0.7774001   | 0.9759294   |  0.1415676  | \n",
       "| 1           | 13          | 24.39231    | 6.166504    | 0.05256118  | -1.4553520  | 13          | 126.8462    | 84.06232    |  1.35988586 |  0.5634635  | 13          | 2.411000    | 0.6169816   | 0.2103128   | -1.1737358  | \n",
       "\n",
       "\n"
      ],
      "text/plain": [
       "  am mpg.n mpg.mean mpg.stdev mpg.skew   mpg.kurtosis hp.n hp.mean  hp.stdev\n",
       "1 0  19    17.14737 3.833966  0.01395038 -0.8031783   19   160.2632 53.90820\n",
       "2 1  13    24.39231 6.166504  0.05256118 -1.4553520   13   126.8462 84.06232\n",
       "  hp.skew     hp.kurtosis wt.n wt.mean  wt.stdev  wt.skew   wt.kurtosis\n",
       "1 -0.01422519 -1.2096973  19   3.768895 0.7774001 0.9759294  0.1415676 \n",
       "2  1.35988586  0.5634635  13   2.411000 0.6169816 0.2103128 -1.1737358 "
      ]
     },
     "metadata": {},
     "output_type": "display_data"
    }
   ],
   "source": [
    "library(doBy)\n",
    "summaryBy(mpg+hp+wt~am, data=mtcars, FUN=mystats)"
   ]
  },
  {
   "cell_type": "markdown",
   "metadata": {},
   "source": [
    "代码清单7-9 使用psych包中的describeBy()\u001b\b分组计算概述统计量"
   ]
  },
  {
   "cell_type": "code",
   "execution_count": 15,
   "metadata": {
    "collapsed": false
   },
   "outputs": [
    {
     "data": {
      "text/plain": [
       "\n",
       " Descriptive statistics by group \n",
       "am: 0\n",
       "    vars  n   mean    sd median trimmed   mad   min    max  range  skew\n",
       "mpg    1 19  17.15  3.83  17.30   17.12  3.11 10.40  24.40  14.00  0.01\n",
       "hp     2 19 160.26 53.91 175.00  161.06 77.10 62.00 245.00 183.00 -0.01\n",
       "wt     3 19   3.77  0.78   3.52    3.75  0.45  2.46   5.42   2.96  0.98\n",
       "    kurtosis    se\n",
       "mpg    -0.80  0.88\n",
       "hp     -1.21 12.37\n",
       "wt      0.14  0.18\n",
       "------------------------------------------------------------ \n",
       "am: 1\n",
       "    vars  n   mean    sd median trimmed   mad   min    max  range skew kurtosis\n",
       "mpg    1 13  24.39  6.17  22.80   24.38  6.67 15.00  33.90  18.90 0.05    -1.46\n",
       "hp     2 13 126.85 84.06 109.00  114.73 63.75 52.00 335.00 283.00 1.36     0.56\n",
       "wt     3 13   2.41  0.62   2.32    2.39  0.68  1.51   3.57   2.06 0.21    -1.17\n",
       "       se\n",
       "mpg  1.71\n",
       "hp  23.31\n",
       "wt   0.17"
      ]
     },
     "metadata": {},
     "output_type": "display_data"
    }
   ],
   "source": [
    "library(psych)\n",
    "myvars <- c(\"mpg\", \"hp\", \"wt\")\n",
    "describeBy(mtcars[myvars], list(am=mtcars$am))"
   ]
  },
  {
   "cell_type": "markdown",
   "metadata": {},
   "source": [
    "## 频数表和列联表"
   ]
  },
  {
   "cell_type": "code",
   "execution_count": 17,
   "metadata": {
    "collapsed": false
   },
   "outputs": [
    {
     "data": {
      "text/html": [
       "<table>\n",
       "<thead><tr><th scope=col>ID</th><th scope=col>Treatment</th><th scope=col>Sex</th><th scope=col>Age</th><th scope=col>Improved</th></tr></thead>\n",
       "<tbody>\n",
       "\t<tr><td>57     </td><td>Treated</td><td>Male   </td><td>27     </td><td>Some   </td></tr>\n",
       "\t<tr><td>46     </td><td>Treated</td><td>Male   </td><td>29     </td><td>None   </td></tr>\n",
       "\t<tr><td>77     </td><td>Treated</td><td>Male   </td><td>30     </td><td>None   </td></tr>\n",
       "\t<tr><td>17     </td><td>Treated</td><td>Male   </td><td>32     </td><td>Marked </td></tr>\n",
       "\t<tr><td>36     </td><td>Treated</td><td>Male   </td><td>46     </td><td>Marked </td></tr>\n",
       "\t<tr><td>23     </td><td>Treated</td><td>Male   </td><td>58     </td><td>Marked </td></tr>\n",
       "</tbody>\n",
       "</table>\n"
      ],
      "text/latex": [
       "\\begin{tabular}{r|lllll}\n",
       " ID & Treatment & Sex & Age & Improved\\\\\n",
       "\\hline\n",
       "\t 57      & Treated & Male    & 27      & Some   \\\\\n",
       "\t 46      & Treated & Male    & 29      & None   \\\\\n",
       "\t 77      & Treated & Male    & 30      & None   \\\\\n",
       "\t 17      & Treated & Male    & 32      & Marked \\\\\n",
       "\t 36      & Treated & Male    & 46      & Marked \\\\\n",
       "\t 23      & Treated & Male    & 58      & Marked \\\\\n",
       "\\end{tabular}\n"
      ],
      "text/markdown": [
       "\n",
       "ID | Treatment | Sex | Age | Improved | \n",
       "|---|---|---|---|---|---|\n",
       "| 57      | Treated | Male    | 27      | Some    | \n",
       "| 46      | Treated | Male    | 29      | None    | \n",
       "| 77      | Treated | Male    | 30      | None    | \n",
       "| 17      | Treated | Male    | 32      | Marked  | \n",
       "| 36      | Treated | Male    | 46      | Marked  | \n",
       "| 23      | Treated | Male    | 58      | Marked  | \n",
       "\n",
       "\n"
      ],
      "text/plain": [
       "  ID Treatment Sex  Age Improved\n",
       "1 57 Treated   Male 27  Some    \n",
       "2 46 Treated   Male 29  None    \n",
       "3 77 Treated   Male 30  None    \n",
       "4 17 Treated   Male 32  Marked  \n",
       "5 36 Treated   Male 46  Marked  \n",
       "6 23 Treated   Male 58  Marked  "
      ]
     },
     "metadata": {},
     "output_type": "display_data"
    }
   ],
   "source": [
    "library(vcd)\n",
    "head(Arthritis)"
   ]
  },
  {
   "cell_type": "markdown",
   "metadata": {},
   "source": [
    "### 生成频数表\n",
    "表7-1 用于创建和处理列联表的函数\n",
    "\n",
    "| 函数 | 描述 |\n",
    "| --- | --- |\n",
    "| table(var1, var2, ..., varN) | 使用N个类别型变量（因子）创建一个N维列联表 |\n",
    "| xtabs(formula, data) | 根据一个公式和一个矩阵或数据框创建一个N维列联表 |\n",
    "| prop.table(table, margins) | 依margins定义的边际列表中条目表示为分数形式 |\n",
    "| margin.table(table, margins) | 依margins定义的边际列表中条目的和 |\n",
    "| addmargins(table, margins) | 将概述边margins（默认是求和结果）放入表中 |\n",
    "| ftable(table) | 创建一个紧凑的“平铺”式列联表 |\n",
    "\n",
    "#### 1.一维列联表"
   ]
  },
  {
   "cell_type": "code",
   "execution_count": 18,
   "metadata": {
    "collapsed": false
   },
   "outputs": [
    {
     "data": {
      "text/plain": [
       "Improved\n",
       "  None   Some Marked \n",
       "    42     14     28 "
      ]
     },
     "metadata": {},
     "output_type": "display_data"
    }
   ],
   "source": [
    "mytable <- with(Arthritis, table(Improved))\n",
    "mytable"
   ]
  },
  {
   "cell_type": "code",
   "execution_count": 19,
   "metadata": {
    "collapsed": false
   },
   "outputs": [
    {
     "data": {
      "text/plain": [
       "Improved\n",
       "     None      Some    Marked \n",
       "0.5000000 0.1666667 0.3333333 "
      ]
     },
     "metadata": {},
     "output_type": "display_data"
    }
   ],
   "source": [
    "prop.table(mytable)"
   ]
  },
  {
   "cell_type": "code",
   "execution_count": 20,
   "metadata": {
    "collapsed": false
   },
   "outputs": [
    {
     "data": {
      "text/plain": [
       "Improved\n",
       "    None     Some   Marked \n",
       "50.00000 16.66667 33.33333 "
      ]
     },
     "metadata": {},
     "output_type": "display_data"
    }
   ],
   "source": [
    "prop.table(mytable)*100"
   ]
  },
  {
   "cell_type": "markdown",
   "metadata": {},
   "source": [
    "#### 2.二维列联表"
   ]
  },
  {
   "cell_type": "code",
   "execution_count": 21,
   "metadata": {
    "collapsed": false
   },
   "outputs": [
    {
     "data": {
      "text/plain": [
       "         Improved\n",
       "Treatment None Some Marked\n",
       "  Placebo   29    7      7\n",
       "  Treated   13    7     21"
      ]
     },
     "metadata": {},
     "output_type": "display_data"
    }
   ],
   "source": [
    "mytable <- xtabs(~ Treatment+Improved, data=Arthritis)\n",
    "mytable"
   ]
  },
  {
   "cell_type": "code",
   "execution_count": 22,
   "metadata": {
    "collapsed": false
   },
   "outputs": [
    {
     "data": {
      "text/plain": [
       "Treatment\n",
       "Placebo Treated \n",
       "     43      41 "
      ]
     },
     "metadata": {},
     "output_type": "display_data"
    }
   ],
   "source": [
    "margin.table(mytable, 1)"
   ]
  },
  {
   "cell_type": "code",
   "execution_count": 23,
   "metadata": {
    "collapsed": false
   },
   "outputs": [
    {
     "data": {
      "text/plain": [
       "         Improved\n",
       "Treatment      None      Some    Marked\n",
       "  Placebo 0.6744186 0.1627907 0.1627907\n",
       "  Treated 0.3170732 0.1707317 0.5121951"
      ]
     },
     "metadata": {},
     "output_type": "display_data"
    }
   ],
   "source": [
    "prop.table(mytable, 1)"
   ]
  },
  {
   "cell_type": "code",
   "execution_count": 24,
   "metadata": {
    "collapsed": false
   },
   "outputs": [
    {
     "data": {
      "text/plain": [
       "Improved\n",
       "  None   Some Marked \n",
       "    42     14     28 "
      ]
     },
     "metadata": {},
     "output_type": "display_data"
    }
   ],
   "source": [
    "margin.table(mytable, 2)"
   ]
  },
  {
   "cell_type": "code",
   "execution_count": 25,
   "metadata": {
    "collapsed": false
   },
   "outputs": [
    {
     "data": {
      "text/plain": [
       "         Improved\n",
       "Treatment      None      Some    Marked\n",
       "  Placebo 0.6904762 0.5000000 0.2500000\n",
       "  Treated 0.3095238 0.5000000 0.7500000"
      ]
     },
     "metadata": {},
     "output_type": "display_data"
    }
   ],
   "source": [
    "prop.table(mytable, 2)"
   ]
  },
  {
   "cell_type": "code",
   "execution_count": 26,
   "metadata": {
    "collapsed": false
   },
   "outputs": [
    {
     "data": {
      "text/plain": [
       "         Improved\n",
       "Treatment       None       Some     Marked\n",
       "  Placebo 0.34523810 0.08333333 0.08333333\n",
       "  Treated 0.15476190 0.08333333 0.25000000"
      ]
     },
     "metadata": {},
     "output_type": "display_data"
    }
   ],
   "source": [
    "prop.table(mytable)"
   ]
  },
  {
   "cell_type": "code",
   "execution_count": 27,
   "metadata": {
    "collapsed": false
   },
   "outputs": [
    {
     "data": {
      "text/html": [
       "<table>\n",
       "<thead><tr><th></th><th scope=col>None</th><th scope=col>Some</th><th scope=col>Marked</th><th scope=col>Sum</th></tr></thead>\n",
       "<tbody>\n",
       "\t<tr><th scope=row>Placebo</th><td>29</td><td> 7</td><td> 7</td><td>43</td></tr>\n",
       "\t<tr><th scope=row>Treated</th><td>13</td><td> 7</td><td>21</td><td>41</td></tr>\n",
       "\t<tr><th scope=row>Sum</th><td>42</td><td>14</td><td>28</td><td>84</td></tr>\n",
       "</tbody>\n",
       "</table>\n"
      ],
      "text/latex": [
       "\\begin{tabular}{r|llll}\n",
       "  & None & Some & Marked & Sum\\\\\n",
       "\\hline\n",
       "\tPlacebo & 29 &  7 &  7 & 43\\\\\n",
       "\tTreated & 13 &  7 & 21 & 41\\\\\n",
       "\tSum & 42 & 14 & 28 & 84\\\\\n",
       "\\end{tabular}\n"
      ],
      "text/markdown": [
       "\n",
       "| <!--/--> | None | Some | Marked | Sum | \n",
       "|---|---|---|\n",
       "| Placebo | 29 |  7 |  7 | 43 | \n",
       "| Treated | 13 |  7 | 21 | 41 | \n",
       "| Sum | 42 | 14 | 28 | 84 | \n",
       "\n",
       "\n"
      ],
      "text/plain": [
       "         Improved\n",
       "Treatment None Some Marked Sum\n",
       "  Placebo 29    7    7     43 \n",
       "  Treated 13    7   21     41 \n",
       "  Sum     42   14   28     84 "
      ]
     },
     "metadata": {},
     "output_type": "display_data"
    }
   ],
   "source": [
    "addmargins(mytable)"
   ]
  },
  {
   "cell_type": "code",
   "execution_count": 28,
   "metadata": {
    "collapsed": false
   },
   "outputs": [
    {
     "data": {
      "text/html": [
       "<table>\n",
       "<thead><tr><th></th><th scope=col>None</th><th scope=col>Some</th><th scope=col>Marked</th><th scope=col>Sum</th></tr></thead>\n",
       "<tbody>\n",
       "\t<tr><th scope=row>Placebo</th><td>0.3452381 </td><td>0.08333333</td><td>0.08333333</td><td>0.5119048 </td></tr>\n",
       "\t<tr><th scope=row>Treated</th><td>0.1547619 </td><td>0.08333333</td><td>0.25000000</td><td>0.4880952 </td></tr>\n",
       "\t<tr><th scope=row>Sum</th><td>0.5000000 </td><td>0.16666667</td><td>0.33333333</td><td>1.0000000 </td></tr>\n",
       "</tbody>\n",
       "</table>\n"
      ],
      "text/latex": [
       "\\begin{tabular}{r|llll}\n",
       "  & None & Some & Marked & Sum\\\\\n",
       "\\hline\n",
       "\tPlacebo & 0.3452381  & 0.08333333 & 0.08333333 & 0.5119048 \\\\\n",
       "\tTreated & 0.1547619  & 0.08333333 & 0.25000000 & 0.4880952 \\\\\n",
       "\tSum & 0.5000000  & 0.16666667 & 0.33333333 & 1.0000000 \\\\\n",
       "\\end{tabular}\n"
      ],
      "text/markdown": [
       "\n",
       "| <!--/--> | None | Some | Marked | Sum | \n",
       "|---|---|---|\n",
       "| Placebo | 0.3452381  | 0.08333333 | 0.08333333 | 0.5119048  | \n",
       "| Treated | 0.1547619  | 0.08333333 | 0.25000000 | 0.4880952  | \n",
       "| Sum | 0.5000000  | 0.16666667 | 0.33333333 | 1.0000000  | \n",
       "\n",
       "\n"
      ],
      "text/plain": [
       "         Improved\n",
       "Treatment None      Some       Marked     Sum      \n",
       "  Placebo 0.3452381 0.08333333 0.08333333 0.5119048\n",
       "  Treated 0.1547619 0.08333333 0.25000000 0.4880952\n",
       "  Sum     0.5000000 0.16666667 0.33333333 1.0000000"
      ]
     },
     "metadata": {},
     "output_type": "display_data"
    }
   ],
   "source": [
    "addmargins(prop.table(mytable))"
   ]
  },
  {
   "cell_type": "code",
   "execution_count": 29,
   "metadata": {
    "collapsed": false
   },
   "outputs": [
    {
     "data": {
      "text/html": [
       "<table>\n",
       "<thead><tr><th></th><th scope=col>None</th><th scope=col>Some</th><th scope=col>Marked</th><th scope=col>Sum</th></tr></thead>\n",
       "<tbody>\n",
       "\t<tr><th scope=row>Placebo</th><td>0.6744186</td><td>0.1627907</td><td>0.1627907</td><td>1        </td></tr>\n",
       "\t<tr><th scope=row>Treated</th><td>0.3170732</td><td>0.1707317</td><td>0.5121951</td><td>1        </td></tr>\n",
       "</tbody>\n",
       "</table>\n"
      ],
      "text/latex": [
       "\\begin{tabular}{r|llll}\n",
       "  & None & Some & Marked & Sum\\\\\n",
       "\\hline\n",
       "\tPlacebo & 0.6744186 & 0.1627907 & 0.1627907 & 1        \\\\\n",
       "\tTreated & 0.3170732 & 0.1707317 & 0.5121951 & 1        \\\\\n",
       "\\end{tabular}\n"
      ],
      "text/markdown": [
       "\n",
       "| <!--/--> | None | Some | Marked | Sum | \n",
       "|---|---|\n",
       "| Placebo | 0.6744186 | 0.1627907 | 0.1627907 | 1         | \n",
       "| Treated | 0.3170732 | 0.1707317 | 0.5121951 | 1         | \n",
       "\n",
       "\n"
      ],
      "text/plain": [
       "         Improved\n",
       "Treatment None      Some      Marked    Sum\n",
       "  Placebo 0.6744186 0.1627907 0.1627907 1  \n",
       "  Treated 0.3170732 0.1707317 0.5121951 1  "
      ]
     },
     "metadata": {},
     "output_type": "display_data"
    }
   ],
   "source": [
    "addmargins(prop.table(mytable, 1), 2)"
   ]
  },
  {
   "cell_type": "code",
   "execution_count": 30,
   "metadata": {
    "collapsed": false
   },
   "outputs": [
    {
     "data": {
      "text/html": [
       "<table>\n",
       "<thead><tr><th></th><th scope=col>None</th><th scope=col>Some</th><th scope=col>Marked</th></tr></thead>\n",
       "<tbody>\n",
       "\t<tr><th scope=row>Placebo</th><td>0.6904762</td><td>0.5      </td><td>0.25     </td></tr>\n",
       "\t<tr><th scope=row>Treated</th><td>0.3095238</td><td>0.5      </td><td>0.75     </td></tr>\n",
       "\t<tr><th scope=row>Sum</th><td>1.0000000</td><td>1.0      </td><td>1.00     </td></tr>\n",
       "</tbody>\n",
       "</table>\n"
      ],
      "text/latex": [
       "\\begin{tabular}{r|lll}\n",
       "  & None & Some & Marked\\\\\n",
       "\\hline\n",
       "\tPlacebo & 0.6904762 & 0.5       & 0.25     \\\\\n",
       "\tTreated & 0.3095238 & 0.5       & 0.75     \\\\\n",
       "\tSum & 1.0000000 & 1.0       & 1.00     \\\\\n",
       "\\end{tabular}\n"
      ],
      "text/markdown": [
       "\n",
       "| <!--/--> | None | Some | Marked | \n",
       "|---|---|---|\n",
       "| Placebo | 0.6904762 | 0.5       | 0.25      | \n",
       "| Treated | 0.3095238 | 0.5       | 0.75      | \n",
       "| Sum | 1.0000000 | 1.0       | 1.00      | \n",
       "\n",
       "\n"
      ],
      "text/plain": [
       "         Improved\n",
       "Treatment None      Some Marked\n",
       "  Placebo 0.6904762 0.5  0.25  \n",
       "  Treated 0.3095238 0.5  0.75  \n",
       "  Sum     1.0000000 1.0  1.00  "
      ]
     },
     "metadata": {},
     "output_type": "display_data"
    }
   ],
   "source": [
    "addmargins(prop.table(mytable, 2), 1)"
   ]
  },
  {
   "cell_type": "markdown",
   "metadata": {},
   "source": [
    "代码清单7-10 使用CrossTable生成二维列联表"
   ]
  },
  {
   "cell_type": "code",
   "execution_count": 31,
   "metadata": {
    "collapsed": false
   },
   "outputs": [
    {
     "name": "stdout",
     "output_type": "stream",
     "text": [
      "\n",
      " \n",
      "   Cell Contents\n",
      "|-------------------------|\n",
      "|                       N |\n",
      "| Chi-square contribution |\n",
      "|           N / Row Total |\n",
      "|           N / Col Total |\n",
      "|         N / Table Total |\n",
      "|-------------------------|\n",
      "\n",
      " \n",
      "Total Observations in Table:  84 \n",
      "\n",
      " \n",
      "                    | Arthritis$Improved \n",
      "Arthritis$Treatment |      None |      Some |    Marked | Row Total | \n",
      "--------------------|-----------|-----------|-----------|-----------|\n",
      "            Placebo |        29 |         7 |         7 |        43 | \n",
      "                    |     2.616 |     0.004 |     3.752 |           | \n",
      "                    |     0.674 |     0.163 |     0.163 |     0.512 | \n",
      "                    |     0.690 |     0.500 |     0.250 |           | \n",
      "                    |     0.345 |     0.083 |     0.083 |           | \n",
      "--------------------|-----------|-----------|-----------|-----------|\n",
      "            Treated |        13 |         7 |        21 |        41 | \n",
      "                    |     2.744 |     0.004 |     3.935 |           | \n",
      "                    |     0.317 |     0.171 |     0.512 |     0.488 | \n",
      "                    |     0.310 |     0.500 |     0.750 |           | \n",
      "                    |     0.155 |     0.083 |     0.250 |           | \n",
      "--------------------|-----------|-----------|-----------|-----------|\n",
      "       Column Total |        42 |        14 |        28 |        84 | \n",
      "                    |     0.500 |     0.167 |     0.333 |           | \n",
      "--------------------|-----------|-----------|-----------|-----------|\n",
      "\n",
      " \n"
     ]
    }
   ],
   "source": [
    "library(gmodels)\n",
    "CrossTable(Arthritis$Treatment, Arthritis$Improved)"
   ]
  },
  {
   "cell_type": "markdown",
   "metadata": {},
   "source": [
    "#### 3.多维列联表\n",
    "代码清单7-11 三维列联表"
   ]
  },
  {
   "cell_type": "code",
   "execution_count": 32,
   "metadata": {
    "collapsed": false
   },
   "outputs": [
    {
     "data": {
      "text/plain": [
       ", , Improved = None\n",
       "\n",
       "         Sex\n",
       "Treatment Female Male\n",
       "  Placebo     19   10\n",
       "  Treated      6    7\n",
       "\n",
       ", , Improved = Some\n",
       "\n",
       "         Sex\n",
       "Treatment Female Male\n",
       "  Placebo      7    0\n",
       "  Treated      5    2\n",
       "\n",
       ", , Improved = Marked\n",
       "\n",
       "         Sex\n",
       "Treatment Female Male\n",
       "  Placebo      6    1\n",
       "  Treated     16    5\n"
      ]
     },
     "metadata": {},
     "output_type": "display_data"
    }
   ],
   "source": [
    "mytable <- xtabs(~ Treatment+Sex+Improved, data=Arthritis)\n",
    "mytable"
   ]
  },
  {
   "cell_type": "code",
   "execution_count": 33,
   "metadata": {
    "collapsed": false
   },
   "outputs": [
    {
     "data": {
      "text/plain": [
       "                 Improved None Some Marked\n",
       "Treatment Sex                             \n",
       "Placebo   Female            19    7      6\n",
       "          Male              10    0      1\n",
       "Treated   Female             6    5     16\n",
       "          Male               7    2      5"
      ]
     },
     "metadata": {},
     "output_type": "display_data"
    }
   ],
   "source": [
    "ftable(mytable)"
   ]
  },
  {
   "cell_type": "code",
   "execution_count": 34,
   "metadata": {
    "collapsed": false
   },
   "outputs": [
    {
     "data": {
      "text/plain": [
       "Treatment\n",
       "Placebo Treated \n",
       "     43      41 "
      ]
     },
     "metadata": {},
     "output_type": "display_data"
    }
   ],
   "source": [
    "margin.table(mytable, 1)"
   ]
  },
  {
   "cell_type": "code",
   "execution_count": 35,
   "metadata": {
    "collapsed": false
   },
   "outputs": [
    {
     "data": {
      "text/plain": [
       "Sex\n",
       "Female   Male \n",
       "    59     25 "
      ]
     },
     "metadata": {},
     "output_type": "display_data"
    }
   ],
   "source": [
    "margin.table(mytable, 2)"
   ]
  },
  {
   "cell_type": "code",
   "execution_count": 36,
   "metadata": {
    "collapsed": false
   },
   "outputs": [
    {
     "data": {
      "text/plain": [
       "Improved\n",
       "  None   Some Marked \n",
       "    42     14     28 "
      ]
     },
     "metadata": {},
     "output_type": "display_data"
    }
   ],
   "source": [
    "margin.table(mytable, 3)"
   ]
  },
  {
   "cell_type": "code",
   "execution_count": 37,
   "metadata": {
    "collapsed": false
   },
   "outputs": [
    {
     "data": {
      "text/plain": [
       "         Improved\n",
       "Treatment None Some Marked\n",
       "  Placebo   29    7      7\n",
       "  Treated   13    7     21"
      ]
     },
     "metadata": {},
     "output_type": "display_data"
    }
   ],
   "source": [
    "margin.table(mytable, c(1, 3))"
   ]
  },
  {
   "cell_type": "code",
   "execution_count": 38,
   "metadata": {
    "collapsed": false
   },
   "outputs": [
    {
     "data": {
      "text/plain": [
       "                 Improved       None       Some     Marked\n",
       "Treatment Sex                                             \n",
       "Placebo   Female          0.59375000 0.21875000 0.18750000\n",
       "          Male            0.90909091 0.00000000 0.09090909\n",
       "Treated   Female          0.22222222 0.18518519 0.59259259\n",
       "          Male            0.50000000 0.14285714 0.35714286"
      ]
     },
     "metadata": {},
     "output_type": "display_data"
    }
   ],
   "source": [
    "ftable(prop.table(mytable, c(1, 2)))"
   ]
  },
  {
   "cell_type": "code",
   "execution_count": 39,
   "metadata": {
    "collapsed": false
   },
   "outputs": [
    {
     "data": {
      "text/plain": [
       "                 Improved       None       Some     Marked        Sum\n",
       "Treatment Sex                                                        \n",
       "Placebo   Female          0.59375000 0.21875000 0.18750000 1.00000000\n",
       "          Male            0.90909091 0.00000000 0.09090909 1.00000000\n",
       "Treated   Female          0.22222222 0.18518519 0.59259259 1.00000000\n",
       "          Male            0.50000000 0.14285714 0.35714286 1.00000000"
      ]
     },
     "metadata": {},
     "output_type": "display_data"
    }
   ],
   "source": [
    "ftable(addmargins(prop.table(mytable, c(1, 2)), 3))"
   ]
  },
  {
   "cell_type": "code",
   "execution_count": 40,
   "metadata": {
    "collapsed": false
   },
   "outputs": [
    {
     "data": {
      "text/plain": [
       "                 Improved       None       Some     Marked        Sum\n",
       "Treatment Sex                                                        \n",
       "Placebo   Female           59.375000  21.875000  18.750000 100.000000\n",
       "          Male             90.909091   0.000000   9.090909 100.000000\n",
       "Treated   Female           22.222222  18.518519  59.259259 100.000000\n",
       "          Male             50.000000  14.285714  35.714286 100.000000"
      ]
     },
     "metadata": {},
     "output_type": "display_data"
    }
   ],
   "source": [
    "ftable(addmargins(prop.table(mytable, c(1, 2)), 3)) * 100"
   ]
  },
  {
   "cell_type": "markdown",
   "metadata": {},
   "source": [
    "### 独立性检验\n",
    "#### 1.卡方独立性检验\n",
    "代码清单7-12 卡方独立性检验"
   ]
  },
  {
   "cell_type": "code",
   "execution_count": 42,
   "metadata": {
    "collapsed": false
   },
   "outputs": [
    {
     "data": {
      "text/plain": [
       "         Improved\n",
       "Treatment None Some Marked\n",
       "  Placebo   29    7      7\n",
       "  Treated   13    7     21"
      ]
     },
     "metadata": {},
     "output_type": "display_data"
    }
   ],
   "source": [
    "library(vcd)\n",
    "mytable <- xtabs(~Treatment+Improved, data=Arthritis)\n",
    "mytable"
   ]
  },
  {
   "cell_type": "code",
   "execution_count": 43,
   "metadata": {
    "collapsed": false
   },
   "outputs": [
    {
     "data": {
      "text/plain": [
       "\n",
       "\tPearson's Chi-squared test\n",
       "\n",
       "data:  mytable\n",
       "X-squared = 13.055, df = 2, p-value = 0.001463\n"
      ]
     },
     "metadata": {},
     "output_type": "display_data"
    }
   ],
   "source": [
    "chisq.test(mytable)"
   ]
  },
  {
   "cell_type": "markdown",
   "metadata": {},
   "source": [
    "- 零假设：质量情况和改善情况是独立的。\n",
    "- 结论：p值非常小，拒绝零假设（患者接受的治疗和改善的水平存在某种关系）。"
   ]
  },
  {
   "cell_type": "code",
   "execution_count": 44,
   "metadata": {
    "collapsed": false
   },
   "outputs": [
    {
     "data": {
      "text/plain": [
       "        Sex\n",
       "Improved Female Male\n",
       "  None       25   17\n",
       "  Some       12    2\n",
       "  Marked     22    6"
      ]
     },
     "metadata": {},
     "output_type": "display_data"
    }
   ],
   "source": [
    "mytable <- xtabs(~Improved+Sex, data=Arthritis)\n",
    "mytable"
   ]
  },
  {
   "cell_type": "code",
   "execution_count": 46,
   "metadata": {
    "collapsed": false
   },
   "outputs": [
    {
     "name": "stderr",
     "output_type": "stream",
     "text": [
      "Warning message in chisq.test(mytable):\n",
      "“Chi-squared approximation may be incorrect”"
     ]
    },
    {
     "data": {
      "text/plain": [
       "\n",
       "\tPearson's Chi-squared test\n",
       "\n",
       "data:  mytable\n",
       "X-squared = 4.8407, df = 2, p-value = 0.08889\n"
      ]
     },
     "metadata": {},
     "output_type": "display_data"
    }
   ],
   "source": [
    "chisq.test(mytable)"
   ]
  },
  {
   "cell_type": "markdown",
   "metadata": {},
   "source": [
    "- 零假设：性别和改善情况是独立的。\n",
    "- 结论：p>0.05，两者之间不存在关系。\n",
    "\n",
    "#### 2. Fisher精确检验\n",
    "Fisher精确检验的原假设：边界固定的列联表中行和列是相互独立的。"
   ]
  },
  {
   "cell_type": "code",
   "execution_count": 48,
   "metadata": {
    "collapsed": false
   },
   "outputs": [
    {
     "data": {
      "text/plain": [
       "         Improved\n",
       "Treatment None Some Marked\n",
       "  Placebo   29    7      7\n",
       "  Treated   13    7     21"
      ]
     },
     "metadata": {},
     "output_type": "display_data"
    }
   ],
   "source": [
    "mytable <- xtabs(~Treatment+Improved, data=Arthritis)\n",
    "mytable"
   ]
  },
  {
   "cell_type": "code",
   "execution_count": 49,
   "metadata": {
    "collapsed": false
   },
   "outputs": [
    {
     "data": {
      "text/plain": [
       "\n",
       "\tFisher's Exact Test for Count Data\n",
       "\n",
       "data:  mytable\n",
       "p-value = 0.001393\n",
       "alternative hypothesis: two.sided\n"
      ]
     },
     "metadata": {},
     "output_type": "display_data"
    }
   ],
   "source": [
    "fisher.test(mytable)"
   ]
  },
  {
   "cell_type": "markdown",
   "metadata": {},
   "source": [
    "#### 3.Cochran-Mantel-Haenszel检验\n",
    "原假设：两个名义变量在第三个变量的每一层都是条件独立的。下列代码可以检验资料情况和改善情况在性别的每一水平是否独立。此检验假设不存在三阶交互\u001b作用（资料情况 X 改善情况 X 性别）。"
   ]
  },
  {
   "cell_type": "code",
   "execution_count": 50,
   "metadata": {
    "collapsed": false
   },
   "outputs": [
    {
     "data": {
      "text/plain": [
       ", , Sex = Female\n",
       "\n",
       "         Improved\n",
       "Treatment None Some Marked\n",
       "  Placebo   19    7      6\n",
       "  Treated    6    5     16\n",
       "\n",
       ", , Sex = Male\n",
       "\n",
       "         Improved\n",
       "Treatment None Some Marked\n",
       "  Placebo   10    0      1\n",
       "  Treated    7    2      5\n"
      ]
     },
     "metadata": {},
     "output_type": "display_data"
    }
   ],
   "source": [
    "mytable <- xtabs(~Treatment+Improved+Sex, data=Arthritis)\n",
    "mytable"
   ]
  },
  {
   "cell_type": "code",
   "execution_count": 51,
   "metadata": {
    "collapsed": false
   },
   "outputs": [
    {
     "data": {
      "text/plain": [
       "\n",
       "\tCochran-Mantel-Haenszel test\n",
       "\n",
       "data:  mytable\n",
       "Cochran-Mantel-Haenszel M^2 = 14.632, df = 2, p-value = 0.0006647\n"
      ]
     },
     "metadata": {},
     "output_type": "display_data"
    }
   ],
   "source": [
    "mantelhaen.test(mytable)"
   ]
  },
  {
   "cell_type": "markdown",
   "metadata": {},
   "source": [
    "结果表明，患者接受的治疗与得到的改善在性别的每一水平下并不独立（分性别来看，用药治疗的患者较接受安慰剂的患者有了更多的改善）"
   ]
  },
  {
   "cell_type": "markdown",
   "metadata": {},
   "source": [
    "### 相关性的度量\n",
    "如果可以拒绝原假设，那么你的兴趣就会自然而然地转向用以衡量相关性强弱的相关性度量。\n",
    "\n",
    "代码清单7-13 二维列联表的相关性度量"
   ]
  },
  {
   "cell_type": "code",
   "execution_count": 52,
   "metadata": {
    "collapsed": false
   },
   "outputs": [
    {
     "data": {
      "text/plain": [
       "         Improved\n",
       "Treatment None Some Marked\n",
       "  Placebo   29    7      7\n",
       "  Treated   13    7     21"
      ]
     },
     "metadata": {},
     "output_type": "display_data"
    }
   ],
   "source": [
    "library(vcd)\n",
    "mytable <- xtabs(~Treatment+Improved, data=Arthritis)\n",
    "mytable"
   ]
  },
  {
   "cell_type": "code",
   "execution_count": 53,
   "metadata": {
    "collapsed": false
   },
   "outputs": [
    {
     "data": {
      "text/plain": [
       "                    X^2 df  P(> X^2)\n",
       "Likelihood Ratio 13.530  2 0.0011536\n",
       "Pearson          13.055  2 0.0014626\n",
       "\n",
       "Phi-Coefficient   : NA \n",
       "Contingency Coeff.: 0.367 \n",
       "Cramer's V        : 0.394 "
      ]
     },
     "metadata": {},
     "output_type": "display_data"
    }
   ],
   "source": [
    "assocstats(mytable)"
   ]
  },
  {
   "cell_type": "markdown",
   "metadata": {},
   "source": [
    "## 相关\n",
    "### 相关的类型\n",
    "#### 1.Pearson、Spearman和Kendall相关\n",
    "1. Pearson积差相关系数衡量了两个定量变量之间的\u001b线性相关程度。\n",
    "1. Spearman等级相关系数衡量分级定序变量之间的相关程度。\n",
    "1. Kendall's Tau相关系数是一种非参数的等级相关度量。\n",
    "\n",
    "![](http://ou8qjsj0m.bkt.clouddn.com//17-11-15/11290305.jpg)\n",
    "\n",
    "代码清单7-14 协方差和相关系数"
   ]
  },
  {
   "cell_type": "code",
   "execution_count": 54,
   "metadata": {
    "collapsed": false
   },
   "outputs": [
    {
     "data": {
      "text/html": [
       "<table>\n",
       "<thead><tr><th></th><th scope=col>Population</th><th scope=col>Income</th><th scope=col>Illiteracy</th><th scope=col>Life Exp</th><th scope=col>Murder</th><th scope=col>HS Grad</th></tr></thead>\n",
       "<tbody>\n",
       "\t<tr><th scope=row>Alabama</th><td> 3615</td><td>3624 </td><td>2.1  </td><td>69.05</td><td>15.1 </td><td>41.3 </td></tr>\n",
       "\t<tr><th scope=row>Alaska</th><td>  365</td><td>6315 </td><td>1.5  </td><td>69.31</td><td>11.3 </td><td>66.7 </td></tr>\n",
       "\t<tr><th scope=row>Arizona</th><td> 2212</td><td>4530 </td><td>1.8  </td><td>70.55</td><td> 7.8 </td><td>58.1 </td></tr>\n",
       "\t<tr><th scope=row>Arkansas</th><td> 2110</td><td>3378 </td><td>1.9  </td><td>70.66</td><td>10.1 </td><td>39.9 </td></tr>\n",
       "\t<tr><th scope=row>California</th><td>21198</td><td>5114 </td><td>1.1  </td><td>71.71</td><td>10.3 </td><td>62.6 </td></tr>\n",
       "\t<tr><th scope=row>Colorado</th><td> 2541</td><td>4884 </td><td>0.7  </td><td>72.06</td><td> 6.8 </td><td>63.9 </td></tr>\n",
       "\t<tr><th scope=row>Connecticut</th><td> 3100</td><td>5348 </td><td>1.1  </td><td>72.48</td><td> 3.1 </td><td>56.0 </td></tr>\n",
       "\t<tr><th scope=row>Delaware</th><td>  579</td><td>4809 </td><td>0.9  </td><td>70.06</td><td> 6.2 </td><td>54.6 </td></tr>\n",
       "\t<tr><th scope=row>Florida</th><td> 8277</td><td>4815 </td><td>1.3  </td><td>70.66</td><td>10.7 </td><td>52.6 </td></tr>\n",
       "\t<tr><th scope=row>Georgia</th><td> 4931</td><td>4091 </td><td>2.0  </td><td>68.54</td><td>13.9 </td><td>40.6 </td></tr>\n",
       "\t<tr><th scope=row>Hawaii</th><td>  868</td><td>4963 </td><td>1.9  </td><td>73.60</td><td> 6.2 </td><td>61.9 </td></tr>\n",
       "\t<tr><th scope=row>Idaho</th><td>  813</td><td>4119 </td><td>0.6  </td><td>71.87</td><td> 5.3 </td><td>59.5 </td></tr>\n",
       "\t<tr><th scope=row>Illinois</th><td>11197</td><td>5107 </td><td>0.9  </td><td>70.14</td><td>10.3 </td><td>52.6 </td></tr>\n",
       "\t<tr><th scope=row>Indiana</th><td> 5313</td><td>4458 </td><td>0.7  </td><td>70.88</td><td> 7.1 </td><td>52.9 </td></tr>\n",
       "\t<tr><th scope=row>Iowa</th><td> 2861</td><td>4628 </td><td>0.5  </td><td>72.56</td><td> 2.3 </td><td>59.0 </td></tr>\n",
       "\t<tr><th scope=row>Kansas</th><td> 2280</td><td>4669 </td><td>0.6  </td><td>72.58</td><td> 4.5 </td><td>59.9 </td></tr>\n",
       "\t<tr><th scope=row>Kentucky</th><td> 3387</td><td>3712 </td><td>1.6  </td><td>70.10</td><td>10.6 </td><td>38.5 </td></tr>\n",
       "\t<tr><th scope=row>Louisiana</th><td> 3806</td><td>3545 </td><td>2.8  </td><td>68.76</td><td>13.2 </td><td>42.2 </td></tr>\n",
       "\t<tr><th scope=row>Maine</th><td> 1058</td><td>3694 </td><td>0.7  </td><td>70.39</td><td> 2.7 </td><td>54.7 </td></tr>\n",
       "\t<tr><th scope=row>Maryland</th><td> 4122</td><td>5299 </td><td>0.9  </td><td>70.22</td><td> 8.5 </td><td>52.3 </td></tr>\n",
       "\t<tr><th scope=row>Massachusetts</th><td> 5814</td><td>4755 </td><td>1.1  </td><td>71.83</td><td> 3.3 </td><td>58.5 </td></tr>\n",
       "\t<tr><th scope=row>Michigan</th><td> 9111</td><td>4751 </td><td>0.9  </td><td>70.63</td><td>11.1 </td><td>52.8 </td></tr>\n",
       "\t<tr><th scope=row>Minnesota</th><td> 3921</td><td>4675 </td><td>0.6  </td><td>72.96</td><td> 2.3 </td><td>57.6 </td></tr>\n",
       "\t<tr><th scope=row>Mississippi</th><td> 2341</td><td>3098 </td><td>2.4  </td><td>68.09</td><td>12.5 </td><td>41.0 </td></tr>\n",
       "\t<tr><th scope=row>Missouri</th><td> 4767</td><td>4254 </td><td>0.8  </td><td>70.69</td><td> 9.3 </td><td>48.8 </td></tr>\n",
       "\t<tr><th scope=row>Montana</th><td>  746</td><td>4347 </td><td>0.6  </td><td>70.56</td><td> 5.0 </td><td>59.2 </td></tr>\n",
       "\t<tr><th scope=row>Nebraska</th><td> 1544</td><td>4508 </td><td>0.6  </td><td>72.60</td><td> 2.9 </td><td>59.3 </td></tr>\n",
       "\t<tr><th scope=row>Nevada</th><td>  590</td><td>5149 </td><td>0.5  </td><td>69.03</td><td>11.5 </td><td>65.2 </td></tr>\n",
       "\t<tr><th scope=row>New Hampshire</th><td>  812</td><td>4281 </td><td>0.7  </td><td>71.23</td><td> 3.3 </td><td>57.6 </td></tr>\n",
       "\t<tr><th scope=row>New Jersey</th><td> 7333</td><td>5237 </td><td>1.1  </td><td>70.93</td><td> 5.2 </td><td>52.5 </td></tr>\n",
       "\t<tr><th scope=row>New Mexico</th><td> 1144</td><td>3601 </td><td>2.2  </td><td>70.32</td><td> 9.7 </td><td>55.2 </td></tr>\n",
       "\t<tr><th scope=row>New York</th><td>18076</td><td>4903 </td><td>1.4  </td><td>70.55</td><td>10.9 </td><td>52.7 </td></tr>\n",
       "\t<tr><th scope=row>North Carolina</th><td> 5441</td><td>3875 </td><td>1.8  </td><td>69.21</td><td>11.1 </td><td>38.5 </td></tr>\n",
       "\t<tr><th scope=row>North Dakota</th><td>  637</td><td>5087 </td><td>0.8  </td><td>72.78</td><td> 1.4 </td><td>50.3 </td></tr>\n",
       "\t<tr><th scope=row>Ohio</th><td>10735</td><td>4561 </td><td>0.8  </td><td>70.82</td><td> 7.4 </td><td>53.2 </td></tr>\n",
       "\t<tr><th scope=row>Oklahoma</th><td> 2715</td><td>3983 </td><td>1.1  </td><td>71.42</td><td> 6.4 </td><td>51.6 </td></tr>\n",
       "\t<tr><th scope=row>Oregon</th><td> 2284</td><td>4660 </td><td>0.6  </td><td>72.13</td><td> 4.2 </td><td>60.0 </td></tr>\n",
       "\t<tr><th scope=row>Pennsylvania</th><td>11860</td><td>4449 </td><td>1.0  </td><td>70.43</td><td> 6.1 </td><td>50.2 </td></tr>\n",
       "\t<tr><th scope=row>Rhode Island</th><td>  931</td><td>4558 </td><td>1.3  </td><td>71.90</td><td> 2.4 </td><td>46.4 </td></tr>\n",
       "\t<tr><th scope=row>South Carolina</th><td> 2816</td><td>3635 </td><td>2.3  </td><td>67.96</td><td>11.6 </td><td>37.8 </td></tr>\n",
       "\t<tr><th scope=row>South Dakota</th><td>  681</td><td>4167 </td><td>0.5  </td><td>72.08</td><td> 1.7 </td><td>53.3 </td></tr>\n",
       "\t<tr><th scope=row>Tennessee</th><td> 4173</td><td>3821 </td><td>1.7  </td><td>70.11</td><td>11.0 </td><td>41.8 </td></tr>\n",
       "\t<tr><th scope=row>Texas</th><td>12237</td><td>4188 </td><td>2.2  </td><td>70.90</td><td>12.2 </td><td>47.4 </td></tr>\n",
       "\t<tr><th scope=row>Utah</th><td> 1203</td><td>4022 </td><td>0.6  </td><td>72.90</td><td> 4.5 </td><td>67.3 </td></tr>\n",
       "\t<tr><th scope=row>Vermont</th><td>  472</td><td>3907 </td><td>0.6  </td><td>71.64</td><td> 5.5 </td><td>57.1 </td></tr>\n",
       "\t<tr><th scope=row>Virginia</th><td> 4981</td><td>4701 </td><td>1.4  </td><td>70.08</td><td> 9.5 </td><td>47.8 </td></tr>\n",
       "\t<tr><th scope=row>Washington</th><td> 3559</td><td>4864 </td><td>0.6  </td><td>71.72</td><td> 4.3 </td><td>63.5 </td></tr>\n",
       "\t<tr><th scope=row>West Virginia</th><td> 1799</td><td>3617 </td><td>1.4  </td><td>69.48</td><td> 6.7 </td><td>41.6 </td></tr>\n",
       "\t<tr><th scope=row>Wisconsin</th><td> 4589</td><td>4468 </td><td>0.7  </td><td>72.48</td><td> 3.0 </td><td>54.5 </td></tr>\n",
       "\t<tr><th scope=row>Wyoming</th><td>  376</td><td>4566 </td><td>0.6  </td><td>70.29</td><td> 6.9 </td><td>62.9 </td></tr>\n",
       "</tbody>\n",
       "</table>\n"
      ],
      "text/latex": [
       "\\begin{tabular}{r|llllll}\n",
       "  & Population & Income & Illiteracy & Life Exp & Murder & HS Grad\\\\\n",
       "\\hline\n",
       "\tAlabama &  3615 & 3624  & 2.1   & 69.05 & 15.1  & 41.3 \\\\\n",
       "\tAlaska &   365 & 6315  & 1.5   & 69.31 & 11.3  & 66.7 \\\\\n",
       "\tArizona &  2212 & 4530  & 1.8   & 70.55 &  7.8  & 58.1 \\\\\n",
       "\tArkansas &  2110 & 3378  & 1.9   & 70.66 & 10.1  & 39.9 \\\\\n",
       "\tCalifornia & 21198 & 5114  & 1.1   & 71.71 & 10.3  & 62.6 \\\\\n",
       "\tColorado &  2541 & 4884  & 0.7   & 72.06 &  6.8  & 63.9 \\\\\n",
       "\tConnecticut &  3100 & 5348  & 1.1   & 72.48 &  3.1  & 56.0 \\\\\n",
       "\tDelaware &   579 & 4809  & 0.9   & 70.06 &  6.2  & 54.6 \\\\\n",
       "\tFlorida &  8277 & 4815  & 1.3   & 70.66 & 10.7  & 52.6 \\\\\n",
       "\tGeorgia &  4931 & 4091  & 2.0   & 68.54 & 13.9  & 40.6 \\\\\n",
       "\tHawaii &   868 & 4963  & 1.9   & 73.60 &  6.2  & 61.9 \\\\\n",
       "\tIdaho &   813 & 4119  & 0.6   & 71.87 &  5.3  & 59.5 \\\\\n",
       "\tIllinois & 11197 & 5107  & 0.9   & 70.14 & 10.3  & 52.6 \\\\\n",
       "\tIndiana &  5313 & 4458  & 0.7   & 70.88 &  7.1  & 52.9 \\\\\n",
       "\tIowa &  2861 & 4628  & 0.5   & 72.56 &  2.3  & 59.0 \\\\\n",
       "\tKansas &  2280 & 4669  & 0.6   & 72.58 &  4.5  & 59.9 \\\\\n",
       "\tKentucky &  3387 & 3712  & 1.6   & 70.10 & 10.6  & 38.5 \\\\\n",
       "\tLouisiana &  3806 & 3545  & 2.8   & 68.76 & 13.2  & 42.2 \\\\\n",
       "\tMaine &  1058 & 3694  & 0.7   & 70.39 &  2.7  & 54.7 \\\\\n",
       "\tMaryland &  4122 & 5299  & 0.9   & 70.22 &  8.5  & 52.3 \\\\\n",
       "\tMassachusetts &  5814 & 4755  & 1.1   & 71.83 &  3.3  & 58.5 \\\\\n",
       "\tMichigan &  9111 & 4751  & 0.9   & 70.63 & 11.1  & 52.8 \\\\\n",
       "\tMinnesota &  3921 & 4675  & 0.6   & 72.96 &  2.3  & 57.6 \\\\\n",
       "\tMississippi &  2341 & 3098  & 2.4   & 68.09 & 12.5  & 41.0 \\\\\n",
       "\tMissouri &  4767 & 4254  & 0.8   & 70.69 &  9.3  & 48.8 \\\\\n",
       "\tMontana &   746 & 4347  & 0.6   & 70.56 &  5.0  & 59.2 \\\\\n",
       "\tNebraska &  1544 & 4508  & 0.6   & 72.60 &  2.9  & 59.3 \\\\\n",
       "\tNevada &   590 & 5149  & 0.5   & 69.03 & 11.5  & 65.2 \\\\\n",
       "\tNew Hampshire &   812 & 4281  & 0.7   & 71.23 &  3.3  & 57.6 \\\\\n",
       "\tNew Jersey &  7333 & 5237  & 1.1   & 70.93 &  5.2  & 52.5 \\\\\n",
       "\tNew Mexico &  1144 & 3601  & 2.2   & 70.32 &  9.7  & 55.2 \\\\\n",
       "\tNew York & 18076 & 4903  & 1.4   & 70.55 & 10.9  & 52.7 \\\\\n",
       "\tNorth Carolina &  5441 & 3875  & 1.8   & 69.21 & 11.1  & 38.5 \\\\\n",
       "\tNorth Dakota &   637 & 5087  & 0.8   & 72.78 &  1.4  & 50.3 \\\\\n",
       "\tOhio & 10735 & 4561  & 0.8   & 70.82 &  7.4  & 53.2 \\\\\n",
       "\tOklahoma &  2715 & 3983  & 1.1   & 71.42 &  6.4  & 51.6 \\\\\n",
       "\tOregon &  2284 & 4660  & 0.6   & 72.13 &  4.2  & 60.0 \\\\\n",
       "\tPennsylvania & 11860 & 4449  & 1.0   & 70.43 &  6.1  & 50.2 \\\\\n",
       "\tRhode Island &   931 & 4558  & 1.3   & 71.90 &  2.4  & 46.4 \\\\\n",
       "\tSouth Carolina &  2816 & 3635  & 2.3   & 67.96 & 11.6  & 37.8 \\\\\n",
       "\tSouth Dakota &   681 & 4167  & 0.5   & 72.08 &  1.7  & 53.3 \\\\\n",
       "\tTennessee &  4173 & 3821  & 1.7   & 70.11 & 11.0  & 41.8 \\\\\n",
       "\tTexas & 12237 & 4188  & 2.2   & 70.90 & 12.2  & 47.4 \\\\\n",
       "\tUtah &  1203 & 4022  & 0.6   & 72.90 &  4.5  & 67.3 \\\\\n",
       "\tVermont &   472 & 3907  & 0.6   & 71.64 &  5.5  & 57.1 \\\\\n",
       "\tVirginia &  4981 & 4701  & 1.4   & 70.08 &  9.5  & 47.8 \\\\\n",
       "\tWashington &  3559 & 4864  & 0.6   & 71.72 &  4.3  & 63.5 \\\\\n",
       "\tWest Virginia &  1799 & 3617  & 1.4   & 69.48 &  6.7  & 41.6 \\\\\n",
       "\tWisconsin &  4589 & 4468  & 0.7   & 72.48 &  3.0  & 54.5 \\\\\n",
       "\tWyoming &   376 & 4566  & 0.6   & 70.29 &  6.9  & 62.9 \\\\\n",
       "\\end{tabular}\n"
      ],
      "text/markdown": [
       "\n",
       "| <!--/--> | Population | Income | Illiteracy | Life Exp | Murder | HS Grad | \n",
       "|---|---|---|---|---|---|---|---|---|---|---|---|---|---|---|---|---|---|---|---|---|---|---|---|---|---|---|---|---|---|---|---|---|---|---|---|---|---|---|---|---|---|---|---|---|---|---|---|---|---|\n",
       "| Alabama |  3615 | 3624  | 2.1   | 69.05 | 15.1  | 41.3  | \n",
       "| Alaska |   365 | 6315  | 1.5   | 69.31 | 11.3  | 66.7  | \n",
       "| Arizona |  2212 | 4530  | 1.8   | 70.55 |  7.8  | 58.1  | \n",
       "| Arkansas |  2110 | 3378  | 1.9   | 70.66 | 10.1  | 39.9  | \n",
       "| California | 21198 | 5114  | 1.1   | 71.71 | 10.3  | 62.6  | \n",
       "| Colorado |  2541 | 4884  | 0.7   | 72.06 |  6.8  | 63.9  | \n",
       "| Connecticut |  3100 | 5348  | 1.1   | 72.48 |  3.1  | 56.0  | \n",
       "| Delaware |   579 | 4809  | 0.9   | 70.06 |  6.2  | 54.6  | \n",
       "| Florida |  8277 | 4815  | 1.3   | 70.66 | 10.7  | 52.6  | \n",
       "| Georgia |  4931 | 4091  | 2.0   | 68.54 | 13.9  | 40.6  | \n",
       "| Hawaii |   868 | 4963  | 1.9   | 73.60 |  6.2  | 61.9  | \n",
       "| Idaho |   813 | 4119  | 0.6   | 71.87 |  5.3  | 59.5  | \n",
       "| Illinois | 11197 | 5107  | 0.9   | 70.14 | 10.3  | 52.6  | \n",
       "| Indiana |  5313 | 4458  | 0.7   | 70.88 |  7.1  | 52.9  | \n",
       "| Iowa |  2861 | 4628  | 0.5   | 72.56 |  2.3  | 59.0  | \n",
       "| Kansas |  2280 | 4669  | 0.6   | 72.58 |  4.5  | 59.9  | \n",
       "| Kentucky |  3387 | 3712  | 1.6   | 70.10 | 10.6  | 38.5  | \n",
       "| Louisiana |  3806 | 3545  | 2.8   | 68.76 | 13.2  | 42.2  | \n",
       "| Maine |  1058 | 3694  | 0.7   | 70.39 |  2.7  | 54.7  | \n",
       "| Maryland |  4122 | 5299  | 0.9   | 70.22 |  8.5  | 52.3  | \n",
       "| Massachusetts |  5814 | 4755  | 1.1   | 71.83 |  3.3  | 58.5  | \n",
       "| Michigan |  9111 | 4751  | 0.9   | 70.63 | 11.1  | 52.8  | \n",
       "| Minnesota |  3921 | 4675  | 0.6   | 72.96 |  2.3  | 57.6  | \n",
       "| Mississippi |  2341 | 3098  | 2.4   | 68.09 | 12.5  | 41.0  | \n",
       "| Missouri |  4767 | 4254  | 0.8   | 70.69 |  9.3  | 48.8  | \n",
       "| Montana |   746 | 4347  | 0.6   | 70.56 |  5.0  | 59.2  | \n",
       "| Nebraska |  1544 | 4508  | 0.6   | 72.60 |  2.9  | 59.3  | \n",
       "| Nevada |   590 | 5149  | 0.5   | 69.03 | 11.5  | 65.2  | \n",
       "| New Hampshire |   812 | 4281  | 0.7   | 71.23 |  3.3  | 57.6  | \n",
       "| New Jersey |  7333 | 5237  | 1.1   | 70.93 |  5.2  | 52.5  | \n",
       "| New Mexico |  1144 | 3601  | 2.2   | 70.32 |  9.7  | 55.2  | \n",
       "| New York | 18076 | 4903  | 1.4   | 70.55 | 10.9  | 52.7  | \n",
       "| North Carolina |  5441 | 3875  | 1.8   | 69.21 | 11.1  | 38.5  | \n",
       "| North Dakota |   637 | 5087  | 0.8   | 72.78 |  1.4  | 50.3  | \n",
       "| Ohio | 10735 | 4561  | 0.8   | 70.82 |  7.4  | 53.2  | \n",
       "| Oklahoma |  2715 | 3983  | 1.1   | 71.42 |  6.4  | 51.6  | \n",
       "| Oregon |  2284 | 4660  | 0.6   | 72.13 |  4.2  | 60.0  | \n",
       "| Pennsylvania | 11860 | 4449  | 1.0   | 70.43 |  6.1  | 50.2  | \n",
       "| Rhode Island |   931 | 4558  | 1.3   | 71.90 |  2.4  | 46.4  | \n",
       "| South Carolina |  2816 | 3635  | 2.3   | 67.96 | 11.6  | 37.8  | \n",
       "| South Dakota |   681 | 4167  | 0.5   | 72.08 |  1.7  | 53.3  | \n",
       "| Tennessee |  4173 | 3821  | 1.7   | 70.11 | 11.0  | 41.8  | \n",
       "| Texas | 12237 | 4188  | 2.2   | 70.90 | 12.2  | 47.4  | \n",
       "| Utah |  1203 | 4022  | 0.6   | 72.90 |  4.5  | 67.3  | \n",
       "| Vermont |   472 | 3907  | 0.6   | 71.64 |  5.5  | 57.1  | \n",
       "| Virginia |  4981 | 4701  | 1.4   | 70.08 |  9.5  | 47.8  | \n",
       "| Washington |  3559 | 4864  | 0.6   | 71.72 |  4.3  | 63.5  | \n",
       "| West Virginia |  1799 | 3617  | 1.4   | 69.48 |  6.7  | 41.6  | \n",
       "| Wisconsin |  4589 | 4468  | 0.7   | 72.48 |  3.0  | 54.5  | \n",
       "| Wyoming |   376 | 4566  | 0.6   | 70.29 |  6.9  | 62.9  | \n",
       "\n",
       "\n"
      ],
      "text/plain": [
       "               Population Income Illiteracy Life Exp Murder HS Grad\n",
       "Alabama         3615      3624   2.1        69.05    15.1   41.3   \n",
       "Alaska           365      6315   1.5        69.31    11.3   66.7   \n",
       "Arizona         2212      4530   1.8        70.55     7.8   58.1   \n",
       "Arkansas        2110      3378   1.9        70.66    10.1   39.9   \n",
       "California     21198      5114   1.1        71.71    10.3   62.6   \n",
       "Colorado        2541      4884   0.7        72.06     6.8   63.9   \n",
       "Connecticut     3100      5348   1.1        72.48     3.1   56.0   \n",
       "Delaware         579      4809   0.9        70.06     6.2   54.6   \n",
       "Florida         8277      4815   1.3        70.66    10.7   52.6   \n",
       "Georgia         4931      4091   2.0        68.54    13.9   40.6   \n",
       "Hawaii           868      4963   1.9        73.60     6.2   61.9   \n",
       "Idaho            813      4119   0.6        71.87     5.3   59.5   \n",
       "Illinois       11197      5107   0.9        70.14    10.3   52.6   \n",
       "Indiana         5313      4458   0.7        70.88     7.1   52.9   \n",
       "Iowa            2861      4628   0.5        72.56     2.3   59.0   \n",
       "Kansas          2280      4669   0.6        72.58     4.5   59.9   \n",
       "Kentucky        3387      3712   1.6        70.10    10.6   38.5   \n",
       "Louisiana       3806      3545   2.8        68.76    13.2   42.2   \n",
       "Maine           1058      3694   0.7        70.39     2.7   54.7   \n",
       "Maryland        4122      5299   0.9        70.22     8.5   52.3   \n",
       "Massachusetts   5814      4755   1.1        71.83     3.3   58.5   \n",
       "Michigan        9111      4751   0.9        70.63    11.1   52.8   \n",
       "Minnesota       3921      4675   0.6        72.96     2.3   57.6   \n",
       "Mississippi     2341      3098   2.4        68.09    12.5   41.0   \n",
       "Missouri        4767      4254   0.8        70.69     9.3   48.8   \n",
       "Montana          746      4347   0.6        70.56     5.0   59.2   \n",
       "Nebraska        1544      4508   0.6        72.60     2.9   59.3   \n",
       "Nevada           590      5149   0.5        69.03    11.5   65.2   \n",
       "New Hampshire    812      4281   0.7        71.23     3.3   57.6   \n",
       "New Jersey      7333      5237   1.1        70.93     5.2   52.5   \n",
       "New Mexico      1144      3601   2.2        70.32     9.7   55.2   \n",
       "New York       18076      4903   1.4        70.55    10.9   52.7   \n",
       "North Carolina  5441      3875   1.8        69.21    11.1   38.5   \n",
       "North Dakota     637      5087   0.8        72.78     1.4   50.3   \n",
       "Ohio           10735      4561   0.8        70.82     7.4   53.2   \n",
       "Oklahoma        2715      3983   1.1        71.42     6.4   51.6   \n",
       "Oregon          2284      4660   0.6        72.13     4.2   60.0   \n",
       "Pennsylvania   11860      4449   1.0        70.43     6.1   50.2   \n",
       "Rhode Island     931      4558   1.3        71.90     2.4   46.4   \n",
       "South Carolina  2816      3635   2.3        67.96    11.6   37.8   \n",
       "South Dakota     681      4167   0.5        72.08     1.7   53.3   \n",
       "Tennessee       4173      3821   1.7        70.11    11.0   41.8   \n",
       "Texas          12237      4188   2.2        70.90    12.2   47.4   \n",
       "Utah            1203      4022   0.6        72.90     4.5   67.3   \n",
       "Vermont          472      3907   0.6        71.64     5.5   57.1   \n",
       "Virginia        4981      4701   1.4        70.08     9.5   47.8   \n",
       "Washington      3559      4864   0.6        71.72     4.3   63.5   \n",
       "West Virginia   1799      3617   1.4        69.48     6.7   41.6   \n",
       "Wisconsin       4589      4468   0.7        72.48     3.0   54.5   \n",
       "Wyoming          376      4566   0.6        70.29     6.9   62.9   "
      ]
     },
     "metadata": {},
     "output_type": "display_data"
    }
   ],
   "source": [
    "states<- state.x77[,1:6]\n",
    "states"
   ]
  },
  {
   "cell_type": "code",
   "execution_count": 55,
   "metadata": {
    "collapsed": false
   },
   "outputs": [
    {
     "data": {
      "text/html": [
       "<table>\n",
       "<thead><tr><th></th><th scope=col>Population</th><th scope=col>Income</th><th scope=col>Illiteracy</th><th scope=col>Life Exp</th><th scope=col>Murder</th><th scope=col>HS Grad</th></tr></thead>\n",
       "<tbody>\n",
       "\t<tr><th scope=row>Population</th><td>19931683.7588</td><td>571229.7796  </td><td> 292.8679592 </td><td>-407.8424612 </td><td>5663.523714  </td><td>-3551.509551 </td></tr>\n",
       "\t<tr><th scope=row>Income</th><td>  571229.7796</td><td>377573.3061  </td><td>-163.7020408 </td><td> 280.6631837 </td><td>-521.894286  </td><td> 3076.768980 </td></tr>\n",
       "\t<tr><th scope=row>Illiteracy</th><td>     292.8680</td><td>  -163.7020  </td><td>   0.3715306 </td><td>  -0.4815122 </td><td>   1.581776  </td><td>   -3.235469 </td></tr>\n",
       "\t<tr><th scope=row>Life Exp</th><td>    -407.8425</td><td>   280.6632  </td><td>  -0.4815122 </td><td>   1.8020204 </td><td>  -3.869480  </td><td>    6.312685 </td></tr>\n",
       "\t<tr><th scope=row>Murder</th><td>    5663.5237</td><td>  -521.8943  </td><td>   1.5817755 </td><td>  -3.8694804 </td><td>  13.627465  </td><td>  -14.549616 </td></tr>\n",
       "\t<tr><th scope=row>HS Grad</th><td>   -3551.5096</td><td>  3076.7690  </td><td>  -3.2354694 </td><td>   6.3126849 </td><td> -14.549616  </td><td>   65.237894 </td></tr>\n",
       "</tbody>\n",
       "</table>\n"
      ],
      "text/latex": [
       "\\begin{tabular}{r|llllll}\n",
       "  & Population & Income & Illiteracy & Life Exp & Murder & HS Grad\\\\\n",
       "\\hline\n",
       "\tPopulation & 19931683.7588 & 571229.7796   &  292.8679592  & -407.8424612  & 5663.523714   & -3551.509551 \\\\\n",
       "\tIncome &   571229.7796 & 377573.3061   & -163.7020408  &  280.6631837  & -521.894286   &  3076.768980 \\\\\n",
       "\tIlliteracy &      292.8680 &   -163.7020   &    0.3715306  &   -0.4815122  &    1.581776   &    -3.235469 \\\\\n",
       "\tLife Exp &     -407.8425 &    280.6632   &   -0.4815122  &    1.8020204  &   -3.869480   &     6.312685 \\\\\n",
       "\tMurder &     5663.5237 &   -521.8943   &    1.5817755  &   -3.8694804  &   13.627465   &   -14.549616 \\\\\n",
       "\tHS Grad &    -3551.5096 &   3076.7690   &   -3.2354694  &    6.3126849  &  -14.549616   &    65.237894 \\\\\n",
       "\\end{tabular}\n"
      ],
      "text/markdown": [
       "\n",
       "| <!--/--> | Population | Income | Illiteracy | Life Exp | Murder | HS Grad | \n",
       "|---|---|---|---|---|---|\n",
       "| Population | 19931683.7588 | 571229.7796   |  292.8679592  | -407.8424612  | 5663.523714   | -3551.509551  | \n",
       "| Income |   571229.7796 | 377573.3061   | -163.7020408  |  280.6631837  | -521.894286   |  3076.768980  | \n",
       "| Illiteracy |      292.8680 |   -163.7020   |    0.3715306  |   -0.4815122  |    1.581776   |    -3.235469  | \n",
       "| Life Exp |     -407.8425 |    280.6632   |   -0.4815122  |    1.8020204  |   -3.869480   |     6.312685  | \n",
       "| Murder |     5663.5237 |   -521.8943   |    1.5817755  |   -3.8694804  |   13.627465   |   -14.549616  | \n",
       "| HS Grad |    -3551.5096 |   3076.7690   |   -3.2354694  |    6.3126849  |  -14.549616   |    65.237894  | \n",
       "\n",
       "\n"
      ],
      "text/plain": [
       "           Population    Income      Illiteracy   Life Exp     Murder     \n",
       "Population 19931683.7588 571229.7796  292.8679592 -407.8424612 5663.523714\n",
       "Income       571229.7796 377573.3061 -163.7020408  280.6631837 -521.894286\n",
       "Illiteracy      292.8680   -163.7020    0.3715306   -0.4815122    1.581776\n",
       "Life Exp       -407.8425    280.6632   -0.4815122    1.8020204   -3.869480\n",
       "Murder         5663.5237   -521.8943    1.5817755   -3.8694804   13.627465\n",
       "HS Grad       -3551.5096   3076.7690   -3.2354694    6.3126849  -14.549616\n",
       "           HS Grad     \n",
       "Population -3551.509551\n",
       "Income      3076.768980\n",
       "Illiteracy    -3.235469\n",
       "Life Exp       6.312685\n",
       "Murder       -14.549616\n",
       "HS Grad       65.237894"
      ]
     },
     "metadata": {},
     "output_type": "display_data"
    }
   ],
   "source": [
    "cov(states)"
   ]
  },
  {
   "cell_type": "code",
   "execution_count": 56,
   "metadata": {
    "collapsed": false
   },
   "outputs": [
    {
     "data": {
      "text/html": [
       "<table>\n",
       "<thead><tr><th></th><th scope=col>Population</th><th scope=col>Income</th><th scope=col>Illiteracy</th><th scope=col>Life Exp</th><th scope=col>Murder</th><th scope=col>HS Grad</th></tr></thead>\n",
       "<tbody>\n",
       "\t<tr><th scope=row>Population</th><td> 1.00000000</td><td> 0.2082276 </td><td> 0.1076224 </td><td>-0.06805195</td><td> 0.3436428 </td><td>-0.09848975</td></tr>\n",
       "\t<tr><th scope=row>Income</th><td> 0.20822756</td><td> 1.0000000 </td><td>-0.4370752 </td><td> 0.34025534</td><td>-0.2300776 </td><td> 0.61993232</td></tr>\n",
       "\t<tr><th scope=row>Illiteracy</th><td> 0.10762237</td><td>-0.4370752 </td><td> 1.0000000 </td><td>-0.58847793</td><td> 0.7029752 </td><td>-0.65718861</td></tr>\n",
       "\t<tr><th scope=row>Life Exp</th><td>-0.06805195</td><td> 0.3402553 </td><td>-0.5884779 </td><td> 1.00000000</td><td>-0.7808458 </td><td> 0.58221620</td></tr>\n",
       "\t<tr><th scope=row>Murder</th><td> 0.34364275</td><td>-0.2300776 </td><td> 0.7029752 </td><td>-0.78084575</td><td> 1.0000000 </td><td>-0.48797102</td></tr>\n",
       "\t<tr><th scope=row>HS Grad</th><td>-0.09848975</td><td> 0.6199323 </td><td>-0.6571886 </td><td> 0.58221620</td><td>-0.4879710 </td><td> 1.00000000</td></tr>\n",
       "</tbody>\n",
       "</table>\n"
      ],
      "text/latex": [
       "\\begin{tabular}{r|llllll}\n",
       "  & Population & Income & Illiteracy & Life Exp & Murder & HS Grad\\\\\n",
       "\\hline\n",
       "\tPopulation &  1.00000000 &  0.2082276  &  0.1076224  & -0.06805195 &  0.3436428  & -0.09848975\\\\\n",
       "\tIncome &  0.20822756 &  1.0000000  & -0.4370752  &  0.34025534 & -0.2300776  &  0.61993232\\\\\n",
       "\tIlliteracy &  0.10762237 & -0.4370752  &  1.0000000  & -0.58847793 &  0.7029752  & -0.65718861\\\\\n",
       "\tLife Exp & -0.06805195 &  0.3402553  & -0.5884779  &  1.00000000 & -0.7808458  &  0.58221620\\\\\n",
       "\tMurder &  0.34364275 & -0.2300776  &  0.7029752  & -0.78084575 &  1.0000000  & -0.48797102\\\\\n",
       "\tHS Grad & -0.09848975 &  0.6199323  & -0.6571886  &  0.58221620 & -0.4879710  &  1.00000000\\\\\n",
       "\\end{tabular}\n"
      ],
      "text/markdown": [
       "\n",
       "| <!--/--> | Population | Income | Illiteracy | Life Exp | Murder | HS Grad | \n",
       "|---|---|---|---|---|---|\n",
       "| Population |  1.00000000 |  0.2082276  |  0.1076224  | -0.06805195 |  0.3436428  | -0.09848975 | \n",
       "| Income |  0.20822756 |  1.0000000  | -0.4370752  |  0.34025534 | -0.2300776  |  0.61993232 | \n",
       "| Illiteracy |  0.10762237 | -0.4370752  |  1.0000000  | -0.58847793 |  0.7029752  | -0.65718861 | \n",
       "| Life Exp | -0.06805195 |  0.3402553  | -0.5884779  |  1.00000000 | -0.7808458  |  0.58221620 | \n",
       "| Murder |  0.34364275 | -0.2300776  |  0.7029752  | -0.78084575 |  1.0000000  | -0.48797102 | \n",
       "| HS Grad | -0.09848975 |  0.6199323  | -0.6571886  |  0.58221620 | -0.4879710  |  1.00000000 | \n",
       "\n",
       "\n"
      ],
      "text/plain": [
       "           Population  Income     Illiteracy Life Exp    Murder     HS Grad    \n",
       "Population  1.00000000  0.2082276  0.1076224 -0.06805195  0.3436428 -0.09848975\n",
       "Income      0.20822756  1.0000000 -0.4370752  0.34025534 -0.2300776  0.61993232\n",
       "Illiteracy  0.10762237 -0.4370752  1.0000000 -0.58847793  0.7029752 -0.65718861\n",
       "Life Exp   -0.06805195  0.3402553 -0.5884779  1.00000000 -0.7808458  0.58221620\n",
       "Murder      0.34364275 -0.2300776  0.7029752 -0.78084575  1.0000000 -0.48797102\n",
       "HS Grad    -0.09848975  0.6199323 -0.6571886  0.58221620 -0.4879710  1.00000000"
      ]
     },
     "metadata": {},
     "output_type": "display_data"
    }
   ],
   "source": [
    "cor(states) # Pearson"
   ]
  },
  {
   "cell_type": "code",
   "execution_count": 57,
   "metadata": {
    "collapsed": false
   },
   "outputs": [
    {
     "data": {
      "text/html": [
       "<table>\n",
       "<thead><tr><th></th><th scope=col>Population</th><th scope=col>Income</th><th scope=col>Illiteracy</th><th scope=col>Life Exp</th><th scope=col>Murder</th><th scope=col>HS Grad</th></tr></thead>\n",
       "<tbody>\n",
       "\t<tr><th scope=row>Population</th><td> 1.0000000</td><td> 0.1246098</td><td> 0.3130496</td><td>-0.1040171</td><td> 0.3457401</td><td>-0.3833649</td></tr>\n",
       "\t<tr><th scope=row>Income</th><td> 0.1246098</td><td> 1.0000000</td><td>-0.3145948</td><td> 0.3241050</td><td>-0.2174623</td><td> 0.5104809</td></tr>\n",
       "\t<tr><th scope=row>Illiteracy</th><td> 0.3130496</td><td>-0.3145948</td><td> 1.0000000</td><td>-0.5553735</td><td> 0.6723592</td><td>-0.6545396</td></tr>\n",
       "\t<tr><th scope=row>Life Exp</th><td>-0.1040171</td><td> 0.3241050</td><td>-0.5553735</td><td> 1.0000000</td><td>-0.7802406</td><td> 0.5239410</td></tr>\n",
       "\t<tr><th scope=row>Murder</th><td> 0.3457401</td><td>-0.2174623</td><td> 0.6723592</td><td>-0.7802406</td><td> 1.0000000</td><td>-0.4367330</td></tr>\n",
       "\t<tr><th scope=row>HS Grad</th><td>-0.3833649</td><td> 0.5104809</td><td>-0.6545396</td><td> 0.5239410</td><td>-0.4367330</td><td> 1.0000000</td></tr>\n",
       "</tbody>\n",
       "</table>\n"
      ],
      "text/latex": [
       "\\begin{tabular}{r|llllll}\n",
       "  & Population & Income & Illiteracy & Life Exp & Murder & HS Grad\\\\\n",
       "\\hline\n",
       "\tPopulation &  1.0000000 &  0.1246098 &  0.3130496 & -0.1040171 &  0.3457401 & -0.3833649\\\\\n",
       "\tIncome &  0.1246098 &  1.0000000 & -0.3145948 &  0.3241050 & -0.2174623 &  0.5104809\\\\\n",
       "\tIlliteracy &  0.3130496 & -0.3145948 &  1.0000000 & -0.5553735 &  0.6723592 & -0.6545396\\\\\n",
       "\tLife Exp & -0.1040171 &  0.3241050 & -0.5553735 &  1.0000000 & -0.7802406 &  0.5239410\\\\\n",
       "\tMurder &  0.3457401 & -0.2174623 &  0.6723592 & -0.7802406 &  1.0000000 & -0.4367330\\\\\n",
       "\tHS Grad & -0.3833649 &  0.5104809 & -0.6545396 &  0.5239410 & -0.4367330 &  1.0000000\\\\\n",
       "\\end{tabular}\n"
      ],
      "text/markdown": [
       "\n",
       "| <!--/--> | Population | Income | Illiteracy | Life Exp | Murder | HS Grad | \n",
       "|---|---|---|---|---|---|\n",
       "| Population |  1.0000000 |  0.1246098 |  0.3130496 | -0.1040171 |  0.3457401 | -0.3833649 | \n",
       "| Income |  0.1246098 |  1.0000000 | -0.3145948 |  0.3241050 | -0.2174623 |  0.5104809 | \n",
       "| Illiteracy |  0.3130496 | -0.3145948 |  1.0000000 | -0.5553735 |  0.6723592 | -0.6545396 | \n",
       "| Life Exp | -0.1040171 |  0.3241050 | -0.5553735 |  1.0000000 | -0.7802406 |  0.5239410 | \n",
       "| Murder |  0.3457401 | -0.2174623 |  0.6723592 | -0.7802406 |  1.0000000 | -0.4367330 | \n",
       "| HS Grad | -0.3833649 |  0.5104809 | -0.6545396 |  0.5239410 | -0.4367330 |  1.0000000 | \n",
       "\n",
       "\n"
      ],
      "text/plain": [
       "           Population Income     Illiteracy Life Exp   Murder     HS Grad   \n",
       "Population  1.0000000  0.1246098  0.3130496 -0.1040171  0.3457401 -0.3833649\n",
       "Income      0.1246098  1.0000000 -0.3145948  0.3241050 -0.2174623  0.5104809\n",
       "Illiteracy  0.3130496 -0.3145948  1.0000000 -0.5553735  0.6723592 -0.6545396\n",
       "Life Exp   -0.1040171  0.3241050 -0.5553735  1.0000000 -0.7802406  0.5239410\n",
       "Murder      0.3457401 -0.2174623  0.6723592 -0.7802406  1.0000000 -0.4367330\n",
       "HS Grad    -0.3833649  0.5104809 -0.6545396  0.5239410 -0.4367330  1.0000000"
      ]
     },
     "metadata": {},
     "output_type": "display_data"
    }
   ],
   "source": [
    "cor(states, method=\"spearman\") # Spearman"
   ]
  },
  {
   "cell_type": "markdown",
   "metadata": {},
   "source": [
    "1. 收入和高中毕业率之间存在很强的正相关\n",
    "1. 文盲率和预期寿命之间存在很强的负相关"
   ]
  },
  {
   "cell_type": "code",
   "execution_count": 58,
   "metadata": {
    "collapsed": false
   },
   "outputs": [
    {
     "data": {
      "text/html": [
       "<table>\n",
       "<thead><tr><th></th><th scope=col>Life Exp</th><th scope=col>Murder</th></tr></thead>\n",
       "<tbody>\n",
       "\t<tr><th scope=row>Population</th><td>-0.06805195</td><td> 0.3436428 </td></tr>\n",
       "\t<tr><th scope=row>Income</th><td> 0.34025534</td><td>-0.2300776 </td></tr>\n",
       "\t<tr><th scope=row>Illiteracy</th><td>-0.58847793</td><td> 0.7029752 </td></tr>\n",
       "\t<tr><th scope=row>HS Grad</th><td> 0.58221620</td><td>-0.4879710 </td></tr>\n",
       "</tbody>\n",
       "</table>\n"
      ],
      "text/latex": [
       "\\begin{tabular}{r|ll}\n",
       "  & Life Exp & Murder\\\\\n",
       "\\hline\n",
       "\tPopulation & -0.06805195 &  0.3436428 \\\\\n",
       "\tIncome &  0.34025534 & -0.2300776 \\\\\n",
       "\tIlliteracy & -0.58847793 &  0.7029752 \\\\\n",
       "\tHS Grad &  0.58221620 & -0.4879710 \\\\\n",
       "\\end{tabular}\n"
      ],
      "text/markdown": [
       "\n",
       "| <!--/--> | Life Exp | Murder | \n",
       "|---|---|---|---|\n",
       "| Population | -0.06805195 |  0.3436428  | \n",
       "| Income |  0.34025534 | -0.2300776  | \n",
       "| Illiteracy | -0.58847793 |  0.7029752  | \n",
       "| HS Grad |  0.58221620 | -0.4879710  | \n",
       "\n",
       "\n"
      ],
      "text/plain": [
       "           Life Exp    Murder    \n",
       "Population -0.06805195  0.3436428\n",
       "Income      0.34025534 -0.2300776\n",
       "Illiteracy -0.58847793  0.7029752\n",
       "HS Grad     0.58221620 -0.4879710"
      ]
     },
     "metadata": {},
     "output_type": "display_data"
    }
   ],
   "source": [
    "x <- states[,c(\"Population\", \"Income\", \"Illiteracy\", \"HS Grad\")]\n",
    "y <- states[,c(\"Life Exp\", \"Murder\")]\n",
    "cor(x,y)"
   ]
  },
  {
   "cell_type": "markdown",
   "metadata": {},
   "source": [
    "#### 2.偏相关\n",
    "`偏相关`是指在控制一个或多个\u001b定量变量时，另外两个定量变量之间的\u001b\u001b相互关系。"
   ]
  },
  {
   "cell_type": "code",
   "execution_count": 60,
   "metadata": {
    "collapsed": false
   },
   "outputs": [
    {
     "data": {
      "text/html": [
       "<ol class=list-inline>\n",
       "\t<li>'Population'</li>\n",
       "\t<li>'Income'</li>\n",
       "\t<li>'Illiteracy'</li>\n",
       "\t<li>'Life Exp'</li>\n",
       "\t<li>'Murder'</li>\n",
       "\t<li>'HS Grad'</li>\n",
       "</ol>\n"
      ],
      "text/latex": [
       "\\begin{enumerate*}\n",
       "\\item 'Population'\n",
       "\\item 'Income'\n",
       "\\item 'Illiteracy'\n",
       "\\item 'Life Exp'\n",
       "\\item 'Murder'\n",
       "\\item 'HS Grad'\n",
       "\\end{enumerate*}\n"
      ],
      "text/markdown": [
       "1. 'Population'\n",
       "2. 'Income'\n",
       "3. 'Illiteracy'\n",
       "4. 'Life Exp'\n",
       "5. 'Murder'\n",
       "6. 'HS Grad'\n",
       "\n",
       "\n"
      ],
      "text/plain": [
       "[1] \"Population\" \"Income\"     \"Illiteracy\" \"Life Exp\"   \"Murder\"    \n",
       "[6] \"HS Grad\"   "
      ]
     },
     "metadata": {},
     "output_type": "display_data"
    }
   ],
   "source": [
    "library(ggm)\n",
    "colnames(states)"
   ]
  },
  {
   "cell_type": "code",
   "execution_count": 61,
   "metadata": {
    "collapsed": false
   },
   "outputs": [
    {
     "data": {
      "text/html": [
       "0.346272371372947"
      ],
      "text/latex": [
       "0.346272371372947"
      ],
      "text/markdown": [
       "0.346272371372947"
      ],
      "text/plain": [
       "[1] 0.3462724"
      ]
     },
     "metadata": {},
     "output_type": "display_data"
    }
   ],
   "source": [
    "pcor(c(1,5,2,3,6), cov(states))"
   ]
  },
  {
   "cell_type": "markdown",
   "metadata": {},
   "source": [
    "本例中，在控制了收入、文盲率和高中毕业率的影响时，人口和谋杀率之间的相关系数为0.346。\n",
    "\n",
    "### 相关性的显著性检验\n",
    "```r\n",
    "cor.test(x, y, alternative = , method = )\n",
    "```\n",
    "\n",
    "- x和y为要检验相关性的\u001b变量\n",
    "- alternative指定\u001b双侧或单侧检验（取值为\"two.side\",\"less\",\"greater\"）\n",
    "- method(\"pearson\",\"kendall\",\"spearman\")\n",
    "- 当研究的假设为总体的相关系数小于0时，alternative=\"less\"\n",
    "- 在研究的假设为总体的相关系数大于0时，应使用alternative=\"greater\"\n",
    "\n",
    "代码清单7-15 检验某种相关系数的显著性"
   ]
  },
  {
   "cell_type": "code",
   "execution_count": 62,
   "metadata": {
    "collapsed": false
   },
   "outputs": [
    {
     "data": {
      "text/plain": [
       "\n",
       "\tPearson's product-moment correlation\n",
       "\n",
       "data:  states[, 3] and states[, 5]\n",
       "t = 6.8479, df = 48, p-value = 1.258e-08\n",
       "alternative hypothesis: true correlation is not equal to 0\n",
       "95 percent confidence interval:\n",
       " 0.5279280 0.8207295\n",
       "sample estimates:\n",
       "      cor \n",
       "0.7029752 \n"
      ]
     },
     "metadata": {},
     "output_type": "display_data"
    }
   ],
   "source": [
    "cor.test(states[,3], states[,5])"
   ]
  },
  {
   "cell_type": "markdown",
   "metadata": {},
   "source": [
    "这段代码检验了预期寿命和谋杀率的Pearson相关系数为0的原假设。假设总体的相关度为0，则预计在一千万次中只会有少于一次的机会见到0.703这样大的样本相关度（p=1.258e-08）。由于p如此之小，拒绝原假设。即预期寿命和谋杀率之间的总体相关度不为0。\n",
    "\n",
    "代码清单7-16 通过corr.test计算相关矩阵并进行显著性检验"
   ]
  },
  {
   "cell_type": "code",
   "execution_count": 63,
   "metadata": {
    "collapsed": false
   },
   "outputs": [
    {
     "data": {
      "text/plain": [
       "Call:corr.test(x = states, use = \"complete\")\n",
       "Correlation matrix \n",
       "           Population Income Illiteracy Life Exp Murder HS Grad\n",
       "Population       1.00   0.21       0.11    -0.07   0.34   -0.10\n",
       "Income           0.21   1.00      -0.44     0.34  -0.23    0.62\n",
       "Illiteracy       0.11  -0.44       1.00    -0.59   0.70   -0.66\n",
       "Life Exp        -0.07   0.34      -0.59     1.00  -0.78    0.58\n",
       "Murder           0.34  -0.23       0.70    -0.78   1.00   -0.49\n",
       "HS Grad         -0.10   0.62      -0.66     0.58  -0.49    1.00\n",
       "Sample Size \n",
       "[1] 50\n",
       "Probability values (Entries above the diagonal are adjusted for multiple tests.) \n",
       "           Population Income Illiteracy Life Exp Murder HS Grad\n",
       "Population       0.00   0.59       1.00      1.0   0.10       1\n",
       "Income           0.15   0.00       0.01      0.1   0.54       0\n",
       "Illiteracy       0.46   0.00       0.00      0.0   0.00       0\n",
       "Life Exp         0.64   0.02       0.00      0.0   0.00       0\n",
       "Murder           0.01   0.11       0.00      0.0   0.00       0\n",
       "HS Grad          0.50   0.00       0.00      0.0   0.00       0\n",
       "\n",
       " To see confidence intervals of the correlations, print with the short=FALSE option"
      ]
     },
     "metadata": {},
     "output_type": "display_data"
    }
   ],
   "source": [
    "library(psych)\n",
    "corr.test(states, use=\"complete\")"
   ]
  },
  {
   "cell_type": "markdown",
   "metadata": {},
   "source": [
    "- use取值\"pairwise\"或\"complete\"，分别表示对缺失值执行成对删除或行删除。\n",
    "- method取值\"pearson\"或\"spearman\"或\"kendall\"。\n",
    "\n",
    "人口数量和高中毕业率的相关系数（-0.10）并不显著地不为0（p=0.5）。\n",
    "\n",
    "## t检验\n",
    "### 独立样本的t检验\n",
    "一个针对两组的独立样本t检验可以用于检验两个总体的均值相等的假设。这里假设两组\u001b数据是独立的，并且是从正态总体中抽得。检验的调用格式\b为：\n",
    "\n",
    "```r\n",
    "t.test(y ~ x, data)\n",
    "```\n",
    "\n",
    "- y是一个数值型变量\n",
    "- x是一个二分变量\n",
    "\n",
    "或为：\n",
    "\n",
    "```r\n",
    "t.test(y1, y2)\n",
    "```\n",
    "\n",
    "- 其中的y1和y2为\u001b数值型向量。\n",
    "\n",
    "在下列代码中，使用一个假设方差不等的双侧检验，比较了南方（group 1）和非南方（group 0）各州的监禁概率："
   ]
  },
  {
   "cell_type": "code",
   "execution_count": 2,
   "metadata": {
    "collapsed": false
   },
   "outputs": [
    {
     "data": {
      "text/plain": [
       "\n",
       "\tWelch Two Sample t-test\n",
       "\n",
       "data:  Prob by So\n",
       "t = -3.8954, df = 24.925, p-value = 0.0006506\n",
       "alternative hypothesis: true difference in means is not equal to 0\n",
       "95 percent confidence interval:\n",
       " -0.03852569 -0.01187439\n",
       "sample estimates:\n",
       "mean in group 0 mean in group 1 \n",
       "     0.03851265      0.06371269 \n"
      ]
     },
     "metadata": {},
     "output_type": "display_data"
    }
   ],
   "source": [
    "library(MASS)\n",
    "t.test(Prob ~ So, data=UScrime)"
   ]
  },
  {
   "cell_type": "markdown",
   "metadata": {
    "collapsed": true
   },
   "source": [
    "拒绝南方各州和非南方各州拥有相同监禁概率的假设（p<0.001）。\n",
    "\n",
    "### 非独立样本的t检验\n",
    "在两组的观测之间相关时，\u001b你获得的是一个非独立组设计（dependent groups design）。\b前-后\b测设计（pre-post design）或重复测量设计（repeated measures design）同样也会产生非独立的组。\n",
    "\n",
    "非独立样本的t检验假定组间的差异呈正态分布。\n",
    "\n",
    "```r\n",
    "t.test(y1, y2, paired=TRUE)\n",
    "```\n",
    "\n",
    "其中y1和y2为两个非独立组的数值向量。"
   ]
  },
  {
   "cell_type": "code",
   "execution_count": 3,
   "metadata": {
    "collapsed": false
   },
   "outputs": [
    {
     "data": {
      "text/html": [
       "<table>\n",
       "<thead><tr><th></th><th scope=col>U1</th><th scope=col>U2</th></tr></thead>\n",
       "<tbody>\n",
       "\t<tr><th scope=row>mean</th><td>95.46809</td><td>33.97872</td></tr>\n",
       "\t<tr><th scope=row>sd</th><td>18.02878</td><td> 8.44545</td></tr>\n",
       "</tbody>\n",
       "</table>\n"
      ],
      "text/latex": [
       "\\begin{tabular}{r|ll}\n",
       "  & U1 & U2\\\\\n",
       "\\hline\n",
       "\tmean & 95.46809 & 33.97872\\\\\n",
       "\tsd & 18.02878 &  8.44545\\\\\n",
       "\\end{tabular}\n"
      ],
      "text/markdown": [
       "\n",
       "| <!--/--> | U1 | U2 | \n",
       "|---|---|\n",
       "| mean | 95.46809 | 33.97872 | \n",
       "| sd | 18.02878 |  8.44545 | \n",
       "\n",
       "\n"
      ],
      "text/plain": [
       "     U1       U2      \n",
       "mean 95.46809 33.97872\n",
       "sd   18.02878  8.44545"
      ]
     },
     "metadata": {},
     "output_type": "display_data"
    }
   ],
   "source": [
    "library(MASS)\n",
    "sapply(UScrime[c(\"U1\",\"U2\")], function(x)(c(mean=mean(x),sd=sd(x))))"
   ]
  },
  {
   "cell_type": "code",
   "execution_count": 4,
   "metadata": {
    "collapsed": false
   },
   "outputs": [
    {
     "data": {
      "text/plain": [
       "\n",
       "\tPaired t-test\n",
       "\n",
       "data:  U1 and U2\n",
       "t = 32.407, df = 46, p-value < 2.2e-16\n",
       "alternative hypothesis: true difference in means is not equal to 0\n",
       "95 percent confidence interval:\n",
       " 57.67003 65.30870\n",
       "sample estimates:\n",
       "mean of the differences \n",
       "               61.48936 \n"
      ]
     },
     "metadata": {},
     "output_type": "display_data"
    }
   ],
   "source": [
    "with(UScrime, t.test(U1, U2, paired=TRUE))"
   ]
  },
  {
   "cell_type": "markdown",
   "metadata": {},
   "source": [
    "差异的均值（61.5）足够大，可以保证拒绝年长和年轻男性的平均失业率相同的假设。年轻男性的失业率更高。事实上，若总体均值相等，获取一个差异如此大的样本的概率小于2.2e-16。\n",
    "\n",
    "## 组间差异的非参数检验\n",
    "### 两组的比较\n",
    "若两组数据独立，可以使用Wilcoxon秩和检验（Mann-Whitney U检验）来评估观测是否从相同的概率分布中抽得的（即，在一个总体中获得更高得分的概率是否比另一个总体要大）。\n",
    "\n",
    "```r\n",
    "wilcox.test(y ~ x, data)\n",
    "```\n",
    "\n",
    "- y是数值型变量\n",
    "- x是一个二分变量\n",
    "\n",
    "或\n",
    "\n",
    "```r\n",
    "wilcox.test(y1, y2)\n",
    "```\n",
    "\n",
    "- y1和y2为各组的结果变量。"
   ]
  },
  {
   "cell_type": "code",
   "execution_count": 5,
   "metadata": {
    "collapsed": false
   },
   "outputs": [
    {
     "data": {
      "text/plain": [
       "So: 0\n",
       "[1] 0.038201\n",
       "------------------------------------------------------------ \n",
       "So: 1\n",
       "[1] 0.055552"
      ]
     },
     "metadata": {},
     "output_type": "display_data"
    }
   ],
   "source": [
    "with(UScrime, by(Prob, So, median))"
   ]
  },
  {
   "cell_type": "code",
   "execution_count": 6,
   "metadata": {
    "collapsed": false
   },
   "outputs": [
    {
     "data": {
      "text/plain": [
       "\n",
       "\tWilcoxon rank sum test\n",
       "\n",
       "data:  Prob by So\n",
       "W = 81, p-value = 8.488e-05\n",
       "alternative hypothesis: true location shift is not equal to 0\n"
      ]
     },
     "metadata": {},
     "output_type": "display_data"
    }
   ],
   "source": [
    "wilcox.test(Prob ~ So, data=UScrime)"
   ]
  },
  {
   "cell_type": "markdown",
   "metadata": {},
   "source": [
    "拒绝南方各州和非南方各州\u001b监禁率相同的假设（p<0.001）。\n",
    "\n",
    "Wilcoxon符号秩检验是非独立样本t检验的一种非参数替代方法。它适用于两组对数据和无法保证正态性假设的情境。"
   ]
  },
  {
   "cell_type": "code",
   "execution_count": 7,
   "metadata": {
    "collapsed": false
   },
   "outputs": [
    {
     "data": {
      "text/html": [
       "<dl class=dl-horizontal>\n",
       "\t<dt>U1</dt>\n",
       "\t\t<dd>92</dd>\n",
       "\t<dt>U2</dt>\n",
       "\t\t<dd>34</dd>\n",
       "</dl>\n"
      ],
      "text/latex": [
       "\\begin{description*}\n",
       "\\item[U1] 92\n",
       "\\item[U2] 34\n",
       "\\end{description*}\n"
      ],
      "text/markdown": [
       "U1\n",
       ":   92U2\n",
       ":   34\n",
       "\n"
      ],
      "text/plain": [
       "U1 U2 \n",
       "92 34 "
      ]
     },
     "metadata": {},
     "output_type": "display_data"
    }
   ],
   "source": [
    "sapply(UScrime[c(\"U1\",\"U2\")], median)"
   ]
  },
  {
   "cell_type": "code",
   "execution_count": 9,
   "metadata": {
    "collapsed": false
   },
   "outputs": [
    {
     "name": "stderr",
     "output_type": "stream",
     "text": [
      "Warning message in wilcox.test.default(U1, U2, paired = TRUE):\n",
      "“cannot compute exact p-value with ties”"
     ]
    },
    {
     "data": {
      "text/plain": [
       "\n",
       "\tWilcoxon signed rank test with continuity correction\n",
       "\n",
       "data:  U1 and U2\n",
       "V = 1128, p-value = 2.464e-09\n",
       "alternative hypothesis: true location shift is not equal to 0\n"
      ]
     },
     "metadata": {},
     "output_type": "display_data"
    }
   ],
   "source": [
    "with(UScrime, wilcox.test(U1, U2, paired=TRUE))"
   ]
  },
  {
   "cell_type": "markdown",
   "metadata": {},
   "source": [
    "在次得到了与配对t检验相同的结论。\n",
    "\n",
    "### 多于两组的比较\n",
    "如果各组独立，则Kruskal-Wallis检验将是一种实用的方法。如果各组不独立（如重复测量设计或随机区组设计），那么Friedman检验会更合适。\n",
    "\n",
    "Kruskal-Wallis检验的调用格式：\n",
    "\n",
    "```r\n",
    "kruskal.test(y ~ A, data)\n",
    "```\n",
    "\n",
    "- y是一个数值型结果变量\n",
    "- A是一个拥有两个或更多水平的分组变量（grouping variable）。若有两个\b水平，则它与Mann-Whitney U检验等价。\n",
    "\n",
    "Friedman检验的调用格式：\n",
    "\n",
    "```r\n",
    "friedman.test(y ~ A | B, data)\n",
    "```\n",
    "\n",
    "- y是数值型结果变量\n",
    "- A是一个分组变量\n",
    "- B是一个用以认定匹配观测的区组变量（blocking variable）。\n",
    "\n",
    "利用Kruskal-Wallis检验回答文盲率的问题。"
   ]
  },
  {
   "cell_type": "code",
   "execution_count": 11,
   "metadata": {
    "collapsed": false
   },
   "outputs": [
    {
     "data": {
      "text/html": [
       "<table>\n",
       "<thead><tr><th></th><th scope=col>state.region</th><th scope=col>Population</th><th scope=col>Income</th><th scope=col>Illiteracy</th><th scope=col>Life.Exp</th><th scope=col>Murder</th><th scope=col>HS.Grad</th><th scope=col>Frost</th><th scope=col>Area</th></tr></thead>\n",
       "<tbody>\n",
       "\t<tr><th scope=row>Alabama</th><td>South        </td><td> 3615        </td><td>3624         </td><td>2.1          </td><td>69.05        </td><td>15.1         </td><td>41.3         </td><td> 20          </td><td> 50708       </td></tr>\n",
       "\t<tr><th scope=row>Alaska</th><td>West         </td><td>  365        </td><td>6315         </td><td>1.5          </td><td>69.31        </td><td>11.3         </td><td>66.7         </td><td>152          </td><td>566432       </td></tr>\n",
       "\t<tr><th scope=row>Arizona</th><td>West         </td><td> 2212        </td><td>4530         </td><td>1.8          </td><td>70.55        </td><td> 7.8         </td><td>58.1         </td><td> 15          </td><td>113417       </td></tr>\n",
       "\t<tr><th scope=row>Arkansas</th><td>South        </td><td> 2110        </td><td>3378         </td><td>1.9          </td><td>70.66        </td><td>10.1         </td><td>39.9         </td><td> 65          </td><td> 51945       </td></tr>\n",
       "\t<tr><th scope=row>California</th><td>West         </td><td>21198        </td><td>5114         </td><td>1.1          </td><td>71.71        </td><td>10.3         </td><td>62.6         </td><td> 20          </td><td>156361       </td></tr>\n",
       "\t<tr><th scope=row>Colorado</th><td>West         </td><td> 2541        </td><td>4884         </td><td>0.7          </td><td>72.06        </td><td> 6.8         </td><td>63.9         </td><td>166          </td><td>103766       </td></tr>\n",
       "\t<tr><th scope=row>Connecticut</th><td>Northeast    </td><td> 3100        </td><td>5348         </td><td>1.1          </td><td>72.48        </td><td> 3.1         </td><td>56.0         </td><td>139          </td><td>  4862       </td></tr>\n",
       "\t<tr><th scope=row>Delaware</th><td>South        </td><td>  579        </td><td>4809         </td><td>0.9          </td><td>70.06        </td><td> 6.2         </td><td>54.6         </td><td>103          </td><td>  1982       </td></tr>\n",
       "\t<tr><th scope=row>Florida</th><td>South        </td><td> 8277        </td><td>4815         </td><td>1.3          </td><td>70.66        </td><td>10.7         </td><td>52.6         </td><td> 11          </td><td> 54090       </td></tr>\n",
       "\t<tr><th scope=row>Georgia</th><td>South        </td><td> 4931        </td><td>4091         </td><td>2.0          </td><td>68.54        </td><td>13.9         </td><td>40.6         </td><td> 60          </td><td> 58073       </td></tr>\n",
       "\t<tr><th scope=row>Hawaii</th><td>West         </td><td>  868        </td><td>4963         </td><td>1.9          </td><td>73.60        </td><td> 6.2         </td><td>61.9         </td><td>  0          </td><td>  6425       </td></tr>\n",
       "\t<tr><th scope=row>Idaho</th><td>West         </td><td>  813        </td><td>4119         </td><td>0.6          </td><td>71.87        </td><td> 5.3         </td><td>59.5         </td><td>126          </td><td> 82677       </td></tr>\n",
       "\t<tr><th scope=row>Illinois</th><td>North Central</td><td>11197        </td><td>5107         </td><td>0.9          </td><td>70.14        </td><td>10.3         </td><td>52.6         </td><td>127          </td><td> 55748       </td></tr>\n",
       "\t<tr><th scope=row>Indiana</th><td>North Central</td><td> 5313        </td><td>4458         </td><td>0.7          </td><td>70.88        </td><td> 7.1         </td><td>52.9         </td><td>122          </td><td> 36097       </td></tr>\n",
       "\t<tr><th scope=row>Iowa</th><td>North Central</td><td> 2861        </td><td>4628         </td><td>0.5          </td><td>72.56        </td><td> 2.3         </td><td>59.0         </td><td>140          </td><td> 55941       </td></tr>\n",
       "\t<tr><th scope=row>Kansas</th><td>North Central</td><td> 2280        </td><td>4669         </td><td>0.6          </td><td>72.58        </td><td> 4.5         </td><td>59.9         </td><td>114          </td><td> 81787       </td></tr>\n",
       "\t<tr><th scope=row>Kentucky</th><td>South        </td><td> 3387        </td><td>3712         </td><td>1.6          </td><td>70.10        </td><td>10.6         </td><td>38.5         </td><td> 95          </td><td> 39650       </td></tr>\n",
       "\t<tr><th scope=row>Louisiana</th><td>South        </td><td> 3806        </td><td>3545         </td><td>2.8          </td><td>68.76        </td><td>13.2         </td><td>42.2         </td><td> 12          </td><td> 44930       </td></tr>\n",
       "\t<tr><th scope=row>Maine</th><td>Northeast    </td><td> 1058        </td><td>3694         </td><td>0.7          </td><td>70.39        </td><td> 2.7         </td><td>54.7         </td><td>161          </td><td> 30920       </td></tr>\n",
       "\t<tr><th scope=row>Maryland</th><td>South        </td><td> 4122        </td><td>5299         </td><td>0.9          </td><td>70.22        </td><td> 8.5         </td><td>52.3         </td><td>101          </td><td>  9891       </td></tr>\n",
       "\t<tr><th scope=row>Massachusetts</th><td>Northeast    </td><td> 5814        </td><td>4755         </td><td>1.1          </td><td>71.83        </td><td> 3.3         </td><td>58.5         </td><td>103          </td><td>  7826       </td></tr>\n",
       "\t<tr><th scope=row>Michigan</th><td>North Central</td><td> 9111        </td><td>4751         </td><td>0.9          </td><td>70.63        </td><td>11.1         </td><td>52.8         </td><td>125          </td><td> 56817       </td></tr>\n",
       "\t<tr><th scope=row>Minnesota</th><td>North Central</td><td> 3921        </td><td>4675         </td><td>0.6          </td><td>72.96        </td><td> 2.3         </td><td>57.6         </td><td>160          </td><td> 79289       </td></tr>\n",
       "\t<tr><th scope=row>Mississippi</th><td>South        </td><td> 2341        </td><td>3098         </td><td>2.4          </td><td>68.09        </td><td>12.5         </td><td>41.0         </td><td> 50          </td><td> 47296       </td></tr>\n",
       "\t<tr><th scope=row>Missouri</th><td>North Central</td><td> 4767        </td><td>4254         </td><td>0.8          </td><td>70.69        </td><td> 9.3         </td><td>48.8         </td><td>108          </td><td> 68995       </td></tr>\n",
       "\t<tr><th scope=row>Montana</th><td>West         </td><td>  746        </td><td>4347         </td><td>0.6          </td><td>70.56        </td><td> 5.0         </td><td>59.2         </td><td>155          </td><td>145587       </td></tr>\n",
       "\t<tr><th scope=row>Nebraska</th><td>North Central</td><td> 1544        </td><td>4508         </td><td>0.6          </td><td>72.60        </td><td> 2.9         </td><td>59.3         </td><td>139          </td><td> 76483       </td></tr>\n",
       "\t<tr><th scope=row>Nevada</th><td>West         </td><td>  590        </td><td>5149         </td><td>0.5          </td><td>69.03        </td><td>11.5         </td><td>65.2         </td><td>188          </td><td>109889       </td></tr>\n",
       "\t<tr><th scope=row>New Hampshire</th><td>Northeast    </td><td>  812        </td><td>4281         </td><td>0.7          </td><td>71.23        </td><td> 3.3         </td><td>57.6         </td><td>174          </td><td>  9027       </td></tr>\n",
       "\t<tr><th scope=row>New Jersey</th><td>Northeast    </td><td> 7333        </td><td>5237         </td><td>1.1          </td><td>70.93        </td><td> 5.2         </td><td>52.5         </td><td>115          </td><td>  7521       </td></tr>\n",
       "\t<tr><th scope=row>New Mexico</th><td>West         </td><td> 1144        </td><td>3601         </td><td>2.2          </td><td>70.32        </td><td> 9.7         </td><td>55.2         </td><td>120          </td><td>121412       </td></tr>\n",
       "\t<tr><th scope=row>New York</th><td>Northeast    </td><td>18076        </td><td>4903         </td><td>1.4          </td><td>70.55        </td><td>10.9         </td><td>52.7         </td><td> 82          </td><td> 47831       </td></tr>\n",
       "\t<tr><th scope=row>North Carolina</th><td>South        </td><td> 5441        </td><td>3875         </td><td>1.8          </td><td>69.21        </td><td>11.1         </td><td>38.5         </td><td> 80          </td><td> 48798       </td></tr>\n",
       "\t<tr><th scope=row>North Dakota</th><td>North Central</td><td>  637        </td><td>5087         </td><td>0.8          </td><td>72.78        </td><td> 1.4         </td><td>50.3         </td><td>186          </td><td> 69273       </td></tr>\n",
       "\t<tr><th scope=row>Ohio</th><td>North Central</td><td>10735        </td><td>4561         </td><td>0.8          </td><td>70.82        </td><td> 7.4         </td><td>53.2         </td><td>124          </td><td> 40975       </td></tr>\n",
       "\t<tr><th scope=row>Oklahoma</th><td>South        </td><td> 2715        </td><td>3983         </td><td>1.1          </td><td>71.42        </td><td> 6.4         </td><td>51.6         </td><td> 82          </td><td> 68782       </td></tr>\n",
       "\t<tr><th scope=row>Oregon</th><td>West         </td><td> 2284        </td><td>4660         </td><td>0.6          </td><td>72.13        </td><td> 4.2         </td><td>60.0         </td><td> 44          </td><td> 96184       </td></tr>\n",
       "\t<tr><th scope=row>Pennsylvania</th><td>Northeast    </td><td>11860        </td><td>4449         </td><td>1.0          </td><td>70.43        </td><td> 6.1         </td><td>50.2         </td><td>126          </td><td> 44966       </td></tr>\n",
       "\t<tr><th scope=row>Rhode Island</th><td>Northeast    </td><td>  931        </td><td>4558         </td><td>1.3          </td><td>71.90        </td><td> 2.4         </td><td>46.4         </td><td>127          </td><td>  1049       </td></tr>\n",
       "\t<tr><th scope=row>South Carolina</th><td>South        </td><td> 2816        </td><td>3635         </td><td>2.3          </td><td>67.96        </td><td>11.6         </td><td>37.8         </td><td> 65          </td><td> 30225       </td></tr>\n",
       "\t<tr><th scope=row>South Dakota</th><td>North Central</td><td>  681        </td><td>4167         </td><td>0.5          </td><td>72.08        </td><td> 1.7         </td><td>53.3         </td><td>172          </td><td> 75955       </td></tr>\n",
       "\t<tr><th scope=row>Tennessee</th><td>South        </td><td> 4173        </td><td>3821         </td><td>1.7          </td><td>70.11        </td><td>11.0         </td><td>41.8         </td><td> 70          </td><td> 41328       </td></tr>\n",
       "\t<tr><th scope=row>Texas</th><td>South        </td><td>12237        </td><td>4188         </td><td>2.2          </td><td>70.90        </td><td>12.2         </td><td>47.4         </td><td> 35          </td><td>262134       </td></tr>\n",
       "\t<tr><th scope=row>Utah</th><td>West         </td><td> 1203        </td><td>4022         </td><td>0.6          </td><td>72.90        </td><td> 4.5         </td><td>67.3         </td><td>137          </td><td> 82096       </td></tr>\n",
       "\t<tr><th scope=row>Vermont</th><td>Northeast    </td><td>  472        </td><td>3907         </td><td>0.6          </td><td>71.64        </td><td> 5.5         </td><td>57.1         </td><td>168          </td><td>  9267       </td></tr>\n",
       "\t<tr><th scope=row>Virginia</th><td>South        </td><td> 4981        </td><td>4701         </td><td>1.4          </td><td>70.08        </td><td> 9.5         </td><td>47.8         </td><td> 85          </td><td> 39780       </td></tr>\n",
       "\t<tr><th scope=row>Washington</th><td>West         </td><td> 3559        </td><td>4864         </td><td>0.6          </td><td>71.72        </td><td> 4.3         </td><td>63.5         </td><td> 32          </td><td> 66570       </td></tr>\n",
       "\t<tr><th scope=row>West Virginia</th><td>South        </td><td> 1799        </td><td>3617         </td><td>1.4          </td><td>69.48        </td><td> 6.7         </td><td>41.6         </td><td>100          </td><td> 24070       </td></tr>\n",
       "\t<tr><th scope=row>Wisconsin</th><td>North Central</td><td> 4589        </td><td>4468         </td><td>0.7          </td><td>72.48        </td><td> 3.0         </td><td>54.5         </td><td>149          </td><td> 54464       </td></tr>\n",
       "\t<tr><th scope=row>Wyoming</th><td>West         </td><td>  376        </td><td>4566         </td><td>0.6          </td><td>70.29        </td><td> 6.9         </td><td>62.9         </td><td>173          </td><td> 97203       </td></tr>\n",
       "</tbody>\n",
       "</table>\n"
      ],
      "text/latex": [
       "\\begin{tabular}{r|lllllllll}\n",
       "  & state.region & Population & Income & Illiteracy & Life.Exp & Murder & HS.Grad & Frost & Area\\\\\n",
       "\\hline\n",
       "\tAlabama & South         &  3615         & 3624          & 2.1           & 69.05         & 15.1          & 41.3          &  20           &  50708       \\\\\n",
       "\tAlaska & West          &   365         & 6315          & 1.5           & 69.31         & 11.3          & 66.7          & 152           & 566432       \\\\\n",
       "\tArizona & West          &  2212         & 4530          & 1.8           & 70.55         &  7.8          & 58.1          &  15           & 113417       \\\\\n",
       "\tArkansas & South         &  2110         & 3378          & 1.9           & 70.66         & 10.1          & 39.9          &  65           &  51945       \\\\\n",
       "\tCalifornia & West          & 21198         & 5114          & 1.1           & 71.71         & 10.3          & 62.6          &  20           & 156361       \\\\\n",
       "\tColorado & West          &  2541         & 4884          & 0.7           & 72.06         &  6.8          & 63.9          & 166           & 103766       \\\\\n",
       "\tConnecticut & Northeast     &  3100         & 5348          & 1.1           & 72.48         &  3.1          & 56.0          & 139           &   4862       \\\\\n",
       "\tDelaware & South         &   579         & 4809          & 0.9           & 70.06         &  6.2          & 54.6          & 103           &   1982       \\\\\n",
       "\tFlorida & South         &  8277         & 4815          & 1.3           & 70.66         & 10.7          & 52.6          &  11           &  54090       \\\\\n",
       "\tGeorgia & South         &  4931         & 4091          & 2.0           & 68.54         & 13.9          & 40.6          &  60           &  58073       \\\\\n",
       "\tHawaii & West          &   868         & 4963          & 1.9           & 73.60         &  6.2          & 61.9          &   0           &   6425       \\\\\n",
       "\tIdaho & West          &   813         & 4119          & 0.6           & 71.87         &  5.3          & 59.5          & 126           &  82677       \\\\\n",
       "\tIllinois & North Central & 11197         & 5107          & 0.9           & 70.14         & 10.3          & 52.6          & 127           &  55748       \\\\\n",
       "\tIndiana & North Central &  5313         & 4458          & 0.7           & 70.88         &  7.1          & 52.9          & 122           &  36097       \\\\\n",
       "\tIowa & North Central &  2861         & 4628          & 0.5           & 72.56         &  2.3          & 59.0          & 140           &  55941       \\\\\n",
       "\tKansas & North Central &  2280         & 4669          & 0.6           & 72.58         &  4.5          & 59.9          & 114           &  81787       \\\\\n",
       "\tKentucky & South         &  3387         & 3712          & 1.6           & 70.10         & 10.6          & 38.5          &  95           &  39650       \\\\\n",
       "\tLouisiana & South         &  3806         & 3545          & 2.8           & 68.76         & 13.2          & 42.2          &  12           &  44930       \\\\\n",
       "\tMaine & Northeast     &  1058         & 3694          & 0.7           & 70.39         &  2.7          & 54.7          & 161           &  30920       \\\\\n",
       "\tMaryland & South         &  4122         & 5299          & 0.9           & 70.22         &  8.5          & 52.3          & 101           &   9891       \\\\\n",
       "\tMassachusetts & Northeast     &  5814         & 4755          & 1.1           & 71.83         &  3.3          & 58.5          & 103           &   7826       \\\\\n",
       "\tMichigan & North Central &  9111         & 4751          & 0.9           & 70.63         & 11.1          & 52.8          & 125           &  56817       \\\\\n",
       "\tMinnesota & North Central &  3921         & 4675          & 0.6           & 72.96         &  2.3          & 57.6          & 160           &  79289       \\\\\n",
       "\tMississippi & South         &  2341         & 3098          & 2.4           & 68.09         & 12.5          & 41.0          &  50           &  47296       \\\\\n",
       "\tMissouri & North Central &  4767         & 4254          & 0.8           & 70.69         &  9.3          & 48.8          & 108           &  68995       \\\\\n",
       "\tMontana & West          &   746         & 4347          & 0.6           & 70.56         &  5.0          & 59.2          & 155           & 145587       \\\\\n",
       "\tNebraska & North Central &  1544         & 4508          & 0.6           & 72.60         &  2.9          & 59.3          & 139           &  76483       \\\\\n",
       "\tNevada & West          &   590         & 5149          & 0.5           & 69.03         & 11.5          & 65.2          & 188           & 109889       \\\\\n",
       "\tNew Hampshire & Northeast     &   812         & 4281          & 0.7           & 71.23         &  3.3          & 57.6          & 174           &   9027       \\\\\n",
       "\tNew Jersey & Northeast     &  7333         & 5237          & 1.1           & 70.93         &  5.2          & 52.5          & 115           &   7521       \\\\\n",
       "\tNew Mexico & West          &  1144         & 3601          & 2.2           & 70.32         &  9.7          & 55.2          & 120           & 121412       \\\\\n",
       "\tNew York & Northeast     & 18076         & 4903          & 1.4           & 70.55         & 10.9          & 52.7          &  82           &  47831       \\\\\n",
       "\tNorth Carolina & South         &  5441         & 3875          & 1.8           & 69.21         & 11.1          & 38.5          &  80           &  48798       \\\\\n",
       "\tNorth Dakota & North Central &   637         & 5087          & 0.8           & 72.78         &  1.4          & 50.3          & 186           &  69273       \\\\\n",
       "\tOhio & North Central & 10735         & 4561          & 0.8           & 70.82         &  7.4          & 53.2          & 124           &  40975       \\\\\n",
       "\tOklahoma & South         &  2715         & 3983          & 1.1           & 71.42         &  6.4          & 51.6          &  82           &  68782       \\\\\n",
       "\tOregon & West          &  2284         & 4660          & 0.6           & 72.13         &  4.2          & 60.0          &  44           &  96184       \\\\\n",
       "\tPennsylvania & Northeast     & 11860         & 4449          & 1.0           & 70.43         &  6.1          & 50.2          & 126           &  44966       \\\\\n",
       "\tRhode Island & Northeast     &   931         & 4558          & 1.3           & 71.90         &  2.4          & 46.4          & 127           &   1049       \\\\\n",
       "\tSouth Carolina & South         &  2816         & 3635          & 2.3           & 67.96         & 11.6          & 37.8          &  65           &  30225       \\\\\n",
       "\tSouth Dakota & North Central &   681         & 4167          & 0.5           & 72.08         &  1.7          & 53.3          & 172           &  75955       \\\\\n",
       "\tTennessee & South         &  4173         & 3821          & 1.7           & 70.11         & 11.0          & 41.8          &  70           &  41328       \\\\\n",
       "\tTexas & South         & 12237         & 4188          & 2.2           & 70.90         & 12.2          & 47.4          &  35           & 262134       \\\\\n",
       "\tUtah & West          &  1203         & 4022          & 0.6           & 72.90         &  4.5          & 67.3          & 137           &  82096       \\\\\n",
       "\tVermont & Northeast     &   472         & 3907          & 0.6           & 71.64         &  5.5          & 57.1          & 168           &   9267       \\\\\n",
       "\tVirginia & South         &  4981         & 4701          & 1.4           & 70.08         &  9.5          & 47.8          &  85           &  39780       \\\\\n",
       "\tWashington & West          &  3559         & 4864          & 0.6           & 71.72         &  4.3          & 63.5          &  32           &  66570       \\\\\n",
       "\tWest Virginia & South         &  1799         & 3617          & 1.4           & 69.48         &  6.7          & 41.6          & 100           &  24070       \\\\\n",
       "\tWisconsin & North Central &  4589         & 4468          & 0.7           & 72.48         &  3.0          & 54.5          & 149           &  54464       \\\\\n",
       "\tWyoming & West          &   376         & 4566          & 0.6           & 70.29         &  6.9          & 62.9          & 173           &  97203       \\\\\n",
       "\\end{tabular}\n"
      ],
      "text/markdown": [
       "\n",
       "| <!--/--> | state.region | Population | Income | Illiteracy | Life.Exp | Murder | HS.Grad | Frost | Area | \n",
       "|---|---|---|---|---|---|---|---|---|---|---|---|---|---|---|---|---|---|---|---|---|---|---|---|---|---|---|---|---|---|---|---|---|---|---|---|---|---|---|---|---|---|---|---|---|---|---|---|---|---|\n",
       "| Alabama | South         |  3615         | 3624          | 2.1           | 69.05         | 15.1          | 41.3          |  20           |  50708        | \n",
       "| Alaska | West          |   365         | 6315          | 1.5           | 69.31         | 11.3          | 66.7          | 152           | 566432        | \n",
       "| Arizona | West          |  2212         | 4530          | 1.8           | 70.55         |  7.8          | 58.1          |  15           | 113417        | \n",
       "| Arkansas | South         |  2110         | 3378          | 1.9           | 70.66         | 10.1          | 39.9          |  65           |  51945        | \n",
       "| California | West          | 21198         | 5114          | 1.1           | 71.71         | 10.3          | 62.6          |  20           | 156361        | \n",
       "| Colorado | West          |  2541         | 4884          | 0.7           | 72.06         |  6.8          | 63.9          | 166           | 103766        | \n",
       "| Connecticut | Northeast     |  3100         | 5348          | 1.1           | 72.48         |  3.1          | 56.0          | 139           |   4862        | \n",
       "| Delaware | South         |   579         | 4809          | 0.9           | 70.06         |  6.2          | 54.6          | 103           |   1982        | \n",
       "| Florida | South         |  8277         | 4815          | 1.3           | 70.66         | 10.7          | 52.6          |  11           |  54090        | \n",
       "| Georgia | South         |  4931         | 4091          | 2.0           | 68.54         | 13.9          | 40.6          |  60           |  58073        | \n",
       "| Hawaii | West          |   868         | 4963          | 1.9           | 73.60         |  6.2          | 61.9          |   0           |   6425        | \n",
       "| Idaho | West          |   813         | 4119          | 0.6           | 71.87         |  5.3          | 59.5          | 126           |  82677        | \n",
       "| Illinois | North Central | 11197         | 5107          | 0.9           | 70.14         | 10.3          | 52.6          | 127           |  55748        | \n",
       "| Indiana | North Central |  5313         | 4458          | 0.7           | 70.88         |  7.1          | 52.9          | 122           |  36097        | \n",
       "| Iowa | North Central |  2861         | 4628          | 0.5           | 72.56         |  2.3          | 59.0          | 140           |  55941        | \n",
       "| Kansas | North Central |  2280         | 4669          | 0.6           | 72.58         |  4.5          | 59.9          | 114           |  81787        | \n",
       "| Kentucky | South         |  3387         | 3712          | 1.6           | 70.10         | 10.6          | 38.5          |  95           |  39650        | \n",
       "| Louisiana | South         |  3806         | 3545          | 2.8           | 68.76         | 13.2          | 42.2          |  12           |  44930        | \n",
       "| Maine | Northeast     |  1058         | 3694          | 0.7           | 70.39         |  2.7          | 54.7          | 161           |  30920        | \n",
       "| Maryland | South         |  4122         | 5299          | 0.9           | 70.22         |  8.5          | 52.3          | 101           |   9891        | \n",
       "| Massachusetts | Northeast     |  5814         | 4755          | 1.1           | 71.83         |  3.3          | 58.5          | 103           |   7826        | \n",
       "| Michigan | North Central |  9111         | 4751          | 0.9           | 70.63         | 11.1          | 52.8          | 125           |  56817        | \n",
       "| Minnesota | North Central |  3921         | 4675          | 0.6           | 72.96         |  2.3          | 57.6          | 160           |  79289        | \n",
       "| Mississippi | South         |  2341         | 3098          | 2.4           | 68.09         | 12.5          | 41.0          |  50           |  47296        | \n",
       "| Missouri | North Central |  4767         | 4254          | 0.8           | 70.69         |  9.3          | 48.8          | 108           |  68995        | \n",
       "| Montana | West          |   746         | 4347          | 0.6           | 70.56         |  5.0          | 59.2          | 155           | 145587        | \n",
       "| Nebraska | North Central |  1544         | 4508          | 0.6           | 72.60         |  2.9          | 59.3          | 139           |  76483        | \n",
       "| Nevada | West          |   590         | 5149          | 0.5           | 69.03         | 11.5          | 65.2          | 188           | 109889        | \n",
       "| New Hampshire | Northeast     |   812         | 4281          | 0.7           | 71.23         |  3.3          | 57.6          | 174           |   9027        | \n",
       "| New Jersey | Northeast     |  7333         | 5237          | 1.1           | 70.93         |  5.2          | 52.5          | 115           |   7521        | \n",
       "| New Mexico | West          |  1144         | 3601          | 2.2           | 70.32         |  9.7          | 55.2          | 120           | 121412        | \n",
       "| New York | Northeast     | 18076         | 4903          | 1.4           | 70.55         | 10.9          | 52.7          |  82           |  47831        | \n",
       "| North Carolina | South         |  5441         | 3875          | 1.8           | 69.21         | 11.1          | 38.5          |  80           |  48798        | \n",
       "| North Dakota | North Central |   637         | 5087          | 0.8           | 72.78         |  1.4          | 50.3          | 186           |  69273        | \n",
       "| Ohio | North Central | 10735         | 4561          | 0.8           | 70.82         |  7.4          | 53.2          | 124           |  40975        | \n",
       "| Oklahoma | South         |  2715         | 3983          | 1.1           | 71.42         |  6.4          | 51.6          |  82           |  68782        | \n",
       "| Oregon | West          |  2284         | 4660          | 0.6           | 72.13         |  4.2          | 60.0          |  44           |  96184        | \n",
       "| Pennsylvania | Northeast     | 11860         | 4449          | 1.0           | 70.43         |  6.1          | 50.2          | 126           |  44966        | \n",
       "| Rhode Island | Northeast     |   931         | 4558          | 1.3           | 71.90         |  2.4          | 46.4          | 127           |   1049        | \n",
       "| South Carolina | South         |  2816         | 3635          | 2.3           | 67.96         | 11.6          | 37.8          |  65           |  30225        | \n",
       "| South Dakota | North Central |   681         | 4167          | 0.5           | 72.08         |  1.7          | 53.3          | 172           |  75955        | \n",
       "| Tennessee | South         |  4173         | 3821          | 1.7           | 70.11         | 11.0          | 41.8          |  70           |  41328        | \n",
       "| Texas | South         | 12237         | 4188          | 2.2           | 70.90         | 12.2          | 47.4          |  35           | 262134        | \n",
       "| Utah | West          |  1203         | 4022          | 0.6           | 72.90         |  4.5          | 67.3          | 137           |  82096        | \n",
       "| Vermont | Northeast     |   472         | 3907          | 0.6           | 71.64         |  5.5          | 57.1          | 168           |   9267        | \n",
       "| Virginia | South         |  4981         | 4701          | 1.4           | 70.08         |  9.5          | 47.8          |  85           |  39780        | \n",
       "| Washington | West          |  3559         | 4864          | 0.6           | 71.72         |  4.3          | 63.5          |  32           |  66570        | \n",
       "| West Virginia | South         |  1799         | 3617          | 1.4           | 69.48         |  6.7          | 41.6          | 100           |  24070        | \n",
       "| Wisconsin | North Central |  4589         | 4468          | 0.7           | 72.48         |  3.0          | 54.5          | 149           |  54464        | \n",
       "| Wyoming | West          |   376         | 4566          | 0.6           | 70.29         |  6.9          | 62.9          | 173           |  97203        | \n",
       "\n",
       "\n"
      ],
      "text/plain": [
       "               state.region  Population Income Illiteracy Life.Exp Murder\n",
       "Alabama        South          3615      3624   2.1        69.05    15.1  \n",
       "Alaska         West            365      6315   1.5        69.31    11.3  \n",
       "Arizona        West           2212      4530   1.8        70.55     7.8  \n",
       "Arkansas       South          2110      3378   1.9        70.66    10.1  \n",
       "California     West          21198      5114   1.1        71.71    10.3  \n",
       "Colorado       West           2541      4884   0.7        72.06     6.8  \n",
       "Connecticut    Northeast      3100      5348   1.1        72.48     3.1  \n",
       "Delaware       South           579      4809   0.9        70.06     6.2  \n",
       "Florida        South          8277      4815   1.3        70.66    10.7  \n",
       "Georgia        South          4931      4091   2.0        68.54    13.9  \n",
       "Hawaii         West            868      4963   1.9        73.60     6.2  \n",
       "Idaho          West            813      4119   0.6        71.87     5.3  \n",
       "Illinois       North Central 11197      5107   0.9        70.14    10.3  \n",
       "Indiana        North Central  5313      4458   0.7        70.88     7.1  \n",
       "Iowa           North Central  2861      4628   0.5        72.56     2.3  \n",
       "Kansas         North Central  2280      4669   0.6        72.58     4.5  \n",
       "Kentucky       South          3387      3712   1.6        70.10    10.6  \n",
       "Louisiana      South          3806      3545   2.8        68.76    13.2  \n",
       "Maine          Northeast      1058      3694   0.7        70.39     2.7  \n",
       "Maryland       South          4122      5299   0.9        70.22     8.5  \n",
       "Massachusetts  Northeast      5814      4755   1.1        71.83     3.3  \n",
       "Michigan       North Central  9111      4751   0.9        70.63    11.1  \n",
       "Minnesota      North Central  3921      4675   0.6        72.96     2.3  \n",
       "Mississippi    South          2341      3098   2.4        68.09    12.5  \n",
       "Missouri       North Central  4767      4254   0.8        70.69     9.3  \n",
       "Montana        West            746      4347   0.6        70.56     5.0  \n",
       "Nebraska       North Central  1544      4508   0.6        72.60     2.9  \n",
       "Nevada         West            590      5149   0.5        69.03    11.5  \n",
       "New Hampshire  Northeast       812      4281   0.7        71.23     3.3  \n",
       "New Jersey     Northeast      7333      5237   1.1        70.93     5.2  \n",
       "New Mexico     West           1144      3601   2.2        70.32     9.7  \n",
       "New York       Northeast     18076      4903   1.4        70.55    10.9  \n",
       "North Carolina South          5441      3875   1.8        69.21    11.1  \n",
       "North Dakota   North Central   637      5087   0.8        72.78     1.4  \n",
       "Ohio           North Central 10735      4561   0.8        70.82     7.4  \n",
       "Oklahoma       South          2715      3983   1.1        71.42     6.4  \n",
       "Oregon         West           2284      4660   0.6        72.13     4.2  \n",
       "Pennsylvania   Northeast     11860      4449   1.0        70.43     6.1  \n",
       "Rhode Island   Northeast       931      4558   1.3        71.90     2.4  \n",
       "South Carolina South          2816      3635   2.3        67.96    11.6  \n",
       "South Dakota   North Central   681      4167   0.5        72.08     1.7  \n",
       "Tennessee      South          4173      3821   1.7        70.11    11.0  \n",
       "Texas          South         12237      4188   2.2        70.90    12.2  \n",
       "Utah           West           1203      4022   0.6        72.90     4.5  \n",
       "Vermont        Northeast       472      3907   0.6        71.64     5.5  \n",
       "Virginia       South          4981      4701   1.4        70.08     9.5  \n",
       "Washington     West           3559      4864   0.6        71.72     4.3  \n",
       "West Virginia  South          1799      3617   1.4        69.48     6.7  \n",
       "Wisconsin      North Central  4589      4468   0.7        72.48     3.0  \n",
       "Wyoming        West            376      4566   0.6        70.29     6.9  \n",
       "               HS.Grad Frost Area  \n",
       "Alabama        41.3     20    50708\n",
       "Alaska         66.7    152   566432\n",
       "Arizona        58.1     15   113417\n",
       "Arkansas       39.9     65    51945\n",
       "California     62.6     20   156361\n",
       "Colorado       63.9    166   103766\n",
       "Connecticut    56.0    139     4862\n",
       "Delaware       54.6    103     1982\n",
       "Florida        52.6     11    54090\n",
       "Georgia        40.6     60    58073\n",
       "Hawaii         61.9      0     6425\n",
       "Idaho          59.5    126    82677\n",
       "Illinois       52.6    127    55748\n",
       "Indiana        52.9    122    36097\n",
       "Iowa           59.0    140    55941\n",
       "Kansas         59.9    114    81787\n",
       "Kentucky       38.5     95    39650\n",
       "Louisiana      42.2     12    44930\n",
       "Maine          54.7    161    30920\n",
       "Maryland       52.3    101     9891\n",
       "Massachusetts  58.5    103     7826\n",
       "Michigan       52.8    125    56817\n",
       "Minnesota      57.6    160    79289\n",
       "Mississippi    41.0     50    47296\n",
       "Missouri       48.8    108    68995\n",
       "Montana        59.2    155   145587\n",
       "Nebraska       59.3    139    76483\n",
       "Nevada         65.2    188   109889\n",
       "New Hampshire  57.6    174     9027\n",
       "New Jersey     52.5    115     7521\n",
       "New Mexico     55.2    120   121412\n",
       "New York       52.7     82    47831\n",
       "North Carolina 38.5     80    48798\n",
       "North Dakota   50.3    186    69273\n",
       "Ohio           53.2    124    40975\n",
       "Oklahoma       51.6     82    68782\n",
       "Oregon         60.0     44    96184\n",
       "Pennsylvania   50.2    126    44966\n",
       "Rhode Island   46.4    127     1049\n",
       "South Carolina 37.8     65    30225\n",
       "South Dakota   53.3    172    75955\n",
       "Tennessee      41.8     70    41328\n",
       "Texas          47.4     35   262134\n",
       "Utah           67.3    137    82096\n",
       "Vermont        57.1    168     9267\n",
       "Virginia       47.8     85    39780\n",
       "Washington     63.5     32    66570\n",
       "West Virginia  41.6    100    24070\n",
       "Wisconsin      54.5    149    54464\n",
       "Wyoming        62.9    173    97203"
      ]
     },
     "metadata": {},
     "output_type": "display_data"
    }
   ],
   "source": [
    "states <- data.frame(state.region, state.x77)\n",
    "states"
   ]
  },
  {
   "cell_type": "code",
   "execution_count": 12,
   "metadata": {
    "collapsed": false
   },
   "outputs": [
    {
     "data": {
      "text/plain": [
       "\n",
       "\tKruskal-Wallis rank sum test\n",
       "\n",
       "data:  Illiteracy by state.region\n",
       "Kruskal-Wallis chi-squared = 22.672, df = 3, p-value = 4.726e-05\n"
      ]
     },
     "metadata": {},
     "output_type": "display_data"
    }
   ],
   "source": [
    "kruskal.test(Illiteracy ~ state.region, data=states)"
   ]
  },
  {
   "cell_type": "markdown",
   "metadata": {},
   "source": [
    "显著性检验的\u001b结果意味着美国四个地区的文盲率各不相同（p < 0.001）。\n",
    "\n",
    "虽然你可以拒绝不存在差异的原假设，但这个检验并没有告诉你哪些\u001b地区显著地与其他地区不同\b。\b要回答这个问题，你可以使用Wilcoxon检验每次比较两组数据。"
   ]
  },
  {
   "cell_type": "code",
   "execution_count": null,
   "metadata": {
    "collapsed": true
   },
   "outputs": [],
   "source": []
  }
 ],
 "metadata": {
  "kernelspec": {
   "display_name": "R",
   "language": "R",
   "name": "ir"
  },
  "language_info": {
   "codemirror_mode": "r",
   "file_extension": ".r",
   "mimetype": "text/x-r-source",
   "name": "R",
   "pygments_lexer": "r",
   "version": "3.4.0"
  }
 },
 "nbformat": 4,
 "nbformat_minor": 0
}
