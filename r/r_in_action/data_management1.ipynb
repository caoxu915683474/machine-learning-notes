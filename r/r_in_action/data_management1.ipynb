{
 "cells": [
  {
   "cell_type": "markdown",
   "metadata": {},
   "source": [
    "# 基本数据管理\n",
    "## 一个示例\n",
    "1. 处理管理岗位的男性和女性在听从上级的程度上是否有所不同？\n",
    "1. 这种情况是否依国家的不同而有所不同，或者说这些由性别导致的不同是否普遍存在？\n",
    "\n",
    "![](http://ou8qjsj0m.bkt.clouddn.com//17-11-8/71100876.jpg)\n",
    "\n",
    "![](http://ou8qjsj0m.bkt.clouddn.com//17-11-8/60349231.jpg)\n",
    "\n",
    "代码清单4-1 创建leadership数据框"
   ]
  },
  {
   "cell_type": "code",
   "execution_count": 8,
   "metadata": {
    "collapsed": false
   },
   "outputs": [
    {
     "data": {
      "text/html": [
       "<table>\n",
       "<thead><tr><th scope=col>manager</th><th scope=col>date</th><th scope=col>country</th><th scope=col>gender</th><th scope=col>age</th><th scope=col>q1</th><th scope=col>q2</th><th scope=col>q3</th><th scope=col>q4</th><th scope=col>q5</th></tr></thead>\n",
       "<tbody>\n",
       "\t<tr><td>1       </td><td>10/24/08</td><td>US      </td><td>M       </td><td>32      </td><td>5       </td><td>4       </td><td>5       </td><td> 5      </td><td> 5      </td></tr>\n",
       "\t<tr><td>2       </td><td>10/28/08</td><td>US      </td><td>F       </td><td>45      </td><td>3       </td><td>5       </td><td>2       </td><td> 5      </td><td> 5      </td></tr>\n",
       "\t<tr><td>3       </td><td>10/1/08 </td><td>UK      </td><td>F       </td><td>25      </td><td>3       </td><td>5       </td><td>5       </td><td> 5      </td><td> 2      </td></tr>\n",
       "\t<tr><td>4       </td><td>10/12/08</td><td>UK      </td><td>M       </td><td>39      </td><td>3       </td><td>3       </td><td>4       </td><td>NA      </td><td>NA      </td></tr>\n",
       "\t<tr><td>5       </td><td>5/1/09  </td><td>UK      </td><td>F       </td><td>99      </td><td>2       </td><td>2       </td><td>1       </td><td> 2      </td><td> 1      </td></tr>\n",
       "</tbody>\n",
       "</table>\n"
      ],
      "text/latex": [
       "\\begin{tabular}{r|llllllllll}\n",
       " manager & date & country & gender & age & q1 & q2 & q3 & q4 & q5\\\\\n",
       "\\hline\n",
       "\t 1        & 10/24/08 & US       & M        & 32       & 5        & 4        & 5        &  5       &  5      \\\\\n",
       "\t 2        & 10/28/08 & US       & F        & 45       & 3        & 5        & 2        &  5       &  5      \\\\\n",
       "\t 3        & 10/1/08  & UK       & F        & 25       & 3        & 5        & 5        &  5       &  2      \\\\\n",
       "\t 4        & 10/12/08 & UK       & M        & 39       & 3        & 3        & 4        & NA       & NA      \\\\\n",
       "\t 5        & 5/1/09   & UK       & F        & 99       & 2        & 2        & 1        &  2       &  1      \\\\\n",
       "\\end{tabular}\n"
      ],
      "text/markdown": [
       "\n",
       "manager | date | country | gender | age | q1 | q2 | q3 | q4 | q5 | \n",
       "|---|---|---|---|---|\n",
       "| 1        | 10/24/08 | US       | M        | 32       | 5        | 4        | 5        |  5       |  5       | \n",
       "| 2        | 10/28/08 | US       | F        | 45       | 3        | 5        | 2        |  5       |  5       | \n",
       "| 3        | 10/1/08  | UK       | F        | 25       | 3        | 5        | 5        |  5       |  2       | \n",
       "| 4        | 10/12/08 | UK       | M        | 39       | 3        | 3        | 4        | NA       | NA       | \n",
       "| 5        | 5/1/09   | UK       | F        | 99       | 2        | 2        | 1        |  2       |  1       | \n",
       "\n",
       "\n"
      ],
      "text/plain": [
       "  manager date     country gender age q1 q2 q3 q4 q5\n",
       "1 1       10/24/08 US      M      32  5  4  5   5  5\n",
       "2 2       10/28/08 US      F      45  3  5  2   5  5\n",
       "3 3       10/1/08  UK      F      25  3  5  5   5  2\n",
       "4 4       10/12/08 UK      M      39  3  3  4  NA NA\n",
       "5 5       5/1/09   UK      F      99  2  2  1   2  1"
      ]
     },
     "metadata": {},
     "output_type": "display_data"
    }
   ],
   "source": [
    "manager <- c(1, 2, 3, 4, 5)\n",
    "date <- c(\"10/24/08\", \"10/28/08\", \"10/1/08\", \"10/12/08\", \"5/1/09\")\n",
    "country <- c(\"US\", \"US\", \"UK\", \"UK\", \"UK\")\n",
    "gender <- c(\"M\", \"F\", \"F\", \"M\", \"F\")\n",
    "age <- c(32, 45, 25, 39, 99)\n",
    "q1 <- c(5, 3, 3, 3, 2)\n",
    "q2 <- c(4, 5, 5, 3, 2)\n",
    "q3 <- c(5, 2, 5, 4, 1)\n",
    "q4 <- c(5, 5, 5, NA, 2)\n",
    "q5 <- c(5, 5, 2, NA, 1)\n",
    "leadership <- data.frame(manager, date, country, gender, age,\n",
    "                         q1, q2, q3, q4, q5, stringsAsFactors=FALSE)\n",
    "leadership"
   ]
  },
  {
   "cell_type": "markdown",
   "metadata": {},
   "source": [
    "## 创建新变量\n",
    "代码清单4-2 创建新变量"
   ]
  },
  {
   "cell_type": "code",
   "execution_count": 2,
   "metadata": {
    "collapsed": true
   },
   "outputs": [],
   "source": [
    "# 方案一\n",
    "mydata<-data.frame(x1 = c(2, 2, 6, 4),\n",
    "                   x2 = c(3, 4, 2, 8))\n",
    "mydata$sumx  <-  mydata$x1 + mydata$x2\n",
    "mydata$meanx <- (mydata$x1 + mydata$x2)/2\n",
    "\n",
    "# 方案二\n",
    "attach(mydata)\n",
    "mydata$sumx  <-  x1 + x2\n",
    "mydata$meanx <- (x1 + x2)/2\n",
    "detach(mydata)\n",
    "\n",
    "# 方案三\n",
    "mydata <- transform(mydata,\n",
    "                    sumx = x1+x2,\n",
    "                    meanx = (x1 + x2)/2)"
   ]
  },
  {
   "cell_type": "markdown",
   "metadata": {},
   "source": [
    "## 变量的重编码\n",
    "`重编码`涉及根据同一个变量和/或其他变量的现有值创建新值的过程。举例来说：\n",
    "- 将一个连续型变量修改为一组类别值；\n",
    "- 将误编码的值替换为正确值；\n",
    "- 基于一组分数线创建一个表示及格/不及格的变量。\n",
    "\n",
    "将99岁的年龄值重编码为缺失值：\n",
    "\n",
    "```r\n",
    "leadership$age[leadership$age == 99] <- NA\n",
    "```\n",
    "\n",
    "接着创建agecat变量：\n",
    "\n",
    "```r\n",
    "leadership$agecat[leadership$age  > 75]  <- \"Elder\"\n",
    "leadership$agecat[leadership$age >= 55 & leadership$age <= 75]  <- \"Middle Aged\"\n",
    "leadership$agecat[leadership$age  < 55]  <- \"Young\"\n",
    "```\n",
    "\n",
    "更紧凑的写法：\n",
    "\n",
    "```r\n",
    "leadership <- within(leadership,{\n",
    "                    agecat <- NA\n",
    "                    agecat[age > 75]              <- \"Elder\"\n",
    "                    agecat[age >= 55 & age <= 75] <- \"Middle Aged\"\n",
    "                    agecat[age < 55]              <- \"Young\" })\n",
    "```\n",
    "\n",
    "## 变量的重命名\n",
    "可以通过names()函数来重命名变量：\n",
    "\n",
    "```r\n",
    "names(leadership)[2] <- \"testDate\"\n",
    "```"
   ]
  },
  {
   "cell_type": "code",
   "execution_count": 9,
   "metadata": {
    "collapsed": false
   },
   "outputs": [
    {
     "data": {
      "text/html": [
       "<ol class=list-inline>\n",
       "\t<li>'manager'</li>\n",
       "\t<li>'date'</li>\n",
       "\t<li>'country'</li>\n",
       "\t<li>'gender'</li>\n",
       "\t<li>'age'</li>\n",
       "\t<li>'q1'</li>\n",
       "\t<li>'q2'</li>\n",
       "\t<li>'q3'</li>\n",
       "\t<li>'q4'</li>\n",
       "\t<li>'q5'</li>\n",
       "</ol>\n"
      ],
      "text/latex": [
       "\\begin{enumerate*}\n",
       "\\item 'manager'\n",
       "\\item 'date'\n",
       "\\item 'country'\n",
       "\\item 'gender'\n",
       "\\item 'age'\n",
       "\\item 'q1'\n",
       "\\item 'q2'\n",
       "\\item 'q3'\n",
       "\\item 'q4'\n",
       "\\item 'q5'\n",
       "\\end{enumerate*}\n"
      ],
      "text/markdown": [
       "1. 'manager'\n",
       "2. 'date'\n",
       "3. 'country'\n",
       "4. 'gender'\n",
       "5. 'age'\n",
       "6. 'q1'\n",
       "7. 'q2'\n",
       "8. 'q3'\n",
       "9. 'q4'\n",
       "10. 'q5'\n",
       "\n",
       "\n"
      ],
      "text/plain": [
       " [1] \"manager\" \"date\"    \"country\" \"gender\"  \"age\"     \"q1\"      \"q2\"     \n",
       " [8] \"q3\"      \"q4\"      \"q5\"     "
      ]
     },
     "metadata": {},
     "output_type": "display_data"
    }
   ],
   "source": [
    "names(leadership)"
   ]
  },
  {
   "cell_type": "code",
   "execution_count": 10,
   "metadata": {
    "collapsed": false
   },
   "outputs": [
    {
     "data": {
      "text/html": [
       "<table>\n",
       "<thead><tr><th scope=col>manager</th><th scope=col>testdate</th><th scope=col>country</th><th scope=col>gender</th><th scope=col>age</th><th scope=col>q1</th><th scope=col>q2</th><th scope=col>q3</th><th scope=col>q4</th><th scope=col>q5</th></tr></thead>\n",
       "<tbody>\n",
       "\t<tr><td>1       </td><td>10/24/08</td><td>US      </td><td>M       </td><td>32      </td><td>5       </td><td>4       </td><td>5       </td><td> 5      </td><td> 5      </td></tr>\n",
       "\t<tr><td>2       </td><td>10/28/08</td><td>US      </td><td>F       </td><td>45      </td><td>3       </td><td>5       </td><td>2       </td><td> 5      </td><td> 5      </td></tr>\n",
       "\t<tr><td>3       </td><td>10/1/08 </td><td>UK      </td><td>F       </td><td>25      </td><td>3       </td><td>5       </td><td>5       </td><td> 5      </td><td> 2      </td></tr>\n",
       "\t<tr><td>4       </td><td>10/12/08</td><td>UK      </td><td>M       </td><td>39      </td><td>3       </td><td>3       </td><td>4       </td><td>NA      </td><td>NA      </td></tr>\n",
       "\t<tr><td>5       </td><td>5/1/09  </td><td>UK      </td><td>F       </td><td>99      </td><td>2       </td><td>2       </td><td>1       </td><td> 2      </td><td> 1      </td></tr>\n",
       "</tbody>\n",
       "</table>\n"
      ],
      "text/latex": [
       "\\begin{tabular}{r|llllllllll}\n",
       " manager & testdate & country & gender & age & q1 & q2 & q3 & q4 & q5\\\\\n",
       "\\hline\n",
       "\t 1        & 10/24/08 & US       & M        & 32       & 5        & 4        & 5        &  5       &  5      \\\\\n",
       "\t 2        & 10/28/08 & US       & F        & 45       & 3        & 5        & 2        &  5       &  5      \\\\\n",
       "\t 3        & 10/1/08  & UK       & F        & 25       & 3        & 5        & 5        &  5       &  2      \\\\\n",
       "\t 4        & 10/12/08 & UK       & M        & 39       & 3        & 3        & 4        & NA       & NA      \\\\\n",
       "\t 5        & 5/1/09   & UK       & F        & 99       & 2        & 2        & 1        &  2       &  1      \\\\\n",
       "\\end{tabular}\n"
      ],
      "text/markdown": [
       "\n",
       "manager | testdate | country | gender | age | q1 | q2 | q3 | q4 | q5 | \n",
       "|---|---|---|---|---|\n",
       "| 1        | 10/24/08 | US       | M        | 32       | 5        | 4        | 5        |  5       |  5       | \n",
       "| 2        | 10/28/08 | US       | F        | 45       | 3        | 5        | 2        |  5       |  5       | \n",
       "| 3        | 10/1/08  | UK       | F        | 25       | 3        | 5        | 5        |  5       |  2       | \n",
       "| 4        | 10/12/08 | UK       | M        | 39       | 3        | 3        | 4        | NA       | NA       | \n",
       "| 5        | 5/1/09   | UK       | F        | 99       | 2        | 2        | 1        |  2       |  1       | \n",
       "\n",
       "\n"
      ],
      "text/plain": [
       "  manager testdate country gender age q1 q2 q3 q4 q5\n",
       "1 1       10/24/08 US      M      32  5  4  5   5  5\n",
       "2 2       10/28/08 US      F      45  3  5  2   5  5\n",
       "3 3       10/1/08  UK      F      25  3  5  5   5  2\n",
       "4 4       10/12/08 UK      M      39  3  3  4  NA NA\n",
       "5 5       5/1/09   UK      F      99  2  2  1   2  1"
      ]
     },
     "metadata": {},
     "output_type": "display_data"
    }
   ],
   "source": [
    "names(leadership)[2] <- \"testdate\"\n",
    "leadership"
   ]
  },
  {
   "cell_type": "markdown",
   "metadata": {},
   "source": [
    "以类似的方式：\n",
    "\n",
    "```r\n",
    "names(leadership)[6:10] <- c(\"item1\", \"item2\", \"item3\", \"item4\", \"item5\")\n",
    "``` \n",
    "\n",
    "plyr包有一个rename()函数，可用于修改变量名。rename()函数的使用格式：\n",
    "\n",
    "```r\n",
    "rename(dataframe, c(oldname=\"newname\", oldname=\"newname\",...))\n",
    "```"
   ]
  },
  {
   "cell_type": "code",
   "execution_count": 11,
   "metadata": {
    "collapsed": false
   },
   "outputs": [],
   "source": [
    "library(plyr)\n",
    "leadership <- rename(leadership,\n",
    "                     c(manager=\"managerID\", testdate=\"testDate\"))"
   ]
  },
  {
   "cell_type": "code",
   "execution_count": 13,
   "metadata": {
    "collapsed": false
   },
   "outputs": [
    {
     "data": {
      "text/html": [
       "<ol class=list-inline>\n",
       "\t<li>'managerID'</li>\n",
       "\t<li>'testDate'</li>\n",
       "\t<li>'country'</li>\n",
       "\t<li>'gender'</li>\n",
       "\t<li>'age'</li>\n",
       "\t<li>'q1'</li>\n",
       "\t<li>'q2'</li>\n",
       "\t<li>'q3'</li>\n",
       "\t<li>'q4'</li>\n",
       "\t<li>'q5'</li>\n",
       "</ol>\n"
      ],
      "text/latex": [
       "\\begin{enumerate*}\n",
       "\\item 'managerID'\n",
       "\\item 'testDate'\n",
       "\\item 'country'\n",
       "\\item 'gender'\n",
       "\\item 'age'\n",
       "\\item 'q1'\n",
       "\\item 'q2'\n",
       "\\item 'q3'\n",
       "\\item 'q4'\n",
       "\\item 'q5'\n",
       "\\end{enumerate*}\n"
      ],
      "text/markdown": [
       "1. 'managerID'\n",
       "2. 'testDate'\n",
       "3. 'country'\n",
       "4. 'gender'\n",
       "5. 'age'\n",
       "6. 'q1'\n",
       "7. 'q2'\n",
       "8. 'q3'\n",
       "9. 'q4'\n",
       "10. 'q5'\n",
       "\n",
       "\n"
      ],
      "text/plain": [
       " [1] \"managerID\" \"testDate\"  \"country\"   \"gender\"    \"age\"       \"q1\"       \n",
       " [7] \"q2\"        \"q3\"        \"q4\"        \"q5\"       "
      ]
     },
     "metadata": {},
     "output_type": "display_data"
    }
   ],
   "source": [
    "names(leadership)"
   ]
  },
  {
   "cell_type": "markdown",
   "metadata": {},
   "source": [
    "## 缺失值\n",
    "代码清单4-3 使用is.na()函数"
   ]
  },
  {
   "cell_type": "code",
   "execution_count": 14,
   "metadata": {
    "collapsed": false
   },
   "outputs": [
    {
     "data": {
      "text/html": [
       "<table>\n",
       "<thead><tr><th scope=col>q1</th><th scope=col>q2</th><th scope=col>q3</th><th scope=col>q4</th><th scope=col>q5</th></tr></thead>\n",
       "<tbody>\n",
       "\t<tr><td>FALSE</td><td>FALSE</td><td>FALSE</td><td>FALSE</td><td>FALSE</td></tr>\n",
       "\t<tr><td>FALSE</td><td>FALSE</td><td>FALSE</td><td>FALSE</td><td>FALSE</td></tr>\n",
       "\t<tr><td>FALSE</td><td>FALSE</td><td>FALSE</td><td>FALSE</td><td>FALSE</td></tr>\n",
       "\t<tr><td>FALSE</td><td>FALSE</td><td>FALSE</td><td> TRUE</td><td> TRUE</td></tr>\n",
       "\t<tr><td>FALSE</td><td>FALSE</td><td>FALSE</td><td>FALSE</td><td>FALSE</td></tr>\n",
       "</tbody>\n",
       "</table>\n"
      ],
      "text/latex": [
       "\\begin{tabular}{lllll}\n",
       " q1 & q2 & q3 & q4 & q5\\\\\n",
       "\\hline\n",
       "\t FALSE & FALSE & FALSE & FALSE & FALSE\\\\\n",
       "\t FALSE & FALSE & FALSE & FALSE & FALSE\\\\\n",
       "\t FALSE & FALSE & FALSE & FALSE & FALSE\\\\\n",
       "\t FALSE & FALSE & FALSE &  TRUE &  TRUE\\\\\n",
       "\t FALSE & FALSE & FALSE & FALSE & FALSE\\\\\n",
       "\\end{tabular}\n"
      ],
      "text/markdown": [
       "\n",
       "q1 | q2 | q3 | q4 | q5 | \n",
       "|---|---|---|---|---|\n",
       "| FALSE | FALSE | FALSE | FALSE | FALSE | \n",
       "| FALSE | FALSE | FALSE | FALSE | FALSE | \n",
       "| FALSE | FALSE | FALSE | FALSE | FALSE | \n",
       "| FALSE | FALSE | FALSE |  TRUE |  TRUE | \n",
       "| FALSE | FALSE | FALSE | FALSE | FALSE | \n",
       "\n",
       "\n"
      ],
      "text/plain": [
       "     q1    q2    q3    q4    q5   \n",
       "[1,] FALSE FALSE FALSE FALSE FALSE\n",
       "[2,] FALSE FALSE FALSE FALSE FALSE\n",
       "[3,] FALSE FALSE FALSE FALSE FALSE\n",
       "[4,] FALSE FALSE FALSE  TRUE  TRUE\n",
       "[5,] FALSE FALSE FALSE FALSE FALSE"
      ]
     },
     "metadata": {},
     "output_type": "display_data"
    }
   ],
   "source": [
    "is.na(leadership[,6:10])"
   ]
  },
  {
   "cell_type": "markdown",
   "metadata": {},
   "source": [
    "### 重编码某些值为缺失值\n",
    "```r\n",
    "leadership$age[leadership$age == 99] <- NA\n",
    "```\n",
    "\n",
    "### 在分析中排除缺失值"
   ]
  },
  {
   "cell_type": "code",
   "execution_count": 16,
   "metadata": {
    "collapsed": false
   },
   "outputs": [
    {
     "data": {
      "text/html": [
       "&lt;NA&gt;"
      ],
      "text/latex": [
       "<NA>"
      ],
      "text/markdown": [
       "&lt;NA&gt;"
      ],
      "text/plain": [
       "[1] NA"
      ]
     },
     "metadata": {},
     "output_type": "display_data"
    }
   ],
   "source": [
    "x <- c(1, 2, NA, 3)\n",
    "y <- x[1] + x[2] + x[3] + x[4]\n",
    "y"
   ]
  },
  {
   "cell_type": "code",
   "execution_count": 17,
   "metadata": {
    "collapsed": false
   },
   "outputs": [
    {
     "data": {
      "text/html": [
       "&lt;NA&gt;"
      ],
      "text/latex": [
       "<NA>"
      ],
      "text/markdown": [
       "&lt;NA&gt;"
      ],
      "text/plain": [
       "[1] NA"
      ]
     },
     "metadata": {},
     "output_type": "display_data"
    }
   ],
   "source": [
    "z <- sum(x)\n",
    "z"
   ]
  },
  {
   "cell_type": "code",
   "execution_count": 18,
   "metadata": {
    "collapsed": false
   },
   "outputs": [
    {
     "data": {
      "text/html": [
       "6"
      ],
      "text/latex": [
       "6"
      ],
      "text/markdown": [
       "6"
      ],
      "text/plain": [
       "[1] 6"
      ]
     },
     "metadata": {},
     "output_type": "display_data"
    }
   ],
   "source": [
    "x <- c(1, 2, NA, 3)\n",
    "y <- sum(x, na.rm=TRUE)\n",
    "y"
   ]
  },
  {
   "cell_type": "markdown",
   "metadata": {},
   "source": [
    "代码清单4-4 使用na.omit()删除不完整的观测"
   ]
  },
  {
   "cell_type": "code",
   "execution_count": 19,
   "metadata": {
    "collapsed": false
   },
   "outputs": [
    {
     "data": {
      "text/html": [
       "<table>\n",
       "<thead><tr><th scope=col>managerID</th><th scope=col>testDate</th><th scope=col>country</th><th scope=col>gender</th><th scope=col>age</th><th scope=col>q1</th><th scope=col>q2</th><th scope=col>q3</th><th scope=col>q4</th><th scope=col>q5</th></tr></thead>\n",
       "<tbody>\n",
       "\t<tr><td>1       </td><td>10/24/08</td><td>US      </td><td>M       </td><td>32      </td><td>5       </td><td>4       </td><td>5       </td><td> 5      </td><td> 5      </td></tr>\n",
       "\t<tr><td>2       </td><td>10/28/08</td><td>US      </td><td>F       </td><td>45      </td><td>3       </td><td>5       </td><td>2       </td><td> 5      </td><td> 5      </td></tr>\n",
       "\t<tr><td>3       </td><td>10/1/08 </td><td>UK      </td><td>F       </td><td>25      </td><td>3       </td><td>5       </td><td>5       </td><td> 5      </td><td> 2      </td></tr>\n",
       "\t<tr><td>4       </td><td>10/12/08</td><td>UK      </td><td>M       </td><td>39      </td><td>3       </td><td>3       </td><td>4       </td><td>NA      </td><td>NA      </td></tr>\n",
       "\t<tr><td>5       </td><td>5/1/09  </td><td>UK      </td><td>F       </td><td>99      </td><td>2       </td><td>2       </td><td>1       </td><td> 2      </td><td> 1      </td></tr>\n",
       "</tbody>\n",
       "</table>\n"
      ],
      "text/latex": [
       "\\begin{tabular}{r|llllllllll}\n",
       " managerID & testDate & country & gender & age & q1 & q2 & q3 & q4 & q5\\\\\n",
       "\\hline\n",
       "\t 1        & 10/24/08 & US       & M        & 32       & 5        & 4        & 5        &  5       &  5      \\\\\n",
       "\t 2        & 10/28/08 & US       & F        & 45       & 3        & 5        & 2        &  5       &  5      \\\\\n",
       "\t 3        & 10/1/08  & UK       & F        & 25       & 3        & 5        & 5        &  5       &  2      \\\\\n",
       "\t 4        & 10/12/08 & UK       & M        & 39       & 3        & 3        & 4        & NA       & NA      \\\\\n",
       "\t 5        & 5/1/09   & UK       & F        & 99       & 2        & 2        & 1        &  2       &  1      \\\\\n",
       "\\end{tabular}\n"
      ],
      "text/markdown": [
       "\n",
       "managerID | testDate | country | gender | age | q1 | q2 | q3 | q4 | q5 | \n",
       "|---|---|---|---|---|\n",
       "| 1        | 10/24/08 | US       | M        | 32       | 5        | 4        | 5        |  5       |  5       | \n",
       "| 2        | 10/28/08 | US       | F        | 45       | 3        | 5        | 2        |  5       |  5       | \n",
       "| 3        | 10/1/08  | UK       | F        | 25       | 3        | 5        | 5        |  5       |  2       | \n",
       "| 4        | 10/12/08 | UK       | M        | 39       | 3        | 3        | 4        | NA       | NA       | \n",
       "| 5        | 5/1/09   | UK       | F        | 99       | 2        | 2        | 1        |  2       |  1       | \n",
       "\n",
       "\n"
      ],
      "text/plain": [
       "  managerID testDate country gender age q1 q2 q3 q4 q5\n",
       "1 1         10/24/08 US      M      32  5  4  5   5  5\n",
       "2 2         10/28/08 US      F      45  3  5  2   5  5\n",
       "3 3         10/1/08  UK      F      25  3  5  5   5  2\n",
       "4 4         10/12/08 UK      M      39  3  3  4  NA NA\n",
       "5 5         5/1/09   UK      F      99  2  2  1   2  1"
      ]
     },
     "metadata": {},
     "output_type": "display_data"
    }
   ],
   "source": [
    "leadership"
   ]
  },
  {
   "cell_type": "code",
   "execution_count": 20,
   "metadata": {
    "collapsed": false
   },
   "outputs": [
    {
     "data": {
      "text/html": [
       "<table>\n",
       "<thead><tr><th></th><th scope=col>managerID</th><th scope=col>testDate</th><th scope=col>country</th><th scope=col>gender</th><th scope=col>age</th><th scope=col>q1</th><th scope=col>q2</th><th scope=col>q3</th><th scope=col>q4</th><th scope=col>q5</th></tr></thead>\n",
       "<tbody>\n",
       "\t<tr><th scope=row>1</th><td>1       </td><td>10/24/08</td><td>US      </td><td>M       </td><td>32      </td><td>5       </td><td>4       </td><td>5       </td><td>5       </td><td>5       </td></tr>\n",
       "\t<tr><th scope=row>2</th><td>2       </td><td>10/28/08</td><td>US      </td><td>F       </td><td>45      </td><td>3       </td><td>5       </td><td>2       </td><td>5       </td><td>5       </td></tr>\n",
       "\t<tr><th scope=row>3</th><td>3       </td><td>10/1/08 </td><td>UK      </td><td>F       </td><td>25      </td><td>3       </td><td>5       </td><td>5       </td><td>5       </td><td>2       </td></tr>\n",
       "\t<tr><th scope=row>5</th><td>5       </td><td>5/1/09  </td><td>UK      </td><td>F       </td><td>99      </td><td>2       </td><td>2       </td><td>1       </td><td>2       </td><td>1       </td></tr>\n",
       "</tbody>\n",
       "</table>\n"
      ],
      "text/latex": [
       "\\begin{tabular}{r|llllllllll}\n",
       "  & managerID & testDate & country & gender & age & q1 & q2 & q3 & q4 & q5\\\\\n",
       "\\hline\n",
       "\t1 & 1        & 10/24/08 & US       & M        & 32       & 5        & 4        & 5        & 5        & 5       \\\\\n",
       "\t2 & 2        & 10/28/08 & US       & F        & 45       & 3        & 5        & 2        & 5        & 5       \\\\\n",
       "\t3 & 3        & 10/1/08  & UK       & F        & 25       & 3        & 5        & 5        & 5        & 2       \\\\\n",
       "\t5 & 5        & 5/1/09   & UK       & F        & 99       & 2        & 2        & 1        & 2        & 1       \\\\\n",
       "\\end{tabular}\n"
      ],
      "text/markdown": [
       "\n",
       "| <!--/--> | managerID | testDate | country | gender | age | q1 | q2 | q3 | q4 | q5 | \n",
       "|---|---|---|---|\n",
       "| 1 | 1        | 10/24/08 | US       | M        | 32       | 5        | 4        | 5        | 5        | 5        | \n",
       "| 2 | 2        | 10/28/08 | US       | F        | 45       | 3        | 5        | 2        | 5        | 5        | \n",
       "| 3 | 3        | 10/1/08  | UK       | F        | 25       | 3        | 5        | 5        | 5        | 2        | \n",
       "| 5 | 5        | 5/1/09   | UK       | F        | 99       | 2        | 2        | 1        | 2        | 1        | \n",
       "\n",
       "\n"
      ],
      "text/plain": [
       "  managerID testDate country gender age q1 q2 q3 q4 q5\n",
       "1 1         10/24/08 US      M      32  5  4  5  5  5 \n",
       "2 2         10/28/08 US      F      45  3  5  2  5  5 \n",
       "3 3         10/1/08  UK      F      25  3  5  5  5  2 \n",
       "5 5         5/1/09   UK      F      99  2  2  1  2  1 "
      ]
     },
     "metadata": {},
     "output_type": "display_data"
    }
   ],
   "source": [
    "newdata <- na.omit(leadership)\n",
    "newdata"
   ]
  },
  {
   "cell_type": "markdown",
   "metadata": {},
   "source": [
    "## 日期值\n",
    "![](http://ou8qjsj0m.bkt.clouddn.com//17-11-8/28463186.jpg)"
   ]
  },
  {
   "cell_type": "code",
   "execution_count": 22,
   "metadata": {
    "collapsed": false
   },
   "outputs": [
    {
     "data": {
      "text/html": [
       "<ol class=list-inline>\n",
       "\t<li><time datetime=\"2007-06-22\">2007-06-22</time></li>\n",
       "\t<li><time datetime=\"2004-02-13\">2004-02-13</time></li>\n",
       "</ol>\n"
      ],
      "text/latex": [
       "\\begin{enumerate*}\n",
       "\\item 2007-06-22\n",
       "\\item 2004-02-13\n",
       "\\end{enumerate*}\n"
      ],
      "text/markdown": [
       "1. 2007-06-22\n",
       "2. 2004-02-13\n",
       "\n",
       "\n"
      ],
      "text/plain": [
       "[1] \"2007-06-22\" \"2004-02-13\""
      ]
     },
     "metadata": {},
     "output_type": "display_data"
    }
   ],
   "source": [
    "mydates <- as.Date(c(\"2007-06-22\", \"2004-02-13\"), tz = \"GMT\")\n",
    "mydates"
   ]
  },
  {
   "cell_type": "code",
   "execution_count": 24,
   "metadata": {
    "collapsed": false
   },
   "outputs": [
    {
     "data": {
      "text/html": [
       "<ol class=list-inline>\n",
       "\t<li><time datetime=\"1965-01-05\">1965-01-05</time></li>\n",
       "\t<li><time datetime=\"1975-08-16\">1975-08-16</time></li>\n",
       "</ol>\n"
      ],
      "text/latex": [
       "\\begin{enumerate*}\n",
       "\\item 1965-01-05\n",
       "\\item 1975-08-16\n",
       "\\end{enumerate*}\n"
      ],
      "text/markdown": [
       "1. 1965-01-05\n",
       "2. 1975-08-16\n",
       "\n",
       "\n"
      ],
      "text/plain": [
       "[1] \"1965-01-05\" \"1975-08-16\""
      ]
     },
     "metadata": {},
     "output_type": "display_data"
    }
   ],
   "source": [
    "strDates <- c(\"01/05/1965\", \"08/16/1975\")\n",
    "dates <- as.Date(strDates, \"%m/%d/%Y\", tz = \"GMT\")\n",
    "dates"
   ]
  },
  {
   "cell_type": "code",
   "execution_count": 27,
   "metadata": {
    "collapsed": false
   },
   "outputs": [
    {
     "data": {
      "text/html": [
       "<table>\n",
       "<thead><tr><th scope=col>managerID</th><th scope=col>testDate</th><th scope=col>country</th><th scope=col>gender</th><th scope=col>age</th><th scope=col>q1</th><th scope=col>q2</th><th scope=col>q3</th><th scope=col>q4</th><th scope=col>q5</th></tr></thead>\n",
       "<tbody>\n",
       "\t<tr><td>1         </td><td>2008-10-24</td><td>US        </td><td>M         </td><td>32        </td><td>5         </td><td>4         </td><td>5         </td><td> 5        </td><td> 5        </td></tr>\n",
       "\t<tr><td>2         </td><td>2008-10-28</td><td>US        </td><td>F         </td><td>45        </td><td>3         </td><td>5         </td><td>2         </td><td> 5        </td><td> 5        </td></tr>\n",
       "\t<tr><td>3         </td><td>2008-10-01</td><td>UK        </td><td>F         </td><td>25        </td><td>3         </td><td>5         </td><td>5         </td><td> 5        </td><td> 2        </td></tr>\n",
       "\t<tr><td>4         </td><td>2008-10-12</td><td>UK        </td><td>M         </td><td>39        </td><td>3         </td><td>3         </td><td>4         </td><td>NA        </td><td>NA        </td></tr>\n",
       "\t<tr><td>5         </td><td>2009-05-01</td><td>UK        </td><td>F         </td><td>99        </td><td>2         </td><td>2         </td><td>1         </td><td> 2        </td><td> 1        </td></tr>\n",
       "</tbody>\n",
       "</table>\n"
      ],
      "text/latex": [
       "\\begin{tabular}{r|llllllllll}\n",
       " managerID & testDate & country & gender & age & q1 & q2 & q3 & q4 & q5\\\\\n",
       "\\hline\n",
       "\t 1          & 2008-10-24 & US         & M          & 32         & 5          & 4          & 5          &  5         &  5        \\\\\n",
       "\t 2          & 2008-10-28 & US         & F          & 45         & 3          & 5          & 2          &  5         &  5        \\\\\n",
       "\t 3          & 2008-10-01 & UK         & F          & 25         & 3          & 5          & 5          &  5         &  2        \\\\\n",
       "\t 4          & 2008-10-12 & UK         & M          & 39         & 3          & 3          & 4          & NA         & NA        \\\\\n",
       "\t 5          & 2009-05-01 & UK         & F          & 99         & 2          & 2          & 1          &  2         &  1        \\\\\n",
       "\\end{tabular}\n"
      ],
      "text/markdown": [
       "\n",
       "managerID | testDate | country | gender | age | q1 | q2 | q3 | q4 | q5 | \n",
       "|---|---|---|---|---|\n",
       "| 1          | 2008-10-24 | US         | M          | 32         | 5          | 4          | 5          |  5         |  5         | \n",
       "| 2          | 2008-10-28 | US         | F          | 45         | 3          | 5          | 2          |  5         |  5         | \n",
       "| 3          | 2008-10-01 | UK         | F          | 25         | 3          | 5          | 5          |  5         |  2         | \n",
       "| 4          | 2008-10-12 | UK         | M          | 39         | 3          | 3          | 4          | NA         | NA         | \n",
       "| 5          | 2009-05-01 | UK         | F          | 99         | 2          | 2          | 1          |  2         |  1         | \n",
       "\n",
       "\n"
      ],
      "text/plain": [
       "  managerID testDate   country gender age q1 q2 q3 q4 q5\n",
       "1 1         2008-10-24 US      M      32  5  4  5   5  5\n",
       "2 2         2008-10-28 US      F      45  3  5  2   5  5\n",
       "3 3         2008-10-01 UK      F      25  3  5  5   5  2\n",
       "4 4         2008-10-12 UK      M      39  3  3  4  NA NA\n",
       "5 5         2009-05-01 UK      F      99  2  2  1   2  1"
      ]
     },
     "metadata": {},
     "output_type": "display_data"
    }
   ],
   "source": [
    "myformat <- \"%m/%d/%y\"\n",
    "leadership$testDate <- as.Date(leadership$testDate, myformat, tz = \"GMT\")\n",
    "leadership"
   ]
  },
  {
   "cell_type": "code",
   "execution_count": 28,
   "metadata": {
    "collapsed": false
   },
   "outputs": [
    {
     "data": {
      "text/html": [
       "<time datetime=\"2017-11-08\">2017-11-08</time>"
      ],
      "text/latex": [
       "2017-11-08"
      ],
      "text/markdown": [
       "2017-11-08"
      ],
      "text/plain": [
       "[1] \"2017-11-08\""
      ]
     },
     "metadata": {},
     "output_type": "display_data"
    }
   ],
   "source": [
    "Sys.Date() # 返回当前日期"
   ]
  },
  {
   "cell_type": "code",
   "execution_count": 29,
   "metadata": {
    "collapsed": false
   },
   "outputs": [
    {
     "data": {
      "text/html": [
       "<span style=white-space:pre-wrap>'Wed Nov  8 16:38:59 2017'</span>"
      ],
      "text/latex": [
       "'Wed Nov  8 16:38:59 2017'"
      ],
      "text/markdown": [
       "<span style=white-space:pre-wrap>'Wed Nov  8 16:38:59 2017'</span>"
      ],
      "text/plain": [
       "[1] \"Wed Nov  8 16:38:59 2017\""
      ]
     },
     "metadata": {},
     "output_type": "display_data"
    }
   ],
   "source": [
    "date()"
   ]
  },
  {
   "cell_type": "code",
   "execution_count": 30,
   "metadata": {
    "collapsed": false
   },
   "outputs": [
    {
     "data": {
      "text/html": [
       "'十一月 08 2017'"
      ],
      "text/latex": [
       "'十一月 08 2017'"
      ],
      "text/markdown": [
       "'十一月 08 2017'"
      ],
      "text/plain": [
       "[1] \"十一月 08 2017\""
      ]
     },
     "metadata": {},
     "output_type": "display_data"
    }
   ],
   "source": [
    "today <- Sys.Date()\n",
    "format(today, format=\"%B %d %Y\")"
   ]
  },
  {
   "cell_type": "code",
   "execution_count": 31,
   "metadata": {
    "collapsed": false
   },
   "outputs": [
    {
     "data": {
      "text/html": [
       "'星期三'"
      ],
      "text/latex": [
       "'星期三'"
      ],
      "text/markdown": [
       "'星期三'"
      ],
      "text/plain": [
       "[1] \"星期三\""
      ]
     },
     "metadata": {},
     "output_type": "display_data"
    }
   ],
   "source": [
    "format(today, format=\"%A\")"
   ]
  },
  {
   "cell_type": "code",
   "execution_count": 32,
   "metadata": {
    "collapsed": false
   },
   "outputs": [
    {
     "data": {
      "text/plain": [
       "Time difference of 2535 days"
      ]
     },
     "metadata": {},
     "output_type": "display_data"
    }
   ],
   "source": [
    "# 可以在日期上执行算术运算\n",
    "startdate <- as.Date(\"2004-02-13\")\n",
    "enddate   <- as.Date(\"2011-01-22\")\n",
    "days      <- enddate - startdate\n",
    "days"
   ]
  },
  {
   "cell_type": "code",
   "execution_count": 33,
   "metadata": {
    "collapsed": false
   },
   "outputs": [
    {
     "data": {
      "text/plain": [
       "Time difference of 3186.714 weeks"
      ]
     },
     "metadata": {},
     "output_type": "display_data"
    }
   ],
   "source": [
    "# 可以使用difftime()来计算时间间隔，并以星期、天、时、分、秒来表示\n",
    "today <- Sys.Date()\n",
    "dob   <- as.Date(\"1956-10-12\")\n",
    "difftime(today, dob, units=\"weeks\")"
   ]
  },
  {
   "cell_type": "markdown",
   "metadata": {},
   "source": [
    "## 类型转换\n",
    "![](http://ou8qjsj0m.bkt.clouddn.com//17-11-8/54975715.jpg)\n",
    "\n",
    "代码清单4-5 转换数据类型"
   ]
  },
  {
   "cell_type": "code",
   "execution_count": 34,
   "metadata": {
    "collapsed": false
   },
   "outputs": [
    {
     "data": {
      "text/html": [
       "<ol class=list-inline>\n",
       "\t<li>1</li>\n",
       "\t<li>2</li>\n",
       "\t<li>3</li>\n",
       "</ol>\n"
      ],
      "text/latex": [
       "\\begin{enumerate*}\n",
       "\\item 1\n",
       "\\item 2\n",
       "\\item 3\n",
       "\\end{enumerate*}\n"
      ],
      "text/markdown": [
       "1. 1\n",
       "2. 2\n",
       "3. 3\n",
       "\n",
       "\n"
      ],
      "text/plain": [
       "[1] 1 2 3"
      ]
     },
     "metadata": {},
     "output_type": "display_data"
    }
   ],
   "source": [
    "a <- c(1,2,3)\n",
    "a"
   ]
  },
  {
   "cell_type": "code",
   "execution_count": 35,
   "metadata": {
    "collapsed": false
   },
   "outputs": [
    {
     "data": {
      "text/html": [
       "TRUE"
      ],
      "text/latex": [
       "TRUE"
      ],
      "text/markdown": [
       "TRUE"
      ],
      "text/plain": [
       "[1] TRUE"
      ]
     },
     "metadata": {},
     "output_type": "display_data"
    }
   ],
   "source": [
    "is.numeric(a)"
   ]
  },
  {
   "cell_type": "code",
   "execution_count": 36,
   "metadata": {
    "collapsed": false
   },
   "outputs": [
    {
     "data": {
      "text/html": [
       "TRUE"
      ],
      "text/latex": [
       "TRUE"
      ],
      "text/markdown": [
       "TRUE"
      ],
      "text/plain": [
       "[1] TRUE"
      ]
     },
     "metadata": {},
     "output_type": "display_data"
    }
   ],
   "source": [
    "is.vector(a)"
   ]
  },
  {
   "cell_type": "code",
   "execution_count": 37,
   "metadata": {
    "collapsed": false
   },
   "outputs": [
    {
     "data": {
      "text/html": [
       "<ol class=list-inline>\n",
       "\t<li>'1'</li>\n",
       "\t<li>'2'</li>\n",
       "\t<li>'3'</li>\n",
       "</ol>\n"
      ],
      "text/latex": [
       "\\begin{enumerate*}\n",
       "\\item '1'\n",
       "\\item '2'\n",
       "\\item '3'\n",
       "\\end{enumerate*}\n"
      ],
      "text/markdown": [
       "1. '1'\n",
       "2. '2'\n",
       "3. '3'\n",
       "\n",
       "\n"
      ],
      "text/plain": [
       "[1] \"1\" \"2\" \"3\""
      ]
     },
     "metadata": {},
     "output_type": "display_data"
    }
   ],
   "source": [
    "a <- as.character(a)\n",
    "a"
   ]
  },
  {
   "cell_type": "code",
   "execution_count": 38,
   "metadata": {
    "collapsed": false
   },
   "outputs": [
    {
     "data": {
      "text/html": [
       "FALSE"
      ],
      "text/latex": [
       "FALSE"
      ],
      "text/markdown": [
       "FALSE"
      ],
      "text/plain": [
       "[1] FALSE"
      ]
     },
     "metadata": {},
     "output_type": "display_data"
    }
   ],
   "source": [
    "is.numeric(a)"
   ]
  },
  {
   "cell_type": "code",
   "execution_count": 39,
   "metadata": {
    "collapsed": false
   },
   "outputs": [
    {
     "data": {
      "text/html": [
       "TRUE"
      ],
      "text/latex": [
       "TRUE"
      ],
      "text/markdown": [
       "TRUE"
      ],
      "text/plain": [
       "[1] TRUE"
      ]
     },
     "metadata": {},
     "output_type": "display_data"
    }
   ],
   "source": [
    "is.vector(a)"
   ]
  },
  {
   "cell_type": "code",
   "execution_count": 40,
   "metadata": {
    "collapsed": false
   },
   "outputs": [
    {
     "data": {
      "text/html": [
       "TRUE"
      ],
      "text/latex": [
       "TRUE"
      ],
      "text/markdown": [
       "TRUE"
      ],
      "text/plain": [
       "[1] TRUE"
      ]
     },
     "metadata": {},
     "output_type": "display_data"
    }
   ],
   "source": [
    "is.character(a)"
   ]
  },
  {
   "cell_type": "markdown",
   "metadata": {},
   "source": [
    "## 数据排序\n",
    "可以使用order()函数对一个数据框进行排序。\n",
    "\n",
    "```r\n",
    "newdata <- leadership[order(leadership$age),]\n",
    "```"
   ]
  },
  {
   "cell_type": "code",
   "execution_count": 43,
   "metadata": {
    "collapsed": false
   },
   "outputs": [
    {
     "name": "stderr",
     "output_type": "stream",
     "text": [
      "The following objects are masked _by_ .GlobalEnv:\n",
      "\n",
      "    age, country, gender, q1, q2, q3, q4, q5\n",
      "\n"
     ]
    },
    {
     "data": {
      "text/html": [
       "<table>\n",
       "<thead><tr><th></th><th scope=col>managerID</th><th scope=col>testDate</th><th scope=col>country</th><th scope=col>gender</th><th scope=col>age</th><th scope=col>q1</th><th scope=col>q2</th><th scope=col>q3</th><th scope=col>q4</th><th scope=col>q5</th></tr></thead>\n",
       "<tbody>\n",
       "\t<tr><th scope=row>3</th><td>3         </td><td>2008-10-01</td><td>UK        </td><td>F         </td><td>25        </td><td>3         </td><td>5         </td><td>5         </td><td> 5        </td><td> 2        </td></tr>\n",
       "\t<tr><th scope=row>2</th><td>2         </td><td>2008-10-28</td><td>US        </td><td>F         </td><td>45        </td><td>3         </td><td>5         </td><td>2         </td><td> 5        </td><td> 5        </td></tr>\n",
       "\t<tr><th scope=row>5</th><td>5         </td><td>2009-05-01</td><td>UK        </td><td>F         </td><td>99        </td><td>2         </td><td>2         </td><td>1         </td><td> 2        </td><td> 1        </td></tr>\n",
       "\t<tr><th scope=row>1</th><td>1         </td><td>2008-10-24</td><td>US        </td><td>M         </td><td>32        </td><td>5         </td><td>4         </td><td>5         </td><td> 5        </td><td> 5        </td></tr>\n",
       "\t<tr><th scope=row>4</th><td>4         </td><td>2008-10-12</td><td>UK        </td><td>M         </td><td>39        </td><td>3         </td><td>3         </td><td>4         </td><td>NA        </td><td>NA        </td></tr>\n",
       "</tbody>\n",
       "</table>\n"
      ],
      "text/latex": [
       "\\begin{tabular}{r|llllllllll}\n",
       "  & managerID & testDate & country & gender & age & q1 & q2 & q3 & q4 & q5\\\\\n",
       "\\hline\n",
       "\t3 & 3          & 2008-10-01 & UK         & F          & 25         & 3          & 5          & 5          &  5         &  2        \\\\\n",
       "\t2 & 2          & 2008-10-28 & US         & F          & 45         & 3          & 5          & 2          &  5         &  5        \\\\\n",
       "\t5 & 5          & 2009-05-01 & UK         & F          & 99         & 2          & 2          & 1          &  2         &  1        \\\\\n",
       "\t1 & 1          & 2008-10-24 & US         & M          & 32         & 5          & 4          & 5          &  5         &  5        \\\\\n",
       "\t4 & 4          & 2008-10-12 & UK         & M          & 39         & 3          & 3          & 4          & NA         & NA        \\\\\n",
       "\\end{tabular}\n"
      ],
      "text/markdown": [
       "\n",
       "| <!--/--> | managerID | testDate | country | gender | age | q1 | q2 | q3 | q4 | q5 | \n",
       "|---|---|---|---|---|\n",
       "| 3 | 3          | 2008-10-01 | UK         | F          | 25         | 3          | 5          | 5          |  5         |  2         | \n",
       "| 2 | 2          | 2008-10-28 | US         | F          | 45         | 3          | 5          | 2          |  5         |  5         | \n",
       "| 5 | 5          | 2009-05-01 | UK         | F          | 99         | 2          | 2          | 1          |  2         |  1         | \n",
       "| 1 | 1          | 2008-10-24 | US         | M          | 32         | 5          | 4          | 5          |  5         |  5         | \n",
       "| 4 | 4          | 2008-10-12 | UK         | M          | 39         | 3          | 3          | 4          | NA         | NA         | \n",
       "\n",
       "\n"
      ],
      "text/plain": [
       "  managerID testDate   country gender age q1 q2 q3 q4 q5\n",
       "3 3         2008-10-01 UK      F      25  3  5  5   5  2\n",
       "2 2         2008-10-28 US      F      45  3  5  2   5  5\n",
       "5 5         2009-05-01 UK      F      99  2  2  1   2  1\n",
       "1 1         2008-10-24 US      M      32  5  4  5   5  5\n",
       "4 4         2008-10-12 UK      M      39  3  3  4  NA NA"
      ]
     },
     "metadata": {},
     "output_type": "display_data"
    }
   ],
   "source": [
    "attach(leadership)\n",
    "newdata <- leadership[order(gender, age),]\n",
    "detach(leadership)\n",
    "newdata"
   ]
  },
  {
   "cell_type": "code",
   "execution_count": 44,
   "metadata": {
    "collapsed": false
   },
   "outputs": [
    {
     "name": "stderr",
     "output_type": "stream",
     "text": [
      "The following objects are masked _by_ .GlobalEnv:\n",
      "\n",
      "    age, country, gender, q1, q2, q3, q4, q5\n",
      "\n"
     ]
    },
    {
     "data": {
      "text/html": [
       "<table>\n",
       "<thead><tr><th></th><th scope=col>managerID</th><th scope=col>testDate</th><th scope=col>country</th><th scope=col>gender</th><th scope=col>age</th><th scope=col>q1</th><th scope=col>q2</th><th scope=col>q3</th><th scope=col>q4</th><th scope=col>q5</th></tr></thead>\n",
       "<tbody>\n",
       "\t<tr><th scope=row>5</th><td>5         </td><td>2009-05-01</td><td>UK        </td><td>F         </td><td>99        </td><td>2         </td><td>2         </td><td>1         </td><td> 2        </td><td> 1        </td></tr>\n",
       "\t<tr><th scope=row>2</th><td>2         </td><td>2008-10-28</td><td>US        </td><td>F         </td><td>45        </td><td>3         </td><td>5         </td><td>2         </td><td> 5        </td><td> 5        </td></tr>\n",
       "\t<tr><th scope=row>3</th><td>3         </td><td>2008-10-01</td><td>UK        </td><td>F         </td><td>25        </td><td>3         </td><td>5         </td><td>5         </td><td> 5        </td><td> 2        </td></tr>\n",
       "\t<tr><th scope=row>4</th><td>4         </td><td>2008-10-12</td><td>UK        </td><td>M         </td><td>39        </td><td>3         </td><td>3         </td><td>4         </td><td>NA        </td><td>NA        </td></tr>\n",
       "\t<tr><th scope=row>1</th><td>1         </td><td>2008-10-24</td><td>US        </td><td>M         </td><td>32        </td><td>5         </td><td>4         </td><td>5         </td><td> 5        </td><td> 5        </td></tr>\n",
       "</tbody>\n",
       "</table>\n"
      ],
      "text/latex": [
       "\\begin{tabular}{r|llllllllll}\n",
       "  & managerID & testDate & country & gender & age & q1 & q2 & q3 & q4 & q5\\\\\n",
       "\\hline\n",
       "\t5 & 5          & 2009-05-01 & UK         & F          & 99         & 2          & 2          & 1          &  2         &  1        \\\\\n",
       "\t2 & 2          & 2008-10-28 & US         & F          & 45         & 3          & 5          & 2          &  5         &  5        \\\\\n",
       "\t3 & 3          & 2008-10-01 & UK         & F          & 25         & 3          & 5          & 5          &  5         &  2        \\\\\n",
       "\t4 & 4          & 2008-10-12 & UK         & M          & 39         & 3          & 3          & 4          & NA         & NA        \\\\\n",
       "\t1 & 1          & 2008-10-24 & US         & M          & 32         & 5          & 4          & 5          &  5         &  5        \\\\\n",
       "\\end{tabular}\n"
      ],
      "text/markdown": [
       "\n",
       "| <!--/--> | managerID | testDate | country | gender | age | q1 | q2 | q3 | q4 | q5 | \n",
       "|---|---|---|---|---|\n",
       "| 5 | 5          | 2009-05-01 | UK         | F          | 99         | 2          | 2          | 1          |  2         |  1         | \n",
       "| 2 | 2          | 2008-10-28 | US         | F          | 45         | 3          | 5          | 2          |  5         |  5         | \n",
       "| 3 | 3          | 2008-10-01 | UK         | F          | 25         | 3          | 5          | 5          |  5         |  2         | \n",
       "| 4 | 4          | 2008-10-12 | UK         | M          | 39         | 3          | 3          | 4          | NA         | NA         | \n",
       "| 1 | 1          | 2008-10-24 | US         | M          | 32         | 5          | 4          | 5          |  5         |  5         | \n",
       "\n",
       "\n"
      ],
      "text/plain": [
       "  managerID testDate   country gender age q1 q2 q3 q4 q5\n",
       "5 5         2009-05-01 UK      F      99  2  2  1   2  1\n",
       "2 2         2008-10-28 US      F      45  3  5  2   5  5\n",
       "3 3         2008-10-01 UK      F      25  3  5  5   5  2\n",
       "4 4         2008-10-12 UK      M      39  3  3  4  NA NA\n",
       "1 1         2008-10-24 US      M      32  5  4  5   5  5"
      ]
     },
     "metadata": {},
     "output_type": "display_data"
    }
   ],
   "source": [
    "attach(leadership)\n",
    "newdata <-leadership[order(gender, -age),]\n",
    "detach(leadership)\n",
    "newdata"
   ]
  },
  {
   "cell_type": "markdown",
   "metadata": {},
   "source": [
    "## 数据集的合并\n",
    "### 向数据框加列\n",
    "横向合并两个数据框，使用merge()函数。在多数情况下，两个数据框是通过一个或多个共有变量进行联结的（inner join）：\n",
    "\n",
    "```r\n",
    "total <- merge(dataframeA, dataframeB, by=\"ID\")\n",
    "```\n",
    "\n",
    "将dataframeA和dataframeB按照ID进行了合并。类似地\n",
    "\n",
    "```r\n",
    "total <- merge(dataframeA, dataframeB, by=c(\"ID\",\"Country\"))\n",
    "```\n",
    "\n",
    "用cbind()进行横向合并：\n",
    "\n",
    "```r\n",
    "total <- cbind(A, B)\n",
    "```\n",
    "\n",
    "### 向数据框添加行\n",
    "纵向合并两个数据框，rbind():\n",
    "\n",
    "```r\n",
    "total <- rbind(dataframeA, dataframeB)\n",
    "```\n",
    "\n",
    "两个数据框必须拥有相同的变量。如果dataframeA中拥有dataframeB中没有的变量，请在合并它们之前做以下某种处理：\n",
    "\n",
    "- 删除dataframeA中的多余变量；\n",
    "- 在dataframeB中创建追加的变量并将其值设为NA。\n",
    "\n",
    "## 数据集取子集\n",
    "### 选入（保留）变量\n",
    "方法一：\n",
    "```r\n",
    "newdata <- leadership[, c(6:10)]\n",
    "```\n",
    "\n",
    "方法二：\n",
    "```r\n",
    "myvars <- c(\"q1\", \"q2\", \"q3\", \"q4\", \"q5\")\n",
    "newdata <-leadership[myvars]\n",
    "```\n",
    "\n",
    "方法三：\n",
    "```r\n",
    "myvars <- paste(\"q\", 1:5, sep=\"\")\n",
    "newdata <- leadership[myvars]\n",
    "```\n",
    "\n",
    "### 剔除（丢弃）变量\n",
    "剔除变量q3和q4：\n",
    "```r\n",
    "myvars <- names(leadership) %in% c(\"q3\", \"q4\")\n",
    "newdata <- leadership[!myvars]\n",
    "```\n",
    "\n",
    "在知道q3和q4是\b第8个和第9个变量的情况下：\n",
    "```r\n",
    "newdata <- leadership[c(-8,-9)]\n",
    "```\n",
    "\n",
    "也可以：\n",
    "\n",
    "```r\n",
    "leadership$q3 <- leadership$q4 <- NULL\n",
    "```\n",
    "\n",
    "这里将q3和q4两列设为了未定义（NULL）。注意，NULL\b与NA（表示缺失）是不同的。\n",
    "\n",
    "### 选入观测\n",
    "代码清单4-6 选入观测"
   ]
  },
  {
   "cell_type": "code",
   "execution_count": 46,
   "metadata": {
    "collapsed": false
   },
   "outputs": [
    {
     "name": "stderr",
     "output_type": "stream",
     "text": [
      "The following objects are masked _by_ .GlobalEnv:\n",
      "\n",
      "    age, country, gender, q1, q2, q3, q4, q5\n",
      "\n"
     ]
    }
   ],
   "source": [
    "newdata <- leadership[1:3,] # 选择第1行到第3行\n",
    "newdata <- leadership[leadership$gender==\"M\" & leadership$age > 30,] # 选择所有30岁以上男性\n",
    "\n",
    "attach(leadership)\n",
    "newdata <- leadership[gender=='M' & age > 30,]\n",
    "detach(leadership)\n",
    "\n",
    "# 限定研究的时间范围\n",
    "leadership$date <- as.Date(leadership$testDate, \"%m/%d/%y\")\n",
    "startdate <- as.Date(\"2009-01-01\")\n",
    "enddate <- as.Date(\"2009-10-31\")\n",
    "newdata <- leadership[which(leadership$testDate >= startdate &\n",
    "                            leadership$testDate <= enddate),]"
   ]
  },
  {
   "cell_type": "markdown",
   "metadata": {},
   "source": [
    "### subset()  \n",
    "选择所有age在24-35之间，保留变量q1~q4:\n",
    "\n",
    "```r\n",
    "newdata <- subset(leadership, age >= 35 | age < 24,\n",
    "                  select=c(q1, q2, q3, q4))\n",
    "```\n",
    "\n",
    "选择所有25岁以上男性，并保留变量gender到q4：\n",
    "\n",
    "```r\n",
    "newdata <- subset(leadership, gendar == \"M\" | age > 25,\n",
    "                  select=gender:q4)\n",
    "```\n",
    "\n",
    "### 随机抽样\n",
    "从leadership数据集中随机抽取一个大小为3的样本：\n",
    "\n",
    "```r\n",
    "mysample <- leadership[sample(1:nrow(leadership), 3, replace=FALSE),]\n",
    "```\n",
    "\n",
    "## 使用SQL语句操作数据框"
   ]
  },
  {
   "cell_type": "code",
   "execution_count": 48,
   "metadata": {
    "collapsed": false
   },
   "outputs": [
    {
     "data": {
      "text/html": [
       "<table>\n",
       "<thead><tr><th></th><th scope=col>mpg</th><th scope=col>cyl</th><th scope=col>disp</th><th scope=col>hp</th><th scope=col>drat</th><th scope=col>wt</th><th scope=col>qsec</th><th scope=col>vs</th><th scope=col>am</th><th scope=col>gear</th><th scope=col>carb</th></tr></thead>\n",
       "<tbody>\n",
       "\t<tr><th scope=row>Valiant</th><td>18.1 </td><td>6    </td><td>225.0</td><td>105  </td><td>2.76 </td><td>3.460</td><td>20.22</td><td>1    </td><td>0    </td><td>3    </td><td>1    </td></tr>\n",
       "\t<tr><th scope=row>Hornet 4 Drive</th><td>21.4 </td><td>6    </td><td>258.0</td><td>110  </td><td>3.08 </td><td>3.215</td><td>19.44</td><td>1    </td><td>0    </td><td>3    </td><td>1    </td></tr>\n",
       "\t<tr><th scope=row>Toyota Corona</th><td>21.5 </td><td>4    </td><td>120.1</td><td> 97  </td><td>3.70 </td><td>2.465</td><td>20.01</td><td>1    </td><td>0    </td><td>3    </td><td>1    </td></tr>\n",
       "\t<tr><th scope=row>Datsun 710</th><td>22.8 </td><td>4    </td><td>108.0</td><td> 93  </td><td>3.85 </td><td>2.320</td><td>18.61</td><td>1    </td><td>1    </td><td>4    </td><td>1    </td></tr>\n",
       "\t<tr><th scope=row>Fiat X1-9</th><td>27.3 </td><td>4    </td><td> 79.0</td><td> 66  </td><td>4.08 </td><td>1.935</td><td>18.90</td><td>1    </td><td>1    </td><td>4    </td><td>1    </td></tr>\n",
       "\t<tr><th scope=row>Fiat 128</th><td>32.4 </td><td>4    </td><td> 78.7</td><td> 66  </td><td>4.08 </td><td>2.200</td><td>19.47</td><td>1    </td><td>1    </td><td>4    </td><td>1    </td></tr>\n",
       "\t<tr><th scope=row>Toyota Corolla</th><td>33.9 </td><td>4    </td><td> 71.1</td><td> 65  </td><td>4.22 </td><td>1.835</td><td>19.90</td><td>1    </td><td>1    </td><td>4    </td><td>1    </td></tr>\n",
       "</tbody>\n",
       "</table>\n"
      ],
      "text/latex": [
       "\\begin{tabular}{r|lllllllllll}\n",
       "  & mpg & cyl & disp & hp & drat & wt & qsec & vs & am & gear & carb\\\\\n",
       "\\hline\n",
       "\tValiant & 18.1  & 6     & 225.0 & 105   & 2.76  & 3.460 & 20.22 & 1     & 0     & 3     & 1    \\\\\n",
       "\tHornet 4 Drive & 21.4  & 6     & 258.0 & 110   & 3.08  & 3.215 & 19.44 & 1     & 0     & 3     & 1    \\\\\n",
       "\tToyota Corona & 21.5  & 4     & 120.1 &  97   & 3.70  & 2.465 & 20.01 & 1     & 0     & 3     & 1    \\\\\n",
       "\tDatsun 710 & 22.8  & 4     & 108.0 &  93   & 3.85  & 2.320 & 18.61 & 1     & 1     & 4     & 1    \\\\\n",
       "\tFiat X1-9 & 27.3  & 4     &  79.0 &  66   & 4.08  & 1.935 & 18.90 & 1     & 1     & 4     & 1    \\\\\n",
       "\tFiat 128 & 32.4  & 4     &  78.7 &  66   & 4.08  & 2.200 & 19.47 & 1     & 1     & 4     & 1    \\\\\n",
       "\tToyota Corolla & 33.9  & 4     &  71.1 &  65   & 4.22  & 1.835 & 19.90 & 1     & 1     & 4     & 1    \\\\\n",
       "\\end{tabular}\n"
      ],
      "text/markdown": [
       "\n",
       "| <!--/--> | mpg | cyl | disp | hp | drat | wt | qsec | vs | am | gear | carb | \n",
       "|---|---|---|---|---|---|---|\n",
       "| Valiant | 18.1  | 6     | 225.0 | 105   | 2.76  | 3.460 | 20.22 | 1     | 0     | 3     | 1     | \n",
       "| Hornet 4 Drive | 21.4  | 6     | 258.0 | 110   | 3.08  | 3.215 | 19.44 | 1     | 0     | 3     | 1     | \n",
       "| Toyota Corona | 21.5  | 4     | 120.1 |  97   | 3.70  | 2.465 | 20.01 | 1     | 0     | 3     | 1     | \n",
       "| Datsun 710 | 22.8  | 4     | 108.0 |  93   | 3.85  | 2.320 | 18.61 | 1     | 1     | 4     | 1     | \n",
       "| Fiat X1-9 | 27.3  | 4     |  79.0 |  66   | 4.08  | 1.935 | 18.90 | 1     | 1     | 4     | 1     | \n",
       "| Fiat 128 | 32.4  | 4     |  78.7 |  66   | 4.08  | 2.200 | 19.47 | 1     | 1     | 4     | 1     | \n",
       "| Toyota Corolla | 33.9  | 4     |  71.1 |  65   | 4.22  | 1.835 | 19.90 | 1     | 1     | 4     | 1     | \n",
       "\n",
       "\n"
      ],
      "text/plain": [
       "               mpg  cyl disp  hp  drat wt    qsec  vs am gear carb\n",
       "Valiant        18.1 6   225.0 105 2.76 3.460 20.22 1  0  3    1   \n",
       "Hornet 4 Drive 21.4 6   258.0 110 3.08 3.215 19.44 1  0  3    1   \n",
       "Toyota Corona  21.5 4   120.1  97 3.70 2.465 20.01 1  0  3    1   \n",
       "Datsun 710     22.8 4   108.0  93 3.85 2.320 18.61 1  1  4    1   \n",
       "Fiat X1-9      27.3 4    79.0  66 4.08 1.935 18.90 1  1  4    1   \n",
       "Fiat 128       32.4 4    78.7  66 4.08 2.200 19.47 1  1  4    1   \n",
       "Toyota Corolla 33.9 4    71.1  65 4.22 1.835 19.90 1  1  4    1   "
      ]
     },
     "metadata": {},
     "output_type": "display_data"
    }
   ],
   "source": [
    "# install.packages(\"sqldf\")\n",
    "library(sqldf)\n",
    "newdf <- sqldf(\"select * from mtcars where carb=1 order by mpg\", row.names=TRUE)\n",
    "newdf"
   ]
  },
  {
   "cell_type": "code",
   "execution_count": null,
   "metadata": {
    "collapsed": true
   },
   "outputs": [],
   "source": []
  }
 ],
 "metadata": {
  "kernelspec": {
   "display_name": "R",
   "language": "R",
   "name": "ir"
  },
  "language_info": {
   "codemirror_mode": "r",
   "file_extension": ".r",
   "mimetype": "text/x-r-source",
   "name": "R",
   "pygments_lexer": "r",
   "version": "3.4.0"
  }
 },
 "nbformat": 4,
 "nbformat_minor": 0
}
