{
 "cells": [
  {
   "cell_type": "markdown",
   "metadata": {},
   "source": [
    "# 高级数据管理\n",
    "## 一个数据处理难题\n",
    "为了给所有学生确定一个单一的成绩衡量指标，需要将这些科目的成绩组合起来。另外，你还想将前20%的学生评定为A，接下来20%的学生评定为B，依次类推。最后你希望按字母顺序对学生排序。\n",
    "\n",
    "![](http://ou8qjsj0m.bkt.clouddn.com//17-11-12/35367117.jpg)\n",
    "\n",
    "## 数值和字符处理函数\n",
    "### 数学函数\n",
    "\n",
    "![](http://ou8qjsj0m.bkt.clouddn.com//17-11-12/73026866.jpg)\n",
    "\n",
    "![](http://ou8qjsj0m.bkt.clouddn.com//17-11-12/82857416.jpg)\n",
    "\n",
    "### 统计函数\n",
    "\n",
    "![](http://ou8qjsj0m.bkt.clouddn.com//17-11-12/23372509.jpg)\n",
    "\n",
    "代码清单5-1 均值和标准差的计算"
   ]
  },
  {
   "cell_type": "code",
   "execution_count": 1,
   "metadata": {
    "collapsed": false
   },
   "outputs": [
    {
     "data": {
      "text/html": [
       "4.5"
      ],
      "text/latex": [
       "4.5"
      ],
      "text/markdown": [
       "4.5"
      ],
      "text/plain": [
       "[1] 4.5"
      ]
     },
     "metadata": {},
     "output_type": "display_data"
    }
   ],
   "source": [
    "x <- c(1,2,3,4,5,6,7,8)\n",
    "mean(x)"
   ]
  },
  {
   "cell_type": "code",
   "execution_count": 2,
   "metadata": {
    "collapsed": false
   },
   "outputs": [
    {
     "data": {
      "text/html": [
       "2.44948974278318"
      ],
      "text/latex": [
       "2.44948974278318"
      ],
      "text/markdown": [
       "2.44948974278318"
      ],
      "text/plain": [
       "[1] 2.44949"
      ]
     },
     "metadata": {},
     "output_type": "display_data"
    }
   ],
   "source": [
    "sd(x)"
   ]
  },
  {
   "cell_type": "markdown",
   "metadata": {},
   "source": [
    "#### 数据标准化\n",
    "默认情况下，函数scale()对矩阵或数据框的指定列进行均值为0、标准差为1的标准化：\n",
    "\n",
    "```r\n",
    "newdata <- scale(mydata)\n",
    "```\n",
    "\n",
    "指定\b均值(M)和\b标准差(SD)的标准化：\n",
    "\n",
    "```r\n",
    "newdata <- scale(mydata) * SD + M\n",
    "```\n",
    "\n",
    "对指定列进行标准化：\n",
    "\n",
    "```r\n",
    "newdata <- transform(mydata, myvar = scale(myvar) * SD + M)\n",
    "```\n",
    "\n",
    "### 概率函数\n",
    "在R中，\u001b概率函数形如：\n",
    "\n",
    "```r\n",
    "[dpqr]distribution_abbreviation()\n",
    "```\n",
    "\n",
    "其中第一个字母表示其所指分布的某一方面：\n",
    "\n",
    "- d=密度函数（density）\n",
    "- p=分布函数（distribution function）\n",
    "- q=分位数函数（quantile function）\n",
    "- r=生成随机数（随机偏差）\n",
    "\n",
    "![](http://ou8qjsj0m.bkt.clouddn.com//17-11-12/96211627.jpg)\n",
    "\n",
    "![](http://ou8qjsj0m.bkt.clouddn.com//17-11-12/99964175.jpg)\n",
    "\n",
    "#### 1.设定随机数种子\n",
    "通过函数set.seed()\n",
    "\n",
    "代码清单5-2 生成服从生态分布的伪随机数"
   ]
  },
  {
   "cell_type": "code",
   "execution_count": 3,
   "metadata": {
    "collapsed": false
   },
   "outputs": [
    {
     "data": {
      "text/html": [
       "<ol class=list-inline>\n",
       "\t<li>0.85280432831496</li>\n",
       "\t<li>0.00773632922209799</li>\n",
       "\t<li>0.617392293876037</li>\n",
       "\t<li>0.613420450128615</li>\n",
       "\t<li>0.0578021528199315</li>\n",
       "</ol>\n"
      ],
      "text/latex": [
       "\\begin{enumerate*}\n",
       "\\item 0.85280432831496\n",
       "\\item 0.00773632922209799\n",
       "\\item 0.617392293876037\n",
       "\\item 0.613420450128615\n",
       "\\item 0.0578021528199315\n",
       "\\end{enumerate*}\n"
      ],
      "text/markdown": [
       "1. 0.85280432831496\n",
       "2. 0.00773632922209799\n",
       "3. 0.617392293876037\n",
       "4. 0.613420450128615\n",
       "5. 0.0578021528199315\n",
       "\n",
       "\n"
      ],
      "text/plain": [
       "[1] 0.852804328 0.007736329 0.617392294 0.613420450 0.057802153"
      ]
     },
     "metadata": {},
     "output_type": "display_data"
    }
   ],
   "source": [
    "runif(5) # (0,1)上服从均匀分布的伪随机数"
   ]
  },
  {
   "cell_type": "code",
   "execution_count": 4,
   "metadata": {
    "collapsed": false
   },
   "outputs": [
    {
     "data": {
      "text/html": [
       "<ol class=list-inline>\n",
       "\t<li>0.094764559995383</li>\n",
       "\t<li>0.732820028904825</li>\n",
       "\t<li>0.951247724704444</li>\n",
       "\t<li>0.713428874034435</li>\n",
       "\t<li>0.0342367975972593</li>\n",
       "</ol>\n"
      ],
      "text/latex": [
       "\\begin{enumerate*}\n",
       "\\item 0.094764559995383\n",
       "\\item 0.732820028904825\n",
       "\\item 0.951247724704444\n",
       "\\item 0.713428874034435\n",
       "\\item 0.0342367975972593\n",
       "\\end{enumerate*}\n"
      ],
      "text/markdown": [
       "1. 0.094764559995383\n",
       "2. 0.732820028904825\n",
       "3. 0.951247724704444\n",
       "4. 0.713428874034435\n",
       "5. 0.0342367975972593\n",
       "\n",
       "\n"
      ],
      "text/plain": [
       "[1] 0.09476456 0.73282003 0.95124772 0.71342887 0.03423680"
      ]
     },
     "metadata": {},
     "output_type": "display_data"
    }
   ],
   "source": [
    "runif(5)"
   ]
  },
  {
   "cell_type": "code",
   "execution_count": 5,
   "metadata": {
    "collapsed": false
   },
   "outputs": [
    {
     "data": {
      "text/html": [
       "<ol class=list-inline>\n",
       "\t<li>0.113703411305323</li>\n",
       "\t<li>0.622299404814839</li>\n",
       "\t<li>0.609274732880294</li>\n",
       "\t<li>0.623379441676661</li>\n",
       "\t<li>0.860915383556858</li>\n",
       "</ol>\n"
      ],
      "text/latex": [
       "\\begin{enumerate*}\n",
       "\\item 0.113703411305323\n",
       "\\item 0.622299404814839\n",
       "\\item 0.609274732880294\n",
       "\\item 0.623379441676661\n",
       "\\item 0.860915383556858\n",
       "\\end{enumerate*}\n"
      ],
      "text/markdown": [
       "1. 0.113703411305323\n",
       "2. 0.622299404814839\n",
       "3. 0.609274732880294\n",
       "4. 0.623379441676661\n",
       "5. 0.860915383556858\n",
       "\n",
       "\n"
      ],
      "text/plain": [
       "[1] 0.1137034 0.6222994 0.6092747 0.6233794 0.8609154"
      ]
     },
     "metadata": {},
     "output_type": "display_data"
    }
   ],
   "source": [
    "set.seed(1234)\n",
    "runif(5)"
   ]
  },
  {
   "cell_type": "code",
   "execution_count": 6,
   "metadata": {
    "collapsed": false
   },
   "outputs": [
    {
     "data": {
      "text/html": [
       "<ol class=list-inline>\n",
       "\t<li>0.113703411305323</li>\n",
       "\t<li>0.622299404814839</li>\n",
       "\t<li>0.609274732880294</li>\n",
       "\t<li>0.623379441676661</li>\n",
       "\t<li>0.860915383556858</li>\n",
       "</ol>\n"
      ],
      "text/latex": [
       "\\begin{enumerate*}\n",
       "\\item 0.113703411305323\n",
       "\\item 0.622299404814839\n",
       "\\item 0.609274732880294\n",
       "\\item 0.623379441676661\n",
       "\\item 0.860915383556858\n",
       "\\end{enumerate*}\n"
      ],
      "text/markdown": [
       "1. 0.113703411305323\n",
       "2. 0.622299404814839\n",
       "3. 0.609274732880294\n",
       "4. 0.623379441676661\n",
       "5. 0.860915383556858\n",
       "\n",
       "\n"
      ],
      "text/plain": [
       "[1] 0.1137034 0.6222994 0.6092747 0.6233794 0.8609154"
      ]
     },
     "metadata": {},
     "output_type": "display_data"
    }
   ],
   "source": [
    "set.seed(1234)\n",
    "runif(5)"
   ]
  },
  {
   "cell_type": "markdown",
   "metadata": {},
   "source": [
    "#### 2.生成多元正态数据\n",
    "MASS包中mvrnorm()函数：\n",
    "\n",
    "```r\n",
    "mvrnorm(n, mean, sigma)\n",
    "```\n",
    "\n",
    "- mean均值向量\n",
    "- sigma方差-协方差矩阵（或相关矩阵）\n",
    "\n",
    "代码清单5-3 生成服从多元正态分布的数据"
   ]
  },
  {
   "cell_type": "code",
   "execution_count": 7,
   "metadata": {
    "collapsed": true
   },
   "outputs": [],
   "source": [
    "library(MASS)\n",
    "options(digits=3)\n",
    "set.seed(1234)"
   ]
  },
  {
   "cell_type": "code",
   "execution_count": 8,
   "metadata": {
    "collapsed": true
   },
   "outputs": [],
   "source": [
    "mean <- c(230.7, 146.7, 3.6)\n",
    "sigma <- matrix(c(15360.8, 6721.2, -47.1,\n",
    "                  6721.2, 4700.9, -16.5,\n",
    "                  -47.1,   -16.5, 0.3), nrow=3, ncol=3)\n",
    "mydata <- mvrnorm(500, mean, sigma)\n",
    "mydata <- as.data.frame(mydata)\n",
    "names(mydata) <- c(\"y\",\"x1\",\"x2\")"
   ]
  },
  {
   "cell_type": "code",
   "execution_count": 9,
   "metadata": {
    "collapsed": false
   },
   "outputs": [
    {
     "data": {
      "text/html": [
       "<ol class=list-inline>\n",
       "\t<li>500</li>\n",
       "\t<li>3</li>\n",
       "</ol>\n"
      ],
      "text/latex": [
       "\\begin{enumerate*}\n",
       "\\item 500\n",
       "\\item 3\n",
       "\\end{enumerate*}\n"
      ],
      "text/markdown": [
       "1. 500\n",
       "2. 3\n",
       "\n",
       "\n"
      ],
      "text/plain": [
       "[1] 500   3"
      ]
     },
     "metadata": {},
     "output_type": "display_data"
    }
   ],
   "source": [
    "dim(mydata)"
   ]
  },
  {
   "cell_type": "code",
   "execution_count": 10,
   "metadata": {
    "collapsed": false
   },
   "outputs": [
    {
     "data": {
      "text/html": [
       "<table>\n",
       "<thead><tr><th scope=col>y</th><th scope=col>x1</th><th scope=col>x2</th></tr></thead>\n",
       "<tbody>\n",
       "\t<tr><td> 98.8</td><td> 41.3</td><td>3.43 </td></tr>\n",
       "\t<tr><td>244.5</td><td>205.2</td><td>3.80 </td></tr>\n",
       "\t<tr><td>375.7</td><td>186.7</td><td>2.51 </td></tr>\n",
       "\t<tr><td>-59.2</td><td> 11.2</td><td>4.71 </td></tr>\n",
       "\t<tr><td>313.0</td><td>111.0</td><td>3.45 </td></tr>\n",
       "\t<tr><td>288.8</td><td>185.1</td><td>2.72 </td></tr>\n",
       "\t<tr><td>134.8</td><td>165.0</td><td>4.39 </td></tr>\n",
       "\t<tr><td>171.7</td><td> 97.4</td><td>3.64 </td></tr>\n",
       "\t<tr><td>167.2</td><td>101.0</td><td>3.50 </td></tr>\n",
       "\t<tr><td>121.1</td><td> 94.5</td><td>4.10 </td></tr>\n",
       "</tbody>\n",
       "</table>\n"
      ],
      "text/latex": [
       "\\begin{tabular}{r|lll}\n",
       " y & x1 & x2\\\\\n",
       "\\hline\n",
       "\t  98.8 &  41.3 & 3.43 \\\\\n",
       "\t 244.5 & 205.2 & 3.80 \\\\\n",
       "\t 375.7 & 186.7 & 2.51 \\\\\n",
       "\t -59.2 &  11.2 & 4.71 \\\\\n",
       "\t 313.0 & 111.0 & 3.45 \\\\\n",
       "\t 288.8 & 185.1 & 2.72 \\\\\n",
       "\t 134.8 & 165.0 & 4.39 \\\\\n",
       "\t 171.7 &  97.4 & 3.64 \\\\\n",
       "\t 167.2 & 101.0 & 3.50 \\\\\n",
       "\t 121.1 &  94.5 & 4.10 \\\\\n",
       "\\end{tabular}\n"
      ],
      "text/markdown": [
       "\n",
       "y | x1 | x2 | \n",
       "|---|---|---|---|---|---|---|---|---|---|\n",
       "|  98.8 |  41.3 | 3.43  | \n",
       "| 244.5 | 205.2 | 3.80  | \n",
       "| 375.7 | 186.7 | 2.51  | \n",
       "| -59.2 |  11.2 | 4.71  | \n",
       "| 313.0 | 111.0 | 3.45  | \n",
       "| 288.8 | 185.1 | 2.72  | \n",
       "| 134.8 | 165.0 | 4.39  | \n",
       "| 171.7 |  97.4 | 3.64  | \n",
       "| 167.2 | 101.0 | 3.50  | \n",
       "| 121.1 |  94.5 | 4.10  | \n",
       "\n",
       "\n"
      ],
      "text/plain": [
       "   y     x1    x2  \n",
       "1   98.8  41.3 3.43\n",
       "2  244.5 205.2 3.80\n",
       "3  375.7 186.7 2.51\n",
       "4  -59.2  11.2 4.71\n",
       "5  313.0 111.0 3.45\n",
       "6  288.8 185.1 2.72\n",
       "7  134.8 165.0 4.39\n",
       "8  171.7  97.4 3.64\n",
       "9  167.2 101.0 3.50\n",
       "10 121.1  94.5 4.10"
      ]
     },
     "metadata": {},
     "output_type": "display_data"
    }
   ],
   "source": [
    "head(mydata, n=10)"
   ]
  },
  {
   "cell_type": "markdown",
   "metadata": {},
   "source": [
    "### 字符处理函数\n",
    "![](http://ou8qjsj0m.bkt.clouddn.com//17-11-12/1832183.jpg)\n",
    "\n",
    "### 其他实用函数\n",
    "![](http://ou8qjsj0m.bkt.clouddn.com//17-11-12/98382513.jpg)\n",
    "\n",
    "### 将函数应用于矩阵和数据框\n",
    "代码清单5-4 将函数应用于数据对象"
   ]
  },
  {
   "cell_type": "code",
   "execution_count": 1,
   "metadata": {
    "collapsed": false
   },
   "outputs": [
    {
     "data": {
      "text/html": [
       "2.23606797749979"
      ],
      "text/latex": [
       "2.23606797749979"
      ],
      "text/markdown": [
       "2.23606797749979"
      ],
      "text/plain": [
       "[1] 2.236068"
      ]
     },
     "metadata": {},
     "output_type": "display_data"
    }
   ],
   "source": [
    "a <- 5\n",
    "sqrt(a)"
   ]
  },
  {
   "cell_type": "code",
   "execution_count": 2,
   "metadata": {
    "collapsed": false
   },
   "outputs": [
    {
     "data": {
      "text/html": [
       "<ol class=list-inline>\n",
       "\t<li>1</li>\n",
       "\t<li>6</li>\n",
       "\t<li>3</li>\n",
       "</ol>\n"
      ],
      "text/latex": [
       "\\begin{enumerate*}\n",
       "\\item 1\n",
       "\\item 6\n",
       "\\item 3\n",
       "\\end{enumerate*}\n"
      ],
      "text/markdown": [
       "1. 1\n",
       "2. 6\n",
       "3. 3\n",
       "\n",
       "\n"
      ],
      "text/plain": [
       "[1] 1 6 3"
      ]
     },
     "metadata": {},
     "output_type": "display_data"
    }
   ],
   "source": [
    "b <- c(1.243, 5.654, 2.99)\n",
    "round(b)"
   ]
  },
  {
   "cell_type": "code",
   "execution_count": 3,
   "metadata": {
    "collapsed": false
   },
   "outputs": [
    {
     "data": {
      "text/html": [
       "<table>\n",
       "<tbody>\n",
       "\t<tr><td>0.98950616</td><td>0.8228790 </td><td>0.4278709 </td><td>0.4509339 </td></tr>\n",
       "\t<tr><td>0.43458092</td><td>0.2253356 </td><td>0.1094183 </td><td>0.6266923 </td></tr>\n",
       "\t<tr><td>0.06919287</td><td>0.8825891 </td><td>0.2351450 </td><td>0.2817198 </td></tr>\n",
       "</tbody>\n",
       "</table>\n"
      ],
      "text/latex": [
       "\\begin{tabular}{llll}\n",
       "\t 0.98950616 & 0.8228790  & 0.4278709  & 0.4509339 \\\\\n",
       "\t 0.43458092 & 0.2253356  & 0.1094183  & 0.6266923 \\\\\n",
       "\t 0.06919287 & 0.8825891  & 0.2351450  & 0.2817198 \\\\\n",
       "\\end{tabular}\n"
      ],
      "text/markdown": [
       "\n",
       "| 0.98950616 | 0.8228790  | 0.4278709  | 0.4509339  | \n",
       "| 0.43458092 | 0.2253356  | 0.1094183  | 0.6266923  | \n",
       "| 0.06919287 | 0.8825891  | 0.2351450  | 0.2817198  | \n",
       "\n",
       "\n"
      ],
      "text/plain": [
       "     [,1]       [,2]      [,3]      [,4]     \n",
       "[1,] 0.98950616 0.8228790 0.4278709 0.4509339\n",
       "[2,] 0.43458092 0.2253356 0.1094183 0.6266923\n",
       "[3,] 0.06919287 0.8825891 0.2351450 0.2817198"
      ]
     },
     "metadata": {},
     "output_type": "display_data"
    }
   ],
   "source": [
    "c <- matrix(runif(12), nrow=3)\n",
    "c"
   ]
  },
  {
   "cell_type": "code",
   "execution_count": 4,
   "metadata": {
    "collapsed": false
   },
   "outputs": [
    {
     "data": {
      "text/html": [
       "<table>\n",
       "<tbody>\n",
       "\t<tr><td>-0.01054929</td><td>-0.1949462 </td><td>-0.8489338 </td><td>-0.7964345 </td></tr>\n",
       "\t<tr><td>-0.83337310</td><td>-1.4901643 </td><td>-2.2125770 </td><td>-0.4672996 </td></tr>\n",
       "\t<tr><td>-2.67085752</td><td>-0.1248956 </td><td>-1.4475531 </td><td>-1.2668423 </td></tr>\n",
       "</tbody>\n",
       "</table>\n"
      ],
      "text/latex": [
       "\\begin{tabular}{llll}\n",
       "\t -0.01054929 & -0.1949462  & -0.8489338  & -0.7964345 \\\\\n",
       "\t -0.83337310 & -1.4901643  & -2.2125770  & -0.4672996 \\\\\n",
       "\t -2.67085752 & -0.1248956  & -1.4475531  & -1.2668423 \\\\\n",
       "\\end{tabular}\n"
      ],
      "text/markdown": [
       "\n",
       "| -0.01054929 | -0.1949462  | -0.8489338  | -0.7964345  | \n",
       "| -0.83337310 | -1.4901643  | -2.2125770  | -0.4672996  | \n",
       "| -2.67085752 | -0.1248956  | -1.4475531  | -1.2668423  | \n",
       "\n",
       "\n"
      ],
      "text/plain": [
       "     [,1]        [,2]       [,3]       [,4]      \n",
       "[1,] -0.01054929 -0.1949462 -0.8489338 -0.7964345\n",
       "[2,] -0.83337310 -1.4901643 -2.2125770 -0.4672996\n",
       "[3,] -2.67085752 -0.1248956 -1.4475531 -1.2668423"
      ]
     },
     "metadata": {},
     "output_type": "display_data"
    }
   ],
   "source": [
    "log(c)"
   ]
  },
  {
   "cell_type": "code",
   "execution_count": 5,
   "metadata": {
    "collapsed": false
   },
   "outputs": [
    {
     "data": {
      "text/html": [
       "0.462988648544221"
      ],
      "text/latex": [
       "0.462988648544221"
      ],
      "text/markdown": [
       "0.462988648544221"
      ],
      "text/plain": [
       "[1] 0.4629886"
      ]
     },
     "metadata": {},
     "output_type": "display_data"
    }
   ],
   "source": [
    "mean(c)"
   ]
  },
  {
   "cell_type": "markdown",
   "metadata": {},
   "source": [
    "apply()函数的使用格式为：\n",
    "\n",
    "```r\n",
    "apply(x, MARGIN, FUN, ...)\n",
    "```\n",
    "\n",
    "- x为数据对象\n",
    "- MARGIN是维度的下标\n",
    "- FUN是用户定义的函数\n",
    "\n",
    "代码清单5-5 将一个函数应用到矩阵的所有行（列）"
   ]
  },
  {
   "cell_type": "code",
   "execution_count": 6,
   "metadata": {
    "collapsed": false
   },
   "outputs": [
    {
     "data": {
      "text/html": [
       "<table>\n",
       "<tbody>\n",
       "\t<tr><td>-0.4539043</td><td> 0.3313093</td><td>-0.2944970</td><td>-1.5256770</td><td>-0.4540602</td></tr>\n",
       "\t<tr><td> 0.3775933</td><td>-1.2020110</td><td> 1.2455713</td><td>-0.4978610</td><td> 0.5445697</td></tr>\n",
       "\t<tr><td> 1.4159429</td><td>-1.6577526</td><td>-0.9670505</td><td> 0.6904934</td><td>-0.6496752</td></tr>\n",
       "\t<tr><td>-1.9689923</td><td> 0.3985245</td><td> 0.6669216</td><td>-0.5416062</td><td> 0.3743046</td></tr>\n",
       "\t<tr><td> 0.1625864</td><td> 0.8333110</td><td> 1.1308070</td><td>-0.3811411</td><td> 1.2769574</td></tr>\n",
       "\t<tr><td>-0.4050438</td><td> 0.2914321</td><td> 0.6424401</td><td>-0.3838955</td><td>-0.3006475</td></tr>\n",
       "</tbody>\n",
       "</table>\n"
      ],
      "text/latex": [
       "\\begin{tabular}{lllll}\n",
       "\t -0.4539043 &  0.3313093 & -0.2944970 & -1.5256770 & -0.4540602\\\\\n",
       "\t  0.3775933 & -1.2020110 &  1.2455713 & -0.4978610 &  0.5445697\\\\\n",
       "\t  1.4159429 & -1.6577526 & -0.9670505 &  0.6904934 & -0.6496752\\\\\n",
       "\t -1.9689923 &  0.3985245 &  0.6669216 & -0.5416062 &  0.3743046\\\\\n",
       "\t  0.1625864 &  0.8333110 &  1.1308070 & -0.3811411 &  1.2769574\\\\\n",
       "\t -0.4050438 &  0.2914321 &  0.6424401 & -0.3838955 & -0.3006475\\\\\n",
       "\\end{tabular}\n"
      ],
      "text/markdown": [
       "\n",
       "| -0.4539043 |  0.3313093 | -0.2944970 | -1.5256770 | -0.4540602 | \n",
       "|  0.3775933 | -1.2020110 |  1.2455713 | -0.4978610 |  0.5445697 | \n",
       "|  1.4159429 | -1.6577526 | -0.9670505 |  0.6904934 | -0.6496752 | \n",
       "| -1.9689923 |  0.3985245 |  0.6669216 | -0.5416062 |  0.3743046 | \n",
       "|  0.1625864 |  0.8333110 |  1.1308070 | -0.3811411 |  1.2769574 | \n",
       "| -0.4050438 |  0.2914321 |  0.6424401 | -0.3838955 | -0.3006475 | \n",
       "\n",
       "\n"
      ],
      "text/plain": [
       "     [,1]       [,2]       [,3]       [,4]       [,5]      \n",
       "[1,] -0.4539043  0.3313093 -0.2944970 -1.5256770 -0.4540602\n",
       "[2,]  0.3775933 -1.2020110  1.2455713 -0.4978610  0.5445697\n",
       "[3,]  1.4159429 -1.6577526 -0.9670505  0.6904934 -0.6496752\n",
       "[4,] -1.9689923  0.3985245  0.6669216 -0.5416062  0.3743046\n",
       "[5,]  0.1625864  0.8333110  1.1308070 -0.3811411  1.2769574\n",
       "[6,] -0.4050438  0.2914321  0.6424401 -0.3838955 -0.3006475"
      ]
     },
     "metadata": {},
     "output_type": "display_data"
    }
   ],
   "source": [
    "mydata <- matrix(rnorm(30), nrow=6)\n",
    "mydata"
   ]
  },
  {
   "cell_type": "code",
   "execution_count": 7,
   "metadata": {
    "collapsed": false
   },
   "outputs": [
    {
     "data": {
      "text/html": [
       "<ol class=list-inline>\n",
       "\t<li>-0.479365852242322</li>\n",
       "\t<li>0.093572448202357</li>\n",
       "\t<li>-0.233608397281928</li>\n",
       "\t<li>-0.214169544155506</li>\n",
       "\t<li>0.604504146588539</li>\n",
       "\t<li>-0.0311429233505271</li>\n",
       "</ol>\n"
      ],
      "text/latex": [
       "\\begin{enumerate*}\n",
       "\\item -0.479365852242322\n",
       "\\item 0.093572448202357\n",
       "\\item -0.233608397281928\n",
       "\\item -0.214169544155506\n",
       "\\item 0.604504146588539\n",
       "\\item -0.0311429233505271\n",
       "\\end{enumerate*}\n"
      ],
      "text/markdown": [
       "1. -0.479365852242322\n",
       "2. 0.093572448202357\n",
       "3. -0.233608397281928\n",
       "4. -0.214169544155506\n",
       "5. 0.604504146588539\n",
       "6. -0.0311429233505271\n",
       "\n",
       "\n"
      ],
      "text/plain": [
       "[1] -0.47936585  0.09357245 -0.23360840 -0.21416954  0.60450415 -0.03114292"
      ]
     },
     "metadata": {},
     "output_type": "display_data"
    }
   ],
   "source": [
    "apply(mydata, 1, mean) # 计算每行均值"
   ]
  },
  {
   "cell_type": "code",
   "execution_count": 8,
   "metadata": {
    "collapsed": false
   },
   "outputs": [
    {
     "data": {
      "text/html": [
       "<ol class=list-inline>\n",
       "\t<li>-0.145302971555084</li>\n",
       "\t<li>-0.167531121158816</li>\n",
       "\t<li>0.404032067360687</li>\n",
       "\t<li>-0.439947885974656</li>\n",
       "\t<li>0.131908142795047</li>\n",
       "</ol>\n"
      ],
      "text/latex": [
       "\\begin{enumerate*}\n",
       "\\item -0.145302971555084\n",
       "\\item -0.167531121158816\n",
       "\\item 0.404032067360687\n",
       "\\item -0.439947885974656\n",
       "\\item 0.131908142795047\n",
       "\\end{enumerate*}\n"
      ],
      "text/markdown": [
       "1. -0.145302971555084\n",
       "2. -0.167531121158816\n",
       "3. 0.404032067360687\n",
       "4. -0.439947885974656\n",
       "5. 0.131908142795047\n",
       "\n",
       "\n"
      ],
      "text/plain": [
       "[1] -0.1453030 -0.1675311  0.4040321 -0.4399479  0.1319081"
      ]
     },
     "metadata": {},
     "output_type": "display_data"
    }
   ],
   "source": [
    "apply(mydata, 2, mean) # 计算每列均值"
   ]
  },
  {
   "cell_type": "code",
   "execution_count": 9,
   "metadata": {
    "collapsed": false
   },
   "outputs": [
    {
     "data": {
      "text/html": [
       "<ol class=list-inline>\n",
       "\t<li>-0.0796920962146556</li>\n",
       "\t<li>-0.0451862898215447</li>\n",
       "\t<li>0.536417910411965</li>\n",
       "\t<li>-0.451125938233702</li>\n",
       "\t<li>0.0410416536108877</li>\n",
       "</ol>\n"
      ],
      "text/latex": [
       "\\begin{enumerate*}\n",
       "\\item -0.0796920962146556\n",
       "\\item -0.0451862898215447\n",
       "\\item 0.536417910411965\n",
       "\\item -0.451125938233702\n",
       "\\item 0.0410416536108877\n",
       "\\end{enumerate*}\n"
      ],
      "text/markdown": [
       "1. -0.0796920962146556\n",
       "2. -0.0451862898215447\n",
       "3. 0.536417910411965\n",
       "4. -0.451125938233702\n",
       "5. 0.0410416536108877\n",
       "\n",
       "\n"
      ],
      "text/plain": [
       "[1] -0.07969210 -0.04518629  0.53641791 -0.45112594  0.04104165"
      ]
     },
     "metadata": {},
     "output_type": "display_data"
    }
   ],
   "source": [
    "apply(mydata, 2, mean, trim=0.2) # 计算每行截尾均值，最高和最低20%数据被忽略"
   ]
  },
  {
   "cell_type": "markdown",
   "metadata": {},
   "source": [
    "## 数据处理难题的一套解决方案\n",
    "代码清单5-6 示例的一种解决方案"
   ]
  },
  {
   "cell_type": "code",
   "execution_count": 10,
   "metadata": {
    "collapsed": false
   },
   "outputs": [
    {
     "data": {
      "text/html": [
       "<table>\n",
       "<thead><tr><th scope=col>Student</th><th scope=col>Math</th><th scope=col>Science</th><th scope=col>English</th></tr></thead>\n",
       "<tbody>\n",
       "\t<tr><td>John Davis       </td><td>502              </td><td>95               </td><td>25               </td></tr>\n",
       "\t<tr><td>Angela Williams  </td><td>600              </td><td>99               </td><td>22               </td></tr>\n",
       "\t<tr><td>Bullwinkle Moose </td><td>412              </td><td>80               </td><td>18               </td></tr>\n",
       "\t<tr><td>David Jones      </td><td>358              </td><td>82               </td><td>15               </td></tr>\n",
       "\t<tr><td>Janice Markhammer</td><td>495              </td><td>75               </td><td>20               </td></tr>\n",
       "\t<tr><td>Cheryl Cushing   </td><td>512              </td><td>85               </td><td>28               </td></tr>\n",
       "\t<tr><td>Reuven Ytzrhak   </td><td>410              </td><td>80               </td><td>15               </td></tr>\n",
       "\t<tr><td>Greg Knox        </td><td>625              </td><td>95               </td><td>30               </td></tr>\n",
       "\t<tr><td>Joel England     </td><td>573              </td><td>89               </td><td>27               </td></tr>\n",
       "\t<tr><td>Mary Rayburn     </td><td>522              </td><td>86               </td><td>18               </td></tr>\n",
       "</tbody>\n",
       "</table>\n"
      ],
      "text/latex": [
       "\\begin{tabular}{r|llll}\n",
       " Student & Math & Science & English\\\\\n",
       "\\hline\n",
       "\t John Davis        & 502               & 95                & 25               \\\\\n",
       "\t Angela Williams   & 600               & 99                & 22               \\\\\n",
       "\t Bullwinkle Moose  & 412               & 80                & 18               \\\\\n",
       "\t David Jones       & 358               & 82                & 15               \\\\\n",
       "\t Janice Markhammer & 495               & 75                & 20               \\\\\n",
       "\t Cheryl Cushing    & 512               & 85                & 28               \\\\\n",
       "\t Reuven Ytzrhak    & 410               & 80                & 15               \\\\\n",
       "\t Greg Knox         & 625               & 95                & 30               \\\\\n",
       "\t Joel England      & 573               & 89                & 27               \\\\\n",
       "\t Mary Rayburn      & 522               & 86                & 18               \\\\\n",
       "\\end{tabular}\n"
      ],
      "text/markdown": [
       "\n",
       "Student | Math | Science | English | \n",
       "|---|---|---|---|---|---|---|---|---|---|\n",
       "| John Davis        | 502               | 95                | 25                | \n",
       "| Angela Williams   | 600               | 99                | 22                | \n",
       "| Bullwinkle Moose  | 412               | 80                | 18                | \n",
       "| David Jones       | 358               | 82                | 15                | \n",
       "| Janice Markhammer | 495               | 75                | 20                | \n",
       "| Cheryl Cushing    | 512               | 85                | 28                | \n",
       "| Reuven Ytzrhak    | 410               | 80                | 15                | \n",
       "| Greg Knox         | 625               | 95                | 30                | \n",
       "| Joel England      | 573               | 89                | 27                | \n",
       "| Mary Rayburn      | 522               | 86                | 18                | \n",
       "\n",
       "\n"
      ],
      "text/plain": [
       "   Student           Math Science English\n",
       "1  John Davis        502  95      25     \n",
       "2  Angela Williams   600  99      22     \n",
       "3  Bullwinkle Moose  412  80      18     \n",
       "4  David Jones       358  82      15     \n",
       "5  Janice Markhammer 495  75      20     \n",
       "6  Cheryl Cushing    512  85      28     \n",
       "7  Reuven Ytzrhak    410  80      15     \n",
       "8  Greg Knox         625  95      30     \n",
       "9  Joel England      573  89      27     \n",
       "10 Mary Rayburn      522  86      18     "
      ]
     },
     "metadata": {},
     "output_type": "display_data"
    }
   ],
   "source": [
    "options(digits=2)\n",
    "Student <- c(\"John Davis\", \"Angela Williams\", \"Bullwinkle Moose\",\n",
    "             \"David Jones\", \"Janice Markhammer\", \"Cheryl Cushing\",\n",
    "             \"Reuven Ytzrhak\", \"Greg Knox\", \"Joel England\", \"Mary Rayburn\")\n",
    "Math <- c(502, 600, 412, 358, 495, 512, 410, 625, 573, 522)\n",
    "Science <- c(95, 99, 80, 82, 75, 85, 80, 95, 89, 86)\n",
    "English <- c(25, 22, 18, 15, 20, 28, 15, 30, 27, 18)\n",
    "roster <- data.frame(Student, Math, Science, English, stringsAsFactors=FALSE)\n",
    "roster"
   ]
  },
  {
   "cell_type": "code",
   "execution_count": 11,
   "metadata": {
    "collapsed": false
   },
   "outputs": [
    {
     "data": {
      "text/html": [
       "<table>\n",
       "<thead><tr><th scope=col>Student</th><th scope=col>Math</th><th scope=col>Science</th><th scope=col>English</th><th scope=col>score</th></tr></thead>\n",
       "<tbody>\n",
       "\t<tr><td>John Davis       </td><td>502              </td><td>95               </td><td>25               </td><td> 0.56            </td></tr>\n",
       "\t<tr><td>Angela Williams  </td><td>600              </td><td>99               </td><td>22               </td><td> 0.92            </td></tr>\n",
       "\t<tr><td>Bullwinkle Moose </td><td>412              </td><td>80               </td><td>18               </td><td>-0.86            </td></tr>\n",
       "\t<tr><td>David Jones      </td><td>358              </td><td>82               </td><td>15               </td><td>-1.16            </td></tr>\n",
       "\t<tr><td>Janice Markhammer</td><td>495              </td><td>75               </td><td>20               </td><td>-0.63            </td></tr>\n",
       "\t<tr><td>Cheryl Cushing   </td><td>512              </td><td>85               </td><td>28               </td><td> 0.35            </td></tr>\n",
       "\t<tr><td>Reuven Ytzrhak   </td><td>410              </td><td>80               </td><td>15               </td><td>-1.05            </td></tr>\n",
       "\t<tr><td>Greg Knox        </td><td>625              </td><td>95               </td><td>30               </td><td> 1.34            </td></tr>\n",
       "\t<tr><td>Joel England     </td><td>573              </td><td>89               </td><td>27               </td><td> 0.70            </td></tr>\n",
       "\t<tr><td>Mary Rayburn     </td><td>522              </td><td>86               </td><td>18               </td><td>-0.18            </td></tr>\n",
       "</tbody>\n",
       "</table>\n"
      ],
      "text/latex": [
       "\\begin{tabular}{r|lllll}\n",
       " Student & Math & Science & English & score\\\\\n",
       "\\hline\n",
       "\t John Davis        & 502               & 95                & 25                &  0.56            \\\\\n",
       "\t Angela Williams   & 600               & 99                & 22                &  0.92            \\\\\n",
       "\t Bullwinkle Moose  & 412               & 80                & 18                & -0.86            \\\\\n",
       "\t David Jones       & 358               & 82                & 15                & -1.16            \\\\\n",
       "\t Janice Markhammer & 495               & 75                & 20                & -0.63            \\\\\n",
       "\t Cheryl Cushing    & 512               & 85                & 28                &  0.35            \\\\\n",
       "\t Reuven Ytzrhak    & 410               & 80                & 15                & -1.05            \\\\\n",
       "\t Greg Knox         & 625               & 95                & 30                &  1.34            \\\\\n",
       "\t Joel England      & 573               & 89                & 27                &  0.70            \\\\\n",
       "\t Mary Rayburn      & 522               & 86                & 18                & -0.18            \\\\\n",
       "\\end{tabular}\n"
      ],
      "text/markdown": [
       "\n",
       "Student | Math | Science | English | score | \n",
       "|---|---|---|---|---|---|---|---|---|---|\n",
       "| John Davis        | 502               | 95                | 25                |  0.56             | \n",
       "| Angela Williams   | 600               | 99                | 22                |  0.92             | \n",
       "| Bullwinkle Moose  | 412               | 80                | 18                | -0.86             | \n",
       "| David Jones       | 358               | 82                | 15                | -1.16             | \n",
       "| Janice Markhammer | 495               | 75                | 20                | -0.63             | \n",
       "| Cheryl Cushing    | 512               | 85                | 28                |  0.35             | \n",
       "| Reuven Ytzrhak    | 410               | 80                | 15                | -1.05             | \n",
       "| Greg Knox         | 625               | 95                | 30                |  1.34             | \n",
       "| Joel England      | 573               | 89                | 27                |  0.70             | \n",
       "| Mary Rayburn      | 522               | 86                | 18                | -0.18             | \n",
       "\n",
       "\n"
      ],
      "text/plain": [
       "   Student           Math Science English score\n",
       "1  John Davis        502  95      25       0.56\n",
       "2  Angela Williams   600  99      22       0.92\n",
       "3  Bullwinkle Moose  412  80      18      -0.86\n",
       "4  David Jones       358  82      15      -1.16\n",
       "5  Janice Markhammer 495  75      20      -0.63\n",
       "6  Cheryl Cushing    512  85      28       0.35\n",
       "7  Reuven Ytzrhak    410  80      15      -1.05\n",
       "8  Greg Knox         625  95      30       1.34\n",
       "9  Joel England      573  89      27       0.70\n",
       "10 Mary Rayburn      522  86      18      -0.18"
      ]
     },
     "metadata": {},
     "output_type": "display_data"
    }
   ],
   "source": [
    "z <- scale(roster[,2:4])    # 归一化\n",
    "score <- apply(z, 1, mean)  # 按行求均值\n",
    "roster <- cbind(roster, score)\n",
    "roster"
   ]
  },
  {
   "cell_type": "code",
   "execution_count": 12,
   "metadata": {
    "collapsed": false
   },
   "outputs": [
    {
     "data": {
      "text/html": [
       "<dl class=dl-horizontal>\n",
       "\t<dt>80%</dt>\n",
       "\t\t<dd>0.74303408120841</dd>\n",
       "\t<dt>60%</dt>\n",
       "\t\t<dd>0.435630201373395</dd>\n",
       "\t<dt>40%</dt>\n",
       "\t\t<dd>-0.357680793747236</dd>\n",
       "\t<dt>20%</dt>\n",
       "\t\t<dd>-0.894757949476833</dd>\n",
       "</dl>\n"
      ],
      "text/latex": [
       "\\begin{description*}\n",
       "\\item[80\\textbackslash{}\\%] 0.74303408120841\n",
       "\\item[60\\textbackslash{}\\%] 0.435630201373395\n",
       "\\item[40\\textbackslash{}\\%] -0.357680793747236\n",
       "\\item[20\\textbackslash{}\\%] -0.894757949476833\n",
       "\\end{description*}\n"
      ],
      "text/markdown": [
       "80%\n",
       ":   0.7430340812084160%\n",
       ":   0.43563020137339540%\n",
       ":   -0.35768079374723620%\n",
       ":   -0.894757949476833\n",
       "\n"
      ],
      "text/plain": [
       "  80%   60%   40%   20% \n",
       " 0.74  0.44 -0.36 -0.89 "
      ]
     },
     "metadata": {},
     "output_type": "display_data"
    }
   ],
   "source": [
    "y <- quantile(score, c(.8, .6, .4, .2)) # 计算百分位数\n",
    "y"
   ]
  },
  {
   "cell_type": "code",
   "execution_count": 13,
   "metadata": {
    "collapsed": false
   },
   "outputs": [
    {
     "data": {
      "text/html": [
       "<table>\n",
       "<thead><tr><th scope=col>Student</th><th scope=col>Math</th><th scope=col>Science</th><th scope=col>English</th><th scope=col>score</th><th scope=col>grade</th></tr></thead>\n",
       "<tbody>\n",
       "\t<tr><td>John Davis       </td><td>502              </td><td>95               </td><td>25               </td><td> 0.56            </td><td>B                </td></tr>\n",
       "\t<tr><td>Angela Williams  </td><td>600              </td><td>99               </td><td>22               </td><td> 0.92            </td><td>A                </td></tr>\n",
       "\t<tr><td>Bullwinkle Moose </td><td>412              </td><td>80               </td><td>18               </td><td>-0.86            </td><td>D                </td></tr>\n",
       "\t<tr><td>David Jones      </td><td>358              </td><td>82               </td><td>15               </td><td>-1.16            </td><td>F                </td></tr>\n",
       "\t<tr><td>Janice Markhammer</td><td>495              </td><td>75               </td><td>20               </td><td>-0.63            </td><td>D                </td></tr>\n",
       "\t<tr><td>Cheryl Cushing   </td><td>512              </td><td>85               </td><td>28               </td><td> 0.35            </td><td>C                </td></tr>\n",
       "\t<tr><td>Reuven Ytzrhak   </td><td>410              </td><td>80               </td><td>15               </td><td>-1.05            </td><td>F                </td></tr>\n",
       "\t<tr><td>Greg Knox        </td><td>625              </td><td>95               </td><td>30               </td><td> 1.34            </td><td>A                </td></tr>\n",
       "\t<tr><td>Joel England     </td><td>573              </td><td>89               </td><td>27               </td><td> 0.70            </td><td>B                </td></tr>\n",
       "\t<tr><td>Mary Rayburn     </td><td>522              </td><td>86               </td><td>18               </td><td>-0.18            </td><td>C                </td></tr>\n",
       "</tbody>\n",
       "</table>\n"
      ],
      "text/latex": [
       "\\begin{tabular}{r|llllll}\n",
       " Student & Math & Science & English & score & grade\\\\\n",
       "\\hline\n",
       "\t John Davis        & 502               & 95                & 25                &  0.56             & B                \\\\\n",
       "\t Angela Williams   & 600               & 99                & 22                &  0.92             & A                \\\\\n",
       "\t Bullwinkle Moose  & 412               & 80                & 18                & -0.86             & D                \\\\\n",
       "\t David Jones       & 358               & 82                & 15                & -1.16             & F                \\\\\n",
       "\t Janice Markhammer & 495               & 75                & 20                & -0.63             & D                \\\\\n",
       "\t Cheryl Cushing    & 512               & 85                & 28                &  0.35             & C                \\\\\n",
       "\t Reuven Ytzrhak    & 410               & 80                & 15                & -1.05             & F                \\\\\n",
       "\t Greg Knox         & 625               & 95                & 30                &  1.34             & A                \\\\\n",
       "\t Joel England      & 573               & 89                & 27                &  0.70             & B                \\\\\n",
       "\t Mary Rayburn      & 522               & 86                & 18                & -0.18             & C                \\\\\n",
       "\\end{tabular}\n"
      ],
      "text/markdown": [
       "\n",
       "Student | Math | Science | English | score | grade | \n",
       "|---|---|---|---|---|---|---|---|---|---|\n",
       "| John Davis        | 502               | 95                | 25                |  0.56             | B                 | \n",
       "| Angela Williams   | 600               | 99                | 22                |  0.92             | A                 | \n",
       "| Bullwinkle Moose  | 412               | 80                | 18                | -0.86             | D                 | \n",
       "| David Jones       | 358               | 82                | 15                | -1.16             | F                 | \n",
       "| Janice Markhammer | 495               | 75                | 20                | -0.63             | D                 | \n",
       "| Cheryl Cushing    | 512               | 85                | 28                |  0.35             | C                 | \n",
       "| Reuven Ytzrhak    | 410               | 80                | 15                | -1.05             | F                 | \n",
       "| Greg Knox         | 625               | 95                | 30                |  1.34             | A                 | \n",
       "| Joel England      | 573               | 89                | 27                |  0.70             | B                 | \n",
       "| Mary Rayburn      | 522               | 86                | 18                | -0.18             | C                 | \n",
       "\n",
       "\n"
      ],
      "text/plain": [
       "   Student           Math Science English score grade\n",
       "1  John Davis        502  95      25       0.56 B    \n",
       "2  Angela Williams   600  99      22       0.92 A    \n",
       "3  Bullwinkle Moose  412  80      18      -0.86 D    \n",
       "4  David Jones       358  82      15      -1.16 F    \n",
       "5  Janice Markhammer 495  75      20      -0.63 D    \n",
       "6  Cheryl Cushing    512  85      28       0.35 C    \n",
       "7  Reuven Ytzrhak    410  80      15      -1.05 F    \n",
       "8  Greg Knox         625  95      30       1.34 A    \n",
       "9  Joel England      573  89      27       0.70 B    \n",
       "10 Mary Rayburn      522  86      18      -0.18 C    "
      ]
     },
     "metadata": {},
     "output_type": "display_data"
    }
   ],
   "source": [
    "# 创建grade变量，基于百分位重编码学生评分\n",
    "roster$grade[score >= y[1]] <- \"A\"\n",
    "roster$grade[score < y[1] & score >= y[2]] <- \"B\"\n",
    "roster$grade[score < y[2] & score >= y[3]] <- \"C\"\n",
    "roster$grade[score < y[3] & score >= y[4]] <- \"D\"\n",
    "roster$grade[score < y[4]] <- \"F\"\n",
    "roster"
   ]
  },
  {
   "cell_type": "markdown",
   "metadata": {},
   "source": [
    "使用函数sapply()提取列表中每个成分的第一个元素，放入一个存储名字的向量Firstname，并提取每个成分的第二个元素，放入一个存储姓氏的向量Lastname。“[”是一个可以提取某个对象的一部分的函数。"
   ]
  },
  {
   "cell_type": "code",
   "execution_count": 14,
   "metadata": {
    "collapsed": false
   },
   "outputs": [
    {
     "data": {
      "text/html": [
       "<table>\n",
       "<thead><tr><th scope=col>Firstname</th><th scope=col>Lastname</th><th scope=col>Math</th><th scope=col>Science</th><th scope=col>English</th><th scope=col>score</th><th scope=col>grade</th></tr></thead>\n",
       "<tbody>\n",
       "\t<tr><td>John      </td><td>Davis     </td><td>502       </td><td>95        </td><td>25        </td><td> 0.56     </td><td>B         </td></tr>\n",
       "\t<tr><td>Angela    </td><td>Williams  </td><td>600       </td><td>99        </td><td>22        </td><td> 0.92     </td><td>A         </td></tr>\n",
       "\t<tr><td>Bullwinkle</td><td>Moose     </td><td>412       </td><td>80        </td><td>18        </td><td>-0.86     </td><td>D         </td></tr>\n",
       "\t<tr><td>David     </td><td>Jones     </td><td>358       </td><td>82        </td><td>15        </td><td>-1.16     </td><td>F         </td></tr>\n",
       "\t<tr><td>Janice    </td><td>Markhammer</td><td>495       </td><td>75        </td><td>20        </td><td>-0.63     </td><td>D         </td></tr>\n",
       "\t<tr><td>Cheryl    </td><td>Cushing   </td><td>512       </td><td>85        </td><td>28        </td><td> 0.35     </td><td>C         </td></tr>\n",
       "\t<tr><td>Reuven    </td><td>Ytzrhak   </td><td>410       </td><td>80        </td><td>15        </td><td>-1.05     </td><td>F         </td></tr>\n",
       "\t<tr><td>Greg      </td><td>Knox      </td><td>625       </td><td>95        </td><td>30        </td><td> 1.34     </td><td>A         </td></tr>\n",
       "\t<tr><td>Joel      </td><td>England   </td><td>573       </td><td>89        </td><td>27        </td><td> 0.70     </td><td>B         </td></tr>\n",
       "\t<tr><td>Mary      </td><td>Rayburn   </td><td>522       </td><td>86        </td><td>18        </td><td>-0.18     </td><td>C         </td></tr>\n",
       "</tbody>\n",
       "</table>\n"
      ],
      "text/latex": [
       "\\begin{tabular}{r|lllllll}\n",
       " Firstname & Lastname & Math & Science & English & score & grade\\\\\n",
       "\\hline\n",
       "\t John       & Davis      & 502        & 95         & 25         &  0.56      & B         \\\\\n",
       "\t Angela     & Williams   & 600        & 99         & 22         &  0.92      & A         \\\\\n",
       "\t Bullwinkle & Moose      & 412        & 80         & 18         & -0.86      & D         \\\\\n",
       "\t David      & Jones      & 358        & 82         & 15         & -1.16      & F         \\\\\n",
       "\t Janice     & Markhammer & 495        & 75         & 20         & -0.63      & D         \\\\\n",
       "\t Cheryl     & Cushing    & 512        & 85         & 28         &  0.35      & C         \\\\\n",
       "\t Reuven     & Ytzrhak    & 410        & 80         & 15         & -1.05      & F         \\\\\n",
       "\t Greg       & Knox       & 625        & 95         & 30         &  1.34      & A         \\\\\n",
       "\t Joel       & England    & 573        & 89         & 27         &  0.70      & B         \\\\\n",
       "\t Mary       & Rayburn    & 522        & 86         & 18         & -0.18      & C         \\\\\n",
       "\\end{tabular}\n"
      ],
      "text/markdown": [
       "\n",
       "Firstname | Lastname | Math | Science | English | score | grade | \n",
       "|---|---|---|---|---|---|---|---|---|---|\n",
       "| John       | Davis      | 502        | 95         | 25         |  0.56      | B          | \n",
       "| Angela     | Williams   | 600        | 99         | 22         |  0.92      | A          | \n",
       "| Bullwinkle | Moose      | 412        | 80         | 18         | -0.86      | D          | \n",
       "| David      | Jones      | 358        | 82         | 15         | -1.16      | F          | \n",
       "| Janice     | Markhammer | 495        | 75         | 20         | -0.63      | D          | \n",
       "| Cheryl     | Cushing    | 512        | 85         | 28         |  0.35      | C          | \n",
       "| Reuven     | Ytzrhak    | 410        | 80         | 15         | -1.05      | F          | \n",
       "| Greg       | Knox       | 625        | 95         | 30         |  1.34      | A          | \n",
       "| Joel       | England    | 573        | 89         | 27         |  0.70      | B          | \n",
       "| Mary       | Rayburn    | 522        | 86         | 18         | -0.18      | C          | \n",
       "\n",
       "\n"
      ],
      "text/plain": [
       "   Firstname  Lastname   Math Science English score grade\n",
       "1  John       Davis      502  95      25       0.56 B    \n",
       "2  Angela     Williams   600  99      22       0.92 A    \n",
       "3  Bullwinkle Moose      412  80      18      -0.86 D    \n",
       "4  David      Jones      358  82      15      -1.16 F    \n",
       "5  Janice     Markhammer 495  75      20      -0.63 D    \n",
       "6  Cheryl     Cushing    512  85      28       0.35 C    \n",
       "7  Reuven     Ytzrhak    410  80      15      -1.05 F    \n",
       "8  Greg       Knox       625  95      30       1.34 A    \n",
       "9  Joel       England    573  89      27       0.70 B    \n",
       "10 Mary       Rayburn    522  86      18      -0.18 C    "
      ]
     },
     "metadata": {},
     "output_type": "display_data"
    }
   ],
   "source": [
    "name <- strsplit((roster$Student), \" \")\n",
    "Lastname <- sapply(name, \"[\", 2)\n",
    "Firstname <- sapply(name, \"[\", 1)\n",
    "roster <- cbind(Firstname, Lastname, roster[, -1]) # 丢弃第一列变量（Student）\n",
    "roster"
   ]
  },
  {
   "cell_type": "code",
   "execution_count": 15,
   "metadata": {
    "collapsed": false
   },
   "outputs": [
    {
     "data": {
      "text/html": [
       "<table>\n",
       "<thead><tr><th></th><th scope=col>Firstname</th><th scope=col>Lastname</th><th scope=col>Math</th><th scope=col>Science</th><th scope=col>English</th><th scope=col>score</th><th scope=col>grade</th></tr></thead>\n",
       "<tbody>\n",
       "\t<tr><th scope=row>6</th><td>Cheryl    </td><td>Cushing   </td><td>512       </td><td>85        </td><td>28        </td><td> 0.35     </td><td>C         </td></tr>\n",
       "\t<tr><th scope=row>1</th><td>John      </td><td>Davis     </td><td>502       </td><td>95        </td><td>25        </td><td> 0.56     </td><td>B         </td></tr>\n",
       "\t<tr><th scope=row>9</th><td>Joel      </td><td>England   </td><td>573       </td><td>89        </td><td>27        </td><td> 0.70     </td><td>B         </td></tr>\n",
       "\t<tr><th scope=row>4</th><td>David     </td><td>Jones     </td><td>358       </td><td>82        </td><td>15        </td><td>-1.16     </td><td>F         </td></tr>\n",
       "\t<tr><th scope=row>8</th><td>Greg      </td><td>Knox      </td><td>625       </td><td>95        </td><td>30        </td><td> 1.34     </td><td>A         </td></tr>\n",
       "\t<tr><th scope=row>5</th><td>Janice    </td><td>Markhammer</td><td>495       </td><td>75        </td><td>20        </td><td>-0.63     </td><td>D         </td></tr>\n",
       "\t<tr><th scope=row>3</th><td>Bullwinkle</td><td>Moose     </td><td>412       </td><td>80        </td><td>18        </td><td>-0.86     </td><td>D         </td></tr>\n",
       "\t<tr><th scope=row>10</th><td>Mary      </td><td>Rayburn   </td><td>522       </td><td>86        </td><td>18        </td><td>-0.18     </td><td>C         </td></tr>\n",
       "\t<tr><th scope=row>2</th><td>Angela    </td><td>Williams  </td><td>600       </td><td>99        </td><td>22        </td><td> 0.92     </td><td>A         </td></tr>\n",
       "\t<tr><th scope=row>7</th><td>Reuven    </td><td>Ytzrhak   </td><td>410       </td><td>80        </td><td>15        </td><td>-1.05     </td><td>F         </td></tr>\n",
       "</tbody>\n",
       "</table>\n"
      ],
      "text/latex": [
       "\\begin{tabular}{r|lllllll}\n",
       "  & Firstname & Lastname & Math & Science & English & score & grade\\\\\n",
       "\\hline\n",
       "\t6 & Cheryl     & Cushing    & 512        & 85         & 28         &  0.35      & C         \\\\\n",
       "\t1 & John       & Davis      & 502        & 95         & 25         &  0.56      & B         \\\\\n",
       "\t9 & Joel       & England    & 573        & 89         & 27         &  0.70      & B         \\\\\n",
       "\t4 & David      & Jones      & 358        & 82         & 15         & -1.16      & F         \\\\\n",
       "\t8 & Greg       & Knox       & 625        & 95         & 30         &  1.34      & A         \\\\\n",
       "\t5 & Janice     & Markhammer & 495        & 75         & 20         & -0.63      & D         \\\\\n",
       "\t3 & Bullwinkle & Moose      & 412        & 80         & 18         & -0.86      & D         \\\\\n",
       "\t10 & Mary       & Rayburn    & 522        & 86         & 18         & -0.18      & C         \\\\\n",
       "\t2 & Angela     & Williams   & 600        & 99         & 22         &  0.92      & A         \\\\\n",
       "\t7 & Reuven     & Ytzrhak    & 410        & 80         & 15         & -1.05      & F         \\\\\n",
       "\\end{tabular}\n"
      ],
      "text/markdown": [
       "\n",
       "| <!--/--> | Firstname | Lastname | Math | Science | English | score | grade | \n",
       "|---|---|---|---|---|---|---|---|---|---|\n",
       "| 6 | Cheryl     | Cushing    | 512        | 85         | 28         |  0.35      | C          | \n",
       "| 1 | John       | Davis      | 502        | 95         | 25         |  0.56      | B          | \n",
       "| 9 | Joel       | England    | 573        | 89         | 27         |  0.70      | B          | \n",
       "| 4 | David      | Jones      | 358        | 82         | 15         | -1.16      | F          | \n",
       "| 8 | Greg       | Knox       | 625        | 95         | 30         |  1.34      | A          | \n",
       "| 5 | Janice     | Markhammer | 495        | 75         | 20         | -0.63      | D          | \n",
       "| 3 | Bullwinkle | Moose      | 412        | 80         | 18         | -0.86      | D          | \n",
       "| 10 | Mary       | Rayburn    | 522        | 86         | 18         | -0.18      | C          | \n",
       "| 2 | Angela     | Williams   | 600        | 99         | 22         |  0.92      | A          | \n",
       "| 7 | Reuven     | Ytzrhak    | 410        | 80         | 15         | -1.05      | F          | \n",
       "\n",
       "\n"
      ],
      "text/plain": [
       "   Firstname  Lastname   Math Science English score grade\n",
       "6  Cheryl     Cushing    512  85      28       0.35 C    \n",
       "1  John       Davis      502  95      25       0.56 B    \n",
       "9  Joel       England    573  89      27       0.70 B    \n",
       "4  David      Jones      358  82      15      -1.16 F    \n",
       "8  Greg       Knox       625  95      30       1.34 A    \n",
       "5  Janice     Markhammer 495  75      20      -0.63 D    \n",
       "3  Bullwinkle Moose      412  80      18      -0.86 D    \n",
       "10 Mary       Rayburn    522  86      18      -0.18 C    \n",
       "2  Angela     Williams   600  99      22       0.92 A    \n",
       "7  Reuven     Ytzrhak    410  80      15      -1.05 F    "
      ]
     },
     "metadata": {},
     "output_type": "display_data"
    }
   ],
   "source": [
    "roster <- roster[order(Lastname, Firstname), ] # 根据姓氏和名字排序\n",
    "roster"
   ]
  },
  {
   "cell_type": "markdown",
   "metadata": {},
   "source": [
    "## 控制流\n",
    "### 重复和循环\n",
    "#### 1. for结构\n",
    "```r\n",
    "for (var in seq) statement\n",
    "```"
   ]
  },
  {
   "cell_type": "code",
   "execution_count": 16,
   "metadata": {
    "collapsed": false
   },
   "outputs": [
    {
     "name": "stdout",
     "output_type": "stream",
     "text": [
      "[1] \"Hello\"\n",
      "[1] \"Hello\"\n",
      "[1] \"Hello\"\n",
      "[1] \"Hello\"\n",
      "[1] \"Hello\"\n",
      "[1] \"Hello\"\n",
      "[1] \"Hello\"\n",
      "[1] \"Hello\"\n",
      "[1] \"Hello\"\n",
      "[1] \"Hello\"\n"
     ]
    }
   ],
   "source": [
    "for (i in 1:10)  print(\"Hello\")"
   ]
  },
  {
   "cell_type": "markdown",
   "metadata": {},
   "source": [
    "#### 2.while结构\n",
    "```r\n",
    "while (cond) statement\n",
    "```"
   ]
  },
  {
   "cell_type": "code",
   "execution_count": 17,
   "metadata": {
    "collapsed": false
   },
   "outputs": [
    {
     "name": "stdout",
     "output_type": "stream",
     "text": [
      "[1] \"Hello\"\n",
      "[1] \"Hello\"\n",
      "[1] \"Hello\"\n",
      "[1] \"Hello\"\n",
      "[1] \"Hello\"\n",
      "[1] \"Hello\"\n",
      "[1] \"Hello\"\n",
      "[1] \"Hello\"\n",
      "[1] \"Hello\"\n",
      "[1] \"Hello\"\n"
     ]
    }
   ],
   "source": [
    "i <- 10\n",
    "while (i > 0) {print(\"Hello\"); i <- i - 1}"
   ]
  },
  {
   "cell_type": "markdown",
   "metadata": {},
   "source": [
    "### 条件执行\n",
    "#### 1.if-else结构\n",
    "```r\n",
    "if (cond) statement\n",
    "if (cond) statement1 else statement2\n",
    "```"
   ]
  },
  {
   "cell_type": "code",
   "execution_count": 19,
   "metadata": {
    "collapsed": false
   },
   "outputs": [
    {
     "name": "stdout",
     "output_type": "stream",
     "text": [
      "[1] \"Grade already is a factor\"\n"
     ]
    }
   ],
   "source": [
    "grade <- 'A'\n",
    "if (is.character(grade)) grade <- as.factor(grade)\n",
    "if (!is.factor(grade)) grade <- as.factor(grade) else print(\"Grade already is a factor\")"
   ]
  },
  {
   "cell_type": "markdown",
   "metadata": {},
   "source": [
    "#### 2.ifelse结构\n",
    "```r\n",
    "ifelse(cond, statement1, statement2)\n",
    "```"
   ]
  },
  {
   "cell_type": "code",
   "execution_count": 20,
   "metadata": {
    "collapsed": false
   },
   "outputs": [
    {
     "name": "stdout",
     "output_type": "stream",
     "text": [
      "[1] \"Failed\"\n"
     ]
    },
    {
     "data": {
      "text/html": [
       "'Failed'"
      ],
      "text/latex": [
       "'Failed'"
      ],
      "text/markdown": [
       "'Failed'"
      ],
      "text/plain": [
       "[1] \"Failed\""
      ]
     },
     "metadata": {},
     "output_type": "display_data"
    }
   ],
   "source": [
    "score <- 0.1\n",
    "ifelse(score > 0.5, print(\"Passed\"), print(\"Failed\"))\n",
    "outcome <- ifelse (score > 0.5, \"Passed\", \"Failed\")"
   ]
  },
  {
   "cell_type": "markdown",
   "metadata": {},
   "source": [
    "#### 3.switch结构\n",
    "```r\n",
    "switch(expr, ...)\n",
    "```\n",
    "\n",
    "代码清单5-7 一个switch示例"
   ]
  },
  {
   "cell_type": "code",
   "execution_count": 21,
   "metadata": {
    "collapsed": false
   },
   "outputs": [
    {
     "name": "stdout",
     "output_type": "stream",
     "text": [
      "[1] \"Cheer up\"\n",
      "[1] \"There is nothing to fear\"\n"
     ]
    }
   ],
   "source": [
    "feelings <- c(\"sad\", \"afraid\")\n",
    "for (i in feelings)\n",
    "    print(\n",
    "        switch(i,\n",
    "               happy  = \"I am glad you are happy\",\n",
    "               afraid = \"There is nothing to fear\",\n",
    "               sad    = \"Cheer up\",\n",
    "               angry  = \"Calm down now\"\n",
    "            )\n",
    "        )"
   ]
  },
  {
   "cell_type": "markdown",
   "metadata": {},
   "source": [
    "## 用户自编函数\n",
    "```r\n",
    "myfunction <- function(arg1, arg2, ... ){\n",
    "    statements\n",
    "    return(object)\n",
    "}\n",
    "```\n",
    "\n",
    "代码清单5-8 mystats()：一个由用户编写的描述性统计量计算函数"
   ]
  },
  {
   "cell_type": "code",
   "execution_count": 25,
   "metadata": {
    "collapsed": false
   },
   "outputs": [
    {
     "data": {
      "text/html": [
       "<dl>\n",
       "\t<dt>$center</dt>\n",
       "\t\t<dd>0.00183882061433999</dd>\n",
       "\t<dt>$spread</dt>\n",
       "\t\t<dd>1.03481394576807</dd>\n",
       "</dl>\n"
      ],
      "text/latex": [
       "\\begin{description}\n",
       "\\item[\\$center] 0.00183882061433999\n",
       "\\item[\\$spread] 1.03481394576807\n",
       "\\end{description}\n"
      ],
      "text/markdown": [
       "$center\n",
       ":   0.00183882061433999\n",
       "$spread\n",
       ":   1.03481394576807\n",
       "\n",
       "\n"
      ],
      "text/plain": [
       "$center\n",
       "[1] 0.0018\n",
       "\n",
       "$spread\n",
       "[1] 1\n"
      ]
     },
     "metadata": {},
     "output_type": "display_data"
    }
   ],
   "source": [
    "mystats <- function(x, parametric=TRUE, print=FALSE) {\n",
    "    if (parametric) {\n",
    "        center <- mean(x); spread <- sd(x)\n",
    "    } else {\n",
    "        center <- median(x); spread <- mad(x)\n",
    "    }\n",
    "    if (print & parametric) {\n",
    "        cat(\"Mean=\", center, \"\\n\", \"SD=\", spread, \"\\n\")\n",
    "    } else if (print & !parametric) {\n",
    "        cat(\"Median=\", center, \"\\n\", \"MAD=\", spread, \"\\n\")\n",
    "  }\n",
    "  result <- list(center=center, spread=spread)\n",
    "  return(result)\n",
    "}\n",
    "\n",
    "set.seed(1234)\n",
    "x <- rnorm(500)\n",
    "y <- mystats(x)\n",
    "y"
   ]
  },
  {
   "cell_type": "code",
   "execution_count": 23,
   "metadata": {
    "collapsed": false
   },
   "outputs": [
    {
     "name": "stdout",
     "output_type": "stream",
     "text": [
      "Median= -0.021 \n",
      " MAD= 1 \n"
     ]
    }
   ],
   "source": [
    "y <- mystats(x, parametric=FALSE, print=TRUE)"
   ]
  },
  {
   "cell_type": "markdown",
   "metadata": {},
   "source": [
    "一个使用了switch结构的用户自编函数："
   ]
  },
  {
   "cell_type": "code",
   "execution_count": 31,
   "metadata": {
    "collapsed": false
   },
   "outputs": [
    {
     "data": {
      "text/html": [
       "''"
      ],
      "text/latex": [
       "''"
      ],
      "text/markdown": [
       "''"
      ],
      "text/plain": [
       "[1] \"\""
      ]
     },
     "metadata": {},
     "output_type": "display_data"
    }
   ],
   "source": [
    "Sys.getenv(\"TZ\")"
   ]
  },
  {
   "cell_type": "code",
   "execution_count": 32,
   "metadata": {
    "collapsed": false
   },
   "outputs": [
    {
     "data": {
      "text/html": [
       "'Asia/Shanghai'"
      ],
      "text/latex": [
       "'Asia/Shanghai'"
      ],
      "text/markdown": [
       "'Asia/Shanghai'"
      ],
      "text/plain": [
       "[1] \"Asia/Shanghai\""
      ]
     },
     "metadata": {},
     "output_type": "display_data"
    }
   ],
   "source": [
    "Sys.setenv(TZ=\"Asia/Shanghai\")\n",
    "Sys.getenv(\"TZ\")"
   ]
  },
  {
   "cell_type": "code",
   "execution_count": 33,
   "metadata": {
    "collapsed": false
   },
   "outputs": [
    {
     "data": {
      "text/html": [
       "'星期一 十一月 13 2017'"
      ],
      "text/latex": [
       "'星期一 十一月 13 2017'"
      ],
      "text/markdown": [
       "'星期一 十一月 13 2017'"
      ],
      "text/plain": [
       "[1] \"星期一 十一月 13 2017\""
      ]
     },
     "metadata": {},
     "output_type": "display_data"
    }
   ],
   "source": [
    "mydate <- function(type=\"long\") {\n",
    "    switch(type,\n",
    "           long = format(Sys.time(), \"%A %B %d %Y\"),\n",
    "           short = format(Sys.time(), \"%m-%d-%y\"),\n",
    "           cat(type, \"is not a recognized type\\n\")\n",
    "        )\n",
    "}\n",
    "\n",
    "mydate(\"long\")"
   ]
  },
  {
   "cell_type": "code",
   "execution_count": 34,
   "metadata": {
    "collapsed": false
   },
   "outputs": [
    {
     "data": {
      "text/html": [
       "'11-13-17'"
      ],
      "text/latex": [
       "'11-13-17'"
      ],
      "text/markdown": [
       "'11-13-17'"
      ],
      "text/plain": [
       "[1] \"11-13-17\""
      ]
     },
     "metadata": {},
     "output_type": "display_data"
    }
   ],
   "source": [
    "mydate(\"short\")"
   ]
  },
  {
   "cell_type": "code",
   "execution_count": 35,
   "metadata": {
    "collapsed": false
   },
   "outputs": [
    {
     "data": {
      "text/html": [
       "'星期一 十一月 13 2017'"
      ],
      "text/latex": [
       "'星期一 十一月 13 2017'"
      ],
      "text/markdown": [
       "'星期一 十一月 13 2017'"
      ],
      "text/plain": [
       "[1] \"星期一 十一月 13 2017\""
      ]
     },
     "metadata": {},
     "output_type": "display_data"
    }
   ],
   "source": [
    "mydate()"
   ]
  },
  {
   "cell_type": "code",
   "execution_count": 36,
   "metadata": {
    "collapsed": false
   },
   "outputs": [
    {
     "name": "stdout",
     "output_type": "stream",
     "text": [
      "medium is not a recognized type\n"
     ]
    }
   ],
   "source": [
    "mydate(\"medium\")"
   ]
  },
  {
   "cell_type": "markdown",
   "metadata": {},
   "source": [
    "## 整合与重构\n",
    "### 转置\n",
    "代码清单5-9 数据集的转置"
   ]
  },
  {
   "cell_type": "code",
   "execution_count": 37,
   "metadata": {
    "collapsed": false
   },
   "outputs": [
    {
     "data": {
      "text/html": [
       "<table>\n",
       "<thead><tr><th></th><th scope=col>mpg</th><th scope=col>cyl</th><th scope=col>disp</th><th scope=col>hp</th></tr></thead>\n",
       "<tbody>\n",
       "\t<tr><th scope=row>Mazda RX4</th><td>21 </td><td>6  </td><td>160</td><td>110</td></tr>\n",
       "\t<tr><th scope=row>Mazda RX4 Wag</th><td>21 </td><td>6  </td><td>160</td><td>110</td></tr>\n",
       "\t<tr><th scope=row>Datsun 710</th><td>23 </td><td>4  </td><td>108</td><td> 93</td></tr>\n",
       "\t<tr><th scope=row>Hornet 4 Drive</th><td>21 </td><td>6  </td><td>258</td><td>110</td></tr>\n",
       "\t<tr><th scope=row>Hornet Sportabout</th><td>19 </td><td>8  </td><td>360</td><td>175</td></tr>\n",
       "</tbody>\n",
       "</table>\n"
      ],
      "text/latex": [
       "\\begin{tabular}{r|llll}\n",
       "  & mpg & cyl & disp & hp\\\\\n",
       "\\hline\n",
       "\tMazda RX4 & 21  & 6   & 160 & 110\\\\\n",
       "\tMazda RX4 Wag & 21  & 6   & 160 & 110\\\\\n",
       "\tDatsun 710 & 23  & 4   & 108 &  93\\\\\n",
       "\tHornet 4 Drive & 21  & 6   & 258 & 110\\\\\n",
       "\tHornet Sportabout & 19  & 8   & 360 & 175\\\\\n",
       "\\end{tabular}\n"
      ],
      "text/markdown": [
       "\n",
       "| <!--/--> | mpg | cyl | disp | hp | \n",
       "|---|---|---|---|---|\n",
       "| Mazda RX4 | 21  | 6   | 160 | 110 | \n",
       "| Mazda RX4 Wag | 21  | 6   | 160 | 110 | \n",
       "| Datsun 710 | 23  | 4   | 108 |  93 | \n",
       "| Hornet 4 Drive | 21  | 6   | 258 | 110 | \n",
       "| Hornet Sportabout | 19  | 8   | 360 | 175 | \n",
       "\n",
       "\n"
      ],
      "text/plain": [
       "                  mpg cyl disp hp \n",
       "Mazda RX4         21  6   160  110\n",
       "Mazda RX4 Wag     21  6   160  110\n",
       "Datsun 710        23  4   108   93\n",
       "Hornet 4 Drive    21  6   258  110\n",
       "Hornet Sportabout 19  8   360  175"
      ]
     },
     "metadata": {},
     "output_type": "display_data"
    }
   ],
   "source": [
    "cars <- mtcars[1:5,1:4]\n",
    "cars"
   ]
  },
  {
   "cell_type": "code",
   "execution_count": 38,
   "metadata": {
    "collapsed": false
   },
   "outputs": [
    {
     "data": {
      "text/html": [
       "<table>\n",
       "<thead><tr><th></th><th scope=col>Mazda RX4</th><th scope=col>Mazda RX4 Wag</th><th scope=col>Datsun 710</th><th scope=col>Hornet 4 Drive</th><th scope=col>Hornet Sportabout</th></tr></thead>\n",
       "<tbody>\n",
       "\t<tr><th scope=row>mpg</th><td> 21</td><td> 21</td><td> 23</td><td> 21</td><td> 19</td></tr>\n",
       "\t<tr><th scope=row>cyl</th><td>  6</td><td>  6</td><td>  4</td><td>  6</td><td>  8</td></tr>\n",
       "\t<tr><th scope=row>disp</th><td>160</td><td>160</td><td>108</td><td>258</td><td>360</td></tr>\n",
       "\t<tr><th scope=row>hp</th><td>110</td><td>110</td><td> 93</td><td>110</td><td>175</td></tr>\n",
       "</tbody>\n",
       "</table>\n"
      ],
      "text/latex": [
       "\\begin{tabular}{r|lllll}\n",
       "  & Mazda RX4 & Mazda RX4 Wag & Datsun 710 & Hornet 4 Drive & Hornet Sportabout\\\\\n",
       "\\hline\n",
       "\tmpg &  21 &  21 &  23 &  21 &  19\\\\\n",
       "\tcyl &   6 &   6 &   4 &   6 &   8\\\\\n",
       "\tdisp & 160 & 160 & 108 & 258 & 360\\\\\n",
       "\thp & 110 & 110 &  93 & 110 & 175\\\\\n",
       "\\end{tabular}\n"
      ],
      "text/markdown": [
       "\n",
       "| <!--/--> | Mazda RX4 | Mazda RX4 Wag | Datsun 710 | Hornet 4 Drive | Hornet Sportabout | \n",
       "|---|---|---|---|\n",
       "| mpg |  21 |  21 |  23 |  21 |  19 | \n",
       "| cyl |   6 |   6 |   4 |   6 |   8 | \n",
       "| disp | 160 | 160 | 108 | 258 | 360 | \n",
       "| hp | 110 | 110 |  93 | 110 | 175 | \n",
       "\n",
       "\n"
      ],
      "text/plain": [
       "     Mazda RX4 Mazda RX4 Wag Datsun 710 Hornet 4 Drive Hornet Sportabout\n",
       "mpg   21        21            23         21             19              \n",
       "cyl    6         6             4          6              8              \n",
       "disp 160       160           108        258            360              \n",
       "hp   110       110            93        110            175              "
      ]
     },
     "metadata": {},
     "output_type": "display_data"
    }
   ],
   "source": [
    "t(cars)"
   ]
  },
  {
   "cell_type": "markdown",
   "metadata": {},
   "source": [
    "### 整合数据\n",
    "```r\n",
    "aggregate(x, by, FUN)\n",
    "```\n",
    "\n",
    "代码清单5-10 整合数据"
   ]
  },
  {
   "cell_type": "code",
   "execution_count": 39,
   "metadata": {
    "collapsed": false
   },
   "outputs": [
    {
     "data": {
      "text/html": [
       "<table>\n",
       "<thead><tr><th scope=col>Group.1</th><th scope=col>Group.2</th><th scope=col>mpg</th><th scope=col>cyl</th><th scope=col>disp</th><th scope=col>hp</th><th scope=col>drat</th><th scope=col>wt</th><th scope=col>qsec</th><th scope=col>vs</th><th scope=col>am</th><th scope=col>gear</th><th scope=col>carb</th></tr></thead>\n",
       "<tbody>\n",
       "\t<tr><td>4   </td><td>3   </td><td>21.5</td><td>4   </td><td>120 </td><td> 97 </td><td>3.70</td><td>2.46</td><td>20.0</td><td>1.0 </td><td>0.00</td><td>3   </td><td>1.00</td></tr>\n",
       "\t<tr><td>6   </td><td>3   </td><td>19.8</td><td>6   </td><td>242 </td><td>108 </td><td>2.92</td><td>3.34</td><td>19.8</td><td>1.0 </td><td>0.00</td><td>3   </td><td>1.00</td></tr>\n",
       "\t<tr><td>8   </td><td>3   </td><td>15.1</td><td>8   </td><td>358 </td><td>194 </td><td>3.12</td><td>4.10</td><td>17.1</td><td>0.0 </td><td>0.00</td><td>3   </td><td>3.08</td></tr>\n",
       "\t<tr><td>4   </td><td>4   </td><td>26.9</td><td>4   </td><td>103 </td><td> 76 </td><td>4.11</td><td>2.38</td><td>19.6</td><td>1.0 </td><td>0.75</td><td>4   </td><td>1.50</td></tr>\n",
       "\t<tr><td>6   </td><td>4   </td><td>19.8</td><td>6   </td><td>164 </td><td>116 </td><td>3.91</td><td>3.09</td><td>17.7</td><td>0.5 </td><td>0.50</td><td>4   </td><td>4.00</td></tr>\n",
       "\t<tr><td>4   </td><td>5   </td><td>28.2</td><td>4   </td><td>108 </td><td>102 </td><td>4.10</td><td>1.83</td><td>16.8</td><td>0.5 </td><td>1.00</td><td>5   </td><td>2.00</td></tr>\n",
       "\t<tr><td>6   </td><td>5   </td><td>19.7</td><td>6   </td><td>145 </td><td>175 </td><td>3.62</td><td>2.77</td><td>15.5</td><td>0.0 </td><td>1.00</td><td>5   </td><td>6.00</td></tr>\n",
       "\t<tr><td>8   </td><td>5   </td><td>15.4</td><td>8   </td><td>326 </td><td>300 </td><td>3.88</td><td>3.37</td><td>14.6</td><td>0.0 </td><td>1.00</td><td>5   </td><td>6.00</td></tr>\n",
       "</tbody>\n",
       "</table>\n"
      ],
      "text/latex": [
       "\\begin{tabular}{r|lllllllllllll}\n",
       " Group.1 & Group.2 & mpg & cyl & disp & hp & drat & wt & qsec & vs & am & gear & carb\\\\\n",
       "\\hline\n",
       "\t 4    & 3    & 21.5 & 4    & 120  &  97  & 3.70 & 2.46 & 20.0 & 1.0  & 0.00 & 3    & 1.00\\\\\n",
       "\t 6    & 3    & 19.8 & 6    & 242  & 108  & 2.92 & 3.34 & 19.8 & 1.0  & 0.00 & 3    & 1.00\\\\\n",
       "\t 8    & 3    & 15.1 & 8    & 358  & 194  & 3.12 & 4.10 & 17.1 & 0.0  & 0.00 & 3    & 3.08\\\\\n",
       "\t 4    & 4    & 26.9 & 4    & 103  &  76  & 4.11 & 2.38 & 19.6 & 1.0  & 0.75 & 4    & 1.50\\\\\n",
       "\t 6    & 4    & 19.8 & 6    & 164  & 116  & 3.91 & 3.09 & 17.7 & 0.5  & 0.50 & 4    & 4.00\\\\\n",
       "\t 4    & 5    & 28.2 & 4    & 108  & 102  & 4.10 & 1.83 & 16.8 & 0.5  & 1.00 & 5    & 2.00\\\\\n",
       "\t 6    & 5    & 19.7 & 6    & 145  & 175  & 3.62 & 2.77 & 15.5 & 0.0  & 1.00 & 5    & 6.00\\\\\n",
       "\t 8    & 5    & 15.4 & 8    & 326  & 300  & 3.88 & 3.37 & 14.6 & 0.0  & 1.00 & 5    & 6.00\\\\\n",
       "\\end{tabular}\n"
      ],
      "text/markdown": [
       "\n",
       "Group.1 | Group.2 | mpg | cyl | disp | hp | drat | wt | qsec | vs | am | gear | carb | \n",
       "|---|---|---|---|---|---|---|---|\n",
       "| 4    | 3    | 21.5 | 4    | 120  |  97  | 3.70 | 2.46 | 20.0 | 1.0  | 0.00 | 3    | 1.00 | \n",
       "| 6    | 3    | 19.8 | 6    | 242  | 108  | 2.92 | 3.34 | 19.8 | 1.0  | 0.00 | 3    | 1.00 | \n",
       "| 8    | 3    | 15.1 | 8    | 358  | 194  | 3.12 | 4.10 | 17.1 | 0.0  | 0.00 | 3    | 3.08 | \n",
       "| 4    | 4    | 26.9 | 4    | 103  |  76  | 4.11 | 2.38 | 19.6 | 1.0  | 0.75 | 4    | 1.50 | \n",
       "| 6    | 4    | 19.8 | 6    | 164  | 116  | 3.91 | 3.09 | 17.7 | 0.5  | 0.50 | 4    | 4.00 | \n",
       "| 4    | 5    | 28.2 | 4    | 108  | 102  | 4.10 | 1.83 | 16.8 | 0.5  | 1.00 | 5    | 2.00 | \n",
       "| 6    | 5    | 19.7 | 6    | 145  | 175  | 3.62 | 2.77 | 15.5 | 0.0  | 1.00 | 5    | 6.00 | \n",
       "| 8    | 5    | 15.4 | 8    | 326  | 300  | 3.88 | 3.37 | 14.6 | 0.0  | 1.00 | 5    | 6.00 | \n",
       "\n",
       "\n"
      ],
      "text/plain": [
       "  Group.1 Group.2 mpg  cyl disp hp  drat wt   qsec vs  am   gear carb\n",
       "1 4       3       21.5 4   120   97 3.70 2.46 20.0 1.0 0.00 3    1.00\n",
       "2 6       3       19.8 6   242  108 2.92 3.34 19.8 1.0 0.00 3    1.00\n",
       "3 8       3       15.1 8   358  194 3.12 4.10 17.1 0.0 0.00 3    3.08\n",
       "4 4       4       26.9 4   103   76 4.11 2.38 19.6 1.0 0.75 4    1.50\n",
       "5 6       4       19.8 6   164  116 3.91 3.09 17.7 0.5 0.50 4    4.00\n",
       "6 4       5       28.2 4   108  102 4.10 1.83 16.8 0.5 1.00 5    2.00\n",
       "7 6       5       19.7 6   145  175 3.62 2.77 15.5 0.0 1.00 5    6.00\n",
       "8 8       5       15.4 8   326  300 3.88 3.37 14.6 0.0 1.00 5    6.00"
      ]
     },
     "metadata": {},
     "output_type": "display_data"
    }
   ],
   "source": [
    "options(digits=3)\n",
    "attach(mtcars)\n",
    "aggdata <-aggregate(mtcars, by=list(cyl,gear), FUN=mean, na.rm=TRUE)\n",
    "aggdata"
   ]
  },
  {
   "cell_type": "markdown",
   "metadata": {},
   "source": [
    "### reshape2包\n",
    "你需要首先将数据`融合(melt)`，以使每一行都是唯一的标识符-变量组合。然后将数据`重铸（cast）`为你想要的任何形状。在重铸过程中，你可以使用任何函数对数据进行整合。\n",
    "\n",
    "![](http://ou8qjsj0m.bkt.clouddn.com//17-11-13/83299132.jpg)\n",
    "\n",
    "在这个数据集中，`测量（measurement）`是指最后两列中的值（5、6、3、5、6、1、2、4）。\n",
    "\n",
    "#### 1.融合\n",
    "数据集的融合是将它重构为这样一种\u001b格式：每个测量变量独占\b一行，\b行中带有要唯一确定这个测量所需的标识符变量。"
   ]
  },
  {
   "cell_type": "code",
   "execution_count": 41,
   "metadata": {
    "collapsed": false
   },
   "outputs": [
    {
     "data": {
      "text/html": [
       "<table>\n",
       "<thead><tr><th scope=col>Var1</th><th scope=col>Var2</th><th scope=col>value</th></tr></thead>\n",
       "<tbody>\n",
       "\t<tr><td>1     </td><td>1     </td><td>-0.454</td></tr>\n",
       "\t<tr><td>2     </td><td>1     </td><td> 0.378</td></tr>\n",
       "\t<tr><td>3     </td><td>1     </td><td> 1.416</td></tr>\n",
       "\t<tr><td>4     </td><td>1     </td><td>-1.969</td></tr>\n",
       "\t<tr><td>5     </td><td>1     </td><td> 0.163</td></tr>\n",
       "\t<tr><td>6     </td><td>1     </td><td>-0.405</td></tr>\n",
       "\t<tr><td>1     </td><td>2     </td><td> 0.331</td></tr>\n",
       "\t<tr><td>2     </td><td>2     </td><td>-1.202</td></tr>\n",
       "\t<tr><td>3     </td><td>2     </td><td>-1.658</td></tr>\n",
       "\t<tr><td>4     </td><td>2     </td><td> 0.399</td></tr>\n",
       "\t<tr><td>5     </td><td>2     </td><td> 0.833</td></tr>\n",
       "\t<tr><td>6     </td><td>2     </td><td> 0.291</td></tr>\n",
       "\t<tr><td>1     </td><td>3     </td><td>-0.294</td></tr>\n",
       "\t<tr><td>2     </td><td>3     </td><td> 1.246</td></tr>\n",
       "\t<tr><td>3     </td><td>3     </td><td>-0.967</td></tr>\n",
       "\t<tr><td>4     </td><td>3     </td><td> 0.667</td></tr>\n",
       "\t<tr><td>5     </td><td>3     </td><td> 1.131</td></tr>\n",
       "\t<tr><td>6     </td><td>3     </td><td> 0.642</td></tr>\n",
       "\t<tr><td>1     </td><td>4     </td><td>-1.526</td></tr>\n",
       "\t<tr><td>2     </td><td>4     </td><td>-0.498</td></tr>\n",
       "\t<tr><td>3     </td><td>4     </td><td> 0.690</td></tr>\n",
       "\t<tr><td>4     </td><td>4     </td><td>-0.542</td></tr>\n",
       "\t<tr><td>5     </td><td>4     </td><td>-0.381</td></tr>\n",
       "\t<tr><td>6     </td><td>4     </td><td>-0.384</td></tr>\n",
       "\t<tr><td>1     </td><td>5     </td><td>-0.454</td></tr>\n",
       "\t<tr><td>2     </td><td>5     </td><td> 0.545</td></tr>\n",
       "\t<tr><td>3     </td><td>5     </td><td>-0.650</td></tr>\n",
       "\t<tr><td>4     </td><td>5     </td><td> 0.374</td></tr>\n",
       "\t<tr><td>5     </td><td>5     </td><td> 1.277</td></tr>\n",
       "\t<tr><td>6     </td><td>5     </td><td>-0.301</td></tr>\n",
       "</tbody>\n",
       "</table>\n"
      ],
      "text/latex": [
       "\\begin{tabular}{r|lll}\n",
       " Var1 & Var2 & value\\\\\n",
       "\\hline\n",
       "\t 1      & 1      & -0.454\\\\\n",
       "\t 2      & 1      &  0.378\\\\\n",
       "\t 3      & 1      &  1.416\\\\\n",
       "\t 4      & 1      & -1.969\\\\\n",
       "\t 5      & 1      &  0.163\\\\\n",
       "\t 6      & 1      & -0.405\\\\\n",
       "\t 1      & 2      &  0.331\\\\\n",
       "\t 2      & 2      & -1.202\\\\\n",
       "\t 3      & 2      & -1.658\\\\\n",
       "\t 4      & 2      &  0.399\\\\\n",
       "\t 5      & 2      &  0.833\\\\\n",
       "\t 6      & 2      &  0.291\\\\\n",
       "\t 1      & 3      & -0.294\\\\\n",
       "\t 2      & 3      &  1.246\\\\\n",
       "\t 3      & 3      & -0.967\\\\\n",
       "\t 4      & 3      &  0.667\\\\\n",
       "\t 5      & 3      &  1.131\\\\\n",
       "\t 6      & 3      &  0.642\\\\\n",
       "\t 1      & 4      & -1.526\\\\\n",
       "\t 2      & 4      & -0.498\\\\\n",
       "\t 3      & 4      &  0.690\\\\\n",
       "\t 4      & 4      & -0.542\\\\\n",
       "\t 5      & 4      & -0.381\\\\\n",
       "\t 6      & 4      & -0.384\\\\\n",
       "\t 1      & 5      & -0.454\\\\\n",
       "\t 2      & 5      &  0.545\\\\\n",
       "\t 3      & 5      & -0.650\\\\\n",
       "\t 4      & 5      &  0.374\\\\\n",
       "\t 5      & 5      &  1.277\\\\\n",
       "\t 6      & 5      & -0.301\\\\\n",
       "\\end{tabular}\n"
      ],
      "text/markdown": [
       "\n",
       "Var1 | Var2 | value | \n",
       "|---|---|---|---|---|---|---|---|---|---|---|---|---|---|---|---|---|---|---|---|---|---|---|---|---|---|---|---|---|---|\n",
       "| 1      | 1      | -0.454 | \n",
       "| 2      | 1      |  0.378 | \n",
       "| 3      | 1      |  1.416 | \n",
       "| 4      | 1      | -1.969 | \n",
       "| 5      | 1      |  0.163 | \n",
       "| 6      | 1      | -0.405 | \n",
       "| 1      | 2      |  0.331 | \n",
       "| 2      | 2      | -1.202 | \n",
       "| 3      | 2      | -1.658 | \n",
       "| 4      | 2      |  0.399 | \n",
       "| 5      | 2      |  0.833 | \n",
       "| 6      | 2      |  0.291 | \n",
       "| 1      | 3      | -0.294 | \n",
       "| 2      | 3      |  1.246 | \n",
       "| 3      | 3      | -0.967 | \n",
       "| 4      | 3      |  0.667 | \n",
       "| 5      | 3      |  1.131 | \n",
       "| 6      | 3      |  0.642 | \n",
       "| 1      | 4      | -1.526 | \n",
       "| 2      | 4      | -0.498 | \n",
       "| 3      | 4      |  0.690 | \n",
       "| 4      | 4      | -0.542 | \n",
       "| 5      | 4      | -0.381 | \n",
       "| 6      | 4      | -0.384 | \n",
       "| 1      | 5      | -0.454 | \n",
       "| 2      | 5      |  0.545 | \n",
       "| 3      | 5      | -0.650 | \n",
       "| 4      | 5      |  0.374 | \n",
       "| 5      | 5      |  1.277 | \n",
       "| 6      | 5      | -0.301 | \n",
       "\n",
       "\n"
      ],
      "text/plain": [
       "   Var1 Var2 value \n",
       "1  1    1    -0.454\n",
       "2  2    1     0.378\n",
       "3  3    1     1.416\n",
       "4  4    1    -1.969\n",
       "5  5    1     0.163\n",
       "6  6    1    -0.405\n",
       "7  1    2     0.331\n",
       "8  2    2    -1.202\n",
       "9  3    2    -1.658\n",
       "10 4    2     0.399\n",
       "11 5    2     0.833\n",
       "12 6    2     0.291\n",
       "13 1    3    -0.294\n",
       "14 2    3     1.246\n",
       "15 3    3    -0.967\n",
       "16 4    3     0.667\n",
       "17 5    3     1.131\n",
       "18 6    3     0.642\n",
       "19 1    4    -1.526\n",
       "20 2    4    -0.498\n",
       "21 3    4     0.690\n",
       "22 4    4    -0.542\n",
       "23 5    4    -0.381\n",
       "24 6    4    -0.384\n",
       "25 1    5    -0.454\n",
       "26 2    5     0.545\n",
       "27 3    5    -0.650\n",
       "28 4    5     0.374\n",
       "29 5    5     1.277\n",
       "30 6    5    -0.301"
      ]
     },
     "metadata": {},
     "output_type": "display_data"
    }
   ],
   "source": [
    "library(reshape2)\n",
    "md <- melt(mydata, id=c(\"ID\", \"Time\"))\n",
    "md"
   ]
  },
  {
   "cell_type": "markdown",
   "metadata": {},
   "source": [
    "#### 2.重铸\n",
    "dcast()函数读取已融合的数据，并使用你提供的公式\b和一个（可选的）用于整合数据的函数将其重塑。\n",
    "\n",
    "```r\n",
    "newdata <- dcast(md, formula, fun.aggregate)\n",
    "```\n",
    "\n",
    "- md:已融合的数据\n",
    "- formula:想要的最后结果\n",
    "- fun.aggregate:（可选的）数据整合函数。\n",
    "\n",
    "其接受的公式形如：\n",
    "\n",
    "```r\n",
    "rowvar1 + rowvar2 + ... ~ colvar1 + colvar2 + ...\n",
    "```\n",
    "\n",
    "![](http://ou8qjsj0m.bkt.clouddn.com//17-11-13/67558187.jpg)"
   ]
  },
  {
   "cell_type": "code",
   "execution_count": null,
   "metadata": {
    "collapsed": true
   },
   "outputs": [],
   "source": []
  }
 ],
 "metadata": {
  "kernelspec": {
   "display_name": "R",
   "language": "R",
   "name": "ir"
  },
  "language_info": {
   "codemirror_mode": "r",
   "file_extension": ".r",
   "mimetype": "text/x-r-source",
   "name": "R",
   "pygments_lexer": "r",
   "version": "3.4.0"
  }
 },
 "nbformat": 4,
 "nbformat_minor": 0
}
