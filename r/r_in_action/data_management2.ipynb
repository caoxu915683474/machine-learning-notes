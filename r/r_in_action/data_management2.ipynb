{
 "cells": [
  {
   "cell_type": "markdown",
   "metadata": {},
   "source": [
    "# 高级数据管理\n",
    "## 一个数据处理难题\n",
    "为了给所有学生确定一个单一的成绩衡量指标，需要将这些科目的成绩组合起来。另外，你还想将前20%的学生评定为A，接下来20%的学生评定为B，依次类推。最后你希望按字母顺序对学生排序。\n",
    "\n",
    "![](http://ou8qjsj0m.bkt.clouddn.com//17-11-12/35367117.jpg)\n",
    "\n",
    "## 数值和字符处理函数\n",
    "### 数学函数\n",
    "\n",
    "![](http://ou8qjsj0m.bkt.clouddn.com//17-11-12/73026866.jpg)\n",
    "\n",
    "![](http://ou8qjsj0m.bkt.clouddn.com//17-11-12/82857416.jpg)\n",
    "\n",
    "### 统计函数\n",
    "\n",
    "![](http://ou8qjsj0m.bkt.clouddn.com//17-11-12/23372509.jpg)\n",
    "\n",
    "代码清单5-1 均值和标准差的计算"
   ]
  },
  {
   "cell_type": "code",
   "execution_count": 1,
   "metadata": {
    "collapsed": false
   },
   "outputs": [
    {
     "data": {
      "text/html": [
       "4.5"
      ],
      "text/latex": [
       "4.5"
      ],
      "text/markdown": [
       "4.5"
      ],
      "text/plain": [
       "[1] 4.5"
      ]
     },
     "metadata": {},
     "output_type": "display_data"
    }
   ],
   "source": [
    "x <- c(1,2,3,4,5,6,7,8)\n",
    "mean(x)"
   ]
  },
  {
   "cell_type": "code",
   "execution_count": 2,
   "metadata": {
    "collapsed": false
   },
   "outputs": [
    {
     "data": {
      "text/html": [
       "2.44948974278318"
      ],
      "text/latex": [
       "2.44948974278318"
      ],
      "text/markdown": [
       "2.44948974278318"
      ],
      "text/plain": [
       "[1] 2.44949"
      ]
     },
     "metadata": {},
     "output_type": "display_data"
    }
   ],
   "source": [
    "sd(x)"
   ]
  },
  {
   "cell_type": "markdown",
   "metadata": {},
   "source": [
    "#### 数据标准化\n",
    "默认情况下，函数scale()对矩阵或数据框的指定列进行均值为0、标准差为1的标准化：\n",
    "\n",
    "```r\n",
    "newdata <- scale(mydata)\n",
    "```\n",
    "\n",
    "指定\b均值(M)和\b标准差(SD)的标准化：\n",
    "\n",
    "```r\n",
    "newdata <- scale(mydata) * SD + M\n",
    "```\n",
    "\n",
    "对指定列进行标准化：\n",
    "\n",
    "```r\n",
    "newdata <- transform(mydata, myvar = scale(myvar) * SD + M)\n",
    "```\n",
    "\n",
    "### 概率函数\n",
    "在R中，\u001b概率函数形如：\n",
    "\n",
    "```r\n",
    "[dpqr]distribution_abbreviation()\n",
    "```\n",
    "\n",
    "其中第一个字母表示其所指分布的某一方面：\n",
    "\n",
    "- d=密度函数（density）\n",
    "- p=分布函数（distribution function）\n",
    "- q=分位数函数（quantile function）\n",
    "- r=生成随机数（随机偏差）\n",
    "\n",
    "![](http://ou8qjsj0m.bkt.clouddn.com//17-11-12/96211627.jpg)\n",
    "\n",
    "![](http://ou8qjsj0m.bkt.clouddn.com//17-11-12/99964175.jpg)\n",
    "\n",
    "#### 1.设定随机数种子\n",
    "通过函数set.seed()\n",
    "\n",
    "代码清单5-2 生成服从生态分布的伪随机数"
   ]
  },
  {
   "cell_type": "code",
   "execution_count": 3,
   "metadata": {
    "collapsed": false
   },
   "outputs": [
    {
     "data": {
      "text/html": [
       "<ol class=list-inline>\n",
       "\t<li>0.85280432831496</li>\n",
       "\t<li>0.00773632922209799</li>\n",
       "\t<li>0.617392293876037</li>\n",
       "\t<li>0.613420450128615</li>\n",
       "\t<li>0.0578021528199315</li>\n",
       "</ol>\n"
      ],
      "text/latex": [
       "\\begin{enumerate*}\n",
       "\\item 0.85280432831496\n",
       "\\item 0.00773632922209799\n",
       "\\item 0.617392293876037\n",
       "\\item 0.613420450128615\n",
       "\\item 0.0578021528199315\n",
       "\\end{enumerate*}\n"
      ],
      "text/markdown": [
       "1. 0.85280432831496\n",
       "2. 0.00773632922209799\n",
       "3. 0.617392293876037\n",
       "4. 0.613420450128615\n",
       "5. 0.0578021528199315\n",
       "\n",
       "\n"
      ],
      "text/plain": [
       "[1] 0.852804328 0.007736329 0.617392294 0.613420450 0.057802153"
      ]
     },
     "metadata": {},
     "output_type": "display_data"
    }
   ],
   "source": [
    "runif(5) # (0,1)上服从均匀分布的伪随机数"
   ]
  },
  {
   "cell_type": "code",
   "execution_count": 4,
   "metadata": {
    "collapsed": false
   },
   "outputs": [
    {
     "data": {
      "text/html": [
       "<ol class=list-inline>\n",
       "\t<li>0.094764559995383</li>\n",
       "\t<li>0.732820028904825</li>\n",
       "\t<li>0.951247724704444</li>\n",
       "\t<li>0.713428874034435</li>\n",
       "\t<li>0.0342367975972593</li>\n",
       "</ol>\n"
      ],
      "text/latex": [
       "\\begin{enumerate*}\n",
       "\\item 0.094764559995383\n",
       "\\item 0.732820028904825\n",
       "\\item 0.951247724704444\n",
       "\\item 0.713428874034435\n",
       "\\item 0.0342367975972593\n",
       "\\end{enumerate*}\n"
      ],
      "text/markdown": [
       "1. 0.094764559995383\n",
       "2. 0.732820028904825\n",
       "3. 0.951247724704444\n",
       "4. 0.713428874034435\n",
       "5. 0.0342367975972593\n",
       "\n",
       "\n"
      ],
      "text/plain": [
       "[1] 0.09476456 0.73282003 0.95124772 0.71342887 0.03423680"
      ]
     },
     "metadata": {},
     "output_type": "display_data"
    }
   ],
   "source": [
    "runif(5)"
   ]
  },
  {
   "cell_type": "code",
   "execution_count": 5,
   "metadata": {
    "collapsed": false
   },
   "outputs": [
    {
     "data": {
      "text/html": [
       "<ol class=list-inline>\n",
       "\t<li>0.113703411305323</li>\n",
       "\t<li>0.622299404814839</li>\n",
       "\t<li>0.609274732880294</li>\n",
       "\t<li>0.623379441676661</li>\n",
       "\t<li>0.860915383556858</li>\n",
       "</ol>\n"
      ],
      "text/latex": [
       "\\begin{enumerate*}\n",
       "\\item 0.113703411305323\n",
       "\\item 0.622299404814839\n",
       "\\item 0.609274732880294\n",
       "\\item 0.623379441676661\n",
       "\\item 0.860915383556858\n",
       "\\end{enumerate*}\n"
      ],
      "text/markdown": [
       "1. 0.113703411305323\n",
       "2. 0.622299404814839\n",
       "3. 0.609274732880294\n",
       "4. 0.623379441676661\n",
       "5. 0.860915383556858\n",
       "\n",
       "\n"
      ],
      "text/plain": [
       "[1] 0.1137034 0.6222994 0.6092747 0.6233794 0.8609154"
      ]
     },
     "metadata": {},
     "output_type": "display_data"
    }
   ],
   "source": [
    "set.seed(1234)\n",
    "runif(5)"
   ]
  },
  {
   "cell_type": "code",
   "execution_count": 6,
   "metadata": {
    "collapsed": false
   },
   "outputs": [
    {
     "data": {
      "text/html": [
       "<ol class=list-inline>\n",
       "\t<li>0.113703411305323</li>\n",
       "\t<li>0.622299404814839</li>\n",
       "\t<li>0.609274732880294</li>\n",
       "\t<li>0.623379441676661</li>\n",
       "\t<li>0.860915383556858</li>\n",
       "</ol>\n"
      ],
      "text/latex": [
       "\\begin{enumerate*}\n",
       "\\item 0.113703411305323\n",
       "\\item 0.622299404814839\n",
       "\\item 0.609274732880294\n",
       "\\item 0.623379441676661\n",
       "\\item 0.860915383556858\n",
       "\\end{enumerate*}\n"
      ],
      "text/markdown": [
       "1. 0.113703411305323\n",
       "2. 0.622299404814839\n",
       "3. 0.609274732880294\n",
       "4. 0.623379441676661\n",
       "5. 0.860915383556858\n",
       "\n",
       "\n"
      ],
      "text/plain": [
       "[1] 0.1137034 0.6222994 0.6092747 0.6233794 0.8609154"
      ]
     },
     "metadata": {},
     "output_type": "display_data"
    }
   ],
   "source": [
    "set.seed(1234)\n",
    "runif(5)"
   ]
  },
  {
   "cell_type": "markdown",
   "metadata": {},
   "source": [
    "#### 2.生成多元正态数据\n",
    "MASS包中mvrnorm()函数：\n",
    "\n",
    "```r\n",
    "mvrnorm(n, mean, sigma)\n",
    "```\n",
    "\n",
    "- mean均值向量\n",
    "- sigma方差-协方差矩阵（或相关矩阵）\n",
    "\n",
    "代码清单5-3 生成服从多元正态分布的数据"
   ]
  },
  {
   "cell_type": "code",
   "execution_count": 7,
   "metadata": {
    "collapsed": true
   },
   "outputs": [],
   "source": [
    "library(MASS)\n",
    "options(digits=3)\n",
    "set.seed(1234)"
   ]
  },
  {
   "cell_type": "code",
   "execution_count": 8,
   "metadata": {
    "collapsed": true
   },
   "outputs": [],
   "source": [
    "mean <- c(230.7, 146.7, 3.6)\n",
    "sigma <- matrix(c(15360.8, 6721.2, -47.1,\n",
    "                  6721.2, 4700.9, -16.5,\n",
    "                  -47.1,   -16.5, 0.3), nrow=3, ncol=3)\n",
    "mydata <- mvrnorm(500, mean, sigma)\n",
    "mydata <- as.data.frame(mydata)\n",
    "names(mydata) <- c(\"y\",\"x1\",\"x2\")"
   ]
  },
  {
   "cell_type": "code",
   "execution_count": 9,
   "metadata": {
    "collapsed": false
   },
   "outputs": [
    {
     "data": {
      "text/html": [
       "<ol class=list-inline>\n",
       "\t<li>500</li>\n",
       "\t<li>3</li>\n",
       "</ol>\n"
      ],
      "text/latex": [
       "\\begin{enumerate*}\n",
       "\\item 500\n",
       "\\item 3\n",
       "\\end{enumerate*}\n"
      ],
      "text/markdown": [
       "1. 500\n",
       "2. 3\n",
       "\n",
       "\n"
      ],
      "text/plain": [
       "[1] 500   3"
      ]
     },
     "metadata": {},
     "output_type": "display_data"
    }
   ],
   "source": [
    "dim(mydata)"
   ]
  },
  {
   "cell_type": "code",
   "execution_count": 10,
   "metadata": {
    "collapsed": false
   },
   "outputs": [
    {
     "data": {
      "text/html": [
       "<table>\n",
       "<thead><tr><th scope=col>y</th><th scope=col>x1</th><th scope=col>x2</th></tr></thead>\n",
       "<tbody>\n",
       "\t<tr><td> 98.8</td><td> 41.3</td><td>3.43 </td></tr>\n",
       "\t<tr><td>244.5</td><td>205.2</td><td>3.80 </td></tr>\n",
       "\t<tr><td>375.7</td><td>186.7</td><td>2.51 </td></tr>\n",
       "\t<tr><td>-59.2</td><td> 11.2</td><td>4.71 </td></tr>\n",
       "\t<tr><td>313.0</td><td>111.0</td><td>3.45 </td></tr>\n",
       "\t<tr><td>288.8</td><td>185.1</td><td>2.72 </td></tr>\n",
       "\t<tr><td>134.8</td><td>165.0</td><td>4.39 </td></tr>\n",
       "\t<tr><td>171.7</td><td> 97.4</td><td>3.64 </td></tr>\n",
       "\t<tr><td>167.2</td><td>101.0</td><td>3.50 </td></tr>\n",
       "\t<tr><td>121.1</td><td> 94.5</td><td>4.10 </td></tr>\n",
       "</tbody>\n",
       "</table>\n"
      ],
      "text/latex": [
       "\\begin{tabular}{r|lll}\n",
       " y & x1 & x2\\\\\n",
       "\\hline\n",
       "\t  98.8 &  41.3 & 3.43 \\\\\n",
       "\t 244.5 & 205.2 & 3.80 \\\\\n",
       "\t 375.7 & 186.7 & 2.51 \\\\\n",
       "\t -59.2 &  11.2 & 4.71 \\\\\n",
       "\t 313.0 & 111.0 & 3.45 \\\\\n",
       "\t 288.8 & 185.1 & 2.72 \\\\\n",
       "\t 134.8 & 165.0 & 4.39 \\\\\n",
       "\t 171.7 &  97.4 & 3.64 \\\\\n",
       "\t 167.2 & 101.0 & 3.50 \\\\\n",
       "\t 121.1 &  94.5 & 4.10 \\\\\n",
       "\\end{tabular}\n"
      ],
      "text/markdown": [
       "\n",
       "y | x1 | x2 | \n",
       "|---|---|---|---|---|---|---|---|---|---|\n",
       "|  98.8 |  41.3 | 3.43  | \n",
       "| 244.5 | 205.2 | 3.80  | \n",
       "| 375.7 | 186.7 | 2.51  | \n",
       "| -59.2 |  11.2 | 4.71  | \n",
       "| 313.0 | 111.0 | 3.45  | \n",
       "| 288.8 | 185.1 | 2.72  | \n",
       "| 134.8 | 165.0 | 4.39  | \n",
       "| 171.7 |  97.4 | 3.64  | \n",
       "| 167.2 | 101.0 | 3.50  | \n",
       "| 121.1 |  94.5 | 4.10  | \n",
       "\n",
       "\n"
      ],
      "text/plain": [
       "   y     x1    x2  \n",
       "1   98.8  41.3 3.43\n",
       "2  244.5 205.2 3.80\n",
       "3  375.7 186.7 2.51\n",
       "4  -59.2  11.2 4.71\n",
       "5  313.0 111.0 3.45\n",
       "6  288.8 185.1 2.72\n",
       "7  134.8 165.0 4.39\n",
       "8  171.7  97.4 3.64\n",
       "9  167.2 101.0 3.50\n",
       "10 121.1  94.5 4.10"
      ]
     },
     "metadata": {},
     "output_type": "display_data"
    }
   ],
   "source": [
    "head(mydata, n=10)"
   ]
  },
  {
   "cell_type": "markdown",
   "metadata": {},
   "source": [
    "### 字符处理函数\n",
    "![](http://ou8qjsj0m.bkt.clouddn.com//17-11-12/1832183.jpg)\n",
    "\n",
    "### 其他实用函数\n",
    "![](http://ou8qjsj0m.bkt.clouddn.com//17-11-12/98382513.jpg)\n",
    "\n",
    "### 将函数应用于矩阵和数据框\n",
    "代码清单5-4 将函数应用于数据对象"
   ]
  },
  {
   "cell_type": "code",
   "execution_count": null,
   "metadata": {
    "collapsed": true
   },
   "outputs": [],
   "source": []
  }
 ],
 "metadata": {
  "kernelspec": {
   "display_name": "R",
   "language": "R",
   "name": "ir"
  },
  "language_info": {
   "codemirror_mode": "r",
   "file_extension": ".r",
   "mimetype": "text/x-r-source",
   "name": "R",
   "pygments_lexer": "r",
   "version": "3.4.0"
  }
 },
 "nbformat": 4,
 "nbformat_minor": 0
}
