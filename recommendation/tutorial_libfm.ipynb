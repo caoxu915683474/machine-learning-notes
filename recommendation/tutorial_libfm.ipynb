{
 "cells": [
  {
   "cell_type": "markdown",
   "metadata": {},
   "source": [
    "# Simple libFM example\n",
    "\n",
    "- example for 2 users and 3 items\n",
    "- test on the same 2 users, but now have 4 items (the same 3 from training + one new)\n",
    "\n",
    "## Data schema\n",
    "- Users:\n",
    "  - 0 is User1\n",
    "  - 1 is User2\n",
    "- Items:\n",
    "  - 2 is Item1\n",
    "  - 3 is Item2\n",
    "  - 4 is Item3\n",
    "  - 5 is Item4\n",
    "- The categorical feature age:\n",
    "  - 6 is the category “18-25”\n",
    "  - 7 is the category “26-40”\n",
    "  - 8 is the category “40-60”\n",
    "- The numerical feature price:\n",
    "  - 9 will represent the price feature\n",
    "\n",
    "One sample can be:\n",
    "\n",
    "    5 0:1 3:1 6:1 9:20\n",
    "    #User1 who is 23yo is giving a rating of 5 on Item2 which costs 20 euros\n",
    "\n",
    "\n",
    "## Training data\n",
    "train.libfm\n",
    "\n",
    "    5 0:1 2:1 6:1 9:12.5\n",
    "    5 0:1 3:1 6:1 9:20\n",
    "    4 0:1 4:1 6:1 9:78\n",
    "    1 1:1 2:1 8:1 9:12.5\n",
    "    1 1:1 3:1 8:1 9:20\n",
    "\n",
    "num_features = 10  #Computed on the highest integer value that represents a feature (here 9 for the Item price) + 1 (because we expect people to start at 0)\n",
    "\n",
    "test.libfm\n",
    "\n",
    "    0 1:1 4:1 8:1 9:78 \n",
    "    #Here User2 who is 41yo is rating Item3 which costs 78 euros and we gave a rating of 0 because we don’t know yet the real rating\n",
    "    0 0:1 5:1 6:1\n",
    "    #We want to know which rating User1 who is 23yo will give to a not-yet seen Item4 and we don’t know the price\n",
    "\n",
    "For the test, I have two samples I want prediction. The 0 doesn’t really have any effect in testing (Only useful if you have the true value, then libFM will output the RMSE error on it but will not use it to train the model)\n",
    "\n",
    "## Run\n",
    "\n",
    "    ./libfm -task r -method mcmc -train train.libfm -test test.libfm -iter 10 -dim ‘1,1,2’ -out output.libfm\n",
    "\n",
    "So the model was train using [MCMC (-method mcmc)] on [10 (-iter 10)] iterations using a [linear model (+bias) and using factorization with 2 latent factors. (-dim ‘1,1,2’)]\n",
    "\n",
    "Prediction will be written in the file ‘output.libfm’"
   ]
  },
  {
   "cell_type": "code",
   "execution_count": 2,
   "metadata": {
    "collapsed": false
   },
   "outputs": [
    {
     "name": "stdout",
     "output_type": "stream",
     "text": [
      "5 0:1 2:1 6:1 9:12.5\r\n",
      "5 0:1 3:1 6:1 9:20\r\n",
      "4 0:1 4:1 6:1 9:78\r\n",
      "1 1:1 2:1 8:1 9:12.5\r\n",
      "1 1:1 3:1 8:1 9:20"
     ]
    }
   ],
   "source": [
    "%cat data/libfm/train.libfm"
   ]
  },
  {
   "cell_type": "code",
   "execution_count": 3,
   "metadata": {
    "collapsed": false
   },
   "outputs": [
    {
     "name": "stdout",
     "output_type": "stream",
     "text": [
      "0 1:1 4:1 8:1 9:78\r\n",
      "0 0:1 5:1 6:1"
     ]
    }
   ],
   "source": [
    "%cat data/libfm/test.libfm"
   ]
  },
  {
   "cell_type": "code",
   "execution_count": 5,
   "metadata": {
    "collapsed": false
   },
   "outputs": [
    {
     "name": "stdout",
     "output_type": "stream",
     "text": [
      "\u001b[31mconvert\u001b[m\u001b[m*   \u001b[31mlibFM\u001b[m\u001b[m*     \u001b[31mtranspose\u001b[m\u001b[m*\r\n"
     ]
    }
   ],
   "source": [
    "bin_dir = '/Users/zhangjun/Documents/libfm-1.42.src/bin'\n",
    "%ls $bin_dir"
   ]
  },
  {
   "cell_type": "code",
   "execution_count": 7,
   "metadata": {
    "collapsed": false
   },
   "outputs": [
    {
     "name": "stdout",
     "output_type": "stream",
     "text": [
      "\u001b[31m/Users/zhangjun/Documents/libfm-1.42.src/bin/libFM\u001b[m\u001b[m*\r\n"
     ]
    }
   ],
   "source": [
    "import os\n",
    "script_dir = os.path.join(bin_dir, \"libFM\")\n",
    "%ls $script_dir"
   ]
  },
  {
   "cell_type": "code",
   "execution_count": 9,
   "metadata": {
    "collapsed": false
   },
   "outputs": [
    {
     "name": "stderr",
     "output_type": "stream",
     "text": [
      "Child returned 0\n"
     ]
    }
   ],
   "source": [
    "import sys\n",
    "from subprocess import call\n",
    "try:\n",
    "    command_str = \\\n",
    "        \"%s -task r -method mcmc -train data/libfm/train.libfm -test data/libfm/test.libfm -iter 10 -dim '1,1,2' -out data/libfm/output.libfm\" \\\n",
    "        % script_dir\n",
    "    command_list = command_str.split(' ')\n",
    "    retcode = call(command_list)\n",
    "    if retcode < 0:\n",
    "        print >>sys.stderr, \"Child was terminated by signal\", -retcode\n",
    "    else:\n",
    "        print >>sys.stderr, \"Child returned\", retcode\n",
    "except OSError as e:\n",
    "    print >>sys.stderr, \"Execution failed:\", e"
   ]
  },
  {
   "cell_type": "code",
   "execution_count": 10,
   "metadata": {
    "collapsed": false
   },
   "outputs": [
    {
     "name": "stdout",
     "output_type": "stream",
     "text": [
      "1.97353\r\n",
      "1.00468\r\n"
     ]
    }
   ],
   "source": [
    "%cat data/libfm/output.libfm"
   ]
  }
 ],
 "metadata": {
  "anaconda-cloud": {},
  "kernelspec": {
   "display_name": "Python [Root]",
   "language": "python",
   "name": "Python [Root]"
  },
  "language_info": {
   "codemirror_mode": {
    "name": "ipython",
    "version": 2
   },
   "file_extension": ".py",
   "mimetype": "text/x-python",
   "name": "python",
   "nbconvert_exporter": "python",
   "pygments_lexer": "ipython2",
   "version": "2.7.12"
  }
 },
 "nbformat": 4,
 "nbformat_minor": 0
}
