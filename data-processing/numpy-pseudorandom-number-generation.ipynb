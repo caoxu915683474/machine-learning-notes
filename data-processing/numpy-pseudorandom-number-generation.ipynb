{
 "cells": [
  {
   "cell_type": "markdown",
   "metadata": {},
   "source": [
    "# NumPy Pseudorandom Number Generation\n",
    "- np.random.normal\n",
    "- np.random.seed\n",
    "\n",
    "For example, you can get a 4 by 4 array of samples from the standard normal distribution using normal:"
   ]
  },
  {
   "cell_type": "code",
   "execution_count": 2,
   "metadata": {
    "collapsed": false
   },
   "outputs": [
    {
     "data": {
      "text/plain": [
       "array([[ 1.33046272, -0.54092462, -0.0657652 , -0.79940398],\n",
       "       [ 0.74009786, -0.37562716,  0.25779154, -0.04280554],\n",
       "       [-2.73293346, -0.56947628, -0.76420681,  0.36919619],\n",
       "       [ 0.44221682, -0.18594885,  0.23693323,  1.99404636]])"
      ]
     },
     "execution_count": 2,
     "metadata": {},
     "output_type": "execute_result"
    }
   ],
   "source": [
    "import numpy as np\n",
    "\n",
    "samples = np.random.normal(size=(4, 4))\n",
    "samples"
   ]
  },
  {
   "cell_type": "markdown",
   "metadata": {},
   "source": [
    "You can change NumPy’s random number generation seed using np.random.seed:"
   ]
  },
  {
   "cell_type": "code",
   "execution_count": 3,
   "metadata": {
    "collapsed": true
   },
   "outputs": [],
   "source": [
    "np.random.seed(1234)"
   ]
  },
  {
   "cell_type": "markdown",
   "metadata": {},
   "source": [
    "Table 4-8. Partial list of numpy.random functions\n",
    "\n",
    "Function | Description\n",
    "---------|------------\n",
    "seed | Seed the random number generator\n",
    "permutation | Return a random permutation of a sequence, or return a permuted range\n",
    "shuffle | Randomly permute a sequence in place\n",
    "rand | Draw samples from a uniform distribution\n",
    "randint | Draw random integers from a given low-to-high range\n",
    "randn | Draw samples from a normal distribution with mean 0 and standard deviation 1 (MATLAB-like interface)\n",
    "binomial | Draw samples from a binomial distribution\n",
    "normal | Draw samples from a normal (Gaussian) distribution\n",
    "beta | Draw samples from a beta distribution\n",
    "chisquare | Draw samples from a chi-square distribution\n",
    "gamma | Draw samples from a gamma distribution\n",
    "uniform | Draw samples from a uniform [0, 1) distribution"
   ]
  },
  {
   "cell_type": "code",
   "execution_count": null,
   "metadata": {
    "collapsed": true
   },
   "outputs": [],
   "source": []
  }
 ],
 "metadata": {
  "kernelspec": {
   "display_name": "Python [Root]",
   "language": "python",
   "name": "Python [Root]"
  },
  "language_info": {
   "codemirror_mode": {
    "name": "ipython",
    "version": 2
   },
   "file_extension": ".py",
   "mimetype": "text/x-python",
   "name": "python",
   "nbconvert_exporter": "python",
   "pygments_lexer": "ipython2",
   "version": "2.7.12"
  }
 },
 "nbformat": 4,
 "nbformat_minor": 0
}
