{
 "cells": [
  {
   "cell_type": "markdown",
   "metadata": {},
   "source": [
    "# NumPy Linear Algebra\n",
    "- x.dot(y)\n",
    "- inv\n",
    "- qr\n",
    "\n",
    "As such, there is a function `dot`, both an array method, and a function in the numpy namespace, for matrix multiplication:"
   ]
  },
  {
   "cell_type": "code",
   "execution_count": 1,
   "metadata": {
    "collapsed": false
   },
   "outputs": [
    {
     "data": {
      "text/plain": [
       "array([[ 1.,  2.,  3.],\n",
       "       [ 4.,  5.,  6.]])"
      ]
     },
     "execution_count": 1,
     "metadata": {},
     "output_type": "execute_result"
    }
   ],
   "source": [
    "import numpy as np\n",
    "\n",
    "x = np.array([[1., 2., 3.], [4., 5., 6.]])\n",
    "y = np.array([[6., 23.], [-1, 7], [8, 9]])\n",
    "x"
   ]
  },
  {
   "cell_type": "code",
   "execution_count": 2,
   "metadata": {
    "collapsed": false
   },
   "outputs": [
    {
     "data": {
      "text/plain": [
       "array([[  6.,  23.],\n",
       "       [ -1.,   7.],\n",
       "       [  8.,   9.]])"
      ]
     },
     "execution_count": 2,
     "metadata": {},
     "output_type": "execute_result"
    }
   ],
   "source": [
    "y"
   ]
  },
  {
   "cell_type": "code",
   "execution_count": 3,
   "metadata": {
    "collapsed": false
   },
   "outputs": [
    {
     "data": {
      "text/plain": [
       "array([[  28.,   64.],\n",
       "       [  67.,  181.]])"
      ]
     },
     "execution_count": 3,
     "metadata": {},
     "output_type": "execute_result"
    }
   ],
   "source": [
    "x.dot(y)"
   ]
  },
  {
   "cell_type": "markdown",
   "metadata": {},
   "source": [
    "A matrix product between a 2D array and a suitably sized 1D array results in a 1D array:"
   ]
  },
  {
   "cell_type": "code",
   "execution_count": 4,
   "metadata": {
    "collapsed": false
   },
   "outputs": [
    {
     "data": {
      "text/plain": [
       "array([  6.,  15.])"
      ]
     },
     "execution_count": 4,
     "metadata": {},
     "output_type": "execute_result"
    }
   ],
   "source": [
    "np.dot(x, np.ones(3))"
   ]
  },
  {
   "cell_type": "markdown",
   "metadata": {},
   "source": [
    "`numpy.linalg` has a standard set of matrix decompositions and things like inverse and determinant."
   ]
  },
  {
   "cell_type": "code",
   "execution_count": 6,
   "metadata": {
    "collapsed": false
   },
   "outputs": [
    {
     "data": {
      "text/plain": [
       "array([[ 0.27535679, -0.29940661, -0.24919197, -0.11354619,  0.22586209],\n",
       "       [-0.29940661,  3.39855131, -0.94628098,  2.89420707, -2.75269607],\n",
       "       [-0.24919197, -0.94628098,  1.0952727 , -1.30625692,  0.95091947],\n",
       "       [-0.11354619,  2.89420707, -1.30625692,  3.02632236, -2.67395787],\n",
       "       [ 0.22586209, -2.75269607,  0.95091947, -2.67395787,  2.56108371]])"
      ]
     },
     "execution_count": 6,
     "metadata": {},
     "output_type": "execute_result"
    }
   ],
   "source": [
    "from numpy.linalg import inv, qr\n",
    "\n",
    "X = np.random.randn(5, 5)\n",
    "mat = X.T.dot(X)\n",
    "inv(mat)"
   ]
  },
  {
   "cell_type": "code",
   "execution_count": 7,
   "metadata": {
    "collapsed": false
   },
   "outputs": [
    {
     "data": {
      "text/plain": [
       "array([[  1.00000000e+00,  -8.45972065e-17,   2.40859319e-16,\n",
       "         -4.38243737e-16,   1.47411539e-16],\n",
       "       [  1.20830595e-16,   1.00000000e+00,   5.92450032e-17,\n",
       "         -6.51858213e-16,   5.00487197e-16],\n",
       "       [ -2.60537710e-16,  -4.95372794e-16,   1.00000000e+00,\n",
       "          5.01736445e-16,  -2.03563464e-15],\n",
       "       [ -1.12993151e-16,  -2.04126010e-15,  -4.09497337e-17,\n",
       "          1.00000000e+00,  -1.87859419e-15],\n",
       "       [ -5.15614758e-16,   5.38809025e-15,   1.29434018e-16,\n",
       "          2.83813343e-15,   1.00000000e+00]])"
      ]
     },
     "execution_count": 7,
     "metadata": {},
     "output_type": "execute_result"
    }
   ],
   "source": [
    "mat.dot(inv(mat))"
   ]
  },
  {
   "cell_type": "code",
   "execution_count": 9,
   "metadata": {
    "collapsed": false
   },
   "outputs": [
    {
     "data": {
      "text/plain": [
       "array([[-11.14125498,   0.20477295,  -7.69485473,  -4.81600683,  -0.9433097 ],\n",
       "       [  0.        ,  -3.25643221,   1.4858105 ,   1.63646804,\n",
       "         -2.53372026],\n",
       "       [  0.        ,   0.        ,  -5.77089451, -13.16018677,\n",
       "        -11.83448889],\n",
       "       [  0.        ,   0.        ,   0.        ,  -2.79781132,\n",
       "         -3.04100929],\n",
       "       [  0.        ,   0.        ,   0.        ,   0.        ,\n",
       "          0.21203866]])"
      ]
     },
     "execution_count": 9,
     "metadata": {},
     "output_type": "execute_result"
    }
   ],
   "source": [
    "q, r = qr(mat)\n",
    "r"
   ]
  },
  {
   "cell_type": "markdown",
   "metadata": {},
   "source": [
    "Table 4-7. Commonly-used numpy.linalg functions\n",
    "\n",
    "Function | Description\n",
    "---------|------------\n",
    "diag | Return the diagonal (or off-diagonal) elements of a square matrix as a 1D array, or convert a 1D array into a square matrix with zeros on the off-diagonal\n",
    "dot | Matrix multiplication\n",
    "trace | Compute the sum of the diagonal elements\n",
    "det | Compute the matrix determinant\n",
    "eig | Compute the eigenvalues and eigenvectors of a square matrix\n",
    "inv | Compute the inverse of a square matrix\n",
    "pinv | Compute the Moore-Penrose pseudo-inverse inverse of a matrix\n",
    "qr | Compute the QR decomposition\n",
    "svd | Compute the singular value decomposition (SVD)\n",
    "solve | Solve the linear system Ax = b for x, where A is a square matrix\n",
    "lstsq | Compute the least-squares solution to Ax = b"
   ]
  },
  {
   "cell_type": "code",
   "execution_count": null,
   "metadata": {
    "collapsed": true
   },
   "outputs": [],
   "source": []
  }
 ],
 "metadata": {
  "kernelspec": {
   "display_name": "Python [Root]",
   "language": "python",
   "name": "Python [Root]"
  },
  "language_info": {
   "codemirror_mode": {
    "name": "ipython",
    "version": 2
   },
   "file_extension": ".py",
   "mimetype": "text/x-python",
   "name": "python",
   "nbconvert_exporter": "python",
   "pygments_lexer": "ipython2",
   "version": "2.7.12"
  }
 },
 "nbformat": 4,
 "nbformat_minor": 0
}
