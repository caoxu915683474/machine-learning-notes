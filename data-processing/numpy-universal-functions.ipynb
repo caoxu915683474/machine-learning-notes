{
 "cells": [
  {
   "cell_type": "markdown",
   "metadata": {},
   "source": [
    "# Universal Functions: Fast Element-wise Array Functions\n",
    "- np.sqrt(data)\n",
    "- np.exp(data)\n",
    "\n",
    "A universal function, or `ufunc`, is a function that performs elementwise operations on data in ndarrays. \n",
    "\n",
    "Many ufuncs are simple elementwise transformations, like sqrt or exp:"
   ]
  },
  {
   "cell_type": "code",
   "execution_count": 2,
   "metadata": {
    "collapsed": false
   },
   "outputs": [
    {
     "data": {
      "text/plain": [
       "array([0, 1, 2, 3, 4, 5, 6, 7, 8, 9])"
      ]
     },
     "execution_count": 2,
     "metadata": {},
     "output_type": "execute_result"
    }
   ],
   "source": [
    "import numpy as np\n",
    "\n",
    "arr = np.arange(10)\n",
    "arr"
   ]
  },
  {
   "cell_type": "code",
   "execution_count": 3,
   "metadata": {
    "collapsed": false
   },
   "outputs": [
    {
     "data": {
      "text/plain": [
       "array([ 0.        ,  1.        ,  1.41421356,  1.73205081,  2.        ,\n",
       "        2.23606798,  2.44948974,  2.64575131,  2.82842712,  3.        ])"
      ]
     },
     "execution_count": 3,
     "metadata": {},
     "output_type": "execute_result"
    }
   ],
   "source": [
    "np.sqrt(arr)"
   ]
  },
  {
   "cell_type": "code",
   "execution_count": 4,
   "metadata": {
    "collapsed": false
   },
   "outputs": [
    {
     "data": {
      "text/plain": [
       "array([  1.00000000e+00,   2.71828183e+00,   7.38905610e+00,\n",
       "         2.00855369e+01,   5.45981500e+01,   1.48413159e+02,\n",
       "         4.03428793e+02,   1.09663316e+03,   2.98095799e+03,\n",
       "         8.10308393e+03])"
      ]
     },
     "execution_count": 4,
     "metadata": {},
     "output_type": "execute_result"
    }
   ],
   "source": [
    "np.exp(arr)"
   ]
  },
  {
   "cell_type": "markdown",
   "metadata": {},
   "source": [
    "These are referred to as `unary ufuncs`. Others, such as add or maximum, take 2 arrays (thus, `binary ufuncs`) and return a single array as the result:"
   ]
  },
  {
   "cell_type": "code",
   "execution_count": 5,
   "metadata": {
    "collapsed": false
   },
   "outputs": [
    {
     "data": {
      "text/plain": [
       "array([ 0.85932781, -0.04627684,  0.76666254, -0.63072546,  0.35873609,\n",
       "       -0.14751691,  0.58350359, -0.7317197 ])"
      ]
     },
     "execution_count": 5,
     "metadata": {},
     "output_type": "execute_result"
    }
   ],
   "source": [
    "x = np.random.randn(8)\n",
    "x"
   ]
  },
  {
   "cell_type": "code",
   "execution_count": 6,
   "metadata": {
    "collapsed": false
   },
   "outputs": [
    {
     "data": {
      "text/plain": [
       "array([ 0.25023887,  2.01529489,  1.2875973 ,  0.72838554, -1.37287257,\n",
       "        0.22068954, -0.71569382,  1.09786465])"
      ]
     },
     "execution_count": 6,
     "metadata": {},
     "output_type": "execute_result"
    }
   ],
   "source": [
    "y = np.random.randn(8)\n",
    "y"
   ]
  },
  {
   "cell_type": "code",
   "execution_count": 7,
   "metadata": {
    "collapsed": false
   },
   "outputs": [
    {
     "data": {
      "text/plain": [
       "array([ 0.85932781,  2.01529489,  1.2875973 ,  0.72838554,  0.35873609,\n",
       "        0.22068954,  0.58350359,  1.09786465])"
      ]
     },
     "execution_count": 7,
     "metadata": {},
     "output_type": "execute_result"
    }
   ],
   "source": [
    "np.maximum(x, y) # element-wise maximum"
   ]
  },
  {
   "cell_type": "markdown",
   "metadata": {},
   "source": [
    "While not common, a ufunc can return multiple arrays. modf is one example, a vectorized version of the built-in Python divmod: it returns the fractional and integral parts of a floating point array:"
   ]
  },
  {
   "cell_type": "code",
   "execution_count": 8,
   "metadata": {
    "collapsed": false
   },
   "outputs": [
    {
     "data": {
      "text/plain": [
       "array([-6.58856799,  0.12325146, -3.10962427, -0.83290625,  4.46950588,\n",
       "       -5.37143038, -2.6136427 ])"
      ]
     },
     "execution_count": 8,
     "metadata": {},
     "output_type": "execute_result"
    }
   ],
   "source": [
    "arr = np.random.randn(7) * 5\n",
    "arr"
   ]
  },
  {
   "cell_type": "code",
   "execution_count": 9,
   "metadata": {
    "collapsed": false
   },
   "outputs": [
    {
     "data": {
      "text/plain": [
       "(array([-0.58856799,  0.12325146, -0.10962427, -0.83290625,  0.46950588,\n",
       "        -0.37143038, -0.6136427 ]), array([-6.,  0., -3., -0.,  4., -5., -2.]))"
      ]
     },
     "execution_count": 9,
     "metadata": {},
     "output_type": "execute_result"
    }
   ],
   "source": [
    "np.modf(arr)"
   ]
  },
  {
   "cell_type": "markdown",
   "metadata": {},
   "source": [
    "Table 4-3. Unary ufuncs\n",
    "\n",
    "Function | Description\n",
    "---------|------------\n",
    "abs, fabs | Compute the absolute value element-wise for integer, floating point, or complex values. Use fabs as a faster alternative for non-complex-valued data\n",
    "sqrt | Compute the square root of each element. Equivalent to arr ** 0.5\n",
    "square | Compute the square of each element. Equivalent to arr ** 2\n",
    "exp | Compute the exponent ex of each element\n",
    "log, log10, log2, log1p | Natural logarithm (base e), log base 10, log base 2, and log(1 + x), respectively\n",
    "sign | Compute the sign of each element: 1 (positive), 0 (zero), or -1 (negative)\n",
    "ceil | Compute the ceiling of each element, i.e. the smallest integer greater than or equal to each element\n",
    "floor | Compute the floor of each element, i.e. the largest integer less than or equal to each element\n",
    "rint | Round elements to the nearest integer, preserving the dtype\n",
    "modf | Return fractional and integral parts of array as separate array\n",
    "isnan | Return boolean array indicating whether each value is NaN (Not a Number)\n",
    "isfinite, isinf | Return boolean array indicating whether each element is finite (non-inf, non-NaN) or infinite, respectively\n",
    "cos, cosh, sin, sinh, tan, tanh | Regular and hyperbolic trigonometric functions\n",
    "arccos, arccosh, arcsin, arcsinh, arctan, arctanh | Inverse trigonometric functions\n",
    "logical_not | Compute truth value of not x element-wise. Equivalent to -arr.\n",
    "\n",
    "Table 4-4. Binary universal functions\n",
    "\n",
    "Function | Description\n",
    "---------|------------\n",
    "add | Add corresponding elements in arrays\n",
    "subtract | Subtract elements in second array from first array\n",
    "multiply | Multiply array elements\n",
    "divide, floor_divide | Divide or floor divide (truncating the remainder)\n",
    "power | Raise elements in first array to powers indicated in second array\n",
    "maximum, fmax | Element-wise maximum. fmax ignores NaN\n",
    "minimum, fmin | Element-wise minimum. fmin ignores NaN\n",
    "mod | Element-wise modulus (remainder of division)\n",
    "copysign | Copy sign of values in second argument to values in first argument\n",
    "greater, greater_equal, less, less_equal, equal, not_equal | Perform element-wise comparison, yielding boolean array. Equivalent to infix operators >, >=, <, <=, ==, !=\n",
    "logical_and, logical_or, logical_xor | Compute element-wise truth value of logical operation. Equivalent to infix operators & \\|, ^"
   ]
  },
  {
   "cell_type": "code",
   "execution_count": null,
   "metadata": {
    "collapsed": true
   },
   "outputs": [],
   "source": []
  }
 ],
 "metadata": {
  "kernelspec": {
   "display_name": "Python [Root]",
   "language": "python",
   "name": "Python [Root]"
  },
  "language_info": {
   "codemirror_mode": {
    "name": "ipython",
    "version": 2
   },
   "file_extension": ".py",
   "mimetype": "text/x-python",
   "name": "python",
   "nbconvert_exporter": "python",
   "pygments_lexer": "ipython2",
   "version": "2.7.12"
  }
 },
 "nbformat": 4,
 "nbformat_minor": 0
}
