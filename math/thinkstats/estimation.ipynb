{
 "cells": [
  {
   "cell_type": "markdown",
   "metadata": {},
   "source": [
    "# 估计\n",
    "- 均方误差MSE(mean square error):$MSE=\\frac{1}{m}\\sum{(\\bar{x}-\\mu)^2}$\n",
    "\n",
    "从一个正态分布中得到随机样本，需要估计分布的均值$\\mu$，方法一：通过样本均值$\\bar{x}$估计，方法二：通过中位数估计。\n",
    "\n",
    "- 最大似然估计MLE(maximum likelihood estimator)：做出最可能与实际值相符的估计。"
   ]
  },
  {
   "cell_type": "code",
   "execution_count": 5,
   "metadata": {
    "collapsed": true
   },
   "outputs": [],
   "source": [
    "%matplotlib inline\n",
    "from __future__ import print_function, division\n",
    "\n",
    "import numpy as np\n",
    "import pandas\n",
    "import random\n",
    "import math\n",
    "import thinkstats2\n",
    "import thinkplot\n",
    "import nsfg"
   ]
  },
  {
   "cell_type": "code",
   "execution_count": 6,
   "metadata": {
    "collapsed": false
   },
   "outputs": [
    {
     "name": "stdout",
     "output_type": "stream",
     "text": [
      "Experiment 1\n",
      "rmse xbar 0.378286299698\n",
      "rmse median 0.460603202415\n"
     ]
    }
   ],
   "source": [
    "def MeanError(estimates, actual):\n",
    "    \"\"\"Computes the mean error of a sequence of estimates.\n",
    "\n",
    "    estimate: sequence of numbers\n",
    "    actual: actual value\n",
    "\n",
    "    returns: float mean error\n",
    "    \"\"\"\n",
    "    errors = [estimate-actual for estimate in estimates]\n",
    "    return np.mean(errors)\n",
    "\n",
    "\n",
    "def RMSE(estimates, actual):\n",
    "    \"\"\"Computes the root mean squared error of a sequence of estimates.\n",
    "\n",
    "    estimate: sequence of numbers\n",
    "    actual: actual value\n",
    "\n",
    "    returns: float RMSE\n",
    "    \"\"\"\n",
    "    e2 = [(estimate-actual)**2 for estimate in estimates]\n",
    "    mse = np.mean(e2)\n",
    "    return math.sqrt(mse)\n",
    "\n",
    "def Estimate1(n=7, m=1000):\n",
    "    \"\"\"Evaluates RMSE of sample mean and median as estimators.\n",
    "\n",
    "    n: sample size\n",
    "    m: number of iterations\n",
    "    \"\"\"\n",
    "    mu = 0\n",
    "    sigma = 1\n",
    "\n",
    "    means = []\n",
    "    medians = []\n",
    "    for _ in range(m):\n",
    "        xs = [random.gauss(mu, sigma) for _ in range(n)]\n",
    "        xbar = np.mean(xs)\n",
    "        median = np.median(xs)\n",
    "        means.append(xbar)\n",
    "        medians.append(median)\n",
    "\n",
    "    print('Experiment 1')\n",
    "    print('rmse xbar', RMSE(means, mu))\n",
    "    print('rmse median', RMSE(medians, mu))\n",
    "Estimate1()"
   ]
  },
  {
   "cell_type": "markdown",
   "metadata": {},
   "source": [
    "## 猜测方差\n",
    "- $S^2=\\frac{1}{n}\\sum(x_i-\\bar{x})^2$\n",
    "- $S_{n-1}^2=\\frac{1}{n-1}\\sum(x_i-\\bar{x})^2$\n",
    "- 对于小样本，$S^2$通常比方差分布低很多，称其为偏倚（biased）估计量，$S_{n-1}^2$预期误差总和为0，是无偏的（unbiased）。"
   ]
  },
  {
   "cell_type": "code",
   "execution_count": 7,
   "metadata": {
    "collapsed": false
   },
   "outputs": [
    {
     "name": "stdout",
     "output_type": "stream",
     "text": [
      "Experiment 2\n",
      "mean error biased -0.139176738225\n",
      "mean error unbiased 0.00429380540391\n"
     ]
    }
   ],
   "source": [
    "def Estimate2(n=7, m=1000):\n",
    "    \"\"\"Evaluates S and Sn-1 as estimators of sample variance.\n",
    "\n",
    "    n: sample size\n",
    "    m: number of iterations\n",
    "    \"\"\"\n",
    "    mu = 0\n",
    "    sigma = 1\n",
    "\n",
    "    estimates1 = []\n",
    "    estimates2 = []\n",
    "    for _ in range(m):\n",
    "        xs = [random.gauss(mu, sigma) for _ in range(n)]\n",
    "        biased = np.var(xs)\n",
    "        unbiased = np.var(xs, ddof=1)\n",
    "        estimates1.append(biased)\n",
    "        estimates2.append(unbiased)\n",
    "\n",
    "    print('Experiment 2')\n",
    "    print('mean error biased', MeanError(estimates1, sigma**2))\n",
    "    print('mean error unbiased', MeanError(estimates2, sigma**2))\n",
    "Estimate2()"
   ]
  },
  {
   "cell_type": "markdown",
   "metadata": {},
   "source": [
    "## 抽样分布\n",
    "- 抽样误差（sampling error）：由随机选择导致的估计变化。\n",
    "- 估计量的抽样分布（sampling distribution）：在野生动物保护区研究大猩猩，想知道保护区成年雌性大猩猩的平均体重。mu和sigma是参数的假定值，n是样本大小，m是运行模拟的次数。在每次循环中，我们从具有给定参数的正态分布中选择n个值，计算样本均值xbar。代码进行1000次模拟，然后计算估计值分布的CDF。这个分布称为估计量的抽样分布（sampling distribution）。\n",
    "- 通常用2种方法对抽样分布进行概括：\n",
    "    - 标准误差SE（standard error）：对每次模拟实验，先计算误差$\\bar{x}-\\mu$，然后计算均方根误差，即得到标准误差。\n",
    "    - 置信区间CI（confidential interval）：包含抽样分布中指定比例的范围。例如90%置信区间是从第5百分位数到第95百分位数。"
   ]
  },
  {
   "cell_type": "code",
   "execution_count": 9,
   "metadata": {
    "collapsed": false
   },
   "outputs": [
    {
     "name": "stdout",
     "output_type": "stream",
     "text": [
      "standard error 2.46158105111\n",
      "confidence interval (85.941757107563404, 93.997967523500975)\n"
     ]
    },
    {
     "data": {
      "image/png": "[encoded data removed]",
      "text/plain": [
       "<matplotlib.figure.Figure at 0x11b411210>"
      ]
     },
     "metadata": {},
     "output_type": "display_data"
    }
   ],
   "source": [
    "def SimulateSample(mu=90, sigma=7.5, n=9, m=1000):\n",
    "    \"\"\"Plots the sampling distribution of the sample mean.\n",
    "\n",
    "    mu: hypothetical population mean\n",
    "    sigma: hypothetical population standard deviation\n",
    "    n: sample size\n",
    "    m: number of iterations\n",
    "    \"\"\"\n",
    "    def VertLine(x, y=1):\n",
    "        thinkplot.Plot([x, x], [0, y], color='0.8', linewidth=3)\n",
    "\n",
    "    means = []\n",
    "    for _ in range(m):\n",
    "        xs = np.random.normal(mu, sigma, n)\n",
    "        xbar = np.mean(xs)\n",
    "        means.append(xbar)\n",
    "\n",
    "    stderr = RMSE(means, mu)\n",
    "    print('standard error', stderr)\n",
    "\n",
    "    cdf = thinkstats2.Cdf(means)\n",
    "    ci = cdf.Percentile(5), cdf.Percentile(95)\n",
    "    print('confidence interval', ci)\n",
    "    VertLine(ci[0])\n",
    "    VertLine(ci[1])\n",
    "\n",
    "    # plot the CDF\n",
    "    thinkplot.Cdf(cdf)\n",
    "    thinkplot.Config(root='estimation1',\n",
    "                   xlabel='sample mean',\n",
    "                   ylabel='CDF',\n",
    "                   title='Sampling distribution')\n",
    "SimulateSample()"
   ]
  },
  {
   "cell_type": "markdown",
   "metadata": {},
   "source": [
    "## 抽样偏倚\n",
    "- 抽样偏倚（sampling bias）\n",
    "- 测量误差（measurement error）\n",
    "\n",
    "## 指数分布\n",
    "给定一个指数分布的样本，猜测分布的参数$\\lambda$是多少？\n",
    "\n",
    "- 估计量L：指数分布的均值是$1/\\lambda$，选择$L=1/\\bar{x}$。它是最大似然估计。\n",
    "- 估计量Lm：当存在离群点时，$\\bar{x}$不是很健壮，选择基于样本的中位数，指数分布的中位数是$In(2)/\\lambda$，则$L_m=In(2)/m$，m是样本的中位数。\n",
    "- 以$\\lambda=2$运行实验，发现L略好于Lm。不幸的是，两个估计量似乎都是偏倚的，L的均值误差为0.37，Lm的均值误差为0.49，而且随着样本量m的增加，二者的均值误差都不会趋近于0。"
   ]
  },
  {
   "cell_type": "code",
   "execution_count": 10,
   "metadata": {
    "collapsed": false
   },
   "outputs": [
    {
     "name": "stdout",
     "output_type": "stream",
     "text": [
      "Experiment 3\n",
      "rmse L 1.09048555263\n",
      "rmse Lm 1.75280482928\n",
      "mean error L 0.348657804698\n",
      "mean error Lm 0.388103019994\n"
     ]
    }
   ],
   "source": [
    "def Estimate3(n=7, m=1000):\n",
    "    \"\"\"Evaluates L and Lm as estimators of the exponential parameter.\n",
    "\n",
    "    n: sample size\n",
    "    m: number of iterations\n",
    "    \"\"\"\n",
    "    lam = 2\n",
    "\n",
    "    means = []\n",
    "    medians = []\n",
    "    for _ in range(m):\n",
    "        xs = np.random.exponential(1.0/lam, n)\n",
    "        L = 1 / np.mean(xs)\n",
    "        Lm = math.log(2) / np.median(xs)\n",
    "        means.append(L)\n",
    "        medians.append(Lm)\n",
    "\n",
    "    print('Experiment 3')\n",
    "    print('rmse L', RMSE(means, lam))\n",
    "    print('rmse Lm', RMSE(medians, lam))\n",
    "    print('mean error L', MeanError(means, lam))\n",
    "    print('mean error Lm', MeanError(medians, lam))\n",
    "Estimate3()"
   ]
  },
  {
   "cell_type": "code",
   "execution_count": null,
   "metadata": {
    "collapsed": true
   },
   "outputs": [],
   "source": []
  }
 ],
 "metadata": {
  "kernelspec": {
   "display_name": "Python [Root]",
   "language": "python",
   "name": "Python [Root]"
  },
  "language_info": {
   "codemirror_mode": {
    "name": "ipython",
    "version": 2
   },
   "file_extension": ".py",
   "mimetype": "text/x-python",
   "name": "python",
   "nbconvert_exporter": "python",
   "pygments_lexer": "ipython2",
   "version": "2.7.12"
  }
 },
 "nbformat": 4,
 "nbformat_minor": 0
}
