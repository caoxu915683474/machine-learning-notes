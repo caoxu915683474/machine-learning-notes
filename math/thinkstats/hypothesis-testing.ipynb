{
 "cells": [
  {
   "cell_type": "markdown",
   "metadata": {},
   "source": [
    "# 假设检验\n",
    "## 经典假设检验\n",
    "- “直观效应”：第一胎和其他胎的区别。\n",
    "- 经典假设检验的目的是回答一个问题：“给定一个样本和一个直观效应，这个效应是偶然出现的概率为多少？”\n",
    "- 回答步骤：\n",
    "    - 选择一个检验统计量（test statistic），对直观效应进行量化。直观效应：第一胎和其他胎的妊娠时间存在差异，因此很自然选择这两个群组的均值作为检验统计量。\n",
    "    - 定义原假设（null hypothesis）。原假设是系统的一个模型，所基于的假设是直观效应不为真（直观效应是偶然产生的）。原假设：第一胎和其他胎没有区别，即两个群组的妊娠时间具有相同的分布。\n",
    "    - 计算p值（p value）。p值是在原假设为真时，直观效应的概率。我们将计算两个群组均值的实际差异，然后计算在原假设为真的情况下，这个差异等于或大于实际值的概率。\n",
    "    - 解释结果。如果p值很低，那么我们称这个效应是统计显著（statistically significant）的，即不太可能是偶然发生的。在这种情况下，我们推断，这个效应在大规模总体中出现的可能性更大。\n",
    "    \n",
    "假设投一枚硬币250次，结果得到140次正面，110次反面。基于这个结果怀疑这个硬币质地不均匀。结果在0.06，如果硬币是质地均匀的，预期6%可能性看到正面和反面的差值达到30的情况。按照惯例，5%是统计显著的阈值，如果p值小于5%，那么我们认为该效应是显著的，否则不是。"
   ]
  },
  {
   "cell_type": "code",
   "execution_count": 1,
   "metadata": {
    "collapsed": true
   },
   "outputs": [],
   "source": [
    "%matplotlib inline\n",
    "from __future__ import print_function, division\n",
    "\n",
    "import numpy as np\n",
    "import pandas\n",
    "import random\n",
    "import math\n",
    "import thinkstats2\n",
    "import thinkplot\n",
    "import nsfg"
   ]
  },
  {
   "cell_type": "code",
   "execution_count": 2,
   "metadata": {
    "collapsed": false
   },
   "outputs": [
    {
     "name": "stdout",
     "output_type": "stream",
     "text": [
      "coin test p-value 0.059\n"
     ]
    }
   ],
   "source": [
    "class CoinTest(thinkstats2.HypothesisTest):\n",
    "    \"\"\"Tests the hypothesis that a coin is fair.\"\"\"\n",
    "\n",
    "    def TestStatistic(self, data):\n",
    "        \"\"\"Computes the test statistic.\n",
    "\n",
    "        data: data in whatever form is relevant        \n",
    "        \"\"\"\n",
    "        heads, tails = data\n",
    "        test_stat = abs(heads - tails)\n",
    "        return test_stat\n",
    "\n",
    "    def RunModel(self):\n",
    "        \"\"\"Run the model of the null hypothesis.\n",
    "\n",
    "        returns: simulated data\n",
    "        \"\"\"\n",
    "        heads, tails = self.data\n",
    "        n = heads + tails\n",
    "        sample = [random.choice('HT') for _ in range(n)]\n",
    "        hist = thinkstats2.Hist(sample)\n",
    "        data = hist['H'], hist['T']\n",
    "        return data\n",
    "\n",
    "# run the coin test\n",
    "ct = CoinTest((140, 110))\n",
    "pvalue = ct.PValue()\n",
    "print ('coin test p-value', pvalue)"
   ]
  },
  {
   "cell_type": "markdown",
   "metadata": {},
   "source": [
    "## 检验均值差和其他统计量\n",
    "最常检验的效应之一是两组样本的均值差。例如全国家庭增长数据，测试第一胎和其他胎妊娠时间差异。\n",
    "\n",
    "- 置换（permutation）：从两组中取值混排，分为大小为n和m两个组，以此模拟原假设。\n",
    "- 单侧（one-sided）：之前是双侧（two-sided）检验。如果我们有理由认为第一胎可能出生较晚，那么就不应该检验差值，而是使用单侧检验。\n",
    "- 检验标准差的差值\n",
    "\n",
    "三种检验p值都很大，所以这个效应不是统计显著的。"
   ]
  },
  {
   "cell_type": "code",
   "execution_count": 4,
   "metadata": {
    "collapsed": true
   },
   "outputs": [],
   "source": [
    "def MakeFrames():\n",
    "    \"\"\"Reads pregnancy data and partitions first babies and others.\n",
    "\n",
    "    returns: DataFrames (all live births, first babies, others)\n",
    "    \"\"\"\n",
    "    preg = nsfg.ReadFemPreg()\n",
    "\n",
    "    live = preg[preg.outcome == 1]\n",
    "    firsts = live[live.birthord == 1]\n",
    "    others = live[live.birthord != 1]\n",
    "\n",
    "    assert len(live) == 9148\n",
    "    assert len(firsts) == 4413\n",
    "    assert len(others) == 4735\n",
    "\n",
    "    return live, firsts, others\n",
    "live, firsts, others = MakeFrames()"
   ]
  },
  {
   "cell_type": "code",
   "execution_count": 5,
   "metadata": {
    "collapsed": false
   },
   "outputs": [
    {
     "name": "stdout",
     "output_type": "stream",
     "text": [
      "\n",
      "prglngth\n",
      "\n",
      "means permute two-sided\n",
      "p-value = 0.151\n",
      "actual = 0.0780372667775\n",
      "ts max = 0.183327219593\n",
      "\n",
      "means permute one-sided\n",
      "p-value = 0.088\n",
      "actual = 0.0780372667775\n",
      "ts max = 0.166034355154\n",
      "\n",
      "std permute one-sided\n",
      "p-value = 0.1\n",
      "actual = 0.17600895914\n",
      "ts max = 0.339693796308\n"
     ]
    },
    {
     "data": {
      "image/png": "[encoded data removed]",
      "text/plain": [
       "<matplotlib.figure.Figure at 0x11b407b50>"
      ]
     },
     "metadata": {},
     "output_type": "display_data"
    }
   ],
   "source": [
    "class DiffMeansPermute(thinkstats2.HypothesisTest):\n",
    "    \"\"\"Tests a difference in means by permutation.\"\"\"\n",
    "\n",
    "    def TestStatistic(self, data):\n",
    "        \"\"\"Computes the test statistic.\n",
    "\n",
    "        data: data in whatever form is relevant        \n",
    "        \"\"\"\n",
    "        group1, group2 = data\n",
    "        test_stat = abs(group1.mean() - group2.mean())\n",
    "        return test_stat\n",
    "\n",
    "    def MakeModel(self):\n",
    "        \"\"\"Build a model of the null hypothesis.\n",
    "        \"\"\"\n",
    "        group1, group2 = self.data\n",
    "        self.n, self.m = len(group1), len(group2)\n",
    "        self.pool = np.hstack((group1, group2))\n",
    "\n",
    "    def RunModel(self):\n",
    "        \"\"\"Run the model of the null hypothesis.\n",
    "\n",
    "        returns: simulated data\n",
    "        \"\"\"\n",
    "        np.random.shuffle(self.pool)\n",
    "        data = self.pool[:self.n], self.pool[self.n:]\n",
    "        return data\n",
    "\n",
    "\n",
    "class DiffMeansOneSided(DiffMeansPermute):\n",
    "    \"\"\"Tests a one-sided difference in means by permutation.\"\"\"\n",
    "\n",
    "    def TestStatistic(self, data):\n",
    "        \"\"\"Computes the test statistic.\n",
    "\n",
    "        data: data in whatever form is relevant        \n",
    "        \"\"\"\n",
    "        group1, group2 = data\n",
    "        test_stat = group1.mean() - group2.mean()\n",
    "        return test_stat\n",
    "\n",
    "\n",
    "class DiffStdPermute(DiffMeansPermute):\n",
    "    \"\"\"Tests a one-sided difference in standard deviation by permutation.\"\"\"\n",
    "\n",
    "    def TestStatistic(self, data):\n",
    "        \"\"\"Computes the test statistic.\n",
    "\n",
    "        data: data in whatever form is relevant        \n",
    "        \"\"\"\n",
    "        group1, group2 = data\n",
    "        test_stat = group1.std() - group2.std()\n",
    "        return test_stat\n",
    "\n",
    "    \n",
    "def PrintTest(p_value, ht):\n",
    "    \"\"\"Prints results from a hypothesis test.\n",
    "\n",
    "    p_value: float\n",
    "    ht: HypothesisTest\n",
    "    \"\"\"\n",
    "    print('p-value =', p_value)\n",
    "    print('actual =', ht.actual)\n",
    "    print('ts max =', ht.MaxTestStat())\n",
    "\n",
    "\n",
    "def RunTests(data, iters=1000):\n",
    "    \"\"\"Runs several tests on the given data.\n",
    "\n",
    "    data: pair of sequences\n",
    "    iters: number of iterations to run\n",
    "    \"\"\"\n",
    "\n",
    "    # test the difference in means\n",
    "    ht = DiffMeansPermute(data)\n",
    "    p_value = ht.PValue(iters=iters)\n",
    "    print('\\nmeans permute two-sided')\n",
    "    PrintTest(p_value, ht)\n",
    "\n",
    "    ht.PlotCdf()\n",
    "    thinkplot.Config(root='hypothesis1',\n",
    "                   title='Permutation test',\n",
    "                   xlabel='difference in means (weeks)',\n",
    "                   ylabel='CDF',\n",
    "                   legend=False) \n",
    "    \n",
    "    # test the difference in means one-sided\n",
    "    ht = DiffMeansOneSided(data)\n",
    "    p_value = ht.PValue(iters=iters)\n",
    "    print('\\nmeans permute one-sided')\n",
    "    PrintTest(p_value, ht)\n",
    "\n",
    "    # test the difference in std\n",
    "    ht = DiffStdPermute(data)\n",
    "    p_value = ht.PValue(iters=iters)\n",
    "    print('\\nstd permute one-sided')\n",
    "    PrintTest(p_value, ht)\n",
    "\n",
    "# compare pregnancy lengths\n",
    "print('\\nprglngth')\n",
    "data = firsts.prglngth.values, others.prglngth.values\n",
    "RunTests(data)"
   ]
  },
  {
   "cell_type": "markdown",
   "metadata": {},
   "source": [
    "第一组数据（置换检验）：CDF与观察到的差值（0.07）在0.82（即p值0.18的补）处相交。"
   ]
  },
  {
   "cell_type": "code",
   "execution_count": 6,
   "metadata": {
    "collapsed": false
   },
   "outputs": [
    {
     "name": "stdout",
     "output_type": "stream",
     "text": [
      "\n",
      "birth weight\n",
      "means permute two-sided\n",
      "p-value = 0.0\n",
      "actual = 0.124761184535\n",
      "ts max = 0.0899775334883\n"
     ]
    }
   ],
   "source": [
    "# compare birth weights\n",
    "print('\\nbirth weight')\n",
    "data = (firsts.totalwgt_lb.dropna().values,\n",
    "        others.totalwgt_lb.dropna().values)\n",
    "ht = DiffMeansPermute(data)\n",
    "p_value = ht.PValue(iters=1000)\n",
    "print('means permute two-sided')\n",
    "PrintTest(p_value, ht)"
   ]
  },
  {
   "cell_type": "markdown",
   "metadata": {},
   "source": [
    "使用新生儿体重进行分析，得到p值为0。运行1000次模拟，均值差都没有达到观察到的差值0.12磅。因此，我们将报告p<0.001，得出结论为，新生儿体重的差值是统计显著的。\n",
    "\n",
    "## 检验相关性\n",
    "- 检验的原假设是母亲年龄和新生儿体重之间没有相关性。我们可以将观察值混排进行模拟。\n",
    "- TestStatistic计算Pearson相关性的绝对值。RunModel将xs进行混排，返回模拟数据。\n",
    "- 实际数据的相关性为0.07。检验计算得到的p值为0。在1000次重复试验中，模拟得到的最大相关性0.04。因此，虽然观察到的变量相关性很小，但这种相关性是统计显著的。\n",
    "- “统计显著”不一定说明一个效应是重要的，或者在实践中是显著的。只说明一个效应不太可能是偶然产生的。"
   ]
  },
  {
   "cell_type": "code",
   "execution_count": 7,
   "metadata": {
    "collapsed": false
   },
   "outputs": [
    {
     "name": "stdout",
     "output_type": "stream",
     "text": [
      "\n",
      "age weight correlation 2\n",
      "p-value = 0.0\n",
      "actual = 0.0688339703541\n",
      "ts max = 0.031025636795\n"
     ]
    }
   ],
   "source": [
    "class CorrelationPermute(thinkstats2.HypothesisTest):\n",
    "    \"\"\"Tests correlations by permutation.\"\"\"\n",
    "\n",
    "    def TestStatistic(self, data):\n",
    "        \"\"\"Computes the test statistic.\n",
    "\n",
    "        data: tuple of xs and ys\n",
    "        \"\"\"\n",
    "        xs, ys = data\n",
    "        test_stat = abs(thinkstats2.Corr(xs, ys))\n",
    "        return test_stat\n",
    "\n",
    "    def RunModel(self):\n",
    "        \"\"\"Run the model of the null hypothesis.\n",
    "\n",
    "        returns: simulated data\n",
    "        \"\"\"\n",
    "        xs, ys = self.data\n",
    "        xs = np.random.permutation(xs)\n",
    "        return xs, ys\n",
    "# test correlation\n",
    "live2 = live.dropna(subset=['agepreg', 'totalwgt_lb'])\n",
    "data = live2.agepreg.values, live2.totalwgt_lb.values\n",
    "ht = CorrelationPermute(data)\n",
    "p_value = ht.PValue()\n",
    "print('\\nage weight correlation 2')\n",
    "PrintTest(p_value, ht)"
   ]
  },
  {
   "cell_type": "markdown",
   "metadata": {},
   "source": [
    "## 检验比例与卡方检验\n",
    "检验骰子是否有问题，将骰子掷了60次，结果如下：\n",
    "\n",
    "| 点数 | 频数 |\n",
    "| --- | --- |\n",
    "| 1 | 8 |\n",
    "| 2 | 9 |\n",
    "| 3 | 19 |\n",
    "| 4 | 5 |\n",
    "| 5 | 8 |\n",
    "| 6 | 11 |\n",
    "\n",
    "### 偏差总和统计量\n",
    "每个点数平均出现10次，在这个数据集中，3出现的次数较多，4较少。这些差异统计显著嘛？在这个例子中，我们计算出每个值的预期频数、预期频数与观察频数的差值，以及差值绝对值的和。检验统计量是差值绝对值的和。计算的到p值为0.13，我们预期检验统计量达到或超过观察值的概率为13%，因此，这个直观效应不是统计显著的。\n",
    "\n",
    "### 卡方统计量\n",
    "$x^2=\\sum_i\\frac{(O_i-E_i)^2}{E_i}$\n",
    "\n",
    "其中$O_i$是观察频数，$E_i$是预期频数。"
   ]
  },
  {
   "cell_type": "code",
   "execution_count": 8,
   "metadata": {
    "collapsed": false
   },
   "outputs": [
    {
     "name": "stdout",
     "output_type": "stream",
     "text": [
      "dice test 0.1279\n",
      "dice chi test 0.0438\n"
     ]
    }
   ],
   "source": [
    "class DiceTest(thinkstats2.HypothesisTest):\n",
    "    \"\"\"Tests whether a six-sided die is fair.\"\"\"\n",
    "\n",
    "    def TestStatistic(self, data):\n",
    "        \"\"\"Computes the test statistic.\n",
    "\n",
    "        data: list of frequencies\n",
    "        \"\"\"\n",
    "        observed = data\n",
    "        n = sum(observed)\n",
    "        expected = np.ones(6) * n / 6\n",
    "        test_stat = sum(abs(observed - expected))\n",
    "        return test_stat\n",
    "\n",
    "    def RunModel(self):\n",
    "        \"\"\"Run the model of the null hypothesis.\n",
    "\n",
    "        returns: simulated data\n",
    "        \"\"\"\n",
    "        n = sum(self.data)\n",
    "        values = [1,2,3,4,5,6]\n",
    "        rolls = np.random.choice(values, n, replace=True)\n",
    "        hist = thinkstats2.Hist(rolls)\n",
    "        freqs = hist.Freqs(values)\n",
    "        return freqs\n",
    "\n",
    "class DiceChiTest(DiceTest):\n",
    "    \"\"\"Tests a six-sided die using a chi-squared statistic.\"\"\"\n",
    "\n",
    "    def TestStatistic(self, data):\n",
    "        \"\"\"Computes the test statistic.\n",
    "\n",
    "        data: list of frequencies\n",
    "        \"\"\"\n",
    "        observed = data\n",
    "        n = sum(observed)\n",
    "        expected = np.ones(6) * n / 6\n",
    "        test_stat = sum((observed - expected)**2 / expected)\n",
    "        return test_stat\n",
    "\n",
    "def RunDiceTest():\n",
    "    \"\"\"Tests whether a die is fair.\n",
    "    \"\"\"\n",
    "    data = [8, 9, 19, 5, 8, 11]\n",
    "    dt = DiceTest(data)\n",
    "    print('dice test', dt.PValue(iters=10000))\n",
    "    dt = DiceChiTest(data)\n",
    "    print('dice chi test', dt.PValue(iters=10000))\n",
    "# run the dice test\n",
    "RunDiceTest()"
   ]
  },
  {
   "cell_type": "markdown",
   "metadata": {},
   "source": [
    "使用卡方统计量计算的p值为0.04，明显小于使用偏差和的值0.13，如果我们坚持使用5%的阈值，就会认为受检测的效应是统计显著的。但是，将这两个检验放在一起考虑，结果并不明确。\n",
    "\n",
    "这个例子告诉我们：p值取决于检验统计量的选择和原假设模型，有时这些因素决定了一个效应是否统计显著。"
   ]
  },
  {
   "cell_type": "code",
   "execution_count": 9,
   "metadata": {
    "collapsed": false
   },
   "outputs": [
    {
     "name": "stdout",
     "output_type": "stream",
     "text": [
      "\n",
      "pregnancy length chi-squared\n",
      "p-value = 0.0\n",
      "actual = 101.501414829\n",
      "ts max = 26.3476744126\n"
     ]
    }
   ],
   "source": [
    "class PregLengthTest(thinkstats2.HypothesisTest):\n",
    "    \"\"\"Tests difference in pregnancy length using a chi-squared statistic.\"\"\"\n",
    "\n",
    "    def TestStatistic(self, data):\n",
    "        \"\"\"Computes the test statistic.\n",
    "\n",
    "        data: pair of lists of pregnancy lengths\n",
    "        \"\"\"\n",
    "        firsts, others = data\n",
    "        stat = self.ChiSquared(firsts) + self.ChiSquared(others)\n",
    "        return stat\n",
    "\n",
    "    def ChiSquared(self, lengths):\n",
    "        \"\"\"Computes the chi-squared statistic.\n",
    "        \n",
    "        lengths: sequence of lengths\n",
    "\n",
    "        returns: float\n",
    "        \"\"\"\n",
    "        hist = thinkstats2.Hist(lengths)\n",
    "        observed = np.array(hist.Freqs(self.values))\n",
    "        expected = self.expected_probs * len(lengths)\n",
    "        stat = sum((observed - expected)**2 / expected)\n",
    "        return stat\n",
    "\n",
    "    def MakeModel(self):\n",
    "        \"\"\"Build a model of the null hypothesis.\n",
    "        \"\"\"\n",
    "        firsts, others = self.data\n",
    "        self.n = len(firsts)\n",
    "        self.pool = np.hstack((firsts, others))\n",
    "\n",
    "        pmf = thinkstats2.Pmf(self.pool)\n",
    "        self.values = range(35, 44)\n",
    "        self.expected_probs = np.array(pmf.Probs(self.values))\n",
    "\n",
    "    def RunModel(self):\n",
    "        \"\"\"Run the model of the null hypothesis.\n",
    "\n",
    "        returns: simulated data\n",
    "        \"\"\"\n",
    "        np.random.shuffle(self.pool)\n",
    "        data = self.pool[:self.n], self.pool[self.n:]\n",
    "        return data\n",
    "# compare pregnancy lengths (chi-squared)\n",
    "data = firsts.prglngth.values, others.prglngth.values\n",
    "ht = PregLengthTest(data)\n",
    "p_value = ht.PValue()\n",
    "print('\\npregnancy length chi-squared')\n",
    "PrintTest(p_value, ht)"
   ]
  },
  {
   "cell_type": "markdown",
   "metadata": {},
   "source": [
    "用卡方统计量检验第一胎和其他胎的妊娠时间：全国家庭增长调查数据的总卡方统计量为102，这个数字本身没有什么意义。但在原假设下，1000次重复产生的最大验证统计量是30。对比之下，我们认为观察到的卡方统计量在原假设下不太可能出现，因此这个直观效应是统计显著的。\n",
    "\n",
    "这个例子说明卡方检验存在一个局限：卡方检验可以证明两个群组之间存在差异，但不能揭示这个差异是什么。\n",
    "\n",
    "## 误差\n",
    "- 误报率（false positive rate）：如果一个效应的确是偶然发生的，那么我们将它误判为统计显著的概率是多少？\n",
    "- 漏报率（false negative rate）：如果一个效应不是偶然发生的，那么假设检验失败的概率是多少？\n",
    "\n",
    "如果阈值为5%，那么漏报率就是5%，理由如下：\n",
    "- 如果效应不为真，那么原假设成立，因此，通过模拟原假设就可以计算出检验统计量的分布。我们将这个分布称为$CDF_T$。\n",
    "- 重复运行实验，每次得到一个来自$CDF_T$的测试统计量t。随后，我们计算出p值。p值是$CDF_T$中随机值大于t的概率，即$1-CDF_T(t)$。\n",
    "- 当$CDF_T(t)$大于95%，即t大于第95百分秩时，p值小于5%。而$CDF_T$中随机抽取的值大于第95百分秩的概率为多少？答案是5%。\n",
    "\n",
    "因此，如果你进行一个阈值为5%的假设检验，20次里会有1次漏报。\n",
    "\n",
    "## 功效\n",
    "误报率受实际效应大小的影响，而通常我们无法得知实际效应的大小，因此误报率较难计算。一个办法是计算一个假定效应大小的误报率。\n",
    "\n",
    "检验妊娠时间，结果约为70%。这个结果说明，如果妊娠时间均值的实际差异为0.78周，那么我们预期，如果使用这个规模的样本进行实验，结果有70%的可能性为误报。\n",
    "\n",
    "另一种方式描述结果：如果实际差异为0.78周，那么我们预期检验通过的可能性只有30%。这个“正确通过率”称为检验的功效(power)，有时也称为“敏感度”（sensitivity）。这个值反映了一个检验检测出指定大小效应的能力。\n",
    "\n",
    "在这个示例中，这个检验结果通过的可能性只有30%（假设实际差异为0.78周）。一般来说，我们认为80%的功效是可接受的，因此示例中的检验属于“低功效的”（underpowered）。\n",
    "\n",
    "通常，假设检验失败并不说明两个群组之间不存在差异，而是说，如果差异的确存在的话，这个差异太小，以至于无法在这种规模的样本中检测到。"
   ]
  },
  {
   "cell_type": "code",
   "execution_count": 10,
   "metadata": {
    "collapsed": false
   },
   "outputs": [
    {
     "name": "stdout",
     "output_type": "stream",
     "text": [
      "false neg rate 0.701\n"
     ]
    }
   ],
   "source": [
    "def FalseNegRate(data, num_runs=1000):\n",
    "    \"\"\"Computes the chance of a false negative based on resampling.\n",
    "\n",
    "    data: pair of sequences\n",
    "    num_runs: how many experiments to simulate\n",
    "\n",
    "    returns: float false negative rate\n",
    "    \"\"\"\n",
    "    group1, group2 = data\n",
    "    count = 0\n",
    "\n",
    "    for i in range(num_runs):\n",
    "        sample1 = thinkstats2.Resample(group1)\n",
    "        sample2 = thinkstats2.Resample(group2)\n",
    "        ht = DiffMeansPermute((sample1, sample2))\n",
    "        p_value = ht.PValue(iters=101)\n",
    "        if p_value > 0.05:\n",
    "            count += 1\n",
    "\n",
    "    return count / num_runs\n",
    "# compute the false negative rate for difference in pregnancy length\n",
    "data = firsts.prglngth.values, others.prglngth.values\n",
    "neg_rate = FalseNegRate(data)\n",
    "print('false neg rate', neg_rate)"
   ]
  },
  {
   "cell_type": "markdown",
   "metadata": {},
   "source": [
    "## 复现\n",
    "第一版使用的是全国家庭增长调查的第6周期数据，发布于2002年。2011年10月，疾病控制和预防中心发布了基于2006~2010年调查附加数据。nsfg2.py中包含读取和清洗这些数据的代码。在这个心数据集中：\n",
    "- 妊娠时间均值差为0.16周，p<0.001，是统计显著的（原始数据中均值差为0.078周）\n",
    "- 新生儿体重的差值为0.17磅，p<0.001（原始数据中差值为0.12磅）\n",
    "- 新生儿体重与母亲年龄之间的相关性为0.08，p<0.001（原始数据中相关性为0.07）\n",
    "- 卡方检验结果p<0.001，是统计显著的（原始数据也是如此）\n",
    "\n",
    "原始数据中所有统计显著的效应，在新数据集中得到了复现。此外，妊娠时间差值在原始数据中不显著，在新数据集中这个差值变大，由不显著变为显著。"
   ]
  },
  {
   "cell_type": "code",
   "execution_count": 12,
   "metadata": {
    "collapsed": false
   },
   "outputs": [
    {
     "name": "stdout",
     "output_type": "stream",
     "text": [
      "\n",
      "prglngth2\n",
      "means permute two-sided\n",
      "p-value = 0.0\n",
      "actual = 0.164708338667\n",
      "ts max = 0.14194274494\n",
      "\n",
      "birth weight 2\n",
      "means permute two-sided\n",
      "p-value = 0.0\n",
      "actual = 0.170870412946\n",
      "ts max = 0.0930818843361\n",
      "\n",
      "age weight correlation 2\n",
      "p-value = 0.0\n",
      "actual = 0.0808183040947\n",
      "ts max = 0.0305377196587\n",
      "\n",
      "pregnancy length chi-squared 2\n",
      "p-value = 0.0\n",
      "actual = 145.214547488\n",
      "ts max = 25.6167521177\n"
     ]
    }
   ],
   "source": [
    "def ReplicateTests():    \n",
    "    \"\"\"Replicates tests with the new NSFG data.\"\"\"\n",
    "    import nsfg2\n",
    "    live, firsts, others = nsfg2.MakeFrames()\n",
    "\n",
    "    # compare pregnancy lengths\n",
    "    print('\\nprglngth2')\n",
    "    data = firsts.prglngth.values, others.prglngth.values\n",
    "    ht = DiffMeansPermute(data)\n",
    "    p_value = ht.PValue(iters=1000)\n",
    "    print('means permute two-sided')\n",
    "    PrintTest(p_value, ht)\n",
    "\n",
    "    print('\\nbirth weight 2')\n",
    "    data = (firsts.totalwgt_lb.dropna().values,\n",
    "            others.totalwgt_lb.dropna().values)\n",
    "    ht = DiffMeansPermute(data)\n",
    "    p_value = ht.PValue(iters=1000)\n",
    "    print('means permute two-sided')\n",
    "    PrintTest(p_value, ht)\n",
    "\n",
    "    # test correlation\n",
    "    live2 = live.dropna(subset=['agepreg', 'totalwgt_lb'])\n",
    "    data = live2.agepreg.values, live2.totalwgt_lb.values\n",
    "    ht = CorrelationPermute(data)\n",
    "    p_value = ht.PValue()\n",
    "    print('\\nage weight correlation 2')\n",
    "    PrintTest(p_value, ht)\n",
    "\n",
    "    # compare pregnancy lengths (chi-squared)\n",
    "    data = firsts.prglngth.values, others.prglngth.values\n",
    "    ht = PregLengthTest(data)\n",
    "    p_value = ht.PValue()\n",
    "    print('\\npregnancy length chi-squared 2')\n",
    "    PrintTest(p_value, ht)\n",
    "# run the tests with new nsfg data\n",
    "ReplicateTests()"
   ]
  },
  {
   "cell_type": "code",
   "execution_count": null,
   "metadata": {
    "collapsed": true
   },
   "outputs": [],
   "source": []
  }
 ],
 "metadata": {
  "kernelspec": {
   "display_name": "Python [Root]",
   "language": "python",
   "name": "Python [Root]"
  },
  "language_info": {
   "codemirror_mode": {
    "name": "ipython",
    "version": 2
   },
   "file_extension": ".py",
   "mimetype": "text/x-python",
   "name": "python",
   "nbconvert_exporter": "python",
   "pygments_lexer": "ipython2",
   "version": "2.7.12"
  }
 },
 "nbformat": 4,
 "nbformat_minor": 0
}
