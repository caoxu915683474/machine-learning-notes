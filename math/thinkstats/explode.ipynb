{
 "cells": [
  {
   "cell_type": "markdown",
   "metadata": {},
   "source": [
    "# 探索性数据分析\n",
    "- 2002FemPreg.dat.gz 第6次全国家庭增长的妊娠数据\n",
    "- 2002FemPreg.dct    一个Stata字典文件，记录数据格式\n",
    "\n",
    "## 导入数据"
   ]
  },
  {
   "cell_type": "code",
   "execution_count": 1,
   "metadata": {
    "collapsed": true
   },
   "outputs": [],
   "source": [
    "%matplotlib inline\n",
    "from __future__ import print_function, division\n",
    "\n",
    "from collections import defaultdict\n",
    "import numpy as np\n",
    "import pandas\n",
    "import sys\n",
    "import nsfg"
   ]
  },
  {
   "cell_type": "code",
   "execution_count": 2,
   "metadata": {
    "collapsed": false
   },
   "outputs": [
    {
     "name": "stdout",
     "output_type": "stream",
     "text": [
      "(13593, 244)\n",
      "All tests passed.\n"
     ]
    }
   ],
   "source": [
    "nsfg.test()"
   ]
  },
  {
   "cell_type": "code",
   "execution_count": 3,
   "metadata": {
    "collapsed": false
   },
   "outputs": [
    {
     "data": {
      "text/plain": [
       "(13593, 244)"
      ]
     },
     "execution_count": 3,
     "metadata": {},
     "output_type": "execute_result"
    }
   ],
   "source": [
    "df = nsfg.ReadFemPreg()\n",
    "df.shape"
   ]
  },
  {
   "cell_type": "code",
   "execution_count": 4,
   "metadata": {
    "collapsed": false
   },
   "outputs": [
    {
     "data": {
      "text/plain": [
       "Index([         u'caseid',        u'pregordr',       u'howpreg_n',\n",
       "             u'howpreg_p',        u'moscurrp',        u'nowprgdk',\n",
       "              u'pregend1',        u'pregend2',        u'nbrnaliv',\n",
       "              u'multbrth',\n",
       "       ...\n",
       "            u'laborfor_i',      u'religion_i',         u'metro_i',\n",
       "               u'basewgt', u'adj_mod_basewgt',        u'finalwgt',\n",
       "                u'secu_p',            u'sest',         u'cmintvw',\n",
       "           u'totalwgt_lb'],\n",
       "      dtype='object', length=244)"
      ]
     },
     "execution_count": 4,
     "metadata": {},
     "output_type": "execute_result"
    }
   ],
   "source": [
    "df.columns"
   ]
  },
  {
   "cell_type": "markdown",
   "metadata": {},
   "source": [
    "## 用到的变量\n",
    "- caseid:调查参与者的整数ID\n",
    "- prglength:妊娠周数，是一个整数\n",
    "- outcome:怀孕结果的整数代码。1代表成功生产\n",
    "- pregordr:妊娠的顺序号。例如，一位调查参与者的第一次妊娠为1，第二次为2，以此类推\n",
    "- birthord:成功生产的顺序号，一位调查参与者的第一个孩子代码为1，以此类推。对没有成功生产的其他妊娠结果，此字段为空\n",
    "- birthwgt_lb和birthwgt_oz:新生儿体重的磅部分数值和盎司部分数值\n",
    "- agepreg:妊娠结束时母亲的年龄\n",
    "- finalwgt:调查参与者的统计权重。这是一个浮点数，表示这位调查参与者在全美人口中代表的人数\n",
    "\n",
    "## 数据变换\n",
    "nsfg.py中CleanFemPreg函数，用于清洗计划使用到的变量。\n",
    "\n",
    "## 解释数据\n",
    "1表示成功分娩，4表示流产。"
   ]
  },
  {
   "cell_type": "code",
   "execution_count": 5,
   "metadata": {
    "collapsed": false
   },
   "outputs": [
    {
     "data": {
      "text/plain": [
       "array([4, 4, 4, 4, 4, 4, 1])"
      ]
     },
     "execution_count": 5,
     "metadata": {},
     "output_type": "execute_result"
    }
   ],
   "source": [
    "preg_map = nsfg.MakePregMap(df)\n",
    "caseid = 10229\n",
    "indices = preg_map[caseid]\n",
    "df.outcome[indices].values"
   ]
  },
  {
   "cell_type": "code",
   "execution_count": null,
   "metadata": {
    "collapsed": true
   },
   "outputs": [],
   "source": []
  }
 ],
 "metadata": {
  "kernelspec": {
   "display_name": "Python [Root]",
   "language": "python",
   "name": "Python [Root]"
  },
  "language_info": {
   "codemirror_mode": {
    "name": "ipython",
    "version": 2
   },
   "file_extension": ".py",
   "mimetype": "text/x-python",
   "name": "python",
   "nbconvert_exporter": "python",
   "pygments_lexer": "ipython2",
   "version": "2.7.12"
  }
 },
 "nbformat": 4,
 "nbformat_minor": 0
}
