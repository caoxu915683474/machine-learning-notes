{
 "cells": [
  {
   "cell_type": "markdown",
   "metadata": {},
   "source": [
    "# 6 正交性和最小二乘法\n",
    "## 6.1 内积、长度和正交性\n",
    "![](http://ou8qjsj0m.bkt.clouddn.com//17-11-27/93755384.jpg)\n",
    "\n",
    "## 6.2 正交集\n",
    "![](http://ou8qjsj0m.bkt.clouddn.com//17-11-27/13958998.jpg)\n",
    "![](http://ou8qjsj0m.bkt.clouddn.com//17-11-27/60635402.jpg)\n",
    "![](http://ou8qjsj0m.bkt.clouddn.com//17-11-27/81558687.jpg)\n",
    "![](http://ou8qjsj0m.bkt.clouddn.com//17-11-27/62547761.jpg)\n",
    "![](http://ou8qjsj0m.bkt.clouddn.com//17-11-27/57171184.jpg)\n",
    "\n",
    "## 6.3 正交投影\n",
    "![](http://ou8qjsj0m.bkt.clouddn.com//17-11-27/23509906.jpg)\n",
    "![](http://ou8qjsj0m.bkt.clouddn.com//17-11-27/94558512.jpg)\n",
    "![](http://ou8qjsj0m.bkt.clouddn.com//17-11-27/76947963.jpg)\n",
    "![](http://ou8qjsj0m.bkt.clouddn.com//17-11-27/152612.jpg)\n",
    "![](http://ou8qjsj0m.bkt.clouddn.com//17-11-27/87112003.jpg)\n",
    "\n",
    "## 6.4 格拉姆-施密特方法(The Gram-Schmidt Process)与QR分解\n",
    "![](http://ou8qjsj0m.bkt.clouddn.com//17-11-27/48834853.jpg)\n",
    "![](http://ou8qjsj0m.bkt.clouddn.com//17-11-27/89311410.jpg)\n",
    "\n",
    "## 6.5 最小二乘问题(Least-Squares Problems)\n",
    "![](http://ou8qjsj0m.bkt.clouddn.com//17-11-27/45756325.jpg)\n",
    "![](http://ou8qjsj0m.bkt.clouddn.com//17-11-27/54367052.jpg)\n",
    "![](http://ou8qjsj0m.bkt.clouddn.com//17-11-27/63943370.jpg)"
   ]
  },
  {
   "cell_type": "code",
   "execution_count": null,
   "metadata": {
    "collapsed": true
   },
   "outputs": [],
   "source": []
  }
 ],
 "metadata": {
  "kernelspec": {
   "display_name": "Python [Root]",
   "language": "python",
   "name": "Python [Root]"
  },
  "language_info": {
   "codemirror_mode": {
    "name": "ipython",
    "version": 2
   },
   "file_extension": ".py",
   "mimetype": "text/x-python",
   "name": "python",
   "nbconvert_exporter": "python",
   "pygments_lexer": "ipython2",
   "version": "2.7.12"
  }
 },
 "nbformat": 4,
 "nbformat_minor": 0
}
