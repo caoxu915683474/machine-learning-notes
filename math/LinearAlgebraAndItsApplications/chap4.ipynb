{
 "cells": [
  {
   "cell_type": "markdown",
   "metadata": {},
   "source": [
    "# 4 向量空间\n",
    "## 4.1 向量空间与子空间\n",
    "![](http://ou8qjsj0m.bkt.clouddn.com//17-11-26/12650977.jpg)\n",
    "\n",
    "## 4.2 零空间、列空间和线性变换\n",
    "![](http://ou8qjsj0m.bkt.clouddn.com//17-11-26/84819811.jpg)\n",
    "![](http://ou8qjsj0m.bkt.clouddn.com//17-11-26/3512670.jpg)\n",
    "![](http://ou8qjsj0m.bkt.clouddn.com//17-11-26/22108471.jpg)\n",
    "\n",
    "## 4.3 线性无关集和基\n",
    "![](http://ou8qjsj0m.bkt.clouddn.com//17-11-26/50905924.jpg)\n",
    "![](http://ou8qjsj0m.bkt.clouddn.com//17-11-26/82024729.jpg)\n",
    "\n",
    "## 4.4 坐标系\n",
    "![](http://ou8qjsj0m.bkt.clouddn.com//17-11-26/1015474.jpg)\n",
    "![](http://ou8qjsj0m.bkt.clouddn.com//17-11-26/47323938.jpg)\n",
    "![](http://ou8qjsj0m.bkt.clouddn.com//17-11-26/42208381.jpg)\n",
    "![](http://ou8qjsj0m.bkt.clouddn.com//17-11-26/20389746.jpg)\n",
    "![](http://ou8qjsj0m.bkt.clouddn.com//17-11-26/74584512.jpg)\n",
    "![](http://ou8qjsj0m.bkt.clouddn.com//17-11-26/50841353.jpg)\n",
    "\n",
    "## 4.5 向量空间的维数\n",
    "![](http://ou8qjsj0m.bkt.clouddn.com//17-11-26/72896601.jpg)\n",
    "\n",
    "## 4.6 秩\n",
    "![](http://ou8qjsj0m.bkt.clouddn.com//17-11-26/65527214.jpg)\n",
    "![](http://ou8qjsj0m.bkt.clouddn.com//17-11-26/67165984.jpg)\n",
    "![](http://ou8qjsj0m.bkt.clouddn.com//17-11-26/1984638.jpg)\n",
    "\n",
    "## 4.7 基的变换\n",
    "![](http://ou8qjsj0m.bkt.clouddn.com//17-11-26/64947489.jpg)\n",
    "\n",
    "## 4.8 差分方程中的应用\n",
    "![](http://ou8qjsj0m.bkt.clouddn.com//17-11-26/373214.jpg)"
   ]
  },
  {
   "cell_type": "code",
   "execution_count": null,
   "metadata": {
    "collapsed": true
   },
   "outputs": [],
   "source": []
  }
 ],
 "metadata": {
  "kernelspec": {
   "display_name": "Python [Root]",
   "language": "python",
   "name": "Python [Root]"
  },
  "language_info": {
   "codemirror_mode": {
    "name": "ipython",
    "version": 2
   },
   "file_extension": ".py",
   "mimetype": "text/x-python",
   "name": "python",
   "nbconvert_exporter": "python",
   "pygments_lexer": "ipython2",
   "version": "2.7.12"
  }
 },
 "nbformat": 4,
 "nbformat_minor": 0
}
