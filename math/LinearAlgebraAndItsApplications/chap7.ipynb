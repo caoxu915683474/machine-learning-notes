{
 "cells": [
  {
   "cell_type": "markdown",
   "metadata": {},
   "source": [
    "# 7 对称矩阵和二次型\n",
    "## 7.1 对称矩阵的对角化\n",
    "![](http://ou8qjsj0m.bkt.clouddn.com//17-11-27/58756885.jpg)\n",
    "\n",
    "## 7.2 二次型\n",
    "![](http://ou8qjsj0m.bkt.clouddn.com//17-11-27/51530209.jpg)\n",
    "![](http://ou8qjsj0m.bkt.clouddn.com//17-11-27/23210394.jpg)\n",
    "\n",
    "## 7.3 条件优化\n",
    "![](http://ou8qjsj0m.bkt.clouddn.com//17-11-27/36319337.jpg)\n",
    "\n",
    "## 7.4 奇异值分解\n",
    "![](http://ou8qjsj0m.bkt.clouddn.com//17-11-27/79472722.jpg)"
   ]
  },
  {
   "cell_type": "code",
   "execution_count": null,
   "metadata": {
    "collapsed": true
   },
   "outputs": [],
   "source": []
  }
 ],
 "metadata": {
  "kernelspec": {
   "display_name": "Python [Root]",
   "language": "python",
   "name": "Python [Root]"
  },
  "language_info": {
   "codemirror_mode": {
    "name": "ipython",
    "version": 2
   },
   "file_extension": ".py",
   "mimetype": "text/x-python",
   "name": "python",
   "nbconvert_exporter": "python",
   "pygments_lexer": "ipython2",
   "version": "2.7.12"
  }
 },
 "nbformat": 4,
 "nbformat_minor": 0
}
