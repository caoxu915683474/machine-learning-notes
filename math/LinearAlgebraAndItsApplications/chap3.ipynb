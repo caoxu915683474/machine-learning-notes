{
 "cells": [
  {
   "cell_type": "markdown",
   "metadata": {},
   "source": [
    "# 3 行列式\n",
    "## 3.1 行列式介绍\n",
    "![](http://ou8qjsj0m.bkt.clouddn.com//17-11-26/74894320.jpg)\n",
    "\n",
    "## 3.2 行列式的性质\n",
    "![](http://ou8qjsj0m.bkt.clouddn.com//17-11-26/27599454.jpg)\n",
    "\n",
    "## 3.3 克拉默法则、体积和线性变换\n",
    "![](http://ou8qjsj0m.bkt.clouddn.com//17-11-26/76503086.jpg)"
   ]
  },
  {
   "cell_type": "code",
   "execution_count": null,
   "metadata": {
    "collapsed": true
   },
   "outputs": [],
   "source": []
  }
 ],
 "metadata": {
  "kernelspec": {
   "display_name": "Python [Root]",
   "language": "python",
   "name": "Python [Root]"
  },
  "language_info": {
   "codemirror_mode": {
    "name": "ipython",
    "version": 2
   },
   "file_extension": ".py",
   "mimetype": "text/x-python",
   "name": "python",
   "nbconvert_exporter": "python",
   "pygments_lexer": "ipython2",
   "version": "2.7.12"
  }
 },
 "nbformat": 4,
 "nbformat_minor": 0
}
