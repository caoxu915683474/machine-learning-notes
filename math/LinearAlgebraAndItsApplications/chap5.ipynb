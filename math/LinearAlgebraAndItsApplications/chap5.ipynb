{
 "cells": [
  {
   "cell_type": "markdown",
   "metadata": {},
   "source": [
    "# 5 特征值与特征向量\n",
    "## 5.1 特征向量与特征值\n",
    "![](http://ou8qjsj0m.bkt.clouddn.com//17-11-26/38751237.jpg)\n",
    "\n",
    "## 5.2 特征方程\n",
    "![](http://ou8qjsj0m.bkt.clouddn.com//17-11-26/27537226.jpg)\n",
    "\n",
    "## 5.3 对角化\n",
    "![](http://ou8qjsj0m.bkt.clouddn.com//17-11-26/36942731.jpg)\n",
    "![](http://ou8qjsj0m.bkt.clouddn.com//17-11-26/55414708.jpg)\n",
    "\n",
    "## 5.4 特征向量与线性变换\n",
    "![](http://ou8qjsj0m.bkt.clouddn.com//17-11-26/18363886.jpg)\n",
    "\n",
    "## 5.8 特征值的迭代估计\n",
    "![](http://ou8qjsj0m.bkt.clouddn.com//17-11-26/80904437.jpg)"
   ]
  },
  {
   "cell_type": "code",
   "execution_count": null,
   "metadata": {
    "collapsed": true
   },
   "outputs": [],
   "source": []
  }
 ],
 "metadata": {
  "kernelspec": {
   "display_name": "Python [Root]",
   "language": "python",
   "name": "Python [Root]"
  },
  "language_info": {
   "codemirror_mode": {
    "name": "ipython",
    "version": 2
   },
   "file_extension": ".py",
   "mimetype": "text/x-python",
   "name": "python",
   "nbconvert_exporter": "python",
   "pygments_lexer": "ipython2",
   "version": "2.7.12"
  }
 },
 "nbformat": 4,
 "nbformat_minor": 0
}
