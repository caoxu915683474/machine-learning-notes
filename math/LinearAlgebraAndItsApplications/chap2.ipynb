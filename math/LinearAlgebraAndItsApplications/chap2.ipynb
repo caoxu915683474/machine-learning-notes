{
 "cells": [
  {
   "cell_type": "markdown",
   "metadata": {},
   "source": [
    "# 2 矩阵代数\n",
    "## 2.1 矩阵运算\n",
    "![](http://ou8qjsj0m.bkt.clouddn.com//17-11-25/75472384.jpg)\n",
    "![](http://ou8qjsj0m.bkt.clouddn.com//17-11-25/75440677.jpg)\n",
    "\n",
    "## 2.2 矩阵的逆（非奇异）\n",
    "![](http://ou8qjsj0m.bkt.clouddn.com//17-11-25/80759350.jpg)\n",
    "\n",
    "## 2.3 可逆矩阵的特征\n",
    "![](http://ou8qjsj0m.bkt.clouddn.com//17-11-25/21961362.jpg)\n",
    "\n",
    "## 2.4 分块矩阵\n",
    "![](http://ou8qjsj0m.bkt.clouddn.com//17-11-25/19953716.jpg)\n",
    "![](http://ou8qjsj0m.bkt.clouddn.com//17-11-25/1059233.jpg)\n",
    "\n",
    "## 2.5 矩阵因式分解（LU分解）\n",
    "![](http://ou8qjsj0m.bkt.clouddn.com//17-11-25/67309191.jpg)\n",
    "![](http://ou8qjsj0m.bkt.clouddn.com//17-11-25/76914643.jpg)\n",
    "![](http://ou8qjsj0m.bkt.clouddn.com//17-11-25/27832661.jpg)\n",
    "\n",
    "## 2.6 列昂惕夫投入产出模型\n",
    "![](http://ou8qjsj0m.bkt.clouddn.com//17-11-25/90488894.jpg)\n",
    "![](http://ou8qjsj0m.bkt.clouddn.com//17-11-25/32532709.jpg)\n",
    "\n",
    "## 2.8 ℝⁿ的子空间\n",
    "![](http://ou8qjsj0m.bkt.clouddn.com//17-11-25/93753328.jpg)\n",
    "![](http://ou8qjsj0m.bkt.clouddn.com//17-11-25/5309458.jpg)\n",
    "![](http://ou8qjsj0m.bkt.clouddn.com//17-11-25/37758339.jpg)\n",
    "\n",
    "## 2.9 维数与秩\n",
    "![](http://ou8qjsj0m.bkt.clouddn.com//17-11-25/43939738.jpg)\n",
    "![](http://ou8qjsj0m.bkt.clouddn.com//17-11-25/40927207.jpg)\n",
    "![](http://ou8qjsj0m.bkt.clouddn.com//17-11-25/10055519.jpg)"
   ]
  },
  {
   "cell_type": "code",
   "execution_count": null,
   "metadata": {
    "collapsed": true
   },
   "outputs": [],
   "source": []
  }
 ],
 "metadata": {
  "anaconda-cloud": {},
  "kernelspec": {
   "display_name": "Python [Root]",
   "language": "python",
   "name": "Python [Root]"
  },
  "language_info": {
   "codemirror_mode": {
    "name": "ipython",
    "version": 2
   },
   "file_extension": ".py",
   "mimetype": "text/x-python",
   "name": "python",
   "nbconvert_exporter": "python",
   "pygments_lexer": "ipython2",
   "version": "2.7.12"
  }
 },
 "nbformat": 4,
 "nbformat_minor": 0
}
