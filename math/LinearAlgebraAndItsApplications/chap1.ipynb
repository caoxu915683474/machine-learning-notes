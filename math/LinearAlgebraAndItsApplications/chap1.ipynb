{
 "cells": [
  {
   "cell_type": "markdown",
   "metadata": {},
   "source": [
    "# 1 线性方程组\n",
    "## 1.1 线性方程组\n",
    "![](http://ou8qjsj0m.bkt.clouddn.com//17-11-18/57054866.jpg)\n",
    "\n",
    "## 1.2 行化简与阶梯形矩阵\n",
    "![](http://ou8qjsj0m.bkt.clouddn.com//17-11-18/7267401.jpg)\n",
    "![](http://ou8qjsj0m.bkt.clouddn.com//17-11-18/92704765.jpg)\n",
    "\n",
    "## 1.3 向量方程\n",
    "![](http://ou8qjsj0m.bkt.clouddn.com//17-11-19/76792535.jpg)\n",
    "![](http://ou8qjsj0m.bkt.clouddn.com//17-11-19/36677030.jpg)\n",
    "![](http://ou8qjsj0m.bkt.clouddn.com//17-11-19/26661076.jpg)\n",
    "\n",
    "## 1.4 矩阵方程Ax=b\n",
    "![](http://ou8qjsj0m.bkt.clouddn.com//17-11-19/24728434.jpg)\n",
    "\n",
    "## 1.5 线性方程组的解集\n",
    "![](http://ou8qjsj0m.bkt.clouddn.com//17-11-19/88267633.jpg)\n",
    "\n",
    "## 1.7 线性无关\n",
    "![](http://ou8qjsj0m.bkt.clouddn.com//17-11-21/42376915.jpg)\n",
    "![](http://ou8qjsj0m.bkt.clouddn.com//17-11-21/63207347.jpg)\n",
    "\n",
    "## 1.8 线性变换介绍\n",
    "![](http://ou8qjsj0m.bkt.clouddn.com//17-11-22/77825811.jpg)\n",
    "![](http://ou8qjsj0m.bkt.clouddn.com//17-11-22/36322521.jpg)\n",
    "![](http://ou8qjsj0m.bkt.clouddn.com//17-11-22/18787140.jpg)\n",
    "![](http://ou8qjsj0m.bkt.clouddn.com//17-11-22/41145538.jpg)\n",
    "![](http://ou8qjsj0m.bkt.clouddn.com//17-11-22/24930617.jpg)\n",
    "\n",
    "## 1.9 线性变换的矩阵\n",
    "下面的讨论指出，从ℝⁿ到ℝᵐ的每一个线性变换，实际上都是一个矩阵变换x⟼Ax，而且变换T的性质都归结为A的性质。寻找矩阵A的关键，是了解T完全由它对单位矩阵In的各列的作用所决定。\n",
    "\n",
    "![](http://ou8qjsj0m.bkt.clouddn.com//17-11-22/20469717.jpg)\n",
    "![](http://ou8qjsj0m.bkt.clouddn.com//17-11-22/3432097.jpg)"
   ]
  },
  {
   "cell_type": "code",
   "execution_count": null,
   "metadata": {
    "collapsed": true
   },
   "outputs": [],
   "source": []
  }
 ],
 "metadata": {
  "kernelspec": {
   "display_name": "Python [Root]",
   "language": "python",
   "name": "Python [Root]"
  },
  "language_info": {
   "codemirror_mode": {
    "name": "ipython",
    "version": 2
   },
   "file_extension": ".py",
   "mimetype": "text/x-python",
   "name": "python",
   "nbconvert_exporter": "python",
   "pygments_lexer": "ipython2",
   "version": "2.7.12"
  }
 },
 "nbformat": 4,
 "nbformat_minor": 0
}
