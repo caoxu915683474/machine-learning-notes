{
 "cells": [
  {
   "cell_type": "markdown",
   "metadata": {},
   "source": [
    "# 平均数差异推论-估计\n",
    "## 估计概述\n",
    "定义 用样本统计量推断总体参数的推论性过程称为`估计`。\n",
    "\n",
    "定义 `点估计`是使用单一的数值作为对未知量的估计。\n",
    "\n",
    "定义 `区间估计`使用值域对未知量进行估计。区间估计伴随着一定水平的信心（或可能性），称为`置信区间`。\n",
    "\n",
    "![](http://ou8qjsj0m.bkt.clouddn.com//17-10-26/74312751.jpg)\n",
    "\n",
    "![](http://ou8qjsj0m.bkt.clouddn.com//17-10-26/25593313.jpg)\n",
    "\n",
    "关于未知的总体参数的公式如下：\n",
    "\n",
    "    总体平均数（或平均数差）= 样本平均数（或平均数差） +/- t(估计标准误) （12.1）\n",
    "\n",
    "我们将用这个一般公式计算估计，考虑下列关于公式12.1的两点\n",
    "\n",
    "1. 在公式的右侧，样本平均数和估计标准误的值可以直接从样本数据计算出来。因而，只有t值是未知的。如果我们能确定这个未知值，就能使用这个公式计算未知的总体平均数。\n",
    "2. 如果我们不能求出特定的t值，但是，我们知道t分布的整体情况，我们可以使用分布估计t值。\n",
    "    1. 对于点估计，最好的办法是使用t=0，即分布的精确中心。我们没有理由猜测分布存在偏差（高于平均数或低于平均数），因而t=0是个合理的值。另外，t=0是最可能出现的值，当值从分布的中央到分布的尾端移动时，概率将稳定地递减。\n",
    "    2. 对于区间估计，我们将使用在零点附近的一个t值的值域。例如，为了使我们估计的正确性有90%的置信水平，我们只需使用在分布中央的90%的t值。注意，我们是在估计样本数据与在t分布中央的90%的值相应。\n",
    "\n",
    "## 对t分数的估计\n",
    "t分数公式如下：\n",
    "\n",
    "    总体平均数（或平均数差）= 样本平均数（或平均数差） +/- t(估计标准误)\n",
    "\n",
    "对于单一样本t分数，我们将用样本平均数M，估计未知的总体平均数$\\mu$。对于单一样本t\u001b分数的估计公式是：\n",
    "\n",
    "$\\mu=M \\pm t_{s_M}\\ (12.2)$\n",
    "\n",
    "对于独立测量t分数，我们将用两个样本平均数的差$M_1-M_2$，估计两个总体平均数中的差$\\mu_1-\\mu_2$。独立测量t分数的估计公式是：\n",
    "\n",
    "$\\mu_1-\\mu_2=M_1-M_2 \\pm t_{s_{M_1-M_2}}\\ (12.3)$\n",
    "\n",
    "最后，重复测量t分数将被用于用样本平均数的差$M_D$，估计一般总体平均数的差$\\mu_D$。重复测量t分数的估计公式是：\n",
    "\n",
    "$\\mu_D=M_D \\pm t_{s_{M_D}}\\ (12.4)$\n",
    "\n",
    "### 单样本研究中对μ的估计\n",
    "![](http://ou8qjsj0m.bkt.clouddn.com//17-10-26/41426605.jpg)\n",
    "![](http://ou8qjsj0m.bkt.clouddn.com//17-10-26/69167980.jpg)\n",
    "![](http://ou8qjsj0m.bkt.clouddn.com//17-10-26/23721064.jpg)\n",
    "![](http://ou8qjsj0m.bkt.clouddn.com//17-10-26/35322282.jpg)\n",
    "\n",
    "### 独立测量研究中对μ1-μ2的估计\n",
    "![](http://ou8qjsj0m.bkt.clouddn.com//17-10-26/66580067.jpg)\n",
    "![](http://ou8qjsj0m.bkt.clouddn.com//17-10-26/5807795.jpg)\n",
    "![](http://ou8qjsj0m.bkt.clouddn.com//17-10-26/86728059.jpg)\n",
    "![](http://ou8qjsj0m.bkt.clouddn.com//17-10-26/3574181.jpg)\n",
    "![](http://ou8qjsj0m.bkt.clouddn.com//17-10-26/81170086.jpg)\n",
    "\n",
    "### 重复测量研究中对μD的估计\n",
    "![](http://ou8qjsj0m.bkt.clouddn.com//17-10-26/48985596.jpg)\n",
    "![](http://ou8qjsj0m.bkt.clouddn.com//17-10-26/73468178.jpg)\n",
    "![](http://ou8qjsj0m.bkt.clouddn.com//17-10-26/25649339.jpg)\n",
    "![](http://ou8qjsj0m.bkt.clouddn.com//17-10-26/80351387.jpg)"
   ]
  },
  {
   "cell_type": "code",
   "execution_count": null,
   "metadata": {
    "collapsed": true
   },
   "outputs": [],
   "source": []
  }
 ],
 "metadata": {
  "kernelspec": {
   "display_name": "Python [Root]",
   "language": "python",
   "name": "Python [Root]"
  },
  "language_info": {
   "codemirror_mode": {
    "name": "ipython",
    "version": 2
   },
   "file_extension": ".py",
   "mimetype": "text/x-python",
   "name": "python",
   "nbconvert_exporter": "python",
   "pygments_lexer": "ipython2",
   "version": "2.7.12"
  }
 },
 "nbformat": 4,
 "nbformat_minor": 0
}
