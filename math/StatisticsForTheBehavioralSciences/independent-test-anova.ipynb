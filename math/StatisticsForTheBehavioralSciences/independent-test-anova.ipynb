{
 "cells": [
  {
   "cell_type": "markdown",
   "metadata": {},
   "source": [
    "# 平均数差异推论-双因素方差分析（独立测量）\n",
    "## 概述\n",
    "![](http://ou8qjsj0m.bkt.clouddn.com//17-10-26/42118983.jpg)\n",
    "\n",
    "## 主效应与交互作用\n",
    "![](http://ou8qjsj0m.bkt.clouddn.com//17-10-26/87686511.jpg)\n",
    "\n",
    "定义 一个因素的不同水平之间的平均数差异被称为这个因素的`主效应`。当研究的设计被表现为一个矩阵时，一个因素决定行，另一个因素决定列。那么行与行之间的平均数差异描述了一个因素的主效应。列与列之间的平均数差异描述了另一个因素的主效应。\n",
    "\n",
    "![](http://ou8qjsj0m.bkt.clouddn.com//17-10-26/60686285.jpg)\n",
    "![](http://ou8qjsj0m.bkt.clouddn.com//17-10-26/41397510.jpg)\n",
    "\n",
    "定义 两个因素间的`交互作用`发生在单个处理条件的平均数差异与总的因素的主效应不同时，当一个因素的效应依赖于另一个因素的不同水平时，那么在因素间存在交互作用。\n",
    "\n",
    "![](http://ou8qjsj0m.bkt.clouddn.com//17-10-26/61749979.jpg)\n",
    "![](http://ou8qjsj0m.bkt.clouddn.com//17-10-26/59912277.jpg)\n",
    "\n",
    "## 符号与公式\n",
    "![](http://ou8qjsj0m.bkt.clouddn.com//17-10-26/82253523.jpg)\n",
    "![](http://ou8qjsj0m.bkt.clouddn.com//17-10-26/34803537.jpg)\n",
    "![](http://ou8qjsj0m.bkt.clouddn.com//17-10-26/51256692.jpg)\n",
    "![](http://ou8qjsj0m.bkt.clouddn.com//17-10-26/43590767.jpg)\n",
    "![](http://ou8qjsj0m.bkt.clouddn.com//17-10-26/50218441.jpg)\n",
    "![](http://ou8qjsj0m.bkt.clouddn.com//17-10-26/33504203.jpg)\n",
    "![](http://ou8qjsj0m.bkt.clouddn.com//17-10-26/62828269.jpg)\n",
    "![](http://ou8qjsj0m.bkt.clouddn.com//17-10-26/97063635.jpg)\n",
    "![](http://ou8qjsj0m.bkt.clouddn.com//17-10-26/31321201.jpg)\n",
    "![](http://ou8qjsj0m.bkt.clouddn.com//17-10-26/38808241.jpg)\n",
    "![](http://ou8qjsj0m.bkt.clouddn.com//17-10-26/80648912.jpg)\n",
    "![](http://ou8qjsj0m.bkt.clouddn.com//17-10-26/10740208.jpg)\n",
    "![](http://ou8qjsj0m.bkt.clouddn.com//17-10-26/9741269.jpg)\n",
    "![](http://ou8qjsj0m.bkt.clouddn.com//17-10-26/6809923.jpg)\n",
    "\n",
    "### 测量双因素ANOVA的效应大小\n",
    "![](http://ou8qjsj0m.bkt.clouddn.com//17-10-26/92788548.jpg)\n",
    "![](http://ou8qjsj0m.bkt.clouddn.com//17-10-26/82994368.jpg)\n",
    "\n",
    "## 解释双因素ANOVA的结果\n",
    "![](http://ou8qjsj0m.bkt.clouddn.com//17-10-26/54307783.jpg)\n",
    "![](http://ou8qjsj0m.bkt.clouddn.com//17-10-26/88983427.jpg)\n",
    "![](http://ou8qjsj0m.bkt.clouddn.com//17-10-26/81408493.jpg)\n",
    "![](http://ou8qjsj0m.bkt.clouddn.com//17-10-26/49018531.jpg)\n",
    "![](http://ou8qjsj0m.bkt.clouddn.com//17-10-26/27174838.jpg)\n",
    "![](http://ou8qjsj0m.bkt.clouddn.com//17-10-26/26209496.jpg)\n",
    "![](http://ou8qjsj0m.bkt.clouddn.com//17-10-26/5979772.jpg)\n",
    "\n",
    "## 双因素ANOVA的假设\n",
    "![](http://ou8qjsj0m.bkt.clouddn.com//17-10-26/43975703.jpg)"
   ]
  },
  {
   "cell_type": "code",
   "execution_count": null,
   "metadata": {
    "collapsed": true
   },
   "outputs": [],
   "source": []
  }
 ],
 "metadata": {
  "kernelspec": {
   "display_name": "Python [Root]",
   "language": "python",
   "name": "Python [Root]"
  },
  "language_info": {
   "codemirror_mode": {
    "name": "ipython",
    "version": 2
   },
   "file_extension": ".py",
   "mimetype": "text/x-python",
   "name": "python",
   "nbconvert_exporter": "python",
   "pygments_lexer": "ipython2",
   "version": "2.7.12"
  }
 },
 "nbformat": 4,
 "nbformat_minor": 0
}
