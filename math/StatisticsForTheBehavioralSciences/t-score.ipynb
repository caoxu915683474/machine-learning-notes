{
 "cells": [
  {
   "cell_type": "markdown",
   "metadata": {},
   "source": [
    "# 平均数差异推论-t分数\n",
    "## t分数——代替z分数的一种方法\n",
    "大多数情况下，总体的标准差是未知的。在这种情况下，就不能计算标准误，也就不能计算假设检验的z分数。这里介绍一种新方法，叫做`t分数`。\n",
    "\n",
    "样本方差=$s^2=\\frac{SS}{n-1}=\\frac{SS}{df}$\n",
    "\n",
    "样本标准差=$s=\\sqrt{\\frac{SS}{n-1}}=\\sqrt{\\frac{SS}{df}}$\n",
    "\n",
    "标准误=$\\sigma_M=\\frac{\\sigma}{\\sqrt{n}}=\\sqrt{\\frac{\\sigma^2}{n}}$\n",
    "\n",
    "估计标准误=$s_M=\\frac{s}{\\sqrt{n}}\\ (9.1)$\n",
    "\n",
    "注意，M的估计标准误的符号是$s_M$，而不是$\\sigma_M$。这表明，估计值只是从样本数据得来的，而不是从真正的总体参数得来的。\n",
    "\n",
    "定义 当σ值未知时，估计标准误（$s_M$）被用作对实际标准误$\\sigma_M$的估计值。估计标准误是从样本方差或是样本标准差计算出来的。他提供了一个从样本平均数M到其总体平均数μ之间的标准距离的估计。\n",
    "\n",
    "$t=\\frac{M-\\mu}{s_M}\\ (9.2)$\n",
    "\n",
    "定义 当σ值未知时，`t分数`是用来检验有关未知总体平均数μ的假设。除了t分数用估计标准误做分母外，t分数的公式与z分数的公式结构相同。\n",
    "\n",
    "### 自由度\n",
    "定义 `自由度`是指在样本中有多少个分数是独立的，并可以自由地变化。因为样本平均数限制了一个样本分数的值，这个样本的自由度是n-1。\n",
    "\n",
    "自由度=df=n-1 （9.3）\n",
    "\n",
    "一个样本的df值越大，$s^2$就能越好地代表$\\sigma^2$，t分数也就更加接近z分数。显然，样本分数个数越多，样本就能更好地代表总体。因此，自由度与s2联系在一起，同时描述了t代表z的程度。\n",
    "\n",
    "![](http://ou8qjsj0m.bkt.clouddn.com//17-10-25/79330778.jpg)\n",
    "\n",
    "## 假设检验和t分数\n",
    "### 有关t检验的假设\n",
    "![](http://ou8qjsj0m.bkt.clouddn.com//17-10-25/78917710.jpg)\n",
    "\n",
    "![](http://ou8qjsj0m.bkt.clouddn.com//17-10-25/53628295.jpg)\n",
    "![](http://ou8qjsj0m.bkt.clouddn.com//17-10-25/75311677.jpg)\n",
    "![](http://ou8qjsj0m.bkt.clouddn.com//17-10-25/22383738.jpg)\n",
    "![](http://ou8qjsj0m.bkt.clouddn.com//17-10-25/30437700.jpg)\n",
    "\n",
    "对于t分数的假设检验必需的两个基本的假定为：\n",
    "1. 样本中的数值必须包含互相独立的观察。\n",
    "2. 样本来自的总体必须是正态分布。\n",
    "\n",
    "## t检验中效应大小的测量\n",
    "### 估算科恩d值\n",
    "![](http://ou8qjsj0m.bkt.clouddn.com//17-10-25/49316241.jpg)\n",
    "\n",
    "![](http://ou8qjsj0m.bkt.clouddn.com//17-10-25/49475319.jpg)\n",
    "\n",
    "### $r^2$值\n",
    "$r^2=\\frac{t^2}{t^2+df}\\ (9.5)$\n",
    "\n",
    "从例9.1的假设检验中我们得出当df=8时，t=6.00。这些数值产生：\n",
    "\n",
    "$r^2=\\frac{6^2}{6^2+8}=0.8182$（或81.82%）\n",
    "\n",
    "注意，这个值与直接计算由处理引起的变异性的百分比是相同的。\n",
    "\n",
    "解释$r^2$ 除了发展科恩d值来测量效应大小，科恩（1981）还提出评估由$r^2$测量的处理效应大小的标准。实际上，这些标准是建议用来测量相关大小的r，但是，很容易就被扩展应用带$r^2$。用来解释的$r^2$标准列在了表9.3中。\n",
    "\n",
    "根据这些标准，例9.1、9.2中的数据展示了非常大的效应$r^2=.8182$\n",
    "\n",
    "![](http://ou8qjsj0m.bkt.clouddn.com//17-10-25/83215826.jpg)\n",
    "\n",
    "## 方向性假设与单尾检验\n",
    "![](http://ou8qjsj0m.bkt.clouddn.com//17-10-25/23716400.jpg)\n",
    "![](http://ou8qjsj0m.bkt.clouddn.com//17-10-25/96435934.jpg)\n",
    "![](http://ou8qjsj0m.bkt.clouddn.com//17-10-25/48223409.jpg)\n"
   ]
  },
  {
   "cell_type": "code",
   "execution_count": null,
   "metadata": {
    "collapsed": true
   },
   "outputs": [],
   "source": []
  }
 ],
 "metadata": {
  "anaconda-cloud": {},
  "kernelspec": {
   "display_name": "Python [Root]",
   "language": "python",
   "name": "Python [Root]"
  },
  "language_info": {
   "codemirror_mode": {
    "name": "ipython",
    "version": 2
   },
   "file_extension": ".py",
   "mimetype": "text/x-python",
   "name": "python",
   "nbconvert_exporter": "python",
   "pygments_lexer": "ipython2",
   "version": "2.7.12"
  }
 },
 "nbformat": 4,
 "nbformat_minor": 0
}
