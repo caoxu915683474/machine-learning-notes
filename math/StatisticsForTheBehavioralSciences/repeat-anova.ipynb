{
 "cells": [
  {
   "cell_type": "markdown",
   "metadata": {},
   "source": [
    "# 平均数差异推论-重复测量方差分析\n",
    "## 概述\n",
    "### 单因素重复测量设计\n",
    "![](http://ou8qjsj0m.bkt.clouddn.com//17-10-26/41657723.jpg)\n",
    "\n",
    "### 重复测量ANOVA的假设\n",
    "$H_0:\\mu_1=\\mu_2=\\mu_3=...$\n",
    "\n",
    "$H_1:$：至少有一个处理平均数与其他的是不同的。\n",
    "\n",
    "### 重复测量ANOVA的F分数\n",
    "重复测量的检验统计量与独立测量ANOVA的结构是相同的。因此，重复测量ANOVA的F分数的结构是：\n",
    "\n",
    "F=处理间方差（差异）/ 由偶然或误差引起的方差（差异）\n",
    "\n",
    "因为个体差异可以从重复测量研究中消除，所以F分数的最后公式可以更改为：\n",
    "\n",
    "F=处理间方差（没有个体差异）/ 由偶然或误差引起的方差（个体差异被消除）\n",
    "\n",
    "消除个体差异的过程是重复测量方差分析的步骤的一个重要部分。\n",
    "\n",
    "### 重复策略ANOVA的逻辑\n",
    "F = 处理间方差 / (偶然/误差引起的方差)=(处理效用+偶然/误差（包括个体差异）) / (偶然/误差（包括个体差异）) （14.1）\n",
    "\n",
    "在处理不存在效应时，F分数就平衡了，因为分子和分母测量的是完全一样的方差。在这种情况下，F值就接近于1.00。在研究结果产生的F值接近1.00时，我们可以总结出：一方面，没有证据证明处理存在效应，并且虚无假设不能被拒绝；另一方面，当处理效应存在时，它只对分子起作用，并且应该产生的F值较大。因此，大的F值表明了处理效应真正存在，并且应该拒绝虚无假设。\n",
    "\n",
    "## 检验重复测量ANOVA的假设\n",
    "图14.1给出了重复测量方差分析的全部结构。注意，ANOVA可以被看成两个阶段。第一个阶段是总的方差分成两部分：处理间方差和处理内方差。这个阶段与独立测量设计的分析相同。\n",
    "\n",
    "分析的第二阶段是消除的F分数分母上的个体差异。在第二个阶段中，我们从处理内方差入手，然后测量并减去处理间方差，这个方差测量的是个体差异的大小。剩下的方差通常被称作是残差或误差方差，它测量的是在消除了个体差异后，由偶然引起的方差是多少才是合理的。分析的第二个阶段区分了重复测量ANOVA和独立测量ANOVA。特别是，重复测量设计要求，消除个体差异。\n",
    "\n",
    "定义 在重复测量方差中，F分数的分母被称作`残差`或`误差方差`，并且测量了在消除个体差异后，由偶然引起的方差。\n",
    "\n",
    "![](http://ou8qjsj0m.bkt.clouddn.com//17-10-26/87770967.jpg)\n",
    "![](http://ou8qjsj0m.bkt.clouddn.com//17-10-26/11760591.jpg)\n",
    "![](http://ou8qjsj0m.bkt.clouddn.com//17-10-26/73974488.jpg)\n",
    "![](http://ou8qjsj0m.bkt.clouddn.com//17-10-26/58609352.jpg)\n",
    "![](http://ou8qjsj0m.bkt.clouddn.com//17-10-26/42008995.jpg)\n",
    "![](http://ou8qjsj0m.bkt.clouddn.com//17-10-26/90095891.jpg)\n",
    "![](http://ou8qjsj0m.bkt.clouddn.com//17-10-26/80431998.jpg)\n",
    "![](http://ou8qjsj0m.bkt.clouddn.com//17-10-26/5661253.jpg)\n",
    "![](http://ou8qjsj0m.bkt.clouddn.com//17-10-26/27778704.jpg)\n",
    "\n",
    "### 测量重复测量ANOVA的效应大小\n",
    "![](http://ou8qjsj0m.bkt.clouddn.com//17-10-26/54018202.jpg)\n",
    "![](http://ou8qjsj0m.bkt.clouddn.com//17-10-26/21467718.jpg)\n",
    "\n",
    "### 重复测量的后继检验\n",
    "![](http://ou8qjsj0m.bkt.clouddn.com//17-10-26/58802359.jpg)\n",
    "\n",
    "### 重复测量ANOVA的假定\n",
    "![](http://ou8qjsj0m.bkt.clouddn.com//17-10-26/17413306.jpg)\n",
    "\n",
    "## 重复测量设计的优点\n",
    "![](http://ou8qjsj0m.bkt.clouddn.com//17-10-26/87616944.jpg)\n",
    "![](http://ou8qjsj0m.bkt.clouddn.com//17-10-26/47492380.jpg)\n",
    "\n",
    "## 个体差异和处理效应的一致性\n",
    "![](http://ou8qjsj0m.bkt.clouddn.com//17-10-26/40589905.jpg)\n",
    "![](http://ou8qjsj0m.bkt.clouddn.com//17-10-26/21115363.jpg)\n",
    "![](http://ou8qjsj0m.bkt.clouddn.com//17-10-26/24134374.jpg)\n",
    "![](http://ou8qjsj0m.bkt.clouddn.com//17-10-26/65737488.jpg)"
   ]
  },
  {
   "cell_type": "code",
   "execution_count": null,
   "metadata": {
    "collapsed": true
   },
   "outputs": [],
   "source": []
  }
 ],
 "metadata": {
  "kernelspec": {
   "display_name": "Python [Root]",
   "language": "python",
   "name": "Python [Root]"
  },
  "language_info": {
   "codemirror_mode": {
    "name": "ipython",
    "version": 2
   },
   "file_extension": ".py",
   "mimetype": "text/x-python",
   "name": "python",
   "nbconvert_exporter": "python",
   "pygments_lexer": "ipython2",
   "version": "2.7.12"
  }
 },
 "nbformat": 4,
 "nbformat_minor": 0
}
