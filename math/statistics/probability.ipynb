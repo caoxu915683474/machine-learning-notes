{
 "cells": [
  {
   "cell_type": "markdown",
   "metadata": {},
   "source": [
    "# 概率分布\n",
    "## 标准误差与标准得分\n",
    "1. 标准误差就是不同样本均值的标准差。\n",
    "2. 标准得分表示原始得分和均值的距离的新得分(按标准差单位)。标准得分常称为t-值。\n",
    "\n",
    "## 方差、标准差、标准误差和标准得分公式\n",
    "1. 方差：$s^2=\\frac{\\sum{(x-\\bar{x})^2}}{n-1}$\n",
    "2. 标准差：$s=\\sqrt{s^2}$\n",
    "3. 均值的标准误差：$s.e.(\\bar{x})=\\frac{s}{\\sqrt{x}}$\n",
    "4. 标准得分：$\\frac{x-\\bar{x}}{s}$\n",
    "\n",
    "## 概率加法与乘法\n",
    "1. 概率加法：当我们想找到不可能同时发生的两个事件之一发生的概率，我们简单地对这两个事件的概率进行相加。\n",
    "2. 概率乘法：为了寻找某一事件与另外一个事件同时发生的概率，我们需要将这两个概率进行相乘。两个事件同时发生的概率比其中任何一个事件单独发生的概率要小。\n",
    "\n",
    "## 离散分布的三个例子\n",
    "### 二项分布(binomial distribution)\n",
    "1. n个观察样本，成功次数x，𝜋表示成功的概率。则n次试验中成功x次概率 $p(x)=\\binom{n}{x}\\pi^x(1-\\pi)^{n-x}$\n",
    "    1. x均值：$\\mu=n\\pi$\n",
    "    2. x标准差：$\\delta=\\sqrt{n\\pi(1-\\pi)}$\n",
    "2. 假设新生儿性别是女的概率是0.49，一个家庭有3个女孩1个男孩的概率？\n",
    "    1. n=4,x=3,𝜋=0.49\n",
    "    2. $p(3)=\\binom{4}{3}{0.49}^3(1-0.49)^{4-3}=0.24$\n",
    "    3. 均值：μ=4×0.49=1.96女孩/家庭\n",
    "    4. 标准差：$\\delta=\\sqrt{4(0.49)(1-0.49)}=1.00$女孩/家庭\n",
    "\n",
    "### 泊松分布(possion distribution)\n",
    "1. μ表示事件发生次数的均值，事件发生x次的概率：$p(x)=\\frac{e^{-\\mu}\\mu^x}{x!}$\n",
    "    1. 均值=μ\n",
    "    2. 标准差：$\\delta=\\sqrt{\\mu}$\n",
    "2. 如果一个小时内，电话铃平均响2.1次，那么一个小时内电话铃响5次的概率？\n",
    "    1. μ=2.1\n",
    "    2. $p(5)=\\frac{e^{-2.1}{2.1}^5}{5!}=0.042$，即100个小时内只有大约4个小时会出现电话铃声响过5次的情况。\n",
    "    3. 呼叫次数的标准差$\\delta=\\sqrt{2.1}=1.45$次。\n",
    "\n",
    "### 超几何分布(hypergeometric distribution)\n",
    "1. 所有事件的总数n，某一事件是b个。从n个事件中随机选择m个并且属于无放回选择。那么某一事件出现x次的概率：$p(x)=\\frac{\\binom{b}{x}\\binom{n-b}{m-x}}{\\binom{n}{m}}$\n",
    "2. 委员会总共5男5女，现在选取了4人为代表，发现为4女0男，选举在性别上是否公正？\n",
    "    1. $p(4)=\\frac{\\binom{5}{4}\\binom{5}{0}}{\\binom{10}{4}}=0.02$\n",
    "    2. 2%属于小概率事件。"
   ]
  },
  {
   "cell_type": "code",
   "execution_count": null,
   "metadata": {
    "collapsed": true
   },
   "outputs": [],
   "source": []
  }
 ],
 "metadata": {
  "anaconda-cloud": {},
  "kernelspec": {
   "display_name": "Python [Root]",
   "language": "python",
   "name": "Python [Root]"
  },
  "language_info": {
   "codemirror_mode": {
    "name": "ipython",
    "version": 2
   },
   "file_extension": ".py",
   "mimetype": "text/x-python",
   "name": "python",
   "nbconvert_exporter": "python",
   "pygments_lexer": "ipython2",
   "version": "2.7.12"
  }
 },
 "nbformat": 4,
 "nbformat_minor": 0
}
