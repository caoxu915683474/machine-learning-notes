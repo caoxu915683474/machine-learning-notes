{
 "cells": [
  {
   "cell_type": "markdown",
   "metadata": {},
   "source": [
    "# 假设检验\n",
    "## 置信区间(confidence interval)\n",
    "1. 样本中的观测值个数影响置信区间的长度。大的样本产生较短的置信区间，小的样本产生较长的置信区间。(想想中心极限定理中标准误差，它是与样本数的平凡根成反比的)\n",
    "2. 置信区间长度受置信水平影响。低的置信水平产生较短的区间，高的置信水平产生较长的区间。(想想中心极限定理中，68%置信水平对应均值的一个标准误差范围，95%置信水平对应均值的两个标准误差范围)\n",
    "\n",
    "## 样本统计量(sample statistic)\n",
    "最平常的样本统计量(sample statistic)的例子是样本的均值$\\bar{x}$、样本百分比P和样本标准差s。在总体中，性质类似的量被称为总体参数(population parameter)。一般用希腊字母来标记。例如：总体均值用μ标记、总体百分比用大写Π以及总体标准差用小写的δ。\n",
    "\n",
    "![](http://ou8qjsj0m.bkt.clouddn.com//17-10-26/3907105.jpg)\n",
    "\n",
    "## 正态总体百分比的置信区间\n",
    "![](http://ou8qjsj0m.bkt.clouddn.com//17-10-26/94645241.jpg)\n",
    "\n",
    "## 零假设(null hypothesis)\n",
    "一个统计上的零假设提出一个参数是否等于某个特殊值的问题，形式上零假设则被写成：H0:参数=值\n",
    "\n",
    "## 第一类错误与第二类错误\n",
    "* 第一类错误(type I error或α错误)：在假设检验中拒绝了本来是正确的零假设。\n",
    "* 第二类错误(type II error或β错误)：在假设检验中没有拒绝本来是错误的零假设。\n",
    "\n",
    "## p-值(p-value)\n",
    "当p值如此之小，以至于几乎不可能在零假设正确时出现目前的观测数据，我们就拒绝零假设。p值越小，拒绝零假设的理由就越充分。\n",
    "\n",
    "## 统计显著\n",
    "当数据导致拒绝零假设时，这个经验结果是统计显著的。换句话说：如果p值很小，经验结果就是统计显著的。"
   ]
  },
  {
   "cell_type": "code",
   "execution_count": null,
   "metadata": {
    "collapsed": true
   },
   "outputs": [],
   "source": []
  }
 ],
 "metadata": {
  "anaconda-cloud": {},
  "kernelspec": {
   "display_name": "Python [Root]",
   "language": "python",
   "name": "Python [Root]"
  },
  "language_info": {
   "codemirror_mode": {
    "name": "ipython",
    "version": 2
   },
   "file_extension": ".py",
   "mimetype": "text/x-python",
   "name": "python",
   "nbconvert_exporter": "python",
   "pygments_lexer": "ipython2",
   "version": "2.7.12"
  }
 },
 "nbformat": 4,
 "nbformat_minor": 0
}
