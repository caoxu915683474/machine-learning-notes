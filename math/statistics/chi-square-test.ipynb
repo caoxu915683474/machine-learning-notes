{
 "cells": [
  {
   "cell_type": "markdown",
   "metadata": {},
   "source": [
    "# 两个分类变量的χ2分析\n",
    "## 列联表(contingency table)\n",
    "是一个描述两个分类变量分布的频率表。\n",
    "\n",
    "![](http://ou8qjsj0m.bkt.clouddn.com//17-10-26/66954028.jpg)\n",
    "\n",
    "## 问题\n",
    "国籍和对人态度之间是否存在着一定的关系？\n",
    "\n",
    "## χ2分析\n",
    "1. 提出零假设：认为对于所有的丹麦人和法国人这个总体来说，这两个变量不相关。我们是否拒绝零假设依赖两个因素：\n",
    "    1. 样本的关系强度Φ\n",
    "    2. 样本中观测的个数n\n",
    "2. 要对于一个特定的样本计算p-值，需要将ɸ或V变换为一个χ2变量的值。\n",
    "3. 列联表的自由度:自由度df=(行数-1)x(列数-1)。\n",
    "\n",
    "## 2x2的列联表\n",
    "![](http://ou8qjsj0m.bkt.clouddn.com//17-10-26/44545653.jpg)\n",
    "\n",
    "计算强度：\n",
    "\n",
    "$\\phi=\\frac{ad-bc}{\\sqrt{(a+b)(c+d)(a+c)(b+d)}}=\\frac{625 \\cdot 763-206 \\cdot 360}{\\sqrt{(625+206)(360+763)(625+360)(206+763)}}=0.43$\n",
    "\n",
    "计算$\\chi^2$：\n",
    "\n",
    "$\\chi^2=n\\phi^2=\\frac{1954 \\cdot (625 \\cdot 763 - 206 \\cdot 360)^2}{(625+206)(360+763)(625+360)(206+763)}=355.78$\n",
    "\n",
    "自由度：\n",
    "\n",
    "d.f.=(2-1)×(2-1)=1\n",
    "\n",
    "[常用的χ2与p-value表][1]:p-值:0.001时，χ2=10.83，所以对于361.29那么大的值，将得到一个非常小的p-值。我们拒绝零假设，并认为：国籍和对人态度之间是存在着一定的关系的。\n",
    "\n",
    "## 更大的列联表\n",
    "假设2x4列联表：\n",
    "\n",
    "![](http://ou8qjsj0m.bkt.clouddn.com//17-10-26/57776633.jpg)\n",
    "\n",
    "利用期望频率来计算：\n",
    "\n",
    "![](http://ou8qjsj0m.bkt.clouddn.com//17-10-26/83887264.jpg)\n",
    "\n",
    "对于表9.1：\n",
    "\n",
    "![](http://ou8qjsj0m.bkt.clouddn.com//17-10-26/35216776.jpg)\n",
    "\n",
    "计算χ2：\n",
    "\n",
    "![](http://ou8qjsj0m.bkt.clouddn.com//17-10-26/47796056.jpg)\n",
    "\n",
    "自由度：d.f.=(2-1)×(2-1)=1\n",
    "\n",
    "对于表9.5，计算χ2=367.94，自由度：d.f.=(2-1)×(4-1)=3\n",
    "\n",
    "计算强度：Cramer的V：$V=sqrt{\\frac{\\chi^2}{n(L-1)}}=\\sqrt{\\frac{367.94}{3791 \\cdot (2-1)}}=0.31$，其中n是观测的个数，L是行数和列数中较小的那个数。V是Φ的推广。\n",
    "\n",
    "\n",
    "\n",
    "[1]: http://zh.wikipedia.org/wiki/卡方分佈"
   ]
  },
  {
   "cell_type": "code",
   "execution_count": null,
   "metadata": {
    "collapsed": true
   },
   "outputs": [],
   "source": []
  }
 ],
 "metadata": {
  "kernelspec": {
   "display_name": "Python [Root]",
   "language": "python",
   "name": "Python [Root]"
  },
  "language_info": {
   "codemirror_mode": {
    "name": "ipython",
    "version": 2
   },
   "file_extension": ".py",
   "mimetype": "text/x-python",
   "name": "python",
   "nbconvert_exporter": "python",
   "pygments_lexer": "ipython2",
   "version": "2.7.12"
  }
 },
 "nbformat": 4,
 "nbformat_minor": 0
}
